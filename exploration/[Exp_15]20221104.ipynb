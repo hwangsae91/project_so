{
 "cells": [
  {
   "cell_type": "markdown",
   "metadata": {
    "id": "ujMb2MtyLrVQ"
   },
   "source": [
    "# exploration 13번째 과제\n",
    "@ 황한용(3기/쏘카)"
   ]
  },
  {
   "cell_type": "markdown",
   "metadata": {
    "id": "tdrfR8Y3L0ry"
   },
   "source": [
    "## 라이브러리 선언"
   ]
  },
  {
   "cell_type": "code",
   "execution_count": 1,
   "metadata": {
    "id": "LWLP8EFSLqqp"
   },
   "outputs": [],
   "source": [
    "import implicit\n",
    "from implicit.als import AlternatingLeastSquares\n",
    "import numpy as np\n",
    "import os\n",
    "import pandas as pd\n",
    "import scipy\n",
    "from scipy.sparse import csr_matrix\n",
    "\n",
    "# implicit 라이브러리에서 권장하고 있는 부분입니다.\n",
    "# 학습 내용과는 무관합니다.\n",
    "os.environ['OPENBLAS_NUM_THREADS']='1'\n",
    "os.environ['KMP_DUPLICATE_LIB_OK']='True'\n",
    "os.environ['MKL_NUM_THREADS']='1'"
   ]
  },
  {
   "cell_type": "markdown",
   "metadata": {
    "id": "4qC6hZWKL7x3"
   },
   "source": [
    "## 상수선언"
   ]
  },
  {
   "cell_type": "code",
   "execution_count": 2,
   "metadata": {
    "id": "XcIjEEgnMD75"
   },
   "outputs": [],
   "source": [
    "BASE_PATH = os.getenv('HOME') + \"/aiffel/recommendata_iu/data/ml-1m\" # 기본 데이터경로\n",
    "MF_P_DATA_PATH = BASE_PATH + \"/ratings.dat\" # 영화에 관한 사용자의 평가가 들어가있는 데이터경로\n",
    "MF_Q_DATA_PATH = BASE_PATH + \"/movies.dat\"# 영화에 관한 특성데이터가 들어가있는 데이터경로\n",
    "MF_P_COLS = ['user_id', 'movie_id', 'counts', 'timestamp'] # 영화에 관한 사용자의 특성(MF model P feature)\n",
    "MF_Q_COLS = ['movie_id', 'title', 'genre']  # 영화에 관한 특성데이터(MF Q model feature)\n",
    "READ_CSV_KWARGS = dict(\n",
    "    sep='::'\n",
    "    , encoding='ISO-8859-1'\n",
    "    , engine='python'\n",
    ")\n",
    "MY_NICKNAME = \"hhyong\"\n",
    "MY_FAVORIT_LIST = ['명량 (2014)' , '극한직업 (2019)' ,'7번방의 선물 (2013)' ,'암살 (2015)' ,'범죄도시 (2017)']\n",
    "MY_FAVORIT_LIST_TOP = [\"Good Will Hunting (1997)\"   \n",
    "                        ,\"Cold Comfort Farm (1995)\" \n",
    "                        , \"Chinatown (1974)\"\n",
    "                        ,\"Pinocchio (1940)\"\n",
    "                        ,\"Godfather: Part II, The (1974)\"]"
   ]
  },
  {
   "cell_type": "markdown",
   "metadata": {
    "id": "l5DV1kd8MPes"
   },
   "source": [
    "## 메인"
   ]
  },
  {
   "cell_type": "markdown",
   "metadata": {
    "id": "B7XCWajZ0XIj"
   },
   "source": [
    "### 전처리"
   ]
  },
  {
   "cell_type": "code",
   "execution_count": 3,
   "metadata": {
    "colab": {
     "base_uri": "https://localhost:8080/"
    },
    "id": "iwkvcfr7MPsm",
    "outputId": "87cb81b6-3295-4c72-b6ff-0f4796b41e69"
   },
   "outputs": [
    {
     "data": {
      "text/html": [
       "<div>\n",
       "<style scoped>\n",
       "    .dataframe tbody tr th:only-of-type {\n",
       "        vertical-align: middle;\n",
       "    }\n",
       "\n",
       "    .dataframe tbody tr th {\n",
       "        vertical-align: top;\n",
       "    }\n",
       "\n",
       "    .dataframe thead th {\n",
       "        text-align: right;\n",
       "    }\n",
       "</style>\n",
       "<table border=\"1\" class=\"dataframe\">\n",
       "  <thead>\n",
       "    <tr style=\"text-align: right;\">\n",
       "      <th></th>\n",
       "      <th>user_id</th>\n",
       "      <th>movie_id</th>\n",
       "      <th>counts</th>\n",
       "      <th>timestamp</th>\n",
       "    </tr>\n",
       "  </thead>\n",
       "  <tbody>\n",
       "    <tr>\n",
       "      <th>0</th>\n",
       "      <td>1</td>\n",
       "      <td>1193</td>\n",
       "      <td>5</td>\n",
       "      <td>978300760</td>\n",
       "    </tr>\n",
       "    <tr>\n",
       "      <th>1</th>\n",
       "      <td>1</td>\n",
       "      <td>661</td>\n",
       "      <td>3</td>\n",
       "      <td>978302109</td>\n",
       "    </tr>\n",
       "    <tr>\n",
       "      <th>2</th>\n",
       "      <td>1</td>\n",
       "      <td>914</td>\n",
       "      <td>3</td>\n",
       "      <td>978301968</td>\n",
       "    </tr>\n",
       "    <tr>\n",
       "      <th>3</th>\n",
       "      <td>1</td>\n",
       "      <td>3408</td>\n",
       "      <td>4</td>\n",
       "      <td>978300275</td>\n",
       "    </tr>\n",
       "    <tr>\n",
       "      <th>4</th>\n",
       "      <td>1</td>\n",
       "      <td>2355</td>\n",
       "      <td>5</td>\n",
       "      <td>978824291</td>\n",
       "    </tr>\n",
       "  </tbody>\n",
       "</table>\n",
       "</div>"
      ],
      "text/plain": [
       "   user_id  movie_id  counts  timestamp\n",
       "0        1      1193       5  978300760\n",
       "1        1       661       3  978302109\n",
       "2        1       914       3  978301968\n",
       "3        1      3408       4  978300275\n",
       "4        1      2355       5  978824291"
      ]
     },
     "execution_count": 3,
     "metadata": {},
     "output_type": "execute_result"
    }
   ],
   "source": [
    "ratings = pd.read_csv(\n",
    "        MF_P_DATA_PATH\n",
    "        , names=MF_P_COLS\n",
    "        , **READ_CSV_KWARGS\n",
    ")\n",
    "ratings.head()"
   ]
  },
  {
   "cell_type": "markdown",
   "metadata": {
    "id": "iXm0KjWe845_"
   },
   "source": [
    "indexing까지 완료된 사용자, 영화,평점 데이터를 로드한다.<br>\n",
    "MF model에 사용되는 데이터 중 K vector데이터이다."
   ]
  },
  {
   "cell_type": "code",
   "execution_count": 4,
   "metadata": {},
   "outputs": [
    {
     "name": "stdout",
     "output_type": "stream",
     "text": [
      "orginal_data_size: 1000209, filtered_data_size: 836478\n",
      "Ratio of Remaining Data is 83.63%\n"
     ]
    }
   ],
   "source": [
    "orginal_data_size = len(ratings)\n",
    "ratings = ratings[ratings['counts'] > 2]\n",
    "filtered_data_size = len(ratings)\n",
    "\n",
    "print(\n",
    "    f\"\"\"orginal_data_size: {orginal_data_size}, filtered_data_size: {filtered_data_size}\n",
    "Ratio of Remaining Data is {filtered_data_size / orginal_data_size:.2%}\"\"\"\n",
    ")"
   ]
  },
  {
   "cell_type": "markdown",
   "metadata": {},
   "source": [
    "시청횟수 3점 이하의 데이터는 모두 drop한다.<br>\n",
    "그 후 로드시의 데이터와 filtering한 데이터의 수, filtering한 데이터의 %를 확인한다.<br>\n",
    "한사람당 시청횟수가 3번미만인 데이터는 83.63%로 시청횟수 데이터의 16.37%가 제거된다."
   ]
  },
  {
   "cell_type": "code",
   "execution_count": 5,
   "metadata": {
    "colab": {
     "base_uri": "https://localhost:8080/"
    },
    "id": "971TB3kw845_",
    "outputId": "347f72d2-03f3-45bc-90ad-a9d6b5bd2642"
   },
   "outputs": [
    {
     "data": {
      "text/html": [
       "<div>\n",
       "<style scoped>\n",
       "    .dataframe tbody tr th:only-of-type {\n",
       "        vertical-align: middle;\n",
       "    }\n",
       "\n",
       "    .dataframe tbody tr th {\n",
       "        vertical-align: top;\n",
       "    }\n",
       "\n",
       "    .dataframe thead th {\n",
       "        text-align: right;\n",
       "    }\n",
       "</style>\n",
       "<table border=\"1\" class=\"dataframe\">\n",
       "  <thead>\n",
       "    <tr style=\"text-align: right;\">\n",
       "      <th></th>\n",
       "      <th>movie_id</th>\n",
       "      <th>title</th>\n",
       "      <th>genre</th>\n",
       "    </tr>\n",
       "  </thead>\n",
       "  <tbody>\n",
       "    <tr>\n",
       "      <th>0</th>\n",
       "      <td>1</td>\n",
       "      <td>Toy Story (1995)</td>\n",
       "      <td>Animation|Children's|Comedy</td>\n",
       "    </tr>\n",
       "    <tr>\n",
       "      <th>1</th>\n",
       "      <td>2</td>\n",
       "      <td>Jumanji (1995)</td>\n",
       "      <td>Adventure|Children's|Fantasy</td>\n",
       "    </tr>\n",
       "    <tr>\n",
       "      <th>2</th>\n",
       "      <td>3</td>\n",
       "      <td>Grumpier Old Men (1995)</td>\n",
       "      <td>Comedy|Romance</td>\n",
       "    </tr>\n",
       "    <tr>\n",
       "      <th>3</th>\n",
       "      <td>4</td>\n",
       "      <td>Waiting to Exhale (1995)</td>\n",
       "      <td>Comedy|Drama</td>\n",
       "    </tr>\n",
       "    <tr>\n",
       "      <th>4</th>\n",
       "      <td>5</td>\n",
       "      <td>Father of the Bride Part II (1995)</td>\n",
       "      <td>Comedy</td>\n",
       "    </tr>\n",
       "  </tbody>\n",
       "</table>\n",
       "</div>"
      ],
      "text/plain": [
       "   movie_id                               title                         genre\n",
       "0         1                    Toy Story (1995)   Animation|Children's|Comedy\n",
       "1         2                      Jumanji (1995)  Adventure|Children's|Fantasy\n",
       "2         3             Grumpier Old Men (1995)                Comedy|Romance\n",
       "3         4            Waiting to Exhale (1995)                  Comedy|Drama\n",
       "4         5  Father of the Bride Part II (1995)                        Comedy"
      ]
     },
     "execution_count": 5,
     "metadata": {},
     "output_type": "execute_result"
    }
   ],
   "source": [
    "movies = pd.read_csv(\n",
    "    MF_Q_DATA_PATH\n",
    "    , names=MF_Q_COLS\n",
    "    , **READ_CSV_KWARGS\n",
    ")\n",
    "movies.head()"
   ]
  },
  {
   "cell_type": "markdown",
   "metadata": {
    "id": "ajtkCZfqI5ew"
   },
   "source": [
    "영화의 속성(장르)에 관한 정보를 가져온다.<br>\n",
    "`title`은 제목과 연도가 합쳐저있으며 <br>\n",
    "`genre`의 정보는 `|`를 구분자로 여러개 정의되어있다."
   ]
  },
  {
   "cell_type": "code",
   "execution_count": 6,
   "metadata": {},
   "outputs": [
    {
     "name": "stdout",
     "output_type": "stream",
     "text": [
      "total user_id in rating:  6039\n",
      "total movie_id in rating:  3628\n",
      "total movie_id in movies:  3883\n"
     ]
    }
   ],
   "source": [
    "num_user_rating = ratings['user_id'].nunique()\n",
    "num_movie_rating = ratings['movie_id'].nunique()\n",
    "num_movie_movies = movies['movie_id'].nunique()\n",
    "\n",
    "print(\"total user_id in rating: \", num_user_rating)\n",
    "print(\"total movie_id in rating: \", num_movie_rating)\n",
    "print(\"total movie_id in movies: \", num_movie_movies)"
   ]
  },
  {
   "cell_type": "markdown",
   "metadata": {},
   "source": [
    "유저가 본 영화와 `movies`에 들어있는 데이터의 영화의 갯수를 보면 `rating`의 데이터가 조금 작다.<br>\n",
    "그러므로 유저가 본 데이터의 영화를 기준으로 merge를 해야 유저가 평가한 영화의 순위등을 볼 수 있다.<br>"
   ]
  },
  {
   "cell_type": "code",
   "execution_count": 7,
   "metadata": {},
   "outputs": [
    {
     "name": "stdout",
     "output_type": "stream",
     "text": [
      "original rating len:  836478\n",
      "dropped rating len:  836478\n",
      "top 30 movie\n",
      "                                           title  \\\n",
      "movie_id                                           \n",
      "1704                    Good Will Hunting (1997)   \n",
      "728                     Cold Comfort Farm (1995)   \n",
      "1252                            Chinatown (1974)   \n",
      "596                             Pinocchio (1940)   \n",
      "1221              Godfather: Part II, The (1974)   \n",
      "1193      One Flew Over the Cuckoo's Nest (1975)   \n",
      "24                                 Powder (1995)   \n",
      "1544       Lost World: Jurassic Park, The (1997)   \n",
      "2858                      American Beauty (1999)   \n",
      "2396                  Shakespeare in Love (1998)   \n",
      "36                       Dead Man Walking (1995)   \n",
      "527                      Schindler's List (1993)   \n",
      "1442                          Prefontaine (1997)   \n",
      "1509                          All Over Me (1997)   \n",
      "2916                         Total Recall (1990)   \n",
      "2174                          Beetlejuice (1988)   \n",
      "3362                    Dog Day Afternoon (1975)   \n",
      "3425                     Mo' Better Blues (1990)   \n",
      "356                          Forrest Gump (1994)   \n",
      "542                            Son in Law (1993)   \n",
      "2599                             Election (1999)   \n",
      "1921                                   Pi (1998)   \n",
      "1457                        Fools Rush In (1997)   \n",
      "1527                   Fifth Element, The (1997)   \n",
      "216                         Billy Madison (1995)   \n",
      "348                 Bullets Over Broadway (1994)   \n",
      "316                              Stargate (1994)   \n",
      "661             James and the Giant Peach (1996)   \n",
      "3608              Pee-wee's Big Adventure (1985)   \n",
      "999                  2 Days in the Valley (1996)   \n",
      "\n",
      "                                     genre  \n",
      "movie_id                                    \n",
      "1704                                 Drama  \n",
      "728                                 Comedy  \n",
      "1252            Film-Noir|Mystery|Thriller  \n",
      "596                   Animation|Children's  \n",
      "1221                    Action|Crime|Drama  \n",
      "1193                                 Drama  \n",
      "24                            Drama|Sci-Fi  \n",
      "1544      Action|Adventure|Sci-Fi|Thriller  \n",
      "2858                          Comedy|Drama  \n",
      "2396                        Comedy|Romance  \n",
      "36                                   Drama  \n",
      "527                              Drama|War  \n",
      "1442                                 Drama  \n",
      "1509                                 Drama  \n",
      "2916      Action|Adventure|Sci-Fi|Thriller  \n",
      "2174                        Comedy|Fantasy  \n",
      "3362                    Comedy|Crime|Drama  \n",
      "3425                                 Drama  \n",
      "356                     Comedy|Romance|War  \n",
      "542                                 Comedy  \n",
      "2599                                Comedy  \n",
      "1921                       Sci-Fi|Thriller  \n",
      "1457                        Comedy|Romance  \n",
      "1527                         Action|Sci-Fi  \n",
      "216                                 Comedy  \n",
      "348                                 Comedy  \n",
      "316                Action|Adventure|Sci-Fi  \n",
      "661           Animation|Children's|Musical  \n",
      "3608                                Comedy  \n",
      "999                                  Crime  \n"
     ]
    }
   ],
   "source": [
    "movie_info = pd.merge(ratings, movies, on=\"movie_id\", how=\"left\")\n",
    "ori_len = len(movie_info)\n",
    "movie_info.dropna(inplace=True)\n",
    "dropna_len = len(movie_info)\n",
    "\n",
    "print(\"original rating len: \", ori_len)\n",
    "print(\"dropped rating len: \", dropna_len)\n",
    "\n",
    "print(\"top 30 movie\")\n",
    "print(\n",
    "    movie_info.set_index(\"movie_id\").iloc[\n",
    "        movie_info.groupby([\"movie_id\"]).sum().sort_values(by=[\"counts\"], ascending=False).index[:30].to_list()\n",
    "    ][[\"title\", \"genre\"]]\n",
    ")"
   ]
  },
  {
   "cell_type": "markdown",
   "metadata": {},
   "source": [
    "유저가 많아 본 영화를 각 유저의 시청횟수(`counts`)합산 기준으로 출력하였다.<br>\n",
    "유저가 본 영화 중, 영화 메타데이터에 없는 영화는 없다. "
   ]
  },
  {
   "cell_type": "code",
   "execution_count": 8,
   "metadata": {},
   "outputs": [
    {
     "data": {
      "text/plain": [
       "True"
      ]
     },
     "execution_count": 8,
     "metadata": {},
     "output_type": "execute_result"
    }
   ],
   "source": [
    "movie_info[\"title\"].nunique() == movie_info[\"movie_id\"].nunique()"
   ]
  },
  {
   "cell_type": "markdown",
   "metadata": {},
   "source": [
    "영화의 타이틀 중 중복되지 않는 갯수와 `movie_id`의 갯수는 동일하므로 `title`은 `movie_id`을 대표한다고 볼 수 있다.<br>\n",
    "또한 `genre`, `timestamp`는 이번 추천시스템에서 사용하지 않은 계획이므로 없어도 무방하다.<br>\n",
    "먼저 아래와 같이 필요없는 데이터는 `drop()`을 이용해 제거한다.<br>"
   ]
  },
  {
   "cell_type": "code",
   "execution_count": 9,
   "metadata": {},
   "outputs": [],
   "source": [
    "movie_info.drop([\"movie_id\", \"timestamp\", \"genre\"], axis=1, inplace=True)"
   ]
  },
  {
   "cell_type": "code",
   "execution_count": 10,
   "metadata": {},
   "outputs": [
    {
     "data": {
      "text/html": [
       "<div>\n",
       "<style scoped>\n",
       "    .dataframe tbody tr th:only-of-type {\n",
       "        vertical-align: middle;\n",
       "    }\n",
       "\n",
       "    .dataframe tbody tr th {\n",
       "        vertical-align: top;\n",
       "    }\n",
       "\n",
       "    .dataframe thead th {\n",
       "        text-align: right;\n",
       "    }\n",
       "</style>\n",
       "<table border=\"1\" class=\"dataframe\">\n",
       "  <thead>\n",
       "    <tr style=\"text-align: right;\">\n",
       "      <th></th>\n",
       "      <th>user_id</th>\n",
       "      <th>counts</th>\n",
       "      <th>title</th>\n",
       "    </tr>\n",
       "  </thead>\n",
       "  <tbody>\n",
       "    <tr>\n",
       "      <th>0</th>\n",
       "      <td>1</td>\n",
       "      <td>5</td>\n",
       "      <td>One Flew Over the Cuckoo's Nest (1975)</td>\n",
       "    </tr>\n",
       "    <tr>\n",
       "      <th>1</th>\n",
       "      <td>1</td>\n",
       "      <td>3</td>\n",
       "      <td>James and the Giant Peach (1996)</td>\n",
       "    </tr>\n",
       "    <tr>\n",
       "      <th>2</th>\n",
       "      <td>1</td>\n",
       "      <td>3</td>\n",
       "      <td>My Fair Lady (1964)</td>\n",
       "    </tr>\n",
       "    <tr>\n",
       "      <th>3</th>\n",
       "      <td>1</td>\n",
       "      <td>4</td>\n",
       "      <td>Erin Brockovich (2000)</td>\n",
       "    </tr>\n",
       "    <tr>\n",
       "      <th>4</th>\n",
       "      <td>1</td>\n",
       "      <td>5</td>\n",
       "      <td>Bug's Life, A (1998)</td>\n",
       "    </tr>\n",
       "    <tr>\n",
       "      <th>...</th>\n",
       "      <td>...</td>\n",
       "      <td>...</td>\n",
       "      <td>...</td>\n",
       "    </tr>\n",
       "    <tr>\n",
       "      <th>836473</th>\n",
       "      <td>6040</td>\n",
       "      <td>3</td>\n",
       "      <td>Platoon (1986)</td>\n",
       "    </tr>\n",
       "    <tr>\n",
       "      <th>836474</th>\n",
       "      <td>6040</td>\n",
       "      <td>5</td>\n",
       "      <td>Crying Game, The (1992)</td>\n",
       "    </tr>\n",
       "    <tr>\n",
       "      <th>836475</th>\n",
       "      <td>6040</td>\n",
       "      <td>5</td>\n",
       "      <td>Welcome to the Dollhouse (1995)</td>\n",
       "    </tr>\n",
       "    <tr>\n",
       "      <th>836476</th>\n",
       "      <td>6040</td>\n",
       "      <td>4</td>\n",
       "      <td>Sophie's Choice (1982)</td>\n",
       "    </tr>\n",
       "    <tr>\n",
       "      <th>836477</th>\n",
       "      <td>6040</td>\n",
       "      <td>4</td>\n",
       "      <td>E.T. the Extra-Terrestrial (1982)</td>\n",
       "    </tr>\n",
       "  </tbody>\n",
       "</table>\n",
       "<p>836478 rows × 3 columns</p>\n",
       "</div>"
      ],
      "text/plain": [
       "        user_id  counts                                   title\n",
       "0             1       5  One Flew Over the Cuckoo's Nest (1975)\n",
       "1             1       3        James and the Giant Peach (1996)\n",
       "2             1       3                     My Fair Lady (1964)\n",
       "3             1       4                  Erin Brockovich (2000)\n",
       "4             1       5                    Bug's Life, A (1998)\n",
       "...         ...     ...                                     ...\n",
       "836473     6040       3                          Platoon (1986)\n",
       "836474     6040       5                 Crying Game, The (1992)\n",
       "836475     6040       5         Welcome to the Dollhouse (1995)\n",
       "836476     6040       4                  Sophie's Choice (1982)\n",
       "836477     6040       4       E.T. the Extra-Terrestrial (1982)\n",
       "\n",
       "[836478 rows x 3 columns]"
      ]
     },
     "execution_count": 10,
     "metadata": {},
     "output_type": "execute_result"
    }
   ],
   "source": [
    "movie_info"
   ]
  },
  {
   "cell_type": "markdown",
   "metadata": {},
   "source": [
    "데이터를 확인했을 시, 필요한 데이터만 제거된 모습을 확인할 수 있다.<br>"
   ]
  },
  {
   "cell_type": "code",
   "execution_count": 11,
   "metadata": {},
   "outputs": [
    {
     "data": {
      "text/html": [
       "<div>\n",
       "<style scoped>\n",
       "    .dataframe tbody tr th:only-of-type {\n",
       "        vertical-align: middle;\n",
       "    }\n",
       "\n",
       "    .dataframe tbody tr th {\n",
       "        vertical-align: top;\n",
       "    }\n",
       "\n",
       "    .dataframe thead th {\n",
       "        text-align: right;\n",
       "    }\n",
       "</style>\n",
       "<table border=\"1\" class=\"dataframe\">\n",
       "  <thead>\n",
       "    <tr style=\"text-align: right;\">\n",
       "      <th></th>\n",
       "      <th>user_id</th>\n",
       "      <th>counts</th>\n",
       "      <th>title</th>\n",
       "    </tr>\n",
       "  </thead>\n",
       "  <tbody>\n",
       "    <tr>\n",
       "      <th>836473</th>\n",
       "      <td>6040</td>\n",
       "      <td>3</td>\n",
       "      <td>Platoon (1986)</td>\n",
       "    </tr>\n",
       "    <tr>\n",
       "      <th>836474</th>\n",
       "      <td>6040</td>\n",
       "      <td>5</td>\n",
       "      <td>Crying Game, The (1992)</td>\n",
       "    </tr>\n",
       "    <tr>\n",
       "      <th>836475</th>\n",
       "      <td>6040</td>\n",
       "      <td>5</td>\n",
       "      <td>Welcome to the Dollhouse (1995)</td>\n",
       "    </tr>\n",
       "    <tr>\n",
       "      <th>836476</th>\n",
       "      <td>6040</td>\n",
       "      <td>4</td>\n",
       "      <td>Sophie's Choice (1982)</td>\n",
       "    </tr>\n",
       "    <tr>\n",
       "      <th>836477</th>\n",
       "      <td>6040</td>\n",
       "      <td>4</td>\n",
       "      <td>E.T. the Extra-Terrestrial (1982)</td>\n",
       "    </tr>\n",
       "    <tr>\n",
       "      <th>836478</th>\n",
       "      <td>hhyong</td>\n",
       "      <td>5</td>\n",
       "      <td>명량 (2014)</td>\n",
       "    </tr>\n",
       "    <tr>\n",
       "      <th>836479</th>\n",
       "      <td>hhyong</td>\n",
       "      <td>5</td>\n",
       "      <td>극한직업 (2019)</td>\n",
       "    </tr>\n",
       "    <tr>\n",
       "      <th>836480</th>\n",
       "      <td>hhyong</td>\n",
       "      <td>5</td>\n",
       "      <td>7번방의 선물 (2013)</td>\n",
       "    </tr>\n",
       "    <tr>\n",
       "      <th>836481</th>\n",
       "      <td>hhyong</td>\n",
       "      <td>5</td>\n",
       "      <td>암살 (2015)</td>\n",
       "    </tr>\n",
       "    <tr>\n",
       "      <th>836482</th>\n",
       "      <td>hhyong</td>\n",
       "      <td>5</td>\n",
       "      <td>범죄도시 (2017)</td>\n",
       "    </tr>\n",
       "  </tbody>\n",
       "</table>\n",
       "</div>"
      ],
      "text/plain": [
       "       user_id  counts                              title\n",
       "836473    6040       3                     Platoon (1986)\n",
       "836474    6040       5            Crying Game, The (1992)\n",
       "836475    6040       5    Welcome to the Dollhouse (1995)\n",
       "836476    6040       4             Sophie's Choice (1982)\n",
       "836477    6040       4  E.T. the Extra-Terrestrial (1982)\n",
       "836478  hhyong       5                          명량 (2014)\n",
       "836479  hhyong       5                        극한직업 (2019)\n",
       "836480  hhyong       5                     7번방의 선물 (2013)\n",
       "836481  hhyong       5                          암살 (2015)\n",
       "836482  hhyong       5                        범죄도시 (2017)"
      ]
     },
     "execution_count": 11,
     "metadata": {},
     "output_type": "execute_result"
    }
   ],
   "source": [
    "max_counts = ratings[\"counts\"].max()\n",
    "\n",
    "my_playlist = pd.DataFrame({'user_id': [MY_NICKNAME]*5, 'title': MY_FAVORIT_LIST, 'counts':[max_counts]*5})\n",
    "\n",
    "if not movie_info.isin({'user_id':[MY_NICKNAME]})['user_id'].any():\n",
    "    movie_info = movie_info.append(my_playlist)\n",
    "\n",
    "movie_info.reset_index(drop=True, inplace=True)\n",
    "movie_info.tail(10)"
   ]
  },
  {
   "cell_type": "markdown",
   "metadata": {},
   "source": [
    "줄수 있는 최대한의 평점을 구한후, <br>\n",
    "좋아하는 영화 5개를 넣고 임의로 최고평점을 넣었다.<br>"
   ]
  },
  {
   "cell_type": "code",
   "execution_count": 12,
   "metadata": {},
   "outputs": [
    {
     "ename": "ValueError",
     "evalue": "invalid literal for int() with base 10: 'hhyong'",
     "output_type": "error",
     "traceback": [
      "\u001b[0;31m---------------------------------------------------------------------------\u001b[0m",
      "\u001b[0;31mValueError\u001b[0m                                Traceback (most recent call last)",
      "\u001b[0;32m/tmp/ipykernel_247/3977231111.py\u001b[0m in \u001b[0;36m<module>\u001b[0;34m\u001b[0m\n\u001b[0;32m----> 1\u001b[0;31m \u001b[0mcsr_matrix\u001b[0m\u001b[0;34m(\u001b[0m\u001b[0;34m(\u001b[0m\u001b[0mmovie_info\u001b[0m\u001b[0;34m[\u001b[0m\u001b[0;34m\"counts\"\u001b[0m\u001b[0;34m]\u001b[0m\u001b[0;34m,\u001b[0m \u001b[0;34m(\u001b[0m\u001b[0mmovie_info\u001b[0m\u001b[0;34m[\u001b[0m\u001b[0;34m'user_id'\u001b[0m\u001b[0;34m]\u001b[0m\u001b[0;34m,\u001b[0m \u001b[0mmovie_info\u001b[0m\u001b[0;34m[\u001b[0m\u001b[0;34m'title'\u001b[0m\u001b[0;34m]\u001b[0m\u001b[0;34m)\u001b[0m\u001b[0;34m)\u001b[0m\u001b[0;34m,\u001b[0m \u001b[0mshape\u001b[0m\u001b[0;34m=\u001b[0m \u001b[0;34m(\u001b[0m\u001b[0mmovie_info\u001b[0m\u001b[0;34m[\u001b[0m\u001b[0;34m'user_id'\u001b[0m\u001b[0;34m]\u001b[0m\u001b[0;34m.\u001b[0m\u001b[0mnunique\u001b[0m\u001b[0;34m(\u001b[0m\u001b[0;34m)\u001b[0m\u001b[0;34m,\u001b[0m \u001b[0mmovie_info\u001b[0m\u001b[0;34m[\u001b[0m\u001b[0;34m'title'\u001b[0m\u001b[0;34m]\u001b[0m\u001b[0;34m.\u001b[0m\u001b[0mnunique\u001b[0m\u001b[0;34m(\u001b[0m\u001b[0;34m)\u001b[0m\u001b[0;34m)\u001b[0m\u001b[0;34m)\u001b[0m\u001b[0;34m\u001b[0m\u001b[0;34m\u001b[0m\u001b[0m\n\u001b[0m",
      "\u001b[0;32m/opt/conda/lib/python3.9/site-packages/scipy/sparse/compressed.py\u001b[0m in \u001b[0;36m__init__\u001b[0;34m(self, arg1, shape, dtype, copy)\u001b[0m\n\u001b[1;32m     52\u001b[0m                     \u001b[0;31m# (data, ij) format\u001b[0m\u001b[0;34m\u001b[0m\u001b[0;34m\u001b[0m\u001b[0m\n\u001b[1;32m     53\u001b[0m                     \u001b[0;32mfrom\u001b[0m \u001b[0;34m.\u001b[0m\u001b[0mcoo\u001b[0m \u001b[0;32mimport\u001b[0m \u001b[0mcoo_matrix\u001b[0m\u001b[0;34m\u001b[0m\u001b[0;34m\u001b[0m\u001b[0m\n\u001b[0;32m---> 54\u001b[0;31m                     other = self.__class__(coo_matrix(arg1, shape=shape,\n\u001b[0m\u001b[1;32m     55\u001b[0m                                                       dtype=dtype))\n\u001b[1;32m     56\u001b[0m                     \u001b[0mself\u001b[0m\u001b[0;34m.\u001b[0m\u001b[0m_set_self\u001b[0m\u001b[0;34m(\u001b[0m\u001b[0mother\u001b[0m\u001b[0;34m)\u001b[0m\u001b[0;34m\u001b[0m\u001b[0;34m\u001b[0m\u001b[0m\n",
      "\u001b[0;32m/opt/conda/lib/python3.9/site-packages/scipy/sparse/coo.py\u001b[0m in \u001b[0;36m__init__\u001b[0;34m(self, arg1, shape, dtype, copy)\u001b[0m\n\u001b[1;32m    156\u001b[0m \u001b[0;34m\u001b[0m\u001b[0m\n\u001b[1;32m    157\u001b[0m                 \u001b[0midx_dtype\u001b[0m \u001b[0;34m=\u001b[0m \u001b[0mget_index_dtype\u001b[0m\u001b[0;34m(\u001b[0m\u001b[0mmaxval\u001b[0m\u001b[0;34m=\u001b[0m\u001b[0mmax\u001b[0m\u001b[0;34m(\u001b[0m\u001b[0mself\u001b[0m\u001b[0;34m.\u001b[0m\u001b[0mshape\u001b[0m\u001b[0;34m)\u001b[0m\u001b[0;34m)\u001b[0m\u001b[0;34m\u001b[0m\u001b[0;34m\u001b[0m\u001b[0m\n\u001b[0;32m--> 158\u001b[0;31m                 \u001b[0mself\u001b[0m\u001b[0;34m.\u001b[0m\u001b[0mrow\u001b[0m \u001b[0;34m=\u001b[0m \u001b[0mnp\u001b[0m\u001b[0;34m.\u001b[0m\u001b[0marray\u001b[0m\u001b[0;34m(\u001b[0m\u001b[0mrow\u001b[0m\u001b[0;34m,\u001b[0m \u001b[0mcopy\u001b[0m\u001b[0;34m=\u001b[0m\u001b[0mcopy\u001b[0m\u001b[0;34m,\u001b[0m \u001b[0mdtype\u001b[0m\u001b[0;34m=\u001b[0m\u001b[0midx_dtype\u001b[0m\u001b[0;34m)\u001b[0m\u001b[0;34m\u001b[0m\u001b[0;34m\u001b[0m\u001b[0m\n\u001b[0m\u001b[1;32m    159\u001b[0m                 \u001b[0mself\u001b[0m\u001b[0;34m.\u001b[0m\u001b[0mcol\u001b[0m \u001b[0;34m=\u001b[0m \u001b[0mnp\u001b[0m\u001b[0;34m.\u001b[0m\u001b[0marray\u001b[0m\u001b[0;34m(\u001b[0m\u001b[0mcol\u001b[0m\u001b[0;34m,\u001b[0m \u001b[0mcopy\u001b[0m\u001b[0;34m=\u001b[0m\u001b[0mcopy\u001b[0m\u001b[0;34m,\u001b[0m \u001b[0mdtype\u001b[0m\u001b[0;34m=\u001b[0m\u001b[0midx_dtype\u001b[0m\u001b[0;34m)\u001b[0m\u001b[0;34m\u001b[0m\u001b[0;34m\u001b[0m\u001b[0m\n\u001b[1;32m    160\u001b[0m                 \u001b[0mself\u001b[0m\u001b[0;34m.\u001b[0m\u001b[0mdata\u001b[0m \u001b[0;34m=\u001b[0m \u001b[0mgetdata\u001b[0m\u001b[0;34m(\u001b[0m\u001b[0mobj\u001b[0m\u001b[0;34m,\u001b[0m \u001b[0mcopy\u001b[0m\u001b[0;34m=\u001b[0m\u001b[0mcopy\u001b[0m\u001b[0;34m,\u001b[0m \u001b[0mdtype\u001b[0m\u001b[0;34m=\u001b[0m\u001b[0mdtype\u001b[0m\u001b[0;34m)\u001b[0m\u001b[0;34m\u001b[0m\u001b[0;34m\u001b[0m\u001b[0m\n",
      "\u001b[0;32m/opt/conda/lib/python3.9/site-packages/pandas/core/series.py\u001b[0m in \u001b[0;36m__array__\u001b[0;34m(self, dtype)\u001b[0m\n\u001b[1;32m    855\u001b[0m               dtype='datetime64[ns]')\n\u001b[1;32m    856\u001b[0m         \"\"\"\n\u001b[0;32m--> 857\u001b[0;31m         \u001b[0;32mreturn\u001b[0m \u001b[0mnp\u001b[0m\u001b[0;34m.\u001b[0m\u001b[0masarray\u001b[0m\u001b[0;34m(\u001b[0m\u001b[0mself\u001b[0m\u001b[0;34m.\u001b[0m\u001b[0m_values\u001b[0m\u001b[0;34m,\u001b[0m \u001b[0mdtype\u001b[0m\u001b[0;34m)\u001b[0m\u001b[0;34m\u001b[0m\u001b[0;34m\u001b[0m\u001b[0m\n\u001b[0m\u001b[1;32m    858\u001b[0m \u001b[0;34m\u001b[0m\u001b[0m\n\u001b[1;32m    859\u001b[0m     \u001b[0;31m# ----------------------------------------------------------------------\u001b[0m\u001b[0;34m\u001b[0m\u001b[0;34m\u001b[0m\u001b[0m\n",
      "\u001b[0;31mValueError\u001b[0m: invalid literal for int() with base 10: 'hhyong'"
     ]
    }
   ],
   "source": [
    "csr_matrix((movie_info[\"counts\"], (movie_info['user_id'], movie_info['title'])), shape= (movie_info['user_id'].nunique(), movie_info['title'].nunique()))"
   ]
  },
  {
   "cell_type": "markdown",
   "metadata": {},
   "source": [
    "유저와 영화의 유니크한 백터를 구하며 이를 사용해 `csr_matrix`를 생성한다.<br>\n",
    "`indexing`이 되어있지 않으므로 에러가 나타난다."
   ]
  },
  {
   "cell_type": "code",
   "execution_count": 13,
   "metadata": {},
   "outputs": [
    {
     "name": "stdout",
     "output_type": "stream",
     "text": [
      "6039\n",
      "3628\n",
      "user_id column indexing OK!!\n",
      "title column indexing OK!!\n"
     ]
    },
    {
     "data": {
      "text/html": [
       "<div>\n",
       "<style scoped>\n",
       "    .dataframe tbody tr th:only-of-type {\n",
       "        vertical-align: middle;\n",
       "    }\n",
       "\n",
       "    .dataframe tbody tr th {\n",
       "        vertical-align: top;\n",
       "    }\n",
       "\n",
       "    .dataframe thead th {\n",
       "        text-align: right;\n",
       "    }\n",
       "</style>\n",
       "<table border=\"1\" class=\"dataframe\">\n",
       "  <thead>\n",
       "    <tr style=\"text-align: right;\">\n",
       "      <th></th>\n",
       "      <th>user_id</th>\n",
       "      <th>counts</th>\n",
       "      <th>title</th>\n",
       "    </tr>\n",
       "  </thead>\n",
       "  <tbody>\n",
       "    <tr>\n",
       "      <th>0</th>\n",
       "      <td>0</td>\n",
       "      <td>5</td>\n",
       "      <td>0</td>\n",
       "    </tr>\n",
       "    <tr>\n",
       "      <th>1</th>\n",
       "      <td>0</td>\n",
       "      <td>3</td>\n",
       "      <td>1</td>\n",
       "    </tr>\n",
       "    <tr>\n",
       "      <th>2</th>\n",
       "      <td>0</td>\n",
       "      <td>3</td>\n",
       "      <td>2</td>\n",
       "    </tr>\n",
       "    <tr>\n",
       "      <th>3</th>\n",
       "      <td>0</td>\n",
       "      <td>4</td>\n",
       "      <td>3</td>\n",
       "    </tr>\n",
       "    <tr>\n",
       "      <th>4</th>\n",
       "      <td>0</td>\n",
       "      <td>5</td>\n",
       "      <td>4</td>\n",
       "    </tr>\n",
       "    <tr>\n",
       "      <th>...</th>\n",
       "      <td>...</td>\n",
       "      <td>...</td>\n",
       "      <td>...</td>\n",
       "    </tr>\n",
       "    <tr>\n",
       "      <th>836478</th>\n",
       "      <td>6039</td>\n",
       "      <td>5</td>\n",
       "      <td>3628</td>\n",
       "    </tr>\n",
       "    <tr>\n",
       "      <th>836479</th>\n",
       "      <td>6039</td>\n",
       "      <td>5</td>\n",
       "      <td>3629</td>\n",
       "    </tr>\n",
       "    <tr>\n",
       "      <th>836480</th>\n",
       "      <td>6039</td>\n",
       "      <td>5</td>\n",
       "      <td>3630</td>\n",
       "    </tr>\n",
       "    <tr>\n",
       "      <th>836481</th>\n",
       "      <td>6039</td>\n",
       "      <td>5</td>\n",
       "      <td>3631</td>\n",
       "    </tr>\n",
       "    <tr>\n",
       "      <th>836482</th>\n",
       "      <td>6039</td>\n",
       "      <td>5</td>\n",
       "      <td>3632</td>\n",
       "    </tr>\n",
       "  </tbody>\n",
       "</table>\n",
       "<p>836483 rows × 3 columns</p>\n",
       "</div>"
      ],
      "text/plain": [
       "        user_id  counts  title\n",
       "0             0       5      0\n",
       "1             0       3      1\n",
       "2             0       3      2\n",
       "3             0       4      3\n",
       "4             0       5      4\n",
       "...         ...     ...    ...\n",
       "836478     6039       5   3628\n",
       "836479     6039       5   3629\n",
       "836480     6039       5   3630\n",
       "836481     6039       5   3631\n",
       "836482     6039       5   3632\n",
       "\n",
       "[836483 rows x 3 columns]"
      ]
     },
     "execution_count": 13,
     "metadata": {},
     "output_type": "execute_result"
    }
   ],
   "source": [
    "# 고유한 유저, 영화를 찾아내는 코드\n",
    "user_unique = movie_info['user_id'].unique()\n",
    "movie_unique = movie_info['title'].unique()\n",
    "\n",
    "# 유저, 아티스트 indexing 하는 코드 idx는 index의 약자입니다.\n",
    "user_to_idx = {v:k for k,v in enumerate(user_unique)}\n",
    "movie_to_idx = {v:k for k,v in enumerate(movie_unique)}\n",
    "\n",
    "# 인덱싱이 잘 되었는지 확인해 봅니다. \n",
    "print(user_to_idx[MY_NICKNAME])\n",
    "print(movie_to_idx[MY_FAVORIT_LIST[0]])\n",
    "\n",
    "# indexing을 통해 데이터 컬럼 내 값을 바꾸는 코드\n",
    "# dictionary 자료형의 get 함수는 https://wikidocs.net/16 을 참고하세요.\n",
    "\n",
    "# user_to_idx.get을 통해 user_id 컬럼의 모든 값을 인덱싱한 Series를 구해 봅시다. \n",
    "# 혹시 정상적으로 인덱싱되지 않은 row가 있다면 인덱스가 NaN이 될 테니 dropna()로 제거합니다. \n",
    "temp_user_info = movie_info['user_id'].map(user_to_idx.get).dropna()\n",
    "if len(temp_user_info) == len(movie_info):   # 모든 row가 정상적으로 인덱싱되었다면\n",
    "    print('user_id column indexing OK!!')\n",
    "    movie_info['user_id'] = temp_user_info   # data['user_id']을 인덱싱된 Series로 교체해 줍니다. \n",
    "else:\n",
    "    print('user_id column indexing Fail!!')\n",
    "\n",
    "# artist_to_idx을 통해 artist 컬럼도 동일한 방식으로 인덱싱해 줍니다. \n",
    "temp_movie_info = movie_info['title'].map(movie_to_idx.get).dropna()\n",
    "if len(temp_movie_info) == len(movie_info):\n",
    "    print('title column indexing OK!!')\n",
    "    movie_info['title'] = temp_movie_info\n",
    "else:\n",
    "    print('title column indexing Fail!!')\n",
    "\n",
    "movie_info"
   ]
  },
  {
   "cell_type": "markdown",
   "metadata": {},
   "source": [
    "`title`, `user_id`모두 유니크한 값이므로 indexing을 통해 새로들어온 값을 보간한다.<br>\n",
    "`user_id`, `movie_id` 두 컬럼 다 `NaN`값이 유니크한 정수형으로 대체된 모습을 볼 수 있다."
   ]
  },
  {
   "cell_type": "code",
   "execution_count": 14,
   "metadata": {},
   "outputs": [
    {
     "data": {
      "text/plain": [
       "<6040x3633 sparse matrix of type '<class 'numpy.int64'>'\n",
       "\twith 836483 stored elements in Compressed Sparse Row format>"
      ]
     },
     "execution_count": 14,
     "metadata": {},
     "output_type": "execute_result"
    }
   ],
   "source": [
    "csr_matrix_data = csr_matrix(\n",
    "    (movie_info[\"counts\"], (movie_info['user_id'], movie_info['title']))\n",
    "    , shape= (movie_info['user_id'].nunique(), movie_info['title'].nunique())\n",
    ")\n",
    "csr_matrix_data"
   ]
  },
  {
   "cell_type": "markdown",
   "metadata": {},
   "source": [
    "indexing으로 보간한 값을 사용했을 시, CSR Matrix가 정상적으로 생성된 것을 볼 수 있다.<br>"
   ]
  },
  {
   "cell_type": "code",
   "execution_count": 15,
   "metadata": {
    "colab": {
     "base_uri": "https://localhost:8080/"
    },
    "id": "aX-uCKCAK1FQ",
    "outputId": "a183356b-34a6-4d30-d618-9490672cec43"
   },
   "outputs": [],
   "source": [
    "# Implicit AlternatingLeastSquares 모델의 선언\n",
    "als_model = AlternatingLeastSquares(\n",
    "    factors=100\n",
    "    , regularization=0.001\n",
    "    , use_gpu=False\n",
    "    , iterations=14\n",
    "    , dtype=np.float32\n",
    ")"
   ]
  },
  {
   "cell_type": "markdown",
   "metadata": {
    "id": "D9kNM2TiK1RF"
   },
   "source": [
    "아래의 내용을 보고 참고하여 파라미터를 변경시켰다.\n",
    "- factors : 유저와 아이템의 벡터를 몇 차원으로 할 것인지\n",
    "- regularization : 과적합을 방지하기 위해 정규화 값을 얼마나 사용할 것인지\n",
    "- use_gpu : GPU를 사용할 것인지\n",
    "- iterations : epochs와 같은 의미입니다.\n",
    "\n",
    "https://yeomko.tistory.com/4 의 마지막 내용을 보면 논문에서 `iterations`은 10~15사이의 값을 사용한다고 하여 사이의 값을 넣었다."
   ]
  },
  {
   "cell_type": "code",
   "execution_count": 16,
   "metadata": {},
   "outputs": [
    {
     "data": {
      "application/vnd.jupyter.widget-view+json": {
       "model_id": "24afbc1990ee4137926e38a53b0855da",
       "version_major": 2,
       "version_minor": 0
      },
      "text/plain": [
       "  0%|          | 0/14 [00:00<?, ?it/s]"
      ]
     },
     "metadata": {},
     "output_type": "display_data"
    }
   ],
   "source": [
    "als_model.fit(csr_matrix_data.T)"
   ]
  },
  {
   "cell_type": "markdown",
   "metadata": {},
   "source": [
    "학습시에는 CSR Matrix의 전치된 값을 사용하므로 전치된 행렬을 학습에 넣었다."
   ]
  },
  {
   "cell_type": "code",
   "execution_count": 17,
   "metadata": {},
   "outputs": [
    {
     "name": "stdout",
     "output_type": "stream",
     "text": [
      "0.0036423083\n",
      "0.0040582754\n",
      "0.0041720644\n",
      "0.004047983\n",
      "0.0036109076\n"
     ]
    }
   ],
   "source": [
    "for i in range(len(MY_FAVORIT_LIST)):\n",
    "    user_hhyong, favorit1 = user_to_idx[MY_NICKNAME], movie_to_idx[MY_FAVORIT_LIST[i]]\n",
    "    hhyong_vector, favorit1_vector = als_model.user_factors[user_hhyong], als_model.item_factors[favorit1]\n",
    "    print(np.dot(hhyong_vector, favorit1_vector))"
   ]
  },
  {
   "cell_type": "markdown",
   "metadata": {},
   "source": [
    "전혀 없는 5개의 영화 중 하나를 선택하여 선호도를 파악하였을 경우 소수점 4자리까지 내려간 모습을 볼 수 있다.<br>\n",
    "그렇다면 선호도 TOP 5위 안의 데이터를 이용하여 선호도를 선호하였을경우를 살펴보겠다."
   ]
  },
  {
   "cell_type": "code",
   "execution_count": 18,
   "metadata": {},
   "outputs": [
    {
     "data": {
      "text/html": [
       "<div>\n",
       "<style scoped>\n",
       "    .dataframe tbody tr th:only-of-type {\n",
       "        vertical-align: middle;\n",
       "    }\n",
       "\n",
       "    .dataframe tbody tr th {\n",
       "        vertical-align: top;\n",
       "    }\n",
       "\n",
       "    .dataframe thead th {\n",
       "        text-align: right;\n",
       "    }\n",
       "</style>\n",
       "<table border=\"1\" class=\"dataframe\">\n",
       "  <thead>\n",
       "    <tr style=\"text-align: right;\">\n",
       "      <th></th>\n",
       "      <th>user_id</th>\n",
       "      <th>counts</th>\n",
       "      <th>title</th>\n",
       "    </tr>\n",
       "  </thead>\n",
       "  <tbody>\n",
       "    <tr>\n",
       "      <th>0</th>\n",
       "      <td>0</td>\n",
       "      <td>5</td>\n",
       "      <td>0</td>\n",
       "    </tr>\n",
       "    <tr>\n",
       "      <th>1</th>\n",
       "      <td>0</td>\n",
       "      <td>3</td>\n",
       "      <td>1</td>\n",
       "    </tr>\n",
       "    <tr>\n",
       "      <th>2</th>\n",
       "      <td>0</td>\n",
       "      <td>3</td>\n",
       "      <td>2</td>\n",
       "    </tr>\n",
       "    <tr>\n",
       "      <th>3</th>\n",
       "      <td>0</td>\n",
       "      <td>4</td>\n",
       "      <td>3</td>\n",
       "    </tr>\n",
       "    <tr>\n",
       "      <th>4</th>\n",
       "      <td>0</td>\n",
       "      <td>5</td>\n",
       "      <td>4</td>\n",
       "    </tr>\n",
       "    <tr>\n",
       "      <th>...</th>\n",
       "      <td>...</td>\n",
       "      <td>...</td>\n",
       "      <td>...</td>\n",
       "    </tr>\n",
       "    <tr>\n",
       "      <th>0</th>\n",
       "      <td>6039</td>\n",
       "      <td>5</td>\n",
       "      <td>248</td>\n",
       "    </tr>\n",
       "    <tr>\n",
       "      <th>1</th>\n",
       "      <td>6039</td>\n",
       "      <td>5</td>\n",
       "      <td>225</td>\n",
       "    </tr>\n",
       "    <tr>\n",
       "      <th>2</th>\n",
       "      <td>6039</td>\n",
       "      <td>5</td>\n",
       "      <td>500</td>\n",
       "    </tr>\n",
       "    <tr>\n",
       "      <th>3</th>\n",
       "      <td>6039</td>\n",
       "      <td>5</td>\n",
       "      <td>528</td>\n",
       "    </tr>\n",
       "    <tr>\n",
       "      <th>4</th>\n",
       "      <td>6039</td>\n",
       "      <td>5</td>\n",
       "      <td>380</td>\n",
       "    </tr>\n",
       "  </tbody>\n",
       "</table>\n",
       "<p>836488 rows × 3 columns</p>\n",
       "</div>"
      ],
      "text/plain": [
       "    user_id  counts  title\n",
       "0         0       5      0\n",
       "1         0       3      1\n",
       "2         0       3      2\n",
       "3         0       4      3\n",
       "4         0       5      4\n",
       "..      ...     ...    ...\n",
       "0      6039       5    248\n",
       "1      6039       5    225\n",
       "2      6039       5    500\n",
       "3      6039       5    528\n",
       "4      6039       5    380\n",
       "\n",
       "[836488 rows x 3 columns]"
      ]
     },
     "execution_count": 18,
     "metadata": {},
     "output_type": "execute_result"
    }
   ],
   "source": [
    "my_playlist = pd.DataFrame({'user_id': [user_to_idx[MY_NICKNAME]]*5, 'title': [movie_to_idx[m] for m in MY_FAVORIT_LIST_TOP], 'counts':[max_counts]*5})\n",
    "movie_info = movie_info.append(my_playlist)\n",
    "movie_info"
   ]
  },
  {
   "cell_type": "markdown",
   "metadata": {},
   "source": [
    "`counts`칼럼기준 top5 영화를 선택하여 평점기록에 넣었다."
   ]
  },
  {
   "cell_type": "code",
   "execution_count": 19,
   "metadata": {},
   "outputs": [
    {
     "data": {
      "application/vnd.jupyter.widget-view+json": {
       "model_id": "02473ca993a94d768cdb1a19a452517c",
       "version_major": 2,
       "version_minor": 0
      },
      "text/plain": [
       "  0%|          | 0/14 [00:00<?, ?it/s]"
      ]
     },
     "metadata": {},
     "output_type": "display_data"
    }
   ],
   "source": [
    "als_model.fit(csr_matrix(\n",
    "    (movie_info[\"counts\"], (movie_info['user_id'], movie_info['title']))\n",
    "    , shape= (movie_info['user_id'].nunique(), movie_info['title'].nunique())\n",
    ").T)"
   ]
  },
  {
   "cell_type": "code",
   "execution_count": 20,
   "metadata": {},
   "outputs": [
    {
     "name": "stdout",
     "output_type": "stream",
     "text": [
      "0.3325468\n",
      "0.13762872\n",
      "0.42816117\n",
      "0.24852826\n",
      "0.66537744\n"
     ]
    }
   ],
   "source": [
    "for i in range(len(MY_FAVORIT_LIST_TOP)):\n",
    "    user_hhyong, favorit1 = user_to_idx[MY_NICKNAME], movie_to_idx[MY_FAVORIT_LIST_TOP[i]]\n",
    "    hhyong_vector, favorit1_vector = als_model.user_factors[user_hhyong], als_model.item_factors[favorit1]\n",
    "    print(np.dot(hhyong_vector, favorit1_vector))"
   ]
  },
  {
   "cell_type": "markdown",
   "metadata": {},
   "source": [
    "임시로 csr_matrix를 구현하여 데이터를 집어넣었을 시<br>\n",
    "선호도를 구하였을 시 신규 영화보다 월등히 선호도가 올라간 모습을 볼 수 있다.<br>\n",
    "다른 영화를 구햐였을시 최대 65퍼센트 이상인 영화도 있으며 적어도 14퍼센트 이상인 점을 확인가능하다.<br>\n",
    "이는 협업필터링 방식의 단점을 확실히 보여준다."
   ]
  },
  {
   "cell_type": "code",
   "execution_count": 21,
   "metadata": {
    "colab": {
     "base_uri": "https://localhost:8080/"
    },
    "id": "HbFIKeNV_L8U",
    "outputId": "64c844a9-b6ab-47ee-af64-bec6a3137cdb"
   },
   "outputs": [
    {
     "data": {
      "text/plain": [
       "[(3632, 1.0000001),\n",
       " (3628, 0.9257034),\n",
       " (3631, 0.8808701),\n",
       " (3630, 0.8792641),\n",
       " (3629, 0.8640779),\n",
       " (3517, 0.76700985),\n",
       " (3121, 0.74131244),\n",
       " (2435, 0.7401872),\n",
       " (2752, 0.7363719),\n",
       " (3434, 0.7357467),\n",
       " (3015, 0.73529375),\n",
       " (3430, 0.7341199),\n",
       " (2808, 0.7340552),\n",
       " (3564, 0.7338295),\n",
       " (3367, 0.7313926)]"
      ]
     },
     "execution_count": 21,
     "metadata": {},
     "output_type": "execute_result"
    }
   ],
   "source": [
    "favorite_movie = '범죄도시 (2017)'\n",
    "movie_id = movie_to_idx[favorite_movie]\n",
    "similar_movie = als_model.similar_items(movie_id, N=15)\n",
    "similar_movie"
   ]
  },
  {
   "cell_type": "code",
   "execution_count": 22,
   "metadata": {},
   "outputs": [
    {
     "data": {
      "text/plain": [
       "['범죄도시 (2017)',\n",
       " '명량 (2014)',\n",
       " '암살 (2015)',\n",
       " '7번방의 선물 (2013)',\n",
       " '극한직업 (2019)',\n",
       " 'Paralyzing Fear: The Story of Polio in America, A (1998)',\n",
       " 'Touch (1997)',\n",
       " 'Wide Awake (1998)',\n",
       " 'Lady of Burlesque (1943)',\n",
       " 'Prom Night IV: Deliver Us From Evil (1992)',\n",
       " 'H.O.T.S. (1979)',\n",
       " 'Gumby: The Movie (1995)',\n",
       " 'Carnosaur 2 (1995)',\n",
       " 'Impact (1949)',\n",
       " 'Wife, The (1995)']"
      ]
     },
     "execution_count": 22,
     "metadata": {},
     "output_type": "execute_result"
    }
   ],
   "source": [
    "#movie_to_idx 를 뒤집어, index로부터 movie 이름을 얻는 dict를 생성합니다. \n",
    "idx_to_movie = {v:k for k,v in movie_to_idx.items()}\n",
    "[idx_to_movie[i[0]] for i in similar_movie]"
   ]
  },
  {
   "cell_type": "markdown",
   "metadata": {},
   "source": [
    "`범죄도시` 영화같은 신규영화를 검색시 전혀 비슷하지 않은 영화가 나온다."
   ]
  },
  {
   "cell_type": "code",
   "execution_count": 23,
   "metadata": {},
   "outputs": [
    {
     "data": {
      "text/plain": [
       "['Pi (1998)',\n",
       " 'Gattaca (1997)',\n",
       " 'City of Lost Children, The (1995)',\n",
       " 'Strange Days (1995)',\n",
       " 'Dark City (1998)',\n",
       " 'Cube (1997)',\n",
       " 'Delicatessen (1991)',\n",
       " 'eXistenZ (1999)',\n",
       " 'Twelve Monkeys (1995)',\n",
       " 'Until the End of the World (Bis ans Ende der Welt) (1991)',\n",
       " 'Lost Highway (1997)',\n",
       " 'Contact (1997)',\n",
       " 'X-Files: Fight the Future, The (1998)',\n",
       " 'Fifth Element, The (1997)',\n",
       " 'Fear and Loathing in Las Vegas (1998)']"
      ]
     },
     "execution_count": 23,
     "metadata": {},
     "output_type": "execute_result"
    }
   ],
   "source": [
    "favorite_movie = 'Pi (1998)'\n",
    "movie_id = movie_to_idx[favorite_movie]\n",
    "similar_movie = als_model.similar_items(movie_id, N=15)\n",
    "#movie_to_idx 를 뒤집어, index로부터 movie 이름을 얻는 dict를 생성합니다. \n",
    "idx_to_movie = {v:k for k,v in movie_to_idx.items()}\n",
    "[idx_to_movie[i[0]] for i in similar_movie]"
   ]
  },
  {
   "cell_type": "markdown",
   "metadata": {},
   "source": [
    "`PI`영화같은 디스토피아, 스릴러,  공상영화에 가까운 영화를 추천했을 시 비슷한 영화가 나온다.<br>\n",
    "적중률이 대단히 높다."
   ]
  },
  {
   "cell_type": "code",
   "execution_count": 24,
   "metadata": {},
   "outputs": [
    {
     "data": {
      "text/plain": [
       "[(607, 0.70051974),\n",
       " (380, 0.6653775),\n",
       " (500, 0.42816114),\n",
       " (248, 0.33254683),\n",
       " (224, 0.2862421),\n",
       " (157, 0.25257936),\n",
       " (528, 0.24852827),\n",
       " (1096, 0.23839429),\n",
       " (269, 0.23216668),\n",
       " (128, 0.23121926),\n",
       " (17, 0.22467238),\n",
       " (121, 0.22068575),\n",
       " (435, 0.21864986),\n",
       " (601, 0.2144154),\n",
       " (37, 0.19951695),\n",
       " (46, 0.19171537),\n",
       " (572, 0.1891605),\n",
       " (323, 0.18890789),\n",
       " (291, 0.18862768),\n",
       " (385, 0.1851765)]"
      ]
     },
     "execution_count": 24,
     "metadata": {},
     "output_type": "execute_result"
    }
   ],
   "source": [
    "user = user_to_idx[MY_NICKNAME]\n",
    "# recommend에서는 user*item CSR Matrix를 받습니다.\n",
    "movie_recommended = als_model.recommend(user, csr_matrix_data, N=20, filter_already_liked_items=True)\n",
    "movie_recommended"
   ]
  },
  {
   "cell_type": "markdown",
   "metadata": {},
   "source": [
    "유저에 대한 추천영화를 20개 추천했을시의 백터이다."
   ]
  },
  {
   "cell_type": "code",
   "execution_count": 25,
   "metadata": {},
   "outputs": [
    {
     "data": {
      "text/plain": [
       "['Godfather, The (1972)',\n",
       " 'Godfather: Part II, The (1974)',\n",
       " 'Chinatown (1974)',\n",
       " 'Good Will Hunting (1997)',\n",
       " 'L.A. Confidential (1997)',\n",
       " 'Shawshank Redemption, The (1994)',\n",
       " 'Pinocchio (1940)',\n",
       " 'Manchurian Candidate, The (1962)',\n",
       " 'GoodFellas (1990)',\n",
       " 'French Connection, The (1971)',\n",
       " 'Bambi (1942)',\n",
       " 'Silence of the Lambs, The (1991)',\n",
       " 'Godfather: Part III, The (1990)',\n",
       " 'Citizen Kane (1941)',\n",
       " 'Cinderella (1950)',\n",
       " 'Dumbo (1941)',\n",
       " 'Sleeping Beauty (1959)',\n",
       " 'Dead Man Walking (1995)',\n",
       " 'Maltese Falcon, The (1941)',\n",
       " 'Truman Show, The (1998)']"
      ]
     },
     "execution_count": 25,
     "metadata": {},
     "output_type": "execute_result"
    }
   ],
   "source": [
    "[idx_to_movie[i[0]] for i in movie_recommended]"
   ]
  },
  {
   "cell_type": "markdown",
   "metadata": {},
   "source": [
    "해당 백터를 보았을 시 새로넣은 데이터에 관해서는 추천이 전혀 없으며,<br>\n",
    "나중에 넣은 상위 5개에 관한 영화가 대다수를 차지하는 것을 볼 수 있다."
   ]
  },
  {
   "cell_type": "code",
   "execution_count": 26,
   "metadata": {},
   "outputs": [
    {
     "data": {
      "text/plain": [
       "[('7번방의 선물 (2013)', 0.006447665278136984),\n",
       " ('범죄도시 (2017)', 0.006436285388732623),\n",
       " ('명량 (2014)', 0.006362890789819597),\n",
       " ('암살 (2015)', 0.006303574838352918),\n",
       " ('극한직업 (2019)', 0.0061766046445112235)]"
      ]
     },
     "execution_count": 26,
     "metadata": {},
     "output_type": "execute_result"
    }
   ],
   "source": [
    "gp = movie_to_idx['Godfather, The (1972)']\n",
    "explain = als_model.explain(user, csr_matrix_data, itemid=gp)\n",
    "[(idx_to_movie[i[0]], i[1]) for i in explain[1]]"
   ]
  },
  {
   "cell_type": "markdown",
   "metadata": {},
   "source": [
    "상위 영화에 대한 기여도를 보았을 시, 대단히 적은 값이 나온다.<br>\n",
    "이는 데이터가 신규이기 때문에 생기는 문제로 위에서도 언급했다."
   ]
  },
  {
   "cell_type": "code",
   "execution_count": 27,
   "metadata": {},
   "outputs": [
    {
     "data": {
      "text/plain": [
       "[('극한직업 (2019)', 0.00017927431970396268),\n",
       " ('7번방의 선물 (2013)', 0.00017159275654632844),\n",
       " ('암살 (2015)', 0.00016953739970943096),\n",
       " ('명량 (2014)', 0.00014878433299700413),\n",
       " ('범죄도시 (2017)', 0.00012204185852085088)]"
      ]
     },
     "execution_count": 27,
     "metadata": {},
     "output_type": "execute_result"
    }
   ],
   "source": [
    "gp = movie_to_idx['7번방의 선물 (2013)']\n",
    "explain = als_model.explain(user, csr_matrix_data, itemid=gp)\n",
    "[(idx_to_movie[i[0]], i[1]) for i in explain[1]]"
   ]
  },
  {
   "cell_type": "markdown",
   "metadata": {},
   "source": [
    "신규또한 마찬가지이다."
   ]
  },
  {
   "cell_type": "markdown",
   "metadata": {
    "id": "Zsx8OVYGnM-s"
   },
   "source": [
    "### 회고\n"
   ]
  },
  {
   "cell_type": "markdown",
   "metadata": {
    "id": "2ngdabGo3j4l"
   },
   "source": [
    "- 협업필터링의 단점에 대해 확실히 알게되었다.\n",
    "- 데이터의 질도 중요하지만 얼마나 많은 데이터를 수집하는가도 추천시스템에 영향이 큰것을 알게되었다."
   ]
  }
 ],
 "metadata": {
  "accelerator": "GPU",
  "colab": {
   "include_colab_link": true,
   "machine_shape": "hm",
   "provenance": []
  },
  "gpuClass": "premium",
  "kernelspec": {
   "display_name": "Python 3 (ipykernel)",
   "language": "python",
   "name": "python3"
  },
  "language_info": {
   "codemirror_mode": {
    "name": "ipython",
    "version": 3
   },
   "file_extension": ".py",
   "mimetype": "text/x-python",
   "name": "python",
   "nbconvert_exporter": "python",
   "pygments_lexer": "ipython3",
   "version": "3.9.7"
  },
  "vscode": {
   "interpreter": {
    "hash": "11938c6bc6919ae2720b4d5011047913343b08a43b18698fd82dedb0d4417594"
   }
  }
 },
 "nbformat": 4,
 "nbformat_minor": 1
}
