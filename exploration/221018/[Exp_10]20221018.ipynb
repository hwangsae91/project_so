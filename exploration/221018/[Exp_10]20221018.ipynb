{
  "cells": [
    {
      "cell_type": "markdown",
      "metadata": {
        "id": "view-in-github",
        "colab_type": "text"
      },
      "source": [
        "<a href=\"https://colab.research.google.com/github/hwangsae91/project_so/blob/master/exploration/221018/%5BExp_10%5D20221018.ipynb\" target=\"_parent\"><img src=\"https://colab.research.google.com/assets/colab-badge.svg\" alt=\"Open In Colab\"/></a>"
      ]
    },
    {
      "cell_type": "code",
      "execution_count": 1,
      "metadata": {
        "colab": {
          "base_uri": "https://localhost:8080/"
        },
        "id": "302ZdfCKLlhI",
        "outputId": "c36ec3b2-40b4-4569-9962-5aa12113abb8"
      },
      "outputs": [
        {
          "output_type": "stream",
          "name": "stdout",
          "text": [
            "Drive already mounted at /content/drive; to attempt to forcibly remount, call drive.mount(\"/content/drive\", force_remount=True).\n"
          ]
        }
      ],
      "source": [
        "# google colab전용\n",
        "from google.colab import drive\n",
        "drive.mount('/content/drive')"
      ]
    },
    {
      "cell_type": "markdown",
      "metadata": {
        "id": "ujMb2MtyLrVQ"
      },
      "source": [
        "# exploration 10번째 과제\n",
        "@ 황한용(3기/쏘카)"
      ]
    },
    {
      "cell_type": "markdown",
      "metadata": {
        "id": "tdrfR8Y3L0ry"
      },
      "source": [
        "## 라이브러리 선언"
      ]
    },
    {
      "cell_type": "code",
      "execution_count": 2,
      "metadata": {
        "id": "LWLP8EFSLqqp"
      },
      "outputs": [],
      "source": [
        "import os\n",
        "import matplotlib.pyplot as plt\n",
        "import numpy as np\n",
        "import pandas as pd\n",
        "import random\n",
        "import re\n",
        "import string # 구두점 정규화 표현식\n",
        "import tensorflow as tf\n",
        "\n",
        "from tensorflow.keras.preprocessing.text import Tokenizer\n",
        "from tensorflow.keras.utils import pad_sequences\n",
        "from tensorflow.keras.utils import to_categorical\n",
        "\n",
        "from tensorflow.keras.layers import Input, LSTM, Embedding, Dense, Masking\n",
        "from tensorflow.keras.models import Model"
      ]
    },
    {
      "cell_type": "markdown",
      "source": [
        "`tensorflow.keras.preprocessing.sequence.pad_sequences`는 모듈 위치가 변경되었으므로\n",
        "`tf.keras.utils.pad_sequences`로 변경<br>"
      ],
      "metadata": {
        "id": "dwTie8y2eOO0"
      }
    },
    {
      "cell_type": "markdown",
      "metadata": {
        "id": "4qC6hZWKL7x3"
      },
      "source": [
        "## 상수선언"
      ]
    },
    {
      "cell_type": "code",
      "execution_count": 3,
      "metadata": {
        "id": "XcIjEEgnMD75"
      },
      "outputs": [],
      "source": [
        "BASE_PATH = \"/content/drive/MyDrive/Colab Notebooks/data/translator_seq2seq\" # 데이터 기본경로\n",
        "DATA_PATH  = BASE_PATH + \"/data/fra.txt\" # 사전 기본\n",
        "\n",
        "SOS_TOKEN = '<sos>' # 문장 시작토큰\n",
        "EOS_TOKEN = '<eos>' # 문장 끝 토큰\n",
        "\n",
        "MAX_SAMPLE_LEN = 88000 # 최대 단어갯수\n",
        "VALID_LEN = 8000 # 검증할 문장의 갯수\n",
        "PUNCTUATION_REGEX = r'[\\!\\\"\\#\\$\\%\\&\\'\\(\\)\\*\\+\\,\\-\\.\\/\\:\\;\\<\\=\\>\\?\\@\\[\\\\\\]\\^\\_\\`\\{\\|\\}\\~]' # 정규화\n",
        "FRENCH_WHITESPACE = r'[\\xa0\\u202f\\u2009]' # whitespace 정규화(1/4 whitespace 등의 대응)\n",
        "FRENCH_APOSTROPHE = r\"’\" # 프랑스어 '\n",
        "FRENCH_DOUBLE_COMMA = r\"'<<|>>'\" # 프랑스어 \"\n",
        "FRENCE_MINUS_REGEX = r\"\\—\" # 프랑스어 -\n",
        "\n",
        "HIDDEN_STATE_NUM = 256 # hidden state의 노드수\n",
        "\n",
        "fit_kwargs = {\n",
        "    \"epochs\":50 # epoch 횟수\n",
        "    , \"batch_size\":512\n",
        "    ,\"validation_data\": None # 추후 추가예정\n",
        "    , \"shuffle\" : True # epoch당 셔플을 할지의 여부\n",
        "    , \"verbose\":1\n",
        "}"
      ]
    },
    {
      "cell_type": "markdown",
      "source": [
        "영어의 경우는 `string.punctuation`의 구두점을 활용하여 만들었다.<br>\n",
        "프랑스어의 경우는 문법에 따라 1/8, 1/4, 1/2 `whitespace`를 표준`whitespace`로 변경하였으며<br>\n",
        "`'`, `\"`, `-` 또한 표준으로 변경하였다.<br>\n",
        "알파벳의 악쌍(악센트, 성조)은 단어의 의미를 결정하는 요소이므로 제거하지 않았다."
      ],
      "metadata": {
        "id": "NtHICg5lZmae"
      }
    },
    {
      "cell_type": "markdown",
      "metadata": {
        "id": "l5DV1kd8MPes"
      },
      "source": [
        "## 메인"
      ]
    },
    {
      "cell_type": "markdown",
      "metadata": {
        "id": "B7XCWajZ0XIj"
      },
      "source": [
        "### 전처리"
      ]
    },
    {
      "cell_type": "code",
      "execution_count": 4,
      "metadata": {
        "colab": {
          "base_uri": "https://localhost:8080/"
        },
        "id": "iwkvcfr7MPsm",
        "outputId": "23aaf8d9-6244-43d4-bc7e-e811ac4a5368"
      },
      "outputs": [
        {
          "output_type": "stream",
          "name": "stdout",
          "text": [
            "전체 샘플의 수 : 197463\n"
          ]
        }
      ],
      "source": [
        "lines = pd.read_csv(DATA_PATH, names=['eng', 'fra', 'cc'], sep='\\t')\n",
        "print('전체 샘플의 수 :',len(lines))\n",
        "lines.sample(5) #샘플 5개 출력\n",
        "lines.pop('cc')\n",
        "lines = lines.head(MAX_SAMPLE_LEN)"
      ]
    },
    {
      "cell_type": "markdown",
      "metadata": {
        "id": "iXm0KjWe845_"
      },
      "source": [
        "데이터에 대한 설명은 아래와 같다.</br>\n",
        "- eng: 영어문장\n",
        "- fra: 영어 문장에 해당되는 프랑스 문장\n",
        "- cc: 저작권 정보\n",
        "\n",
        "저작권 정보는 데이터 분석에 사용되지 않으므로 로드하지 않았다."
      ]
    },
    {
      "cell_type": "code",
      "execution_count": 5,
      "metadata": {
        "colab": {
          "base_uri": "https://localhost:8080/"
        },
        "id": "971TB3kw845_",
        "outputId": "01331e89-eead-4a94-fd40-3d4cbcadaea7"
      },
      "outputs": [
        {
          "output_type": "stream",
          "name": "stdout",
          "text": [
            "영어 단어장의 크기 : 8329\n",
            "프랑스어 단어장의 크기 : 14702\n",
            "영어 시퀀스의 최대 길이 12\n",
            "프랑스어 시퀀스의 최대 길이 19\n"
          ]
        }
      ],
      "source": [
        "# 구두점(Punctuation)을 단어와 분리\n",
        "# 프랑스 문법에만 존재하는 whitespace -> 표준 whitespace로 변경\n",
        "lines[\"fra\"] = lines[\"fra\"].str.replace(FRENCH_WHITESPACE, r' ', regex=True)\n",
        "#프랑스 문법에만 존재하는 ’를 '로 변경\n",
        "lines[\"fra\"] = lines[\"fra\"].str.replace(FRENCH_APOSTROPHE, r\"'\", regex=True)\n",
        "# 프랑스 문법에만 존재하는 <<, >>를 \"로 변경\n",
        "lines[\"fra\"] = lines[\"fra\"].str.replace(FRENCH_DOUBLE_COMMA, r'\"', regex=True)\n",
        "# 프랑스 문법에만 존재하는 —를 -로 변경\n",
        "lines[\"fra\"] = lines[\"fra\"].str.replace(FRENCE_MINUS_REGEX, r\"-\", regex=True)\n",
        "\n",
        "# 구분점에 whitespace를 지음\n",
        "lines[\"fra\"] = lines[\"fra\"].str.replace(PUNCTUATION_REGEX, r' \\g<0> ', regex=True).replace(' +', ' ', regex=True).str.strip()\n",
        "lines[\"eng\"] = lines[\"eng\"].str.replace(PUNCTUATION_REGEX, r' \\g<0> ', regex=True).replace(' +', ' ', regex=True).str.strip()\n",
        "lines[\"fra\"] = lines[\"fra\"].str.replace(' +', ' ', regex=True)\n",
        "lines[\"eng\"] = lines[\"eng\"].str.replace(' +', ' ', regex=True)\n",
        "\n",
        "lines[\"fra_decoder_input\"] = f'{SOS_TOKEN} '+ lines[\"fra\"]\n",
        "lines[\"fra_decoder_target\"] = lines[\"fra\"] + f' {EOS_TOKEN}'\n",
        "lines[\"fra\"] = f'{SOS_TOKEN} '+ lines[\"fra\"] + f' {EOS_TOKEN}' # 양옆에 문장의 시작과 끝의 테그를 붙인다.\n",
        "\n",
        "lines[\"eng\"] = lines[\"eng\"].str.split()\n",
        "\n",
        "lines[\"fra\"] = lines[\"fra\"].str.split()\n",
        "lines[\"fra_decoder_input\"] = lines[\"fra_decoder_input\"].str.split()\n",
        "lines[\"fra_decoder_target\"] = lines[\"fra_decoder_target\"].str.split()\n",
        "\n",
        "eng_tokenizer = Tokenizer(filters=\"\")  # 문자 단위로 Tokenizer를 생성 \n",
        "eng_tokenizer.fit_on_texts(lines[\"eng\"])\n",
        "encoder_input = eng_tokenizer.texts_to_sequences(lines[\"eng\"])\n",
        "\n",
        "fra_tokenizer = Tokenizer(filters=\"\")\n",
        "fra_tokenizer.fit_on_texts(lines[\"fra\"])\n",
        "\n",
        "decoder_input = fra_tokenizer.texts_to_sequences(lines[\"fra_decoder_input\"])\n",
        "decoder_target = fra_tokenizer.texts_to_sequences(lines[\"fra_decoder_target\"])\n",
        "\n",
        "eng_vocab_size = len(eng_tokenizer.word_index) + 1\n",
        "fra_vocab_size = len(fra_tokenizer.word_index) + 1\n",
        "print('영어 단어장의 크기 :', eng_vocab_size)\n",
        "print('프랑스어 단어장의 크기 :', fra_vocab_size)\n",
        "\n",
        "max_eng_seq_len = max(map(len, encoder_input))\n",
        "max_fra_seq_len = max(map(len, decoder_input))\n",
        "print('영어 시퀀스의 최대 길이', max_eng_seq_len)\n",
        "print('프랑스어 시퀀스의 최대 길이', max_fra_seq_len)"
      ]
    },
    {
      "cell_type": "markdown",
      "source": [
        "영어문장와 프랑스문장를 각각 tokenize한 뒤<br>\n",
        "단어 사전의크기, 한 문장의 최대 단어 갯수를 확인<br>\n",
        "이 데이터는 후에 padding에 사용할 예정이다.<br>\n",
        "문장의 끝 토큰이 제거된 input과<br>\n",
        "문장의 시작 토큰이 제거된 output을 각각 데이터 프레임에서 생산하였으며<br>\n",
        "이번에는 구두점도 임배딩에 필요하므로 필터옵션을 통해 없어지지 않도록 설정하였다.<br>"
      ],
      "metadata": {
        "id": "ajtkCZfqI5ew"
      }
    },
    {
      "cell_type": "code",
      "source": [
        "encoder_input = pad_sequences(encoder_input, maxlen = max_eng_seq_len, padding='post')\n",
        "decoder_input = pad_sequences(decoder_input, maxlen = max_fra_seq_len, padding='post')\n",
        "decoder_target = pad_sequences(decoder_target, maxlen = max_fra_seq_len, padding='post')\n",
        "print('영어 데이터의 크기(shape) :',np.shape(encoder_input))\n",
        "print('프랑스어 입력데이터의 크기(shape) :',np.shape(decoder_input))\n",
        "print('프랑스어 출력데이터의 크기(shape) :',np.shape(decoder_target))"
      ],
      "metadata": {
        "colab": {
          "base_uri": "https://localhost:8080/"
        },
        "id": "aX-uCKCAK1FQ",
        "outputId": "36e2c897-e344-473f-e324-c563b82f8b8d"
      },
      "execution_count": 6,
      "outputs": [
        {
          "output_type": "stream",
          "name": "stdout",
          "text": [
            "영어 데이터의 크기(shape) : (88000, 12)\n",
            "프랑스어 입력데이터의 크기(shape) : (88000, 19)\n",
            "프랑스어 출력데이터의 크기(shape) : (88000, 19)\n"
          ]
        }
      ]
    },
    {
      "cell_type": "markdown",
      "source": [
        "각 언어의 최대 단어갯수에 맞춰 padding을 생성하였다.<br>\n",
        "(`문장의 갯수`,`각 언어의 문장당 단어 최대갯수`)모양의 데이터가 생성되었다.\n"
      ],
      "metadata": {
        "id": "D9kNM2TiK1RF"
      }
    },
    {
      "cell_type": "code",
      "execution_count": 7,
      "metadata": {
        "id": "HbFIKeNV_L8U",
        "colab": {
          "base_uri": "https://localhost:8080/"
        },
        "outputId": "1cfe265c-573c-4617-cfd4-0d71af916d68"
      },
      "outputs": [
        {
          "output_type": "stream",
          "name": "stdout",
          "text": [
            "[ 16 110   2   9 875   4   1   0   0   0   0   0]\n",
            "[    1    21    14     9 11847    10     3     0     0     0     0     0\n",
            "     0     0     0     0     0     0     0]\n",
            "[   21    14     9 11847    10     3     2     0     0     0     0     0\n",
            "     0     0     0     0     0     0     0]\n"
          ]
        }
      ],
      "source": [
        "shuffle_idx  = np.arange(MAX_SAMPLE_LEN)\n",
        "np.random.shuffle(shuffle_idx)\n",
        "\n",
        "encoder_input = encoder_input[shuffle_idx]\n",
        "decoder_input = decoder_input[shuffle_idx]\n",
        "decoder_target = decoder_target[shuffle_idx]\n",
        "\n",
        "print(encoder_input[3])\n",
        "print(decoder_input[3])\n",
        "print(decoder_target[3])\n",
        "\n",
        "encoder_input_train = encoder_input[:-VALID_LEN]\n",
        "decoder_input_train = decoder_input[:-VALID_LEN]\n",
        "decoder_target_train = decoder_target[:-VALID_LEN]\n",
        "\n",
        "encoder_input_test = encoder_input[-VALID_LEN:]\n",
        "decoder_input_test = decoder_input[-VALID_LEN:]\n",
        "decoder_target_test = decoder_target[-VALID_LEN:]"
      ]
    },
    {
      "cell_type": "markdown",
      "metadata": {
        "id": "cQlTE3xms-k0"
      },
      "source": [
        "과적합 방지를 위해 학습과 점증을 10:1비율로 나누었다.<br>\n",
        "문장셈플은 인덱스를 렌덤값을 통해 섞어서 순서를 바꿨으며<br>\n",
        "임의로 하나의 값을 뽑았을 시<br>\n",
        "`decoder_input`과 `decoder_target`의 값은 `<sos>`, `<eos>`의 차이이므로 올바르게 섞인것을 확인할 수 있다.<br>"
      ]
    },
    {
      "cell_type": "markdown",
      "metadata": {
        "id": "Iu9puDTo_MRT"
      },
      "source": [
        "### 모델 설계"
      ]
    },
    {
      "cell_type": "markdown",
      "source": [
        "#### 과학습을 하지 않는 모델(이론)"
      ],
      "metadata": {
        "id": "XDQWHvL74DO0"
      }
    },
    {
      "cell_type": "code",
      "execution_count": 8,
      "metadata": {
        "id": "2qbNBHBm0LLy",
        "colab": {
          "base_uri": "https://localhost:8080/"
        },
        "outputId": "b3baa45d-fe44-4d4c-9f31-6d1f207fe7a9"
      },
      "outputs": [
        {
          "output_type": "stream",
          "name": "stdout",
          "text": [
            "Model: \"seq2seq_model\"\n",
            "__________________________________________________________________________________________________\n",
            " Layer (type)                   Output Shape         Param #     Connected to                     \n",
            "==================================================================================================\n",
            " input_1 (InputLayer)           [(None, None)]       0           []                               \n",
            "                                                                                                  \n",
            " input_2 (InputLayer)           [(None, None)]       0           []                               \n",
            "                                                                                                  \n",
            " embedding (Embedding)          (None, None, 256)    2132224     ['input_1[0][0]']                \n",
            "                                                                                                  \n",
            " embedding_1 (Embedding)        (None, None, 256)    3763712     ['input_2[0][0]']                \n",
            "                                                                                                  \n",
            " masking (Masking)              (None, None, 256)    0           ['embedding[0][0]']              \n",
            "                                                                                                  \n",
            " masking_1 (Masking)            (None, None, 256)    0           ['embedding_1[0][0]']            \n",
            "                                                                                                  \n",
            " lstm (LSTM)                    [(None, 256),        525312      ['masking[0][0]']                \n",
            "                                 (None, 256),                                                     \n",
            "                                 (None, 256)]                                                     \n",
            "                                                                                                  \n",
            " lstm_1 (LSTM)                  [(None, None, 256),  525312      ['masking_1[0][0]',              \n",
            "                                 (None, 256),                     'lstm[0][1]',                   \n",
            "                                 (None, 256)]                     'lstm[0][2]']                   \n",
            "                                                                                                  \n",
            " dense (Dense)                  (None, None, 14702)  3778414     ['lstm_1[0][0]']                 \n",
            "                                                                                                  \n",
            "==================================================================================================\n",
            "Total params: 10,724,974\n",
            "Trainable params: 10,724,974\n",
            "Non-trainable params: 0\n",
            "__________________________________________________________________________________________________\n"
          ]
        }
      ],
      "source": [
        "encoder_inputs = Input(shape=(None,))\n",
        "encoder_embadding = Embedding(eng_vocab_size, HIDDEN_STATE_NUM)\n",
        "encoder_masking = Masking(mask_value=0.0)(encoder_embadding(encoder_inputs))\n",
        "encoder_lstm = LSTM(units=HIDDEN_STATE_NUM, return_state = True)\n",
        "encoder_outputs, state_h, state_c = encoder_lstm(encoder_masking)\n",
        "encoder_states = [state_h, state_c]\n",
        "\n",
        "decoder_inputs = Input(shape=(None, ))\n",
        "decoder_embadding = Embedding(fra_vocab_size, HIDDEN_STATE_NUM)\n",
        "decoder_masking = Masking(mask_value=0.0)(decoder_embadding(decoder_inputs))\n",
        "decoder_lstm = LSTM(units=HIDDEN_STATE_NUM, return_sequences = True, return_state=True)\n",
        "decoder_outputs, _, _= decoder_lstm(decoder_masking, initial_state = encoder_states)\n",
        "\n",
        "decoder_softmax_layer = Dense(fra_vocab_size, activation='softmax')\n",
        "decoder_outputs = decoder_softmax_layer(decoder_outputs)\n",
        "\n",
        "model = Model([encoder_inputs, decoder_inputs], decoder_outputs, name=\"seq2seq_model\")\n",
        "model.compile(\n",
        "    optimizer=tf.keras.optimizers.Adam(learning_rate=0.01)\n",
        "    , loss=\"sparse_categorical_crossentropy\", metrics=['acc']\n",
        ")\n",
        "model.summary()"
      ]
    },
    {
      "cell_type": "markdown",
      "source": [
        "encorder는 영어를 프랑스어로 번역하기 위한 레이어이므로<br>\n",
        "decorder의 input에 맞게 모델을 구성하였으며<br>\n",
        "one-hot 인코딩을 하지 않은 상태이므로 `sparse_categorical_crossentropy`로 설정하였다."
      ],
      "metadata": {
        "id": "yDMdVE5Grafh"
      }
    },
    {
      "cell_type": "markdown",
      "source": [
        "#### 과학습을 하는 모델(실제)"
      ],
      "metadata": {
        "id": "W-F9UWIh4bbK"
      }
    },
    {
      "cell_type": "code",
      "source": [
        "overfit_encoder_inputs = Input(shape=(None,))\n",
        "overfit_encoder_embadding = Embedding(eng_vocab_size, HIDDEN_STATE_NUM)\n",
        "overfit_encoder_masking = Masking(mask_value=0.0)(overfit_encoder_embadding(overfit_encoder_inputs))\n",
        "overfit_encoder_lstm = LSTM(units=HIDDEN_STATE_NUM, return_state = True)\n",
        "overfit_encoder_outputs, overfit_state_h, overfit_state_c = overfit_encoder_lstm(overfit_encoder_masking)\n",
        "overfit_encoder_states = [overfit_state_h, overfit_state_c]\n",
        "\n",
        "overfit_decoder_inputs = Input(shape=(None, ))\n",
        "overfit_decoder_embadding = Embedding(fra_vocab_size, HIDDEN_STATE_NUM)\n",
        "overfit_decoder_masking = Masking(mask_value=0.0)(overfit_decoder_embadding(overfit_decoder_inputs))\n",
        "overfit_decoder_lstm = LSTM(units=HIDDEN_STATE_NUM, return_sequences = True, return_state=True)\n",
        "overfit_decoder_outputs, _, _= overfit_decoder_lstm(overfit_decoder_masking, initial_state = overfit_encoder_states)\n",
        "\n",
        "overfit_decoder_softmax_layer = Dense(fra_vocab_size, activation='softmax')\n",
        "overfit_decoder_outputs = overfit_decoder_softmax_layer(overfit_decoder_outputs)\n",
        "\n",
        "overfit_model = Model([overfit_encoder_inputs, overfit_decoder_inputs], overfit_decoder_outputs, name=\"overfit_seq2seq_model\")\n",
        "overfit_model.compile(\n",
        "    optimizer=tf.keras.optimizers.Adam(learning_rate=0.005)\n",
        "    , loss=\"sparse_categorical_crossentropy\", metrics=['acc']\n",
        ")\n",
        "overfit_model.summary()"
      ],
      "metadata": {
        "colab": {
          "base_uri": "https://localhost:8080/"
        },
        "id": "Op3kYHQE4Xcu",
        "outputId": "23ec9004-0fa7-4d84-abde-c38f3fc6a8ea"
      },
      "execution_count": 9,
      "outputs": [
        {
          "output_type": "stream",
          "name": "stdout",
          "text": [
            "Model: \"overfit_seq2seq_model\"\n",
            "__________________________________________________________________________________________________\n",
            " Layer (type)                   Output Shape         Param #     Connected to                     \n",
            "==================================================================================================\n",
            " input_3 (InputLayer)           [(None, None)]       0           []                               \n",
            "                                                                                                  \n",
            " input_4 (InputLayer)           [(None, None)]       0           []                               \n",
            "                                                                                                  \n",
            " embedding_2 (Embedding)        (None, None, 256)    2132224     ['input_3[0][0]']                \n",
            "                                                                                                  \n",
            " embedding_3 (Embedding)        (None, None, 256)    3763712     ['input_4[0][0]']                \n",
            "                                                                                                  \n",
            " masking_2 (Masking)            (None, None, 256)    0           ['embedding_2[0][0]']            \n",
            "                                                                                                  \n",
            " masking_3 (Masking)            (None, None, 256)    0           ['embedding_3[0][0]']            \n",
            "                                                                                                  \n",
            " lstm_2 (LSTM)                  [(None, 256),        525312      ['masking_2[0][0]']              \n",
            "                                 (None, 256),                                                     \n",
            "                                 (None, 256)]                                                     \n",
            "                                                                                                  \n",
            " lstm_3 (LSTM)                  [(None, None, 256),  525312      ['masking_3[0][0]',              \n",
            "                                 (None, 256),                     'lstm_2[0][1]',                 \n",
            "                                 (None, 256)]                     'lstm_2[0][2]']                 \n",
            "                                                                                                  \n",
            " dense_1 (Dense)                (None, None, 14702)  3778414     ['lstm_3[0][0]']                 \n",
            "                                                                                                  \n",
            "==================================================================================================\n",
            "Total params: 10,724,974\n",
            "Trainable params: 10,724,974\n",
            "Non-trainable params: 0\n",
            "__________________________________________________________________________________________________\n"
          ]
        }
      ]
    },
    {
      "cell_type": "markdown",
      "source": [
        "이전의 과학습 아닌 모델과 다른 점은 optimizer부분에 running rate의 차이점밖에 없다."
      ],
      "metadata": {
        "id": "nRrqhFjb5sZO"
      }
    },
    {
      "cell_type": "markdown",
      "source": [
        "### 학습"
      ],
      "metadata": {
        "id": "ajgB-k1RFH1X"
      }
    },
    {
      "cell_type": "code",
      "source": [
        "fit_kwargs[\"validation_data\"] = ([encoder_input_test, decoder_input_test], decoder_target_test)\n",
        "\n",
        "history_dict = model.fit(\n",
        "                         x=[encoder_input_train, decoder_input_train]\n",
        "                         , y=decoder_target_train\n",
        "                         , **fit_kwargs).history\n",
        "\n",
        "overfit_history_dict = overfit_model.fit(\n",
        "                            x=[encoder_input_train, decoder_input_train]\n",
        "                            , y=decoder_target_train\n",
        "                            , **fit_kwargs).history\n",
        "\n",
        "loss = history_dict['loss']\n",
        "val_loss = history_dict['val_loss']\n",
        "overfit_loss = overfit_history_dict['loss']\n",
        "overfit_val_loss = overfit_history_dict['val_loss']\n",
        "\n",
        "epoch = range(1, len(loss) + 1)\n",
        "\n",
        "plt.plot(epoch, loss, 'bo', label='Training loss')\n",
        "plt.plot(epoch, val_loss, 'b', label='Validation loss')\n",
        "plt.plot(epoch, loss, 'ro', label='Overfit training loss')\n",
        "plt.plot(epoch, val_loss, 'r', label='Overfit validation loss')\n",
        "plt.title('Training and validation loss')\n",
        "plt.xlabel('Epochs')\n",
        "plt.ylabel('Loss')\n",
        "plt.legend()\n",
        "plt.show()"
      ],
      "metadata": {
        "colab": {
          "base_uri": "https://localhost:8080/",
          "height": 1000
        },
        "id": "hy1iw1_slsf3",
        "outputId": "d7f9e03d-e458-45d8-f9e1-f439a75f3784"
      },
      "execution_count": 10,
      "outputs": [
        {
          "output_type": "stream",
          "name": "stdout",
          "text": [
            "Epoch 1/50\n",
            "157/157 [==============================] - 33s 158ms/step - loss: 1.9458 - acc: 0.7196 - val_loss: 1.3087 - val_acc: 0.7820\n",
            "Epoch 2/50\n",
            "157/157 [==============================] - 22s 142ms/step - loss: 1.1054 - acc: 0.8060 - val_loss: 0.9979 - val_acc: 0.8213\n",
            "Epoch 3/50\n",
            "157/157 [==============================] - 23s 144ms/step - loss: 0.8674 - acc: 0.8336 - val_loss: 0.8675 - val_acc: 0.8395\n",
            "Epoch 4/50\n",
            "157/157 [==============================] - 23s 146ms/step - loss: 0.7192 - acc: 0.8519 - val_loss: 0.7876 - val_acc: 0.8506\n",
            "Epoch 5/50\n",
            "157/157 [==============================] - 23s 148ms/step - loss: 0.6099 - acc: 0.8662 - val_loss: 0.7310 - val_acc: 0.8591\n",
            "Epoch 6/50\n",
            "157/157 [==============================] - 23s 146ms/step - loss: 0.5260 - acc: 0.8779 - val_loss: 0.6953 - val_acc: 0.8655\n",
            "Epoch 7/50\n",
            "157/157 [==============================] - 23s 146ms/step - loss: 0.4589 - acc: 0.8887 - val_loss: 0.6688 - val_acc: 0.8706\n",
            "Epoch 8/50\n",
            "157/157 [==============================] - 23s 147ms/step - loss: 0.4047 - acc: 0.8980 - val_loss: 0.6533 - val_acc: 0.8735\n",
            "Epoch 9/50\n",
            "157/157 [==============================] - 23s 147ms/step - loss: 0.3620 - acc: 0.9057 - val_loss: 0.6432 - val_acc: 0.8760\n",
            "Epoch 10/50\n",
            "157/157 [==============================] - 23s 147ms/step - loss: 0.3273 - acc: 0.9123 - val_loss: 0.6339 - val_acc: 0.8787\n",
            "Epoch 11/50\n",
            "157/157 [==============================] - 23s 147ms/step - loss: 0.2981 - acc: 0.9187 - val_loss: 0.6355 - val_acc: 0.8799\n",
            "Epoch 12/50\n",
            "157/157 [==============================] - 23s 147ms/step - loss: 0.2764 - acc: 0.9232 - val_loss: 0.6340 - val_acc: 0.8813\n",
            "Epoch 13/50\n",
            "157/157 [==============================] - 23s 147ms/step - loss: 0.2567 - acc: 0.9275 - val_loss: 0.6331 - val_acc: 0.8829\n",
            "Epoch 14/50\n",
            "157/157 [==============================] - 23s 147ms/step - loss: 0.2414 - acc: 0.9310 - val_loss: 0.6387 - val_acc: 0.8835\n",
            "Epoch 15/50\n",
            "157/157 [==============================] - 23s 147ms/step - loss: 0.2284 - acc: 0.9340 - val_loss: 0.6432 - val_acc: 0.8844\n",
            "Epoch 16/50\n",
            "157/157 [==============================] - 23s 147ms/step - loss: 0.2182 - acc: 0.9363 - val_loss: 0.6463 - val_acc: 0.8838\n",
            "Epoch 17/50\n",
            "157/157 [==============================] - 23s 147ms/step - loss: 0.2094 - acc: 0.9381 - val_loss: 0.6517 - val_acc: 0.8850\n",
            "Epoch 18/50\n",
            "157/157 [==============================] - 23s 147ms/step - loss: 0.2031 - acc: 0.9393 - val_loss: 0.6592 - val_acc: 0.8850\n",
            "Epoch 19/50\n",
            "157/157 [==============================] - 23s 147ms/step - loss: 0.1969 - acc: 0.9408 - val_loss: 0.6608 - val_acc: 0.8852\n",
            "Epoch 20/50\n",
            "157/157 [==============================] - 23s 147ms/step - loss: 0.1907 - acc: 0.9423 - val_loss: 0.6670 - val_acc: 0.8851\n",
            "Epoch 21/50\n",
            "157/157 [==============================] - 23s 147ms/step - loss: 0.1860 - acc: 0.9433 - val_loss: 0.6750 - val_acc: 0.8852\n",
            "Epoch 22/50\n",
            "157/157 [==============================] - 23s 147ms/step - loss: 0.1833 - acc: 0.9438 - val_loss: 0.6788 - val_acc: 0.8853\n",
            "Epoch 23/50\n",
            "157/157 [==============================] - 23s 147ms/step - loss: 0.1799 - acc: 0.9444 - val_loss: 0.6848 - val_acc: 0.8853\n",
            "Epoch 24/50\n",
            "157/157 [==============================] - 23s 147ms/step - loss: 0.1752 - acc: 0.9456 - val_loss: 0.6921 - val_acc: 0.8853\n",
            "Epoch 25/50\n",
            "157/157 [==============================] - 23s 147ms/step - loss: 0.1725 - acc: 0.9462 - val_loss: 0.6980 - val_acc: 0.8852\n",
            "Epoch 26/50\n",
            "157/157 [==============================] - 23s 147ms/step - loss: 0.1707 - acc: 0.9465 - val_loss: 0.7025 - val_acc: 0.8850\n",
            "Epoch 27/50\n",
            "157/157 [==============================] - 23s 148ms/step - loss: 0.1681 - acc: 0.9473 - val_loss: 0.7090 - val_acc: 0.8847\n",
            "Epoch 28/50\n",
            "157/157 [==============================] - 23s 147ms/step - loss: 0.1666 - acc: 0.9474 - val_loss: 0.7149 - val_acc: 0.8848\n",
            "Epoch 29/50\n",
            "157/157 [==============================] - 23s 147ms/step - loss: 0.1660 - acc: 0.9474 - val_loss: 0.7214 - val_acc: 0.8838\n",
            "Epoch 30/50\n",
            "157/157 [==============================] - 23s 147ms/step - loss: 0.1650 - acc: 0.9475 - val_loss: 0.7257 - val_acc: 0.8840\n",
            "Epoch 31/50\n",
            "157/157 [==============================] - 23s 147ms/step - loss: 0.1639 - acc: 0.9478 - val_loss: 0.7323 - val_acc: 0.8835\n",
            "Epoch 32/50\n",
            "157/157 [==============================] - 23s 147ms/step - loss: 0.1633 - acc: 0.9480 - val_loss: 0.7395 - val_acc: 0.8842\n",
            "Epoch 33/50\n",
            "157/157 [==============================] - 23s 147ms/step - loss: 0.1613 - acc: 0.9484 - val_loss: 0.7442 - val_acc: 0.8844\n",
            "Epoch 34/50\n",
            "157/157 [==============================] - 23s 147ms/step - loss: 0.1619 - acc: 0.9483 - val_loss: 0.7515 - val_acc: 0.8843\n",
            "Epoch 35/50\n",
            "157/157 [==============================] - 23s 147ms/step - loss: 0.1606 - acc: 0.9483 - val_loss: 0.7552 - val_acc: 0.8846\n",
            "Epoch 36/50\n",
            "157/157 [==============================] - 23s 147ms/step - loss: 0.1597 - acc: 0.9487 - val_loss: 0.7611 - val_acc: 0.8843\n",
            "Epoch 37/50\n",
            "157/157 [==============================] - 23s 147ms/step - loss: 0.1591 - acc: 0.9488 - val_loss: 0.7630 - val_acc: 0.8846\n",
            "Epoch 38/50\n",
            "157/157 [==============================] - 23s 147ms/step - loss: 0.1568 - acc: 0.9493 - val_loss: 0.7672 - val_acc: 0.8837\n",
            "Epoch 39/50\n",
            "157/157 [==============================] - 23s 148ms/step - loss: 0.1568 - acc: 0.9494 - val_loss: 0.7719 - val_acc: 0.8838\n",
            "Epoch 40/50\n",
            "157/157 [==============================] - 23s 148ms/step - loss: 0.1553 - acc: 0.9497 - val_loss: 0.7787 - val_acc: 0.8830\n",
            "Epoch 41/50\n",
            "157/157 [==============================] - 23s 147ms/step - loss: 0.1553 - acc: 0.9497 - val_loss: 0.7831 - val_acc: 0.8837\n",
            "Epoch 42/50\n",
            "157/157 [==============================] - 23s 148ms/step - loss: 0.1565 - acc: 0.9494 - val_loss: 0.7875 - val_acc: 0.8839\n",
            "Epoch 43/50\n",
            "157/157 [==============================] - 23s 148ms/step - loss: 0.1546 - acc: 0.9497 - val_loss: 0.7863 - val_acc: 0.8831\n",
            "Epoch 44/50\n",
            "157/157 [==============================] - 23s 147ms/step - loss: 0.1549 - acc: 0.9495 - val_loss: 0.7938 - val_acc: 0.8835\n",
            "Epoch 45/50\n",
            "157/157 [==============================] - 23s 148ms/step - loss: 0.1528 - acc: 0.9501 - val_loss: 0.8005 - val_acc: 0.8831\n",
            "Epoch 46/50\n",
            "157/157 [==============================] - 23s 148ms/step - loss: 0.1535 - acc: 0.9501 - val_loss: 0.8017 - val_acc: 0.8837\n",
            "Epoch 47/50\n",
            "157/157 [==============================] - 23s 148ms/step - loss: 0.1548 - acc: 0.9496 - val_loss: 0.8085 - val_acc: 0.8823\n",
            "Epoch 48/50\n",
            "157/157 [==============================] - 23s 148ms/step - loss: 0.1536 - acc: 0.9498 - val_loss: 0.8110 - val_acc: 0.8819\n",
            "Epoch 49/50\n",
            "157/157 [==============================] - 23s 148ms/step - loss: 0.1528 - acc: 0.9501 - val_loss: 0.8085 - val_acc: 0.8826\n",
            "Epoch 50/50\n",
            "157/157 [==============================] - 23s 148ms/step - loss: 0.1535 - acc: 0.9497 - val_loss: 0.8150 - val_acc: 0.8826\n",
            "Epoch 1/50\n",
            "157/157 [==============================] - 32s 160ms/step - loss: 2.3350 - acc: 0.6606 - val_loss: 1.8364 - val_acc: 0.7295\n",
            "Epoch 2/50\n",
            "157/157 [==============================] - 23s 147ms/step - loss: 1.5833 - acc: 0.7612 - val_loss: 1.4114 - val_acc: 0.7848\n",
            "Epoch 3/50\n",
            "157/157 [==============================] - 23s 147ms/step - loss: 1.2218 - acc: 0.8018 - val_loss: 1.0924 - val_acc: 0.8151\n",
            "Epoch 4/50\n",
            "157/157 [==============================] - 23s 147ms/step - loss: 0.9398 - acc: 0.8305 - val_loss: 0.8857 - val_acc: 0.8395\n",
            "Epoch 5/50\n",
            "157/157 [==============================] - 23s 147ms/step - loss: 0.7397 - acc: 0.8550 - val_loss: 0.7518 - val_acc: 0.8580\n",
            "Epoch 6/50\n",
            "157/157 [==============================] - 23s 147ms/step - loss: 0.5909 - acc: 0.8758 - val_loss: 0.6610 - val_acc: 0.8716\n",
            "Epoch 7/50\n",
            "157/157 [==============================] - 23s 148ms/step - loss: 0.4760 - acc: 0.8929 - val_loss: 0.5967 - val_acc: 0.8817\n",
            "Epoch 8/50\n",
            "157/157 [==============================] - 23s 147ms/step - loss: 0.3880 - acc: 0.9076 - val_loss: 0.5578 - val_acc: 0.8890\n",
            "Epoch 9/50\n",
            "157/157 [==============================] - 23s 147ms/step - loss: 0.3226 - acc: 0.9193 - val_loss: 0.5312 - val_acc: 0.8932\n",
            "Epoch 10/50\n",
            "157/157 [==============================] - 23s 148ms/step - loss: 0.2736 - acc: 0.9289 - val_loss: 0.5172 - val_acc: 0.8961\n",
            "Epoch 11/50\n",
            "157/157 [==============================] - 23s 147ms/step - loss: 0.2365 - acc: 0.9365 - val_loss: 0.5094 - val_acc: 0.8986\n",
            "Epoch 12/50\n",
            "157/157 [==============================] - 23s 147ms/step - loss: 0.2082 - acc: 0.9425 - val_loss: 0.5072 - val_acc: 0.8990\n",
            "Epoch 13/50\n",
            "157/157 [==============================] - 23s 147ms/step - loss: 0.1855 - acc: 0.9475 - val_loss: 0.5032 - val_acc: 0.9008\n",
            "Epoch 14/50\n",
            "157/157 [==============================] - 23s 147ms/step - loss: 0.1676 - acc: 0.9512 - val_loss: 0.5079 - val_acc: 0.9012\n",
            "Epoch 15/50\n",
            "157/157 [==============================] - 23s 147ms/step - loss: 0.1534 - acc: 0.9543 - val_loss: 0.5101 - val_acc: 0.9016\n",
            "Epoch 16/50\n",
            "157/157 [==============================] - 23s 147ms/step - loss: 0.1415 - acc: 0.9571 - val_loss: 0.5159 - val_acc: 0.9015\n",
            "Epoch 17/50\n",
            "157/157 [==============================] - 23s 147ms/step - loss: 0.1315 - acc: 0.9593 - val_loss: 0.5197 - val_acc: 0.9014\n",
            "Epoch 18/50\n",
            "157/157 [==============================] - 23s 147ms/step - loss: 0.1235 - acc: 0.9610 - val_loss: 0.5245 - val_acc: 0.9017\n",
            "Epoch 19/50\n",
            "157/157 [==============================] - 23s 147ms/step - loss: 0.1164 - acc: 0.9627 - val_loss: 0.5291 - val_acc: 0.9027\n",
            "Epoch 20/50\n",
            "157/157 [==============================] - 23s 147ms/step - loss: 0.1103 - acc: 0.9641 - val_loss: 0.5350 - val_acc: 0.9017\n",
            "Epoch 21/50\n",
            "157/157 [==============================] - 23s 147ms/step - loss: 0.1053 - acc: 0.9652 - val_loss: 0.5397 - val_acc: 0.9025\n",
            "Epoch 22/50\n",
            "157/157 [==============================] - 23s 147ms/step - loss: 0.1007 - acc: 0.9663 - val_loss: 0.5451 - val_acc: 0.9025\n",
            "Epoch 23/50\n",
            "157/157 [==============================] - 23s 147ms/step - loss: 0.0969 - acc: 0.9670 - val_loss: 0.5526 - val_acc: 0.9013\n",
            "Epoch 24/50\n",
            "157/157 [==============================] - 23s 147ms/step - loss: 0.0945 - acc: 0.9675 - val_loss: 0.5584 - val_acc: 0.9015\n",
            "Epoch 25/50\n",
            "157/157 [==============================] - 23s 147ms/step - loss: 0.0914 - acc: 0.9683 - val_loss: 0.5653 - val_acc: 0.9021\n",
            "Epoch 26/50\n",
            "157/157 [==============================] - 23s 147ms/step - loss: 0.0892 - acc: 0.9689 - val_loss: 0.5695 - val_acc: 0.9010\n",
            "Epoch 27/50\n",
            "157/157 [==============================] - 23s 147ms/step - loss: 0.0872 - acc: 0.9693 - val_loss: 0.5732 - val_acc: 0.9011\n",
            "Epoch 28/50\n",
            "157/157 [==============================] - 23s 147ms/step - loss: 0.0851 - acc: 0.9696 - val_loss: 0.5796 - val_acc: 0.9010\n",
            "Epoch 29/50\n",
            "157/157 [==============================] - 23s 147ms/step - loss: 0.0835 - acc: 0.9701 - val_loss: 0.5853 - val_acc: 0.9012\n",
            "Epoch 30/50\n",
            "157/157 [==============================] - 23s 147ms/step - loss: 0.0823 - acc: 0.9704 - val_loss: 0.5883 - val_acc: 0.9005\n",
            "Epoch 31/50\n",
            "157/157 [==============================] - 23s 147ms/step - loss: 0.0813 - acc: 0.9705 - val_loss: 0.5968 - val_acc: 0.9003\n",
            "Epoch 32/50\n",
            "157/157 [==============================] - 23s 147ms/step - loss: 0.0803 - acc: 0.9707 - val_loss: 0.6000 - val_acc: 0.9010\n",
            "Epoch 33/50\n",
            "157/157 [==============================] - 23s 147ms/step - loss: 0.0792 - acc: 0.9708 - val_loss: 0.6053 - val_acc: 0.9002\n",
            "Epoch 34/50\n",
            "157/157 [==============================] - 23s 148ms/step - loss: 0.0781 - acc: 0.9712 - val_loss: 0.6075 - val_acc: 0.9005\n",
            "Epoch 35/50\n",
            "157/157 [==============================] - 23s 147ms/step - loss: 0.0772 - acc: 0.9713 - val_loss: 0.6145 - val_acc: 0.9005\n",
            "Epoch 36/50\n",
            "157/157 [==============================] - 23s 148ms/step - loss: 0.0763 - acc: 0.9715 - val_loss: 0.6186 - val_acc: 0.9001\n",
            "Epoch 37/50\n",
            "157/157 [==============================] - 23s 147ms/step - loss: 0.0759 - acc: 0.9715 - val_loss: 0.6215 - val_acc: 0.9001\n",
            "Epoch 38/50\n",
            "157/157 [==============================] - 23s 148ms/step - loss: 0.0755 - acc: 0.9717 - val_loss: 0.6254 - val_acc: 0.9002\n",
            "Epoch 39/50\n",
            "157/157 [==============================] - 23s 147ms/step - loss: 0.0755 - acc: 0.9715 - val_loss: 0.6304 - val_acc: 0.9001\n",
            "Epoch 40/50\n",
            "157/157 [==============================] - 23s 148ms/step - loss: 0.0747 - acc: 0.9718 - val_loss: 0.6337 - val_acc: 0.9000\n",
            "Epoch 41/50\n",
            "157/157 [==============================] - 23s 148ms/step - loss: 0.0741 - acc: 0.9720 - val_loss: 0.6403 - val_acc: 0.8997\n",
            "Epoch 42/50\n",
            "157/157 [==============================] - 23s 147ms/step - loss: 0.0735 - acc: 0.9720 - val_loss: 0.6407 - val_acc: 0.8995\n",
            "Epoch 43/50\n",
            "157/157 [==============================] - 23s 147ms/step - loss: 0.0734 - acc: 0.9720 - val_loss: 0.6454 - val_acc: 0.9001\n",
            "Epoch 44/50\n",
            "157/157 [==============================] - 23s 147ms/step - loss: 0.0725 - acc: 0.9723 - val_loss: 0.6508 - val_acc: 0.8994\n",
            "Epoch 45/50\n",
            "157/157 [==============================] - 23s 147ms/step - loss: 0.0718 - acc: 0.9724 - val_loss: 0.6499 - val_acc: 0.8999\n",
            "Epoch 46/50\n",
            "157/157 [==============================] - 23s 147ms/step - loss: 0.0710 - acc: 0.9726 - val_loss: 0.6515 - val_acc: 0.8988\n",
            "Epoch 47/50\n",
            "157/157 [==============================] - 23s 147ms/step - loss: 0.0707 - acc: 0.9726 - val_loss: 0.6577 - val_acc: 0.8995\n",
            "Epoch 48/50\n",
            "157/157 [==============================] - 23s 147ms/step - loss: 0.0705 - acc: 0.9726 - val_loss: 0.6604 - val_acc: 0.8988\n",
            "Epoch 49/50\n",
            "157/157 [==============================] - 23s 147ms/step - loss: 0.0703 - acc: 0.9727 - val_loss: 0.6652 - val_acc: 0.8991\n",
            "Epoch 50/50\n",
            "157/157 [==============================] - 23s 147ms/step - loss: 0.0712 - acc: 0.9724 - val_loss: 0.6698 - val_acc: 0.8984\n"
          ]
        },
        {
          "output_type": "display_data",
          "data": {
            "text/plain": [
              "<Figure size 432x288 with 1 Axes>"
            ],
            "image/png": "[encoded data removed]"
          },
          "metadata": {
            "needs_background": "light"
          }
        }
      ]
    },
    {
      "cell_type": "markdown",
      "metadata": {
        "id": "XNQ9W93B0LUx"
      },
      "source": [
        "입력값은 똑같이 적용하였으며<br>\n",
        "학습결과\n",
        "- overfit이 되지않는 모델의 경우는 정상적으로 우하향하는 그래프의 모습을 보이며<br>train loss, validation loss 의 차이가 크지않다.\n",
        "- overfit이 된 모델은 대략 epoch이 8 이후부터 이상점이 드러나며<br>\n",
        "어느 기점으로 validation loss의 값이 증가하는 모습을 볼 수 있다.\n",
        "\n",
        "라는 결과를 알 수 있다."
      ]
    },
    {
      "cell_type": "markdown",
      "source": [
        "### 검증\n"
      ],
      "metadata": {
        "id": "mv2-aMcEvAs7"
      }
    },
    {
      "cell_type": "code",
      "source": [
        "###################################################<<<nomal>>>##################################################################\n",
        "\n",
        "encoder_model = Model(inputs = encoder_inputs, outputs = encoder_states)\n",
        "encoder_model.summary()\n",
        "\n",
        "# 이전 time step의 hidden state를 저장하는 텐서\n",
        "decoder_state_input_h = Input(shape=(HIDDEN_STATE_NUM,))\n",
        "# 이전 time step의 cell state를 저장하는 텐서\n",
        "decoder_state_input_c = Input(shape=(HIDDEN_STATE_NUM,))\n",
        "# 이전 time step의 hidden state와 cell state를 하나의 변수에 저장\n",
        "decoder_states_inputs = [decoder_state_input_h, decoder_state_input_c]\n",
        "\n",
        "decoder_embadding_val = decoder_embadding(decoder_inputs)\n",
        "\n",
        "# decoder_states_inputs를 현재 time step의 초기 상태로 사용.\n",
        "# 구체적인 동작 자체는 def decode_sequence()에 구현.\n",
        "decoder_outputs_val, state_h, state_c = decoder_lstm(decoder_embadding_val, initial_state = decoder_states_inputs)\n",
        "# 현재 time step의 hidden state와 cell state를 하나의 변수에 저장.\n",
        "decoder_states_val = [state_h, state_c]\n",
        "\n",
        "decoder_outputs_val = decoder_softmax_layer(decoder_outputs_val)\n",
        "decoder_model = Model(inputs=[decoder_inputs] + decoder_states_inputs, outputs=[decoder_outputs_val] + decoder_states_val, name=\"teaching_model\")\n",
        "decoder_model.summary()\n",
        "\n",
        "###################################################<<<overfit>>>##################################################################\n",
        "\n",
        "overfit_encoder_model = Model(inputs = overfit_encoder_inputs, outputs = overfit_encoder_states)\n",
        "overfit_encoder_model.summary()\n",
        "\n",
        "# 이전 time step의 hidden state를 저장하는 텐서\n",
        "overfit_decoder_state_input_h = Input(shape=(HIDDEN_STATE_NUM,))\n",
        "# 이전 time step의 cell state를 저장하는 텐서\n",
        "overfit_decoder_state_input_c = Input(shape=(HIDDEN_STATE_NUM,))\n",
        "# 이전 time step의 hidden state와 cell state를 하나의 변수에 저장\n",
        "overfit_decoder_states_inputs = [overfit_decoder_state_input_h, overfit_decoder_state_input_c]\n",
        "\n",
        "overfit_decoder_embadding_val = overfit_decoder_embadding(overfit_decoder_inputs)\n",
        "\n",
        "# decoder_states_inputs를 현재 time step의 초기 상태로 사용.\n",
        "# 구체적인 동작 자체는 def decode_sequence()에 구현.\n",
        "overfit_decoder_outputs_val, overfit_state_h, overfit_state_c = overfit_decoder_lstm(overfit_decoder_embadding_val, initial_state = overfit_decoder_states_inputs)\n",
        "# 현재 time step의 hidden state와 cell state를 하나의 변수에 저장.\n",
        "overfit_decoder_states_val = [overfit_state_h, overfit_state_c]\n",
        "\n",
        "overfit_decoder_outputs_val = overfit_decoder_softmax_layer(overfit_decoder_outputs_val)\n",
        "overfit_decoder_model = Model(inputs=[overfit_decoder_inputs] + overfit_decoder_states_inputs, outputs=[overfit_decoder_outputs_val] + overfit_decoder_states_val, name=\"overfit_teaching_model\")\n",
        "overfit_decoder_model.summary()"
      ],
      "metadata": {
        "colab": {
          "base_uri": "https://localhost:8080/"
        },
        "id": "BEZRY1YZvA39",
        "outputId": "0c7187e7-aba4-4fac-975a-47fc2ec6931f"
      },
      "execution_count": 11,
      "outputs": [
        {
          "output_type": "stream",
          "name": "stdout",
          "text": [
            "Model: \"model\"\n",
            "_________________________________________________________________\n",
            " Layer (type)                Output Shape              Param #   \n",
            "=================================================================\n",
            " input_1 (InputLayer)        [(None, None)]            0         \n",
            "                                                                 \n",
            " embedding (Embedding)       (None, None, 256)         2132224   \n",
            "                                                                 \n",
            " masking (Masking)           (None, None, 256)         0         \n",
            "                                                                 \n",
            " lstm (LSTM)                 [(None, 256),             525312    \n",
            "                              (None, 256),                       \n",
            "                              (None, 256)]                       \n",
            "                                                                 \n",
            "=================================================================\n",
            "Total params: 2,657,536\n",
            "Trainable params: 2,657,536\n",
            "Non-trainable params: 0\n",
            "_________________________________________________________________\n",
            "Model: \"teaching_model\"\n",
            "__________________________________________________________________________________________________\n",
            " Layer (type)                   Output Shape         Param #     Connected to                     \n",
            "==================================================================================================\n",
            " input_2 (InputLayer)           [(None, None)]       0           []                               \n",
            "                                                                                                  \n",
            " embedding_1 (Embedding)        (None, None, 256)    3763712     ['input_2[0][0]']                \n",
            "                                                                                                  \n",
            " input_5 (InputLayer)           [(None, 256)]        0           []                               \n",
            "                                                                                                  \n",
            " input_6 (InputLayer)           [(None, 256)]        0           []                               \n",
            "                                                                                                  \n",
            " lstm_1 (LSTM)                  [(None, None, 256),  525312      ['embedding_1[1][0]',            \n",
            "                                 (None, 256),                     'input_5[0][0]',                \n",
            "                                 (None, 256)]                     'input_6[0][0]']                \n",
            "                                                                                                  \n",
            " dense (Dense)                  (None, None, 14702)  3778414     ['lstm_1[1][0]']                 \n",
            "                                                                                                  \n",
            "==================================================================================================\n",
            "Total params: 8,067,438\n",
            "Trainable params: 8,067,438\n",
            "Non-trainable params: 0\n",
            "__________________________________________________________________________________________________\n",
            "Model: \"model_1\"\n",
            "_________________________________________________________________\n",
            " Layer (type)                Output Shape              Param #   \n",
            "=================================================================\n",
            " input_3 (InputLayer)        [(None, None)]            0         \n",
            "                                                                 \n",
            " embedding_2 (Embedding)     (None, None, 256)         2132224   \n",
            "                                                                 \n",
            " masking_2 (Masking)         (None, None, 256)         0         \n",
            "                                                                 \n",
            " lstm_2 (LSTM)               [(None, 256),             525312    \n",
            "                              (None, 256),                       \n",
            "                              (None, 256)]                       \n",
            "                                                                 \n",
            "=================================================================\n",
            "Total params: 2,657,536\n",
            "Trainable params: 2,657,536\n",
            "Non-trainable params: 0\n",
            "_________________________________________________________________\n",
            "Model: \"overfit_teaching_model\"\n",
            "__________________________________________________________________________________________________\n",
            " Layer (type)                   Output Shape         Param #     Connected to                     \n",
            "==================================================================================================\n",
            " input_4 (InputLayer)           [(None, None)]       0           []                               \n",
            "                                                                                                  \n",
            " embedding_3 (Embedding)        (None, None, 256)    3763712     ['input_4[0][0]']                \n",
            "                                                                                                  \n",
            " input_7 (InputLayer)           [(None, 256)]        0           []                               \n",
            "                                                                                                  \n",
            " input_8 (InputLayer)           [(None, 256)]        0           []                               \n",
            "                                                                                                  \n",
            " lstm_3 (LSTM)                  [(None, None, 256),  525312      ['embedding_3[1][0]',            \n",
            "                                 (None, 256),                     'input_7[0][0]',                \n",
            "                                 (None, 256)]                     'input_8[0][0]']                \n",
            "                                                                                                  \n",
            " dense_1 (Dense)                (None, None, 14702)  3778414     ['lstm_3[1][0]']                 \n",
            "                                                                                                  \n",
            "==================================================================================================\n",
            "Total params: 8,067,438\n",
            "Trainable params: 8,067,438\n",
            "Non-trainable params: 0\n",
            "__________________________________________________________________________________________________\n"
          ]
        }
      ]
    },
    {
      "cell_type": "markdown",
      "source": [
        "학습이 과적합된 모델 혹은 아닌모델 두 경우의 teaching forcing을 구현하였다."
      ],
      "metadata": {
        "id": "6_PrcpfDvBDR"
      }
    },
    {
      "cell_type": "code",
      "source": [
        "eng2idx = eng_tokenizer.word_index\n",
        "fra2idx = fra_tokenizer.word_index\n",
        "idx2eng = eng_tokenizer.index_word\n",
        "idx2fra = fra_tokenizer.index_word"
      ],
      "metadata": {
        "id": "m1Soi1Am0_wy"
      },
      "execution_count": 12,
      "outputs": []
    },
    {
      "cell_type": "markdown",
      "source": [
        "단어 -> 인덱스, 인덱스 -> 단어에 해당하는 데이터 생성"
      ],
      "metadata": {
        "id": "9Q_oqPgi0_5C"
      }
    },
    {
      "cell_type": "code",
      "source": [
        "def decode_sequence(input_seq, encoder_model, decoder_model):\n",
        "    # 입력으로부터 인코더의 상태를 얻음\n",
        "    states_value = encoder_model.predict(input_seq)\n",
        "\n",
        "    # <SOS>에 해당하는 원-핫 벡터 생성\n",
        "    target_seq = np.zeros((1, 1))\n",
        "    target_seq[0, 0] = fra2idx[SOS_TOKEN]\n",
        "\n",
        "    stop_condition = False\n",
        "    decoded_sentence = \"\"\n",
        "\n",
        "    # stop_condition이 True가 될 때까지 루프 반복\n",
        "    while not stop_condition:\n",
        "        # 이점 시점의 상태 states_value를 현 시점의 초기 상태로 사용\n",
        "        output_tokens, h, c = decoder_model.predict([target_seq] + states_value)\n",
        "\n",
        "        # 예측 결과를 문자로 변환\n",
        "        sampled_token_index = np.argmax(output_tokens[0, -1, :])\n",
        "        sampled_char = idx2fra[sampled_token_index]\n",
        "\n",
        "        # 현재 시점의 예측 문자를 예측 문장에 추가\n",
        "        decoded_sentence += \" \" + sampled_char\n",
        "\n",
        "        # <eos>에 도달하거나 최대 길이를 넘으면 중단.\n",
        "        if (sampled_char == EOS_TOKEN or\n",
        "           len(decoded_sentence) > fit_kwargs[\"epochs\"]):\n",
        "            stop_condition = True\n",
        "\n",
        "        # 현재 시점의 예측 결과를 다음 시점의 입력으로 사용하기 위해 저장\n",
        "        target_seq = np.zeros((1, 1))\n",
        "        target_seq[0, 0] = sampled_token_index\n",
        "\n",
        "        # 현재 시점의 상태를 다음 시점의 상태로 사용하기 위해 저장\n",
        "        states_value = [h, c]\n",
        "\n",
        "    return decoded_sentence"
      ],
      "metadata": {
        "id": "wPvlKpzY1B5I"
      },
      "execution_count": 13,
      "outputs": []
    },
    {
      "cell_type": "markdown",
      "source": [
        "예제에 있던 코드를 가져왔으며 ont-hot vector에 해당하는 부분을 입/출력값에 맞게 조정하였다.<br>\n",
        "이번에는 과적합 여부에 관련된 모델의 출력값을 비교가 필요하므로<br>\n",
        "각 모델의 조건에 따라 결과값을 출력하는 함수로 변경하였다.<br>"
      ],
      "metadata": {
        "id": "EXgwX_Ff1CEc"
      }
    },
    {
      "cell_type": "code",
      "source": [
        "sample = 15\n",
        "input_seq = encoder_input_train[sample: sample + 1]\n",
        "\n",
        "print(\"-\" * 35)\n",
        "\n",
        "print(\"입력문장 :\", \"\".join([\n",
        "        idx2eng[encoded_word] + \" \"\n",
        "        for encoded_word in encoder_input_train[sample]\n",
        "        if encoded_word != 0\n",
        "    ])\n",
        ")\n",
        "print(\"정답문장 :\",  \"\".join([\n",
        "      idx2fra[encoded_word] + \" \"\n",
        "      for encoded_word in decoder_input_train[sample]\n",
        "      if encoded_word != 0 and encoded_word != fra2idx[SOS_TOKEN] and encoded_word != fra2idx[EOS_TOKEN]\n",
        "  ])\n",
        ")\n",
        "\n",
        "print(\"과적합이 안된 모델\")\n",
        "print(\"번역문장 :\",decode_sequence(input_seq, encoder_model, decoder_model)[1:-5])\n",
        "print(\"과적합된 모델\")\n",
        "print(\"번역문장 :\",decode_sequence(input_seq, overfit_encoder_model, overfit_decoder_model)[1:-5])\n",
        "\n",
        "print(\"-\" * 35)\n",
        "\n",
        "input_seq = encoder_input_test[sample: sample + 1]\n",
        "\n",
        "print(\"-\" * 35)\n",
        "\n",
        "print(\"입력문장 :\", \"\".join([\n",
        "        idx2eng[encoded_word] + \" \"\n",
        "        for encoded_word in encoder_input_test[sample]\n",
        "        if encoded_word != 0\n",
        "    ])\n",
        ")\n",
        "print(\"정답문장 :\",  \"\".join([\n",
        "      idx2fra[encoded_word] + \" \"\n",
        "      for encoded_word in decoder_input_test[sample]\n",
        "      if encoded_word != 0 and encoded_word != fra2idx[SOS_TOKEN] and encoded_word != fra2idx[EOS_TOKEN]\n",
        "  ])\n",
        ")\n",
        "\n",
        "print(\"과적합이 안된 모델\")\n",
        "print(\"번역문장 :\",decode_sequence(input_seq, encoder_model, decoder_model)[1:-5])\n",
        "print(\"과적합된 모델\")\n",
        "print(\"번역문장 :\",decode_sequence(input_seq, overfit_encoder_model, overfit_decoder_model)[1:-5])\n",
        "\n",
        "print(\"-\" * 35)"
      ],
      "metadata": {
        "colab": {
          "base_uri": "https://localhost:8080/"
        },
        "id": "S5eU9KvT1XZl",
        "outputId": "3cde0217-2eff-420e-cb8b-c69d0779a323"
      },
      "execution_count": 14,
      "outputs": [
        {
          "output_type": "stream",
          "name": "stdout",
          "text": [
            "-----------------------------------\n",
            "입력문장 : i ' ll make you some coffee . \n",
            "정답문장 : je vous ferai du café . \n",
            "과적합이 안된 모델\n",
            "1/1 [==============================] - 1s 1s/step\n",
            "1/1 [==============================] - 0s 328ms/step\n",
            "1/1 [==============================] - 0s 15ms/step\n",
            "1/1 [==============================] - 0s 17ms/step\n",
            "1/1 [==============================] - 0s 15ms/step\n",
            "1/1 [==============================] - 0s 14ms/step\n",
            "1/1 [==============================] - 0s 16ms/step\n",
            "1/1 [==============================] - 0s 14ms/step\n",
            "번역문장 : je vous ferai du café . \n",
            "과적합된 모델\n",
            "1/1 [==============================] - 1s 1s/step\n",
            "1/1 [==============================] - 1s 656ms/step\n",
            "1/1 [==============================] - 0s 15ms/step\n",
            "1/1 [==============================] - 0s 15ms/step\n",
            "1/1 [==============================] - 0s 15ms/step\n",
            "1/1 [==============================] - 0s 15ms/step\n",
            "1/1 [==============================] - 0s 15ms/step\n",
            "1/1 [==============================] - 0s 15ms/step\n",
            "번역문장 : je vous ferai du café . \n",
            "-----------------------------------\n",
            "-----------------------------------\n",
            "입력문장 : why is life so difficult ? \n",
            "정답문장 : pourquoi la vie est - elle si difficile ? \n",
            "과적합이 안된 모델\n",
            "1/1 [==============================] - 0s 15ms/step\n",
            "1/1 [==============================] - 0s 16ms/step\n",
            "1/1 [==============================] - 0s 15ms/step\n",
            "1/1 [==============================] - 0s 15ms/step\n",
            "1/1 [==============================] - 0s 16ms/step\n",
            "1/1 [==============================] - 0s 16ms/step\n",
            "1/1 [==============================] - 0s 14ms/step\n",
            "1/1 [==============================] - 0s 15ms/step\n",
            "1/1 [==============================] - 0s 15ms/step\n",
            "1/1 [==============================] - 0s 15ms/step\n",
            "1/1 [==============================] - 0s 16ms/step\n",
            "번역문장 : pourquoi est - ce que ça te manque ? \n",
            "과적합된 모델\n",
            "1/1 [==============================] - 0s 14ms/step\n",
            "1/1 [==============================] - 0s 15ms/step\n",
            "1/1 [==============================] - 0s 14ms/step\n",
            "1/1 [==============================] - 0s 16ms/step\n",
            "1/1 [==============================] - 0s 15ms/step\n",
            "1/1 [==============================] - 0s 15ms/step\n",
            "1/1 [==============================] - 0s 14ms/step\n",
            "1/1 [==============================] - 0s 15ms/step\n",
            "1/1 [==============================] - 0s 15ms/step\n",
            "1/1 [==============================] - 0s 15ms/step\n",
            "1/1 [==============================] - 0s 16ms/step\n",
            "1/1 [==============================] - 0s 15ms/step\n",
            "1/1 [==============================] - 0s 16ms/step\n",
            "번역문장 : pourquoi est - ce que la vie difficile de moi ? \n",
            "-----------------------------------\n"
          ]
        }
      ]
    },
    {
      "cell_type": "markdown",
      "source": [],
      "metadata": {
        "id": "E7-ju2Gp1Xko"
      }
    },
    {
      "cell_type": "markdown",
      "metadata": {
        "id": "Zsx8OVYGnM-s"
      },
      "source": [
        "### 회고\n"
      ]
    },
    {
      "cell_type": "markdown",
      "metadata": {
        "id": "2ngdabGo3j4l"
      },
      "source": [
        "- 학습된 데이터가 전체적으로 높은 정확도를 보여 미리 학습된 데이터의 중요성을 알게되었다.\n",
        "- 항상 학습된 데이터가 높은 정확도를 나타내는 것이 아니라 하이퍼파라미터의 튜닝에 따라 결과가 달라질 수 있다는 것을 알게 되었다.\n",
        "\n",
        "※ 이번 레포트는 양희성님의 모델구조의 조언으로 작성되었음을 알려드립니다.<br>\n",
        "   희성님에게 감사하다는 글을 남기며 이만 글을 마치겠습니다."
      ]
    }
  ],
  "metadata": {
    "accelerator": "GPU",
    "colab": {
      "machine_shape": "hm",
      "provenance": [],
      "include_colab_link": true
    },
    "gpuClass": "premium",
    "kernelspec": {
      "display_name": "Python 3.10.4 64-bit",
      "language": "python",
      "name": "python3"
    },
    "language_info": {
      "codemirror_mode": {
        "name": "ipython",
        "version": 3
      },
      "file_extension": ".py",
      "mimetype": "text/x-python",
      "name": "python",
      "nbconvert_exporter": "python",
      "pygments_lexer": "ipython3",
      "version": "3.10.4"
    },
    "vscode": {
      "interpreter": {
        "hash": "26de051ba29f2982a8de78e945f0abaf191376122a1563185a90213a26c5da77"
      }
    }
  },
  "nbformat": 4,
  "nbformat_minor": 0
}