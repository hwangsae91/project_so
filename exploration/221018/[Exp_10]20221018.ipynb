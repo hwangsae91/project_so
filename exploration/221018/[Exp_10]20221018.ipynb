{
  "cells": [
    {
      "cell_type": "markdown",
      "metadata": {
        "id": "view-in-github",
        "colab_type": "text"
      },
      "source": [
        "<a href=\"https://colab.research.google.com/github/hwangsae91/project_so/blob/master/exploration/221018/%5BExp_10%5D20221018.ipynb\" target=\"_parent\"><img src=\"https://colab.research.google.com/assets/colab-badge.svg\" alt=\"Open In Colab\"/></a>"
      ]
    },
    {
      "cell_type": "code",
      "execution_count": null,
      "metadata": {
        "colab": {
          "base_uri": "https://localhost:8080/"
        },
        "id": "302ZdfCKLlhI",
        "outputId": "42678e9e-a860-4fba-9934-36a190fd22a8"
      },
      "outputs": [
        {
          "output_type": "stream",
          "name": "stdout",
          "text": [
            "Drive already mounted at /content/drive; to attempt to forcibly remount, call drive.mount(\"/content/drive\", force_remount=True).\n"
          ]
        }
      ],
      "source": [
        "# google colab전용\n",
        "from google.colab import drive\n",
        "drive.mount('/content/drive')"
      ]
    },
    {
      "cell_type": "markdown",
      "metadata": {
        "id": "ujMb2MtyLrVQ"
      },
      "source": [
        "# exploration 10번째 과제\n",
        "@ 황한용(3기/쏘카)"
      ]
    },
    {
      "cell_type": "markdown",
      "metadata": {
        "id": "tdrfR8Y3L0ry"
      },
      "source": [
        "## 라이브러리 선언"
      ]
    },
    {
      "cell_type": "code",
      "execution_count": null,
      "metadata": {
        "id": "LWLP8EFSLqqp"
      },
      "outputs": [],
      "source": [
        "import os\n",
        "import matplotlib.pyplot as plt\n",
        "import numpy as np\n",
        "import pandas as pd\n",
        "import random\n",
        "import re\n",
        "import string # 구두점 정규화 표현식\n",
        "import tensorflow as tf\n",
        "\n",
        "from tensorflow.keras.callbacks import EarlyStopping\n",
        "from tensorflow.keras.preprocessing.text import Tokenizer\n",
        "from tensorflow.keras.utils import pad_sequences\n",
        "from tensorflow.keras.utils import to_categorical\n",
        "\n",
        "from tensorflow.keras.layers import Input, LSTM, Embedding, Dense, Masking\n",
        "from tensorflow.keras.models import Model"
      ]
    },
    {
      "cell_type": "markdown",
      "source": [
        "`tensorflow.keras.preprocessing.sequence.pad_sequences`는 모듈 위치가 변경되었으므로\n",
        "`tf.keras.utils.pad_sequences`로 변경<br>"
      ],
      "metadata": {
        "id": "dwTie8y2eOO0"
      }
    },
    {
      "cell_type": "markdown",
      "metadata": {
        "id": "4qC6hZWKL7x3"
      },
      "source": [
        "## 상수선언"
      ]
    },
    {
      "cell_type": "code",
      "execution_count": null,
      "metadata": {
        "id": "XcIjEEgnMD75"
      },
      "outputs": [],
      "source": [
        "BASE_PATH = \"/content/drive/MyDrive/Colab Notebooks/data/translator_seq2seq\" # 데이터 기본경로\n",
        "DATA_PATH  = BASE_PATH + \"/data/fra.txt\" # 사전 기본\n",
        "\n",
        "SOS_TOKEN = '<sos>' # 문장 시작토큰\n",
        "EOS_TOKEN = '<eos>' # 문장 끝 토큰\n",
        "\n",
        "MAX_SAMPLE_LEN = 88000 # 최대 단어갯수\n",
        "VALID_LEN = 8000 # 검증할 문장의 갯수\n",
        "PUNCTUATION_REGEX = r'[\\!\\\"\\#\\$\\%\\&\\'\\(\\)\\*\\+\\,\\-\\.\\/\\:\\;\\<\\=\\>\\?\\@\\[\\\\\\]\\^\\_\\`\\{\\|\\}\\~]' # 정규화\n",
        "FRENCH_WHITESPACE = r'[\\xa0\\u202f\\u2009]' # whitespace 정규화(1/4 whitespace 등의 대응)\n",
        "FRENCH_APOSTROPHE = r\"’\" # 프랑스어 '\n",
        "FRENCH_DOUBLE_COMMA = r\"'<<|>>'\" # 프랑스어 \"\n",
        "FRENCE_MINUS_REGEX = r\"\\—\" # 프랑스어 -\n",
        "\n",
        "HIDDEN_STATE_NUM = 256 # hidden state의 노드수\n",
        "EARLY_STOPPING = EarlyStopping(monitor=\"val_acc\", patience=3)\n",
        "\n",
        "fit_kwargs = {\n",
        "    \"epochs\":50 # epoch 횟수\n",
        "    , \"batch_size\":512\n",
        "    , \"callbacks\":EARLY_STOPPING\n",
        "    , \"validation_data\": None # 추후 추가예정\n",
        "    , \"shuffle\" : True # epoch당 셔플을 할지의 여부\n",
        "    , \"verbose\":1\n",
        "}"
      ]
    },
    {
      "cell_type": "markdown",
      "source": [
        "영어의 경우는 `string.punctuation`의 구두점을 활용하여 만들었다.<br>\n",
        "프랑스어의 경우는 문법에 따라 1/8, 1/4, 1/2 `whitespace`를 표준`whitespace`로 변경하였으며<br>\n",
        "`'`, `\"`, `-` 또한 표준으로 변경하였다.<br>\n",
        "알파벳의 악쌍(악센트, 성조)은 단어의 의미를 결정하는 요소이므로 제거하지 않았다."
      ],
      "metadata": {
        "id": "NtHICg5lZmae"
      }
    },
    {
      "cell_type": "markdown",
      "metadata": {
        "id": "l5DV1kd8MPes"
      },
      "source": [
        "## 메인"
      ]
    },
    {
      "cell_type": "markdown",
      "metadata": {
        "id": "B7XCWajZ0XIj"
      },
      "source": [
        "### 전처리"
      ]
    },
    {
      "cell_type": "code",
      "execution_count": null,
      "metadata": {
        "colab": {
          "base_uri": "https://localhost:8080/"
        },
        "id": "iwkvcfr7MPsm",
        "outputId": "5e2a8921-1721-4f01-a053-dabd30a45583"
      },
      "outputs": [
        {
          "output_type": "stream",
          "name": "stdout",
          "text": [
            "전체 샘플의 수 : 197463\n"
          ]
        }
      ],
      "source": [
        "lines = pd.read_csv(DATA_PATH, names=['eng', 'fra', 'cc'], sep='\\t')\n",
        "print('전체 샘플의 수 :',len(lines))\n",
        "lines.sample(5) #샘플 5개 출력\n",
        "lines.pop('cc')\n",
        "lines = lines.head(MAX_SAMPLE_LEN)"
      ]
    },
    {
      "cell_type": "markdown",
      "metadata": {
        "id": "iXm0KjWe845_"
      },
      "source": [
        "데이터에 대한 설명은 아래와 같다.</br>\n",
        "- eng: 영어문장\n",
        "- fra: 영어 문장에 해당되는 프랑스 문장\n",
        "- cc: 저작권 정보\n",
        "\n",
        "저작권 정보는 데이터 분석에 사용되지 않으므로 로드하지 않았다."
      ]
    },
    {
      "cell_type": "code",
      "execution_count": null,
      "metadata": {
        "colab": {
          "base_uri": "https://localhost:8080/"
        },
        "id": "971TB3kw845_",
        "outputId": "e227f037-4cc6-48b5-ab44-4ca3d3dcadab"
      },
      "outputs": [
        {
          "output_type": "stream",
          "name": "stdout",
          "text": [
            "영어 단어장의 크기 : 8329\n",
            "프랑스어 단어장의 크기 : 14702\n",
            "영어 시퀀스의 최대 길이 12\n",
            "프랑스어 시퀀스의 최대 길이 19\n"
          ]
        }
      ],
      "source": [
        "# 구두점(Punctuation)을 단어와 분리\n",
        "# 프랑스 문법에만 존재하는 whitespace -> 표준 whitespace로 변경\n",
        "lines[\"fra\"] = lines[\"fra\"].str.replace(FRENCH_WHITESPACE, r' ', regex=True)\n",
        "#프랑스 문법에만 존재하는 ’를 '로 변경\n",
        "lines[\"fra\"] = lines[\"fra\"].str.replace(FRENCH_APOSTROPHE, r\"'\", regex=True)\n",
        "# 프랑스 문법에만 존재하는 <<, >>를 \"로 변경\n",
        "lines[\"fra\"] = lines[\"fra\"].str.replace(FRENCH_DOUBLE_COMMA, r'\"', regex=True)\n",
        "# 프랑스 문법에만 존재하는 —를 -로 변경\n",
        "lines[\"fra\"] = lines[\"fra\"].str.replace(FRENCE_MINUS_REGEX, r\"-\", regex=True)\n",
        "\n",
        "# 구분점에 whitespace를 지음\n",
        "lines[\"fra\"] = lines[\"fra\"].str.replace(PUNCTUATION_REGEX, r' \\g<0> ', regex=True).replace(' +', ' ', regex=True).str.strip()\n",
        "lines[\"eng\"] = lines[\"eng\"].str.replace(PUNCTUATION_REGEX, r' \\g<0> ', regex=True).replace(' +', ' ', regex=True).str.strip()\n",
        "lines[\"fra\"] = lines[\"fra\"].str.replace(' +', ' ', regex=True)\n",
        "lines[\"eng\"] = lines[\"eng\"].str.replace(' +', ' ', regex=True)\n",
        "\n",
        "lines[\"fra_decoder_input\"] = f'{SOS_TOKEN} '+ lines[\"fra\"]\n",
        "lines[\"fra_decoder_target\"] = lines[\"fra\"] + f' {EOS_TOKEN}'\n",
        "lines[\"fra\"] = f'{SOS_TOKEN} '+ lines[\"fra\"] + f' {EOS_TOKEN}' # 양옆에 문장의 시작과 끝의 테그를 붙인다.\n",
        "\n",
        "lines[\"eng\"] = lines[\"eng\"].str.split()\n",
        "\n",
        "lines[\"fra\"] = lines[\"fra\"].str.split()\n",
        "lines[\"fra_decoder_input\"] = lines[\"fra_decoder_input\"].str.split()\n",
        "lines[\"fra_decoder_target\"] = lines[\"fra_decoder_target\"].str.split()\n",
        "\n",
        "eng_tokenizer = Tokenizer(filters=\"\")  # 문자 단위로 Tokenizer를 생성 \n",
        "eng_tokenizer.fit_on_texts(lines[\"eng\"])\n",
        "encoder_input = eng_tokenizer.texts_to_sequences(lines[\"eng\"])\n",
        "\n",
        "fra_tokenizer = Tokenizer(filters=\"\")\n",
        "fra_tokenizer.fit_on_texts(lines[\"fra\"])\n",
        "\n",
        "decoder_input = fra_tokenizer.texts_to_sequences(lines[\"fra_decoder_input\"])\n",
        "decoder_target = fra_tokenizer.texts_to_sequences(lines[\"fra_decoder_target\"])\n",
        "\n",
        "eng_vocab_size = len(eng_tokenizer.word_index) + 1\n",
        "fra_vocab_size = len(fra_tokenizer.word_index) + 1\n",
        "print('영어 단어장의 크기 :', eng_vocab_size)\n",
        "print('프랑스어 단어장의 크기 :', fra_vocab_size)\n",
        "\n",
        "max_eng_seq_len = max(map(len, encoder_input))\n",
        "max_fra_seq_len = max(map(len, decoder_input))\n",
        "print('영어 시퀀스의 최대 길이', max_eng_seq_len)\n",
        "print('프랑스어 시퀀스의 최대 길이', max_fra_seq_len)"
      ]
    },
    {
      "cell_type": "markdown",
      "source": [
        "영어문장와 프랑스문장를 각각 tokenize한 뒤<br>\n",
        "단어 사전의크기, 한 문장의 최대 단어 갯수를 확인<br>\n",
        "이 데이터는 후에 padding에 사용할 예정이다.<br>\n",
        "문장의 끝 토큰이 제거된 input과<br>\n",
        "문장의 시작 토큰이 제거된 output을 각각 데이터 프레임에서 생산하였으며<br>\n",
        "이번에는 구두점도 임배딩에 필요하므로 필터옵션을 통해 없어지지 않도록 설정하였다.<br>"
      ],
      "metadata": {
        "id": "ajtkCZfqI5ew"
      }
    },
    {
      "cell_type": "code",
      "source": [
        "encoder_input = pad_sequences(encoder_input, maxlen = max_eng_seq_len, padding='post')\n",
        "decoder_input = pad_sequences(decoder_input, maxlen = max_fra_seq_len, padding='post')\n",
        "decoder_target = pad_sequences(decoder_target, maxlen = max_fra_seq_len, padding='post')\n",
        "print('영어 데이터의 크기(shape) :',np.shape(encoder_input))\n",
        "print('프랑스어 입력데이터의 크기(shape) :',np.shape(decoder_input))\n",
        "print('프랑스어 출력데이터의 크기(shape) :',np.shape(decoder_target))"
      ],
      "metadata": {
        "colab": {
          "base_uri": "https://localhost:8080/"
        },
        "id": "aX-uCKCAK1FQ",
        "outputId": "5a82c5e7-ff3d-4b2d-b8a6-2b516022f354"
      },
      "execution_count": null,
      "outputs": [
        {
          "output_type": "stream",
          "name": "stdout",
          "text": [
            "영어 데이터의 크기(shape) : (88000, 12)\n",
            "프랑스어 입력데이터의 크기(shape) : (88000, 19)\n",
            "프랑스어 출력데이터의 크기(shape) : (88000, 19)\n"
          ]
        }
      ]
    },
    {
      "cell_type": "markdown",
      "source": [
        "각 언어의 최대 단어갯수에 맞춰 padding을 생성하였다.<br>\n",
        "(`문장의 갯수`,`각 언어의 문장당 단어 최대갯수`)모양의 데이터가 생성되었다.\n"
      ],
      "metadata": {
        "id": "D9kNM2TiK1RF"
      }
    },
    {
      "cell_type": "code",
      "execution_count": null,
      "metadata": {
        "id": "HbFIKeNV_L8U",
        "colab": {
          "base_uri": "https://localhost:8080/"
        },
        "outputId": "adb644ae-1c6c-490d-df8b-3f7d3fc56d4f"
      },
      "outputs": [
        {
          "output_type": "stream",
          "name": "stdout",
          "text": [
            "[ 230   28 2615    1    0    0    0    0    0    0    0    0]\n",
            "[   1 1227   89 4927    3    0    0    0    0    0    0    0    0    0\n",
            "    0    0    0    0    0]\n",
            "[1227   89 4927    3    2    0    0    0    0    0    0    0    0    0\n",
            "    0    0    0    0    0]\n"
          ]
        }
      ],
      "source": [
        "shuffle_idx  = np.arange(MAX_SAMPLE_LEN)\n",
        "np.random.shuffle(shuffle_idx)\n",
        "\n",
        "encoder_input = encoder_input[shuffle_idx]\n",
        "decoder_input = decoder_input[shuffle_idx]\n",
        "decoder_target = decoder_target[shuffle_idx]\n",
        "\n",
        "print(encoder_input[3])\n",
        "print(decoder_input[3])\n",
        "print(decoder_target[3])\n",
        "\n",
        "encoder_input_train = encoder_input[:-VALID_LEN]\n",
        "decoder_input_train = decoder_input[:-VALID_LEN]\n",
        "decoder_target_train = decoder_target[:-VALID_LEN]\n",
        "\n",
        "encoder_input_test = encoder_input[-VALID_LEN:]\n",
        "decoder_input_test = decoder_input[-VALID_LEN:]\n",
        "decoder_target_test = decoder_target[-VALID_LEN:]"
      ]
    },
    {
      "cell_type": "markdown",
      "metadata": {
        "id": "cQlTE3xms-k0"
      },
      "source": [
        "과적합 방지를 위해 학습과 점증을 10:1비율로 나누었다.<br>\n",
        "문장셈플은 인덱스를 렌덤값을 통해 섞어서 순서를 바꿨으며<br>\n",
        "임의로 하나의 값을 뽑았을 시<br>\n",
        "`decoder_input`과 `decoder_target`의 값은 `<sos>`, `<eos>`의 차이이므로 올바르게 섞인것을 확인할 수 있다.<br>"
      ]
    },
    {
      "cell_type": "markdown",
      "metadata": {
        "id": "Iu9puDTo_MRT"
      },
      "source": [
        "### 모델 설계"
      ]
    },
    {
      "cell_type": "markdown",
      "source": [
        "#### running rate가 기본값인 모델"
      ],
      "metadata": {
        "id": "XDQWHvL74DO0"
      }
    },
    {
      "cell_type": "code",
      "execution_count": null,
      "metadata": {
        "id": "2qbNBHBm0LLy",
        "colab": {
          "base_uri": "https://localhost:8080/"
        },
        "outputId": "82a7b0d6-3387-4cb2-fa16-de81bc58c6c5"
      },
      "outputs": [
        {
          "output_type": "stream",
          "name": "stdout",
          "text": [
            "Model: \"seq2seq_model\"\n",
            "__________________________________________________________________________________________________\n",
            " Layer (type)                   Output Shape         Param #     Connected to                     \n",
            "==================================================================================================\n",
            " input_1 (InputLayer)           [(None, None)]       0           []                               \n",
            "                                                                                                  \n",
            " input_2 (InputLayer)           [(None, None)]       0           []                               \n",
            "                                                                                                  \n",
            " embedding (Embedding)          (None, None, 256)    2132224     ['input_1[0][0]']                \n",
            "                                                                                                  \n",
            " embedding_1 (Embedding)        (None, None, 256)    3763712     ['input_2[0][0]']                \n",
            "                                                                                                  \n",
            " masking (Masking)              (None, None, 256)    0           ['embedding[0][0]']              \n",
            "                                                                                                  \n",
            " masking_1 (Masking)            (None, None, 256)    0           ['embedding_1[0][0]']            \n",
            "                                                                                                  \n",
            " lstm (LSTM)                    [(None, 256),        525312      ['masking[0][0]']                \n",
            "                                 (None, 256),                                                     \n",
            "                                 (None, 256)]                                                     \n",
            "                                                                                                  \n",
            " lstm_1 (LSTM)                  [(None, None, 256),  525312      ['masking_1[0][0]',              \n",
            "                                 (None, 256),                     'lstm[0][1]',                   \n",
            "                                 (None, 256)]                     'lstm[0][2]']                   \n",
            "                                                                                                  \n",
            " dense (Dense)                  (None, None, 14702)  3778414     ['lstm_1[0][0]']                 \n",
            "                                                                                                  \n",
            "==================================================================================================\n",
            "Total params: 10,724,974\n",
            "Trainable params: 10,724,974\n",
            "Non-trainable params: 0\n",
            "__________________________________________________________________________________________________\n"
          ]
        }
      ],
      "source": [
        "encoder_inputs = Input(shape=(None,))\n",
        "encoder_embadding = Embedding(eng_vocab_size, HIDDEN_STATE_NUM)\n",
        "encoder_masking = Masking(mask_value=0.0)(encoder_embadding(encoder_inputs))\n",
        "encoder_lstm = LSTM(units=HIDDEN_STATE_NUM, return_state = True)\n",
        "encoder_outputs, state_h, state_c = encoder_lstm(encoder_masking)\n",
        "encoder_states = [state_h, state_c]\n",
        "\n",
        "decoder_inputs = Input(shape=(None, ))\n",
        "decoder_embadding = Embedding(fra_vocab_size, HIDDEN_STATE_NUM)\n",
        "decoder_masking = Masking(mask_value=0.0)(decoder_embadding(decoder_inputs))\n",
        "decoder_lstm = LSTM(units=HIDDEN_STATE_NUM, return_sequences = True, return_state=True)\n",
        "decoder_outputs, _, _= decoder_lstm(decoder_masking, initial_state = encoder_states)\n",
        "\n",
        "decoder_softmax_layer = Dense(fra_vocab_size, activation='softmax')\n",
        "decoder_outputs = decoder_softmax_layer(decoder_outputs)\n",
        "\n",
        "model = Model([encoder_inputs, decoder_inputs], decoder_outputs, name=\"seq2seq_model\")\n",
        "model.compile(\n",
        "    optimizer=tf.keras.optimizers.Adam()\n",
        "    , loss=\"sparse_categorical_crossentropy\", metrics=['acc']\n",
        ")\n",
        "model.summary()"
      ]
    },
    {
      "cell_type": "markdown",
      "source": [
        "encorder는 영어를 프랑스어로 번역하기 위한 레이어이므로<br>\n",
        "decorder의 input에 맞게 모델을 구성하였으며<br>\n",
        "one-hot 인코딩을 하지 않은 상태이므로 `sparse_categorical_crossentropy`로 설정하였다."
      ],
      "metadata": {
        "id": "yDMdVE5Grafh"
      }
    },
    {
      "cell_type": "markdown",
      "source": [
        "#### running rate가 높은 모델(overfitting이 될 가능성이 있음)"
      ],
      "metadata": {
        "id": "W-F9UWIh4bbK"
      }
    },
    {
      "cell_type": "code",
      "source": [
        "overfit_encoder_inputs = Input(shape=(None,))\n",
        "overfit_encoder_embadding = Embedding(eng_vocab_size, HIDDEN_STATE_NUM)\n",
        "overfit_encoder_masking = Masking(mask_value=0.0)(overfit_encoder_embadding(overfit_encoder_inputs))\n",
        "overfit_encoder_lstm = LSTM(units=HIDDEN_STATE_NUM, return_state = True)\n",
        "overfit_encoder_outputs, overfit_state_h, overfit_state_c = overfit_encoder_lstm(overfit_encoder_masking)\n",
        "overfit_encoder_states = [overfit_state_h, overfit_state_c]\n",
        "\n",
        "overfit_decoder_inputs = Input(shape=(None, ))\n",
        "overfit_decoder_embadding = Embedding(fra_vocab_size, HIDDEN_STATE_NUM)\n",
        "overfit_decoder_masking = Masking(mask_value=0.0)(overfit_decoder_embadding(overfit_decoder_inputs))\n",
        "overfit_decoder_lstm = LSTM(units=HIDDEN_STATE_NUM, return_sequences = True, return_state=True)\n",
        "overfit_decoder_outputs, _, _= overfit_decoder_lstm(overfit_decoder_masking, initial_state = overfit_encoder_states)\n",
        "\n",
        "overfit_decoder_softmax_layer = Dense(fra_vocab_size, activation='softmax')\n",
        "overfit_decoder_outputs = overfit_decoder_softmax_layer(overfit_decoder_outputs)\n",
        "\n",
        "overfit_model = Model([overfit_encoder_inputs, overfit_decoder_inputs], overfit_decoder_outputs, name=\"overfit_seq2seq_model\")\n",
        "overfit_model.compile(\n",
        "    optimizer=tf.keras.optimizers.Adam(learning_rate=0.005)\n",
        "    , loss=\"sparse_categorical_crossentropy\", metrics=['acc']\n",
        ")\n",
        "overfit_model.summary()"
      ],
      "metadata": {
        "colab": {
          "base_uri": "https://localhost:8080/"
        },
        "id": "Op3kYHQE4Xcu",
        "outputId": "4feecacf-5f4f-47f1-a93f-4ab260dbf958"
      },
      "execution_count": null,
      "outputs": [
        {
          "output_type": "stream",
          "name": "stdout",
          "text": [
            "Model: \"overfit_seq2seq_model\"\n",
            "__________________________________________________________________________________________________\n",
            " Layer (type)                   Output Shape         Param #     Connected to                     \n",
            "==================================================================================================\n",
            " input_3 (InputLayer)           [(None, None)]       0           []                               \n",
            "                                                                                                  \n",
            " input_4 (InputLayer)           [(None, None)]       0           []                               \n",
            "                                                                                                  \n",
            " embedding_2 (Embedding)        (None, None, 256)    2132224     ['input_3[0][0]']                \n",
            "                                                                                                  \n",
            " embedding_3 (Embedding)        (None, None, 256)    3763712     ['input_4[0][0]']                \n",
            "                                                                                                  \n",
            " masking_2 (Masking)            (None, None, 256)    0           ['embedding_2[0][0]']            \n",
            "                                                                                                  \n",
            " masking_3 (Masking)            (None, None, 256)    0           ['embedding_3[0][0]']            \n",
            "                                                                                                  \n",
            " lstm_2 (LSTM)                  [(None, 256),        525312      ['masking_2[0][0]']              \n",
            "                                 (None, 256),                                                     \n",
            "                                 (None, 256)]                                                     \n",
            "                                                                                                  \n",
            " lstm_3 (LSTM)                  [(None, None, 256),  525312      ['masking_3[0][0]',              \n",
            "                                 (None, 256),                     'lstm_2[0][1]',                 \n",
            "                                 (None, 256)]                     'lstm_2[0][2]']                 \n",
            "                                                                                                  \n",
            " dense_1 (Dense)                (None, None, 14702)  3778414     ['lstm_3[0][0]']                 \n",
            "                                                                                                  \n",
            "==================================================================================================\n",
            "Total params: 10,724,974\n",
            "Trainable params: 10,724,974\n",
            "Non-trainable params: 0\n",
            "__________________________________________________________________________________________________\n"
          ]
        }
      ]
    },
    {
      "cell_type": "markdown",
      "source": [
        "running rate를 기존의 값인 0.001보다 5배 높혔다."
      ],
      "metadata": {
        "id": "nRrqhFjb5sZO"
      }
    },
    {
      "cell_type": "markdown",
      "source": [
        "### 학습"
      ],
      "metadata": {
        "id": "ajgB-k1RFH1X"
      }
    },
    {
      "cell_type": "code",
      "source": [
        "fit_kwargs[\"validation_data\"] = ([encoder_input_test, decoder_input_test], decoder_target_test)\n",
        "\n",
        "history_dict = model.fit(\n",
        "                         x=[encoder_input_train, decoder_input_train]\n",
        "                         , y=decoder_target_train\n",
        "                         , **fit_kwargs).history\n",
        "\n",
        "overfit_history_dict = overfit_model.fit(\n",
        "                            x=[encoder_input_train, decoder_input_train]\n",
        "                            , y=decoder_target_train\n",
        "                            , **fit_kwargs).history\n",
        "\n",
        "loss = history_dict['loss']\n",
        "val_loss = history_dict['val_loss']\n",
        "overfit_loss = overfit_history_dict['loss']\n",
        "overfit_val_loss = overfit_history_dict['val_loss']\n",
        "\n",
        "epoch = range(1, len(loss) + 1)\n",
        "\n",
        "plt.plot(epoch, loss, 'bo', label='Training loss')\n",
        "plt.plot(epoch, val_loss, 'b', label='Validation loss')\n",
        "plt.plot(epoch, loss, 'ro', label='Overfit training loss')\n",
        "plt.plot(epoch, val_loss, 'r', label='Overfit validation loss')\n",
        "plt.title('Training and validation loss')\n",
        "plt.xlabel('Epochs')\n",
        "plt.ylabel('Loss')\n",
        "plt.legend()\n",
        "plt.show()"
      ],
      "metadata": {
        "colab": {
          "base_uri": "https://localhost:8080/",
          "height": 1000
        },
        "id": "hy1iw1_slsf3",
        "outputId": "fa63957e-ccfb-45f4-a35e-325fd40ac722"
      },
      "execution_count": null,
      "outputs": [
        {
          "output_type": "stream",
          "name": "stdout",
          "text": [
            "Epoch 1/50\n",
            "157/157 [==============================] - 35s 170ms/step - loss: 2.9128 - acc: 0.6106 - val_loss: 2.0677 - val_acc: 0.6485\n",
            "Epoch 2/50\n",
            "157/157 [==============================] - 25s 161ms/step - loss: 1.8320 - acc: 0.7134 - val_loss: 1.6623 - val_acc: 0.7383\n",
            "Epoch 3/50\n",
            "157/157 [==============================] - 25s 157ms/step - loss: 1.5353 - acc: 0.7519 - val_loss: 1.4689 - val_acc: 0.7639\n",
            "Epoch 4/50\n",
            "157/157 [==============================] - 24s 155ms/step - loss: 1.3880 - acc: 0.7730 - val_loss: 1.3584 - val_acc: 0.7772\n",
            "Epoch 5/50\n",
            "157/157 [==============================] - 25s 158ms/step - loss: 1.2734 - acc: 0.7871 - val_loss: 1.2497 - val_acc: 0.7933\n",
            "Epoch 6/50\n",
            "157/157 [==============================] - 25s 157ms/step - loss: 1.1664 - acc: 0.8026 - val_loss: 1.1637 - val_acc: 0.8049\n",
            "Epoch 7/50\n",
            "157/157 [==============================] - 25s 157ms/step - loss: 1.0774 - acc: 0.8132 - val_loss: 1.0900 - val_acc: 0.8146\n",
            "Epoch 8/50\n",
            "157/157 [==============================] - 25s 158ms/step - loss: 1.0019 - acc: 0.8226 - val_loss: 1.0315 - val_acc: 0.8221\n",
            "Epoch 9/50\n",
            "157/157 [==============================] - 25s 158ms/step - loss: 0.9331 - acc: 0.8312 - val_loss: 0.9756 - val_acc: 0.8287\n",
            "Epoch 10/50\n",
            "157/157 [==============================] - 25s 158ms/step - loss: 0.8675 - acc: 0.8395 - val_loss: 0.9220 - val_acc: 0.8351\n",
            "Epoch 11/50\n",
            "157/157 [==============================] - 25s 158ms/step - loss: 0.8046 - acc: 0.8476 - val_loss: 0.8722 - val_acc: 0.8417\n",
            "Epoch 12/50\n",
            "157/157 [==============================] - 25s 158ms/step - loss: 0.7456 - acc: 0.8551 - val_loss: 0.8248 - val_acc: 0.8488\n",
            "Epoch 13/50\n",
            "157/157 [==============================] - 25s 158ms/step - loss: 0.6892 - acc: 0.8625 - val_loss: 0.7851 - val_acc: 0.8543\n",
            "Epoch 14/50\n",
            "157/157 [==============================] - 25s 158ms/step - loss: 0.6354 - acc: 0.8701 - val_loss: 0.7455 - val_acc: 0.8592\n",
            "Epoch 15/50\n",
            "157/157 [==============================] - 25s 158ms/step - loss: 0.5843 - acc: 0.8776 - val_loss: 0.7108 - val_acc: 0.8645\n",
            "Epoch 16/50\n",
            "157/157 [==============================] - 25s 158ms/step - loss: 0.5375 - acc: 0.8846 - val_loss: 0.6790 - val_acc: 0.8695\n",
            "Epoch 17/50\n",
            "157/157 [==============================] - 25s 158ms/step - loss: 0.4936 - acc: 0.8917 - val_loss: 0.6531 - val_acc: 0.8734\n",
            "Epoch 18/50\n",
            "157/157 [==============================] - 25s 158ms/step - loss: 0.4539 - acc: 0.8984 - val_loss: 0.6280 - val_acc: 0.8771\n",
            "Epoch 19/50\n",
            "157/157 [==============================] - 25s 158ms/step - loss: 0.4180 - acc: 0.9046 - val_loss: 0.6080 - val_acc: 0.8805\n",
            "Epoch 20/50\n",
            "157/157 [==============================] - 25s 158ms/step - loss: 0.3861 - acc: 0.9103 - val_loss: 0.5909 - val_acc: 0.8838\n",
            "Epoch 21/50\n",
            "157/157 [==============================] - 25s 158ms/step - loss: 0.3565 - acc: 0.9157 - val_loss: 0.5756 - val_acc: 0.8858\n",
            "Epoch 22/50\n",
            "157/157 [==============================] - 25s 158ms/step - loss: 0.3301 - acc: 0.9207 - val_loss: 0.5629 - val_acc: 0.8884\n",
            "Epoch 23/50\n",
            "157/157 [==============================] - 25s 158ms/step - loss: 0.3069 - acc: 0.9251 - val_loss: 0.5528 - val_acc: 0.8892\n",
            "Epoch 24/50\n",
            "157/157 [==============================] - 25s 158ms/step - loss: 0.2857 - acc: 0.9295 - val_loss: 0.5449 - val_acc: 0.8911\n",
            "Epoch 25/50\n",
            "157/157 [==============================] - 25s 158ms/step - loss: 0.2667 - acc: 0.9331 - val_loss: 0.5377 - val_acc: 0.8926\n",
            "Epoch 26/50\n",
            "157/157 [==============================] - 25s 158ms/step - loss: 0.2492 - acc: 0.9369 - val_loss: 0.5291 - val_acc: 0.8947\n",
            "Epoch 27/50\n",
            "157/157 [==============================] - 25s 158ms/step - loss: 0.2337 - acc: 0.9402 - val_loss: 0.5251 - val_acc: 0.8948\n",
            "Epoch 28/50\n",
            "157/157 [==============================] - 25s 158ms/step - loss: 0.2202 - acc: 0.9429 - val_loss: 0.5237 - val_acc: 0.8956\n",
            "Epoch 29/50\n",
            "157/157 [==============================] - 25s 158ms/step - loss: 0.2078 - acc: 0.9451 - val_loss: 0.5176 - val_acc: 0.8967\n",
            "Epoch 30/50\n",
            "157/157 [==============================] - 25s 158ms/step - loss: 0.1958 - acc: 0.9476 - val_loss: 0.5163 - val_acc: 0.8975\n",
            "Epoch 31/50\n",
            "157/157 [==============================] - 25s 158ms/step - loss: 0.1857 - acc: 0.9497 - val_loss: 0.5144 - val_acc: 0.8979\n",
            "Epoch 32/50\n",
            "157/157 [==============================] - 25s 158ms/step - loss: 0.1762 - acc: 0.9517 - val_loss: 0.5134 - val_acc: 0.8982\n",
            "Epoch 33/50\n",
            "157/157 [==============================] - 25s 158ms/step - loss: 0.1672 - acc: 0.9535 - val_loss: 0.5145 - val_acc: 0.8984\n",
            "Epoch 34/50\n",
            "157/157 [==============================] - 25s 158ms/step - loss: 0.1594 - acc: 0.9549 - val_loss: 0.5141 - val_acc: 0.8994\n",
            "Epoch 35/50\n",
            "157/157 [==============================] - 25s 158ms/step - loss: 0.1523 - acc: 0.9564 - val_loss: 0.5162 - val_acc: 0.8990\n",
            "Epoch 36/50\n",
            "157/157 [==============================] - 25s 158ms/step - loss: 0.1456 - acc: 0.9577 - val_loss: 0.5154 - val_acc: 0.8994\n",
            "Epoch 37/50\n",
            "157/157 [==============================] - 25s 158ms/step - loss: 0.1392 - acc: 0.9591 - val_loss: 0.5155 - val_acc: 0.9000\n",
            "Epoch 38/50\n",
            "157/157 [==============================] - 25s 158ms/step - loss: 0.1330 - acc: 0.9603 - val_loss: 0.5164 - val_acc: 0.8996\n",
            "Epoch 39/50\n",
            "157/157 [==============================] - 25s 158ms/step - loss: 0.1281 - acc: 0.9614 - val_loss: 0.5187 - val_acc: 0.8996\n",
            "Epoch 40/50\n",
            "157/157 [==============================] - 25s 158ms/step - loss: 0.1226 - acc: 0.9625 - val_loss: 0.5200 - val_acc: 0.9004\n",
            "Epoch 41/50\n",
            "157/157 [==============================] - 25s 158ms/step - loss: 0.1181 - acc: 0.9634 - val_loss: 0.5203 - val_acc: 0.9007\n",
            "Epoch 42/50\n",
            "157/157 [==============================] - 25s 158ms/step - loss: 0.1136 - acc: 0.9643 - val_loss: 0.5238 - val_acc: 0.9005\n",
            "Epoch 43/50\n",
            "157/157 [==============================] - 25s 159ms/step - loss: 0.1093 - acc: 0.9651 - val_loss: 0.5249 - val_acc: 0.9001\n",
            "Epoch 44/50\n",
            "157/157 [==============================] - 25s 158ms/step - loss: 0.1056 - acc: 0.9660 - val_loss: 0.5268 - val_acc: 0.9002\n",
            "Epoch 1/50\n",
            "157/157 [==============================] - 33s 170ms/step - loss: 2.2868 - acc: 0.6739 - val_loss: 1.7410 - val_acc: 0.7362\n",
            "Epoch 2/50\n",
            "157/157 [==============================] - 25s 157ms/step - loss: 1.4831 - acc: 0.7724 - val_loss: 1.3523 - val_acc: 0.7896\n",
            "Epoch 3/50\n",
            "157/157 [==============================] - 25s 156ms/step - loss: 1.1830 - acc: 0.8057 - val_loss: 1.0911 - val_acc: 0.8156\n",
            "Epoch 4/50\n",
            "157/157 [==============================] - 25s 157ms/step - loss: 0.9211 - acc: 0.8331 - val_loss: 0.8764 - val_acc: 0.8406\n",
            "Epoch 5/50\n",
            "157/157 [==============================] - 25s 158ms/step - loss: 0.7199 - acc: 0.8579 - val_loss: 0.7388 - val_acc: 0.8606\n",
            "Epoch 6/50\n",
            "157/157 [==============================] - 25s 158ms/step - loss: 0.5719 - acc: 0.8790 - val_loss: 0.6482 - val_acc: 0.8738\n",
            "Epoch 7/50\n",
            "157/157 [==============================] - 25s 158ms/step - loss: 0.4613 - acc: 0.8961 - val_loss: 0.5897 - val_acc: 0.8841\n",
            "Epoch 8/50\n",
            "157/157 [==============================] - 25s 158ms/step - loss: 0.3792 - acc: 0.9097 - val_loss: 0.5519 - val_acc: 0.8905\n",
            "Epoch 9/50\n",
            "157/157 [==============================] - 25s 158ms/step - loss: 0.3181 - acc: 0.9208 - val_loss: 0.5292 - val_acc: 0.8940\n",
            "Epoch 10/50\n",
            "157/157 [==============================] - 25s 158ms/step - loss: 0.2714 - acc: 0.9296 - val_loss: 0.5165 - val_acc: 0.8966\n",
            "Epoch 11/50\n",
            "157/157 [==============================] - 25s 158ms/step - loss: 0.2359 - acc: 0.9370 - val_loss: 0.5075 - val_acc: 0.8984\n",
            "Epoch 12/50\n",
            "157/157 [==============================] - 25s 158ms/step - loss: 0.2083 - acc: 0.9427 - val_loss: 0.5030 - val_acc: 0.8996\n",
            "Epoch 13/50\n",
            "157/157 [==============================] - 25s 158ms/step - loss: 0.1864 - acc: 0.9473 - val_loss: 0.5034 - val_acc: 0.9007\n",
            "Epoch 14/50\n",
            "157/157 [==============================] - 25s 158ms/step - loss: 0.1692 - acc: 0.9508 - val_loss: 0.5047 - val_acc: 0.9022\n",
            "Epoch 15/50\n",
            "157/157 [==============================] - 25s 158ms/step - loss: 0.1544 - acc: 0.9541 - val_loss: 0.5065 - val_acc: 0.9025\n",
            "Epoch 16/50\n",
            "157/157 [==============================] - 25s 158ms/step - loss: 0.1420 - acc: 0.9571 - val_loss: 0.5097 - val_acc: 0.9026\n",
            "Epoch 17/50\n",
            "157/157 [==============================] - 25s 158ms/step - loss: 0.1325 - acc: 0.9590 - val_loss: 0.5155 - val_acc: 0.9031\n",
            "Epoch 18/50\n",
            "157/157 [==============================] - 25s 158ms/step - loss: 0.1240 - acc: 0.9609 - val_loss: 0.5231 - val_acc: 0.9032\n",
            "Epoch 19/50\n",
            "157/157 [==============================] - 25s 158ms/step - loss: 0.1170 - acc: 0.9625 - val_loss: 0.5265 - val_acc: 0.9024\n",
            "Epoch 20/50\n",
            "157/157 [==============================] - 25s 158ms/step - loss: 0.1107 - acc: 0.9639 - val_loss: 0.5344 - val_acc: 0.9030\n",
            "Epoch 21/50\n",
            "157/157 [==============================] - 25s 158ms/step - loss: 0.1052 - acc: 0.9650 - val_loss: 0.5381 - val_acc: 0.9028\n"
          ]
        },
        {
          "output_type": "display_data",
          "data": {
            "text/plain": [
              "<Figure size 432x288 with 1 Axes>"
            ],
            "image/png": "[encoded data removed]"
          },
          "metadata": {
            "needs_background": "light"
          }
        }
      ]
    },
    {
      "cell_type": "markdown",
      "metadata": {
        "id": "XNQ9W93B0LUx"
      },
      "source": [
        "입력값은 똑같이 적용하였으며<br>\n",
        "여러번의 실험의 결과 validation accuracy의 값이 90%이상이면<br>\n",
        "대체로 비슷한 문장이 나오므로 early stopping의 기준으로 잡았다.<br>\n",
        "학습결과\n",
        "- running rate에 상관없이 둘다 똑같은 그래프의 모양이다.\n",
        "- epoch이 8 이후부터 train loss, validation loss의 차이가 드러나며<br>\n",
        "validation loss는 약 epoch 20을 기점으로 내려가지 않는다.\n",
        "\n",
        "라는 결과를 알 수 있다."
      ]
    },
    {
      "cell_type": "markdown",
      "source": [
        "### 검증\n"
      ],
      "metadata": {
        "id": "mv2-aMcEvAs7"
      }
    },
    {
      "cell_type": "code",
      "source": [
        "###################################################<<<nomal>>>##################################################################\n",
        "\n",
        "encoder_model = Model(inputs = encoder_inputs, outputs = encoder_states)\n",
        "encoder_model.summary()\n",
        "\n",
        "# 이전 time step의 hidden state를 저장하는 텐서\n",
        "decoder_state_input_h = Input(shape=(HIDDEN_STATE_NUM,))\n",
        "# 이전 time step의 cell state를 저장하는 텐서\n",
        "decoder_state_input_c = Input(shape=(HIDDEN_STATE_NUM,))\n",
        "# 이전 time step의 hidden state와 cell state를 하나의 변수에 저장\n",
        "decoder_states_inputs = [decoder_state_input_h, decoder_state_input_c]\n",
        "\n",
        "decoder_embadding_val = decoder_embadding(decoder_inputs)\n",
        "\n",
        "# decoder_states_inputs를 현재 time step의 초기 상태로 사용.\n",
        "# 구체적인 동작 자체는 def decode_sequence()에 구현.\n",
        "decoder_outputs_val, state_h, state_c = decoder_lstm(decoder_embadding_val, initial_state = decoder_states_inputs)\n",
        "# 현재 time step의 hidden state와 cell state를 하나의 변수에 저장.\n",
        "decoder_states_val = [state_h, state_c]\n",
        "\n",
        "decoder_outputs_val = decoder_softmax_layer(decoder_outputs_val)\n",
        "decoder_model = Model(inputs=[decoder_inputs] + decoder_states_inputs, outputs=[decoder_outputs_val] + decoder_states_val, name=\"teaching_model\")\n",
        "decoder_model.summary()\n",
        "\n",
        "###################################################<<<overfit>>>##################################################################\n",
        "\n",
        "overfit_encoder_model = Model(inputs = overfit_encoder_inputs, outputs = overfit_encoder_states)\n",
        "overfit_encoder_model.summary()\n",
        "\n",
        "# 이전 time step의 hidden state를 저장하는 텐서\n",
        "overfit_decoder_state_input_h = Input(shape=(HIDDEN_STATE_NUM,))\n",
        "# 이전 time step의 cell state를 저장하는 텐서\n",
        "overfit_decoder_state_input_c = Input(shape=(HIDDEN_STATE_NUM,))\n",
        "# 이전 time step의 hidden state와 cell state를 하나의 변수에 저장\n",
        "overfit_decoder_states_inputs = [overfit_decoder_state_input_h, overfit_decoder_state_input_c]\n",
        "\n",
        "overfit_decoder_embadding_val = overfit_decoder_embadding(overfit_decoder_inputs)\n",
        "\n",
        "# decoder_states_inputs를 현재 time step의 초기 상태로 사용.\n",
        "# 구체적인 동작 자체는 def decode_sequence()에 구현.\n",
        "overfit_decoder_outputs_val, overfit_state_h, overfit_state_c = overfit_decoder_lstm(overfit_decoder_embadding_val, initial_state = overfit_decoder_states_inputs)\n",
        "# 현재 time step의 hidden state와 cell state를 하나의 변수에 저장.\n",
        "overfit_decoder_states_val = [overfit_state_h, overfit_state_c]\n",
        "\n",
        "overfit_decoder_outputs_val = overfit_decoder_softmax_layer(overfit_decoder_outputs_val)\n",
        "overfit_decoder_model = Model(inputs=[overfit_decoder_inputs] + overfit_decoder_states_inputs, outputs=[overfit_decoder_outputs_val] + overfit_decoder_states_val, name=\"overfit_teaching_model\")\n",
        "overfit_decoder_model.summary()"
      ],
      "metadata": {
        "colab": {
          "base_uri": "https://localhost:8080/"
        },
        "id": "BEZRY1YZvA39",
        "outputId": "5019886d-d9ca-4005-86ff-beec2723c343"
      },
      "execution_count": null,
      "outputs": [
        {
          "output_type": "stream",
          "name": "stdout",
          "text": [
            "Model: \"model\"\n",
            "_________________________________________________________________\n",
            " Layer (type)                Output Shape              Param #   \n",
            "=================================================================\n",
            " input_1 (InputLayer)        [(None, None)]            0         \n",
            "                                                                 \n",
            " embedding (Embedding)       (None, None, 256)         2132224   \n",
            "                                                                 \n",
            " masking (Masking)           (None, None, 256)         0         \n",
            "                                                                 \n",
            " lstm (LSTM)                 [(None, 256),             525312    \n",
            "                              (None, 256),                       \n",
            "                              (None, 256)]                       \n",
            "                                                                 \n",
            "=================================================================\n",
            "Total params: 2,657,536\n",
            "Trainable params: 2,657,536\n",
            "Non-trainable params: 0\n",
            "_________________________________________________________________\n",
            "Model: \"teaching_model\"\n",
            "__________________________________________________________________________________________________\n",
            " Layer (type)                   Output Shape         Param #     Connected to                     \n",
            "==================================================================================================\n",
            " input_2 (InputLayer)           [(None, None)]       0           []                               \n",
            "                                                                                                  \n",
            " embedding_1 (Embedding)        (None, None, 256)    3763712     ['input_2[0][0]']                \n",
            "                                                                                                  \n",
            " input_5 (InputLayer)           [(None, 256)]        0           []                               \n",
            "                                                                                                  \n",
            " input_6 (InputLayer)           [(None, 256)]        0           []                               \n",
            "                                                                                                  \n",
            " lstm_1 (LSTM)                  [(None, None, 256),  525312      ['embedding_1[1][0]',            \n",
            "                                 (None, 256),                     'input_5[0][0]',                \n",
            "                                 (None, 256)]                     'input_6[0][0]']                \n",
            "                                                                                                  \n",
            " dense (Dense)                  (None, None, 14702)  3778414     ['lstm_1[1][0]']                 \n",
            "                                                                                                  \n",
            "==================================================================================================\n",
            "Total params: 8,067,438\n",
            "Trainable params: 8,067,438\n",
            "Non-trainable params: 0\n",
            "__________________________________________________________________________________________________\n",
            "Model: \"model_1\"\n",
            "_________________________________________________________________\n",
            " Layer (type)                Output Shape              Param #   \n",
            "=================================================================\n",
            " input_3 (InputLayer)        [(None, None)]            0         \n",
            "                                                                 \n",
            " embedding_2 (Embedding)     (None, None, 256)         2132224   \n",
            "                                                                 \n",
            " masking_2 (Masking)         (None, None, 256)         0         \n",
            "                                                                 \n",
            " lstm_2 (LSTM)               [(None, 256),             525312    \n",
            "                              (None, 256),                       \n",
            "                              (None, 256)]                       \n",
            "                                                                 \n",
            "=================================================================\n",
            "Total params: 2,657,536\n",
            "Trainable params: 2,657,536\n",
            "Non-trainable params: 0\n",
            "_________________________________________________________________\n",
            "Model: \"overfit_teaching_model\"\n",
            "__________________________________________________________________________________________________\n",
            " Layer (type)                   Output Shape         Param #     Connected to                     \n",
            "==================================================================================================\n",
            " input_4 (InputLayer)           [(None, None)]       0           []                               \n",
            "                                                                                                  \n",
            " embedding_3 (Embedding)        (None, None, 256)    3763712     ['input_4[0][0]']                \n",
            "                                                                                                  \n",
            " input_7 (InputLayer)           [(None, 256)]        0           []                               \n",
            "                                                                                                  \n",
            " input_8 (InputLayer)           [(None, 256)]        0           []                               \n",
            "                                                                                                  \n",
            " lstm_3 (LSTM)                  [(None, None, 256),  525312      ['embedding_3[1][0]',            \n",
            "                                 (None, 256),                     'input_7[0][0]',                \n",
            "                                 (None, 256)]                     'input_8[0][0]']                \n",
            "                                                                                                  \n",
            " dense_1 (Dense)                (None, None, 14702)  3778414     ['lstm_3[1][0]']                 \n",
            "                                                                                                  \n",
            "==================================================================================================\n",
            "Total params: 8,067,438\n",
            "Trainable params: 8,067,438\n",
            "Non-trainable params: 0\n",
            "__________________________________________________________________________________________________\n"
          ]
        }
      ]
    },
    {
      "cell_type": "markdown",
      "source": [
        "두 model에 맞는 teaching forcing을 구현하였다."
      ],
      "metadata": {
        "id": "6_PrcpfDvBDR"
      }
    },
    {
      "cell_type": "code",
      "source": [
        "eng2idx = eng_tokenizer.word_index\n",
        "fra2idx = fra_tokenizer.word_index\n",
        "idx2eng = eng_tokenizer.index_word\n",
        "idx2fra = fra_tokenizer.index_word"
      ],
      "metadata": {
        "id": "m1Soi1Am0_wy"
      },
      "execution_count": null,
      "outputs": []
    },
    {
      "cell_type": "markdown",
      "source": [
        "단어 -> 인덱스, 인덱스 -> 단어에 해당하는 데이터 생성"
      ],
      "metadata": {
        "id": "9Q_oqPgi0_5C"
      }
    },
    {
      "cell_type": "code",
      "source": [
        "def decode_sequence(input_seq, encoder_model, decoder_model):\n",
        "    # 입력으로부터 인코더의 상태를 얻음\n",
        "    states_value = encoder_model.predict(input_seq)\n",
        "\n",
        "    # <SOS>에 해당하는 원-핫 벡터 생성\n",
        "    target_seq = np.zeros((1, 1))\n",
        "    target_seq[0, 0] = fra2idx[SOS_TOKEN]\n",
        "\n",
        "    stop_condition = False\n",
        "    decoded_sentence = \"\"\n",
        "\n",
        "    # stop_condition이 True가 될 때까지 루프 반복\n",
        "    while not stop_condition:\n",
        "        # 이점 시점의 상태 states_value를 현 시점의 초기 상태로 사용\n",
        "        output_tokens, h, c = decoder_model.predict([target_seq] + states_value)\n",
        "\n",
        "        # 예측 결과를 문자로 변환\n",
        "        sampled_token_index = np.argmax(output_tokens[0, -1, :])\n",
        "        sampled_char = idx2fra[sampled_token_index]\n",
        "\n",
        "        # 현재 시점의 예측 문자를 예측 문장에 추가\n",
        "        decoded_sentence += \" \" + sampled_char\n",
        "\n",
        "        # <eos>에 도달하거나 최대 길이를 넘으면 중단.\n",
        "        if (sampled_char == EOS_TOKEN or\n",
        "           len(decoded_sentence) > fit_kwargs[\"epochs\"]):\n",
        "            stop_condition = True\n",
        "\n",
        "        # 현재 시점의 예측 결과를 다음 시점의 입력으로 사용하기 위해 저장\n",
        "        target_seq = np.zeros((1, 1))\n",
        "        target_seq[0, 0] = sampled_token_index\n",
        "\n",
        "        # 현재 시점의 상태를 다음 시점의 상태로 사용하기 위해 저장\n",
        "        states_value = [h, c]\n",
        "\n",
        "    return decoded_sentence"
      ],
      "metadata": {
        "id": "wPvlKpzY1B5I"
      },
      "execution_count": null,
      "outputs": []
    },
    {
      "cell_type": "markdown",
      "source": [
        "예제에 있던 코드를 가져왔으며 ont-hot vector에 해당하는 부분을 입/출력값에 맞게 조정하였다.<br>\n",
        "이번에는 각 모델의 학습에 따른 출력값을 비교가 필요하므로<br>\n",
        "각 모델을 파라미터로 받아 번역하는 함수로 수정하였다.<br>"
      ],
      "metadata": {
        "id": "EXgwX_Ff1CEc"
      }
    },
    {
      "cell_type": "code",
      "source": [
        "sample = 15\n",
        "input_seq = encoder_input_train[sample: sample + 1]\n",
        "\n",
        "print(\"-\" * 35)\n",
        "\n",
        "print(\"입력문장 :\", \"\".join([\n",
        "        idx2eng[encoded_word] + \" \"\n",
        "        for encoded_word in encoder_input_train[sample]\n",
        "        if encoded_word != 0\n",
        "    ])\n",
        ")\n",
        "print(\"정답문장 :\",  \"\".join([\n",
        "      idx2fra[encoded_word] + \" \"\n",
        "      for encoded_word in decoder_input_train[sample]\n",
        "      if encoded_word != 0 and encoded_word != fra2idx[SOS_TOKEN] and encoded_word != fra2idx[EOS_TOKEN]\n",
        "  ])\n",
        ")\n",
        "\n",
        "print(\"과적합이 안된 모델\")\n",
        "print(\"번역문장 :\",decode_sequence(input_seq, encoder_model, decoder_model)[1:-5])\n",
        "print(\"과적합된 모델\")\n",
        "print(\"번역문장 :\",decode_sequence(input_seq, overfit_encoder_model, overfit_decoder_model)[1:-5])\n",
        "\n",
        "print(\"-\" * 35)\n",
        "\n",
        "input_seq = encoder_input_test[sample: sample + 1]\n",
        "\n",
        "print(\"-\" * 35)\n",
        "\n",
        "print(\"입력문장 :\", \"\".join([\n",
        "        idx2eng[encoded_word] + \" \"\n",
        "        for encoded_word in encoder_input_test[sample]\n",
        "        if encoded_word != 0\n",
        "    ])\n",
        ")\n",
        "print(\"정답문장 :\",  \"\".join([\n",
        "      idx2fra[encoded_word] + \" \"\n",
        "      for encoded_word in decoder_input_test[sample]\n",
        "      if encoded_word != 0 and encoded_word != fra2idx[SOS_TOKEN] and encoded_word != fra2idx[EOS_TOKEN]\n",
        "  ])\n",
        ")\n",
        "\n",
        "print(\"과적합이 안된 모델\")\n",
        "print(\"번역문장 :\",decode_sequence(input_seq, encoder_model, decoder_model)[1:-5])\n",
        "print(\"과적합된 모델\")\n",
        "print(\"번역문장 :\",decode_sequence(input_seq, overfit_encoder_model, overfit_decoder_model)[1:-5])\n",
        "\n",
        "print(\"-\" * 35)"
      ],
      "metadata": {
        "colab": {
          "base_uri": "https://localhost:8080/"
        },
        "id": "S5eU9KvT1XZl",
        "outputId": "45366d06-3922-4f7d-b0c1-ca2b4400d93f"
      },
      "execution_count": null,
      "outputs": [
        {
          "output_type": "stream",
          "name": "stdout",
          "text": [
            "-----------------------------------\n",
            "입력문장 : i told tom i hated him . \n",
            "정답문장 : j ' ai dit à tom que je le détestais . \n",
            "과적합이 안된 모델\n",
            "1/1 [==============================] - 1s 1s/step\n",
            "1/1 [==============================] - 0s 347ms/step\n",
            "1/1 [==============================] - 0s 16ms/step\n",
            "1/1 [==============================] - 0s 14ms/step\n",
            "1/1 [==============================] - 0s 15ms/step\n",
            "1/1 [==============================] - 0s 14ms/step\n",
            "1/1 [==============================] - 0s 14ms/step\n",
            "1/1 [==============================] - 0s 15ms/step\n",
            "1/1 [==============================] - 0s 15ms/step\n",
            "1/1 [==============================] - 0s 15ms/step\n",
            "1/1 [==============================] - 0s 14ms/step\n",
            "1/1 [==============================] - 0s 18ms/step\n",
            "1/1 [==============================] - 0s 15ms/step\n",
            "번역문장 : j ' ai dit à tom que je le détestais . \n",
            "과적합된 모델\n",
            "1/1 [==============================] - 1s 1s/step\n",
            "1/1 [==============================] - 0s 334ms/step\n",
            "1/1 [==============================] - 0s 15ms/step\n",
            "1/1 [==============================] - 0s 15ms/step\n",
            "1/1 [==============================] - 0s 15ms/step\n",
            "1/1 [==============================] - 0s 15ms/step\n",
            "1/1 [==============================] - 0s 15ms/step\n",
            "1/1 [==============================] - 0s 16ms/step\n",
            "1/1 [==============================] - 0s 15ms/step\n",
            "1/1 [==============================] - 0s 15ms/step\n",
            "1/1 [==============================] - 0s 15ms/step\n",
            "1/1 [==============================] - 0s 14ms/step\n",
            "1/1 [==============================] - 0s 14ms/step\n",
            "번역문장 : j ' ai dit à tom que je le détestais . \n",
            "-----------------------------------\n",
            "-----------------------------------\n",
            "입력문장 : i ' m not here to fight . \n",
            "정답문장 : je ne suis pas là pour me bagarrer . \n",
            "과적합이 안된 모델\n",
            "1/1 [==============================] - 0s 15ms/step\n",
            "1/1 [==============================] - 0s 15ms/step\n",
            "1/1 [==============================] - 0s 15ms/step\n",
            "1/1 [==============================] - 0s 15ms/step\n",
            "1/1 [==============================] - 0s 15ms/step\n",
            "1/1 [==============================] - 0s 14ms/step\n",
            "1/1 [==============================] - 0s 14ms/step\n",
            "1/1 [==============================] - 0s 16ms/step\n",
            "1/1 [==============================] - 0s 17ms/step\n",
            "1/1 [==============================] - 0s 15ms/step\n",
            "1/1 [==============================] - 0s 15ms/step\n",
            "번역문장 : je ne suis pas là pour me battre . \n",
            "과적합된 모델\n",
            "1/1 [==============================] - 0s 14ms/step\n",
            "1/1 [==============================] - 0s 15ms/step\n",
            "1/1 [==============================] - 0s 15ms/step\n",
            "1/1 [==============================] - 0s 14ms/step\n",
            "1/1 [==============================] - 0s 14ms/step\n",
            "1/1 [==============================] - 0s 14ms/step\n",
            "1/1 [==============================] - 0s 15ms/step\n",
            "1/1 [==============================] - 0s 15ms/step\n",
            "1/1 [==============================] - 0s 14ms/step\n",
            "1/1 [==============================] - 0s 15ms/step\n",
            "1/1 [==============================] - 0s 14ms/step\n",
            "번역문장 : je ne suis pas là pour me battre . \n",
            "-----------------------------------\n"
          ]
        }
      ]
    },
    {
      "cell_type": "markdown",
      "source": [
        "train의 데이터, test의 데이터에서 랜덤으로 셈플을 추출했으며<br>\n",
        "train의 경우에는 정답과 똑같은 문장이 나와서 번역기를 통해 해석을 하지 않았다.<br>\n",
        "test의 경우에는 마지막 단어가 다르므로 번역기를 통해 해석을 하였다.<br>\n",
        "두 문장이 똑같으므로 결과사진을 1장만 첨부하였으며 내용은 아래와 같다.<br>\n",
        "![trans.png](data:image/png;base64,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)\n",
        "프랑스 원문의 1인칭 단수 구어 `bagarrer`가 1인칭 단수`battre`로 변경되었으며<br>두 단어 동등한 의미미므로 정확히 해석했다고 할 수 있다.<br>\n",
        "※ 위에서 전처리중 문장을 랜덤으로 섞는 코드로 인하여 인덱스가 고정값이여도<br>\n",
        "구동할때마다 선택하는 문장이 달라진다."
      ],
      "metadata": {
        "id": "E7-ju2Gp1Xko"
      }
    },
    {
      "cell_type": "markdown",
      "metadata": {
        "id": "Zsx8OVYGnM-s"
      },
      "source": [
        "### 회고\n"
      ]
    },
    {
      "cell_type": "markdown",
      "metadata": {
        "id": "2ngdabGo3j4l"
      },
      "source": [
        "이전에 여러번 학습의 경험으로 통해 과학습이 된 번역기가 평균적으로 결과가 높게 나와서 과학습이 된 모델이 정확한 번역을 한다는 가정을 하였지만 early stopping을 적용하게 됨으로써 두 모델 다 좋은 결과를 얻게되었다.<br>\n",
        "early stopping의 기능을 잊어먹은 대가로 3일정도 시간을 소비한게 안타까울 따름이다."
      ]
    }
  ],
  "metadata": {
    "accelerator": "GPU",
    "colab": {
      "machine_shape": "hm",
      "provenance": [],
      "include_colab_link": true
    },
    "gpuClass": "premium",
    "kernelspec": {
      "display_name": "Python 3.10.4 64-bit",
      "language": "python",
      "name": "python3"
    },
    "language_info": {
      "codemirror_mode": {
        "name": "ipython",
        "version": 3
      },
      "file_extension": ".py",
      "mimetype": "text/x-python",
      "name": "python",
      "nbconvert_exporter": "python",
      "pygments_lexer": "ipython3",
      "version": "3.10.4"
    },
    "vscode": {
      "interpreter": {
        "hash": "26de051ba29f2982a8de78e945f0abaf191376122a1563185a90213a26c5da77"
      }
    }
  },
  "nbformat": 4,
  "nbformat_minor": 0
}