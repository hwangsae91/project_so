{
 "cells": [
  {
   "cell_type": "markdown",
   "metadata": {
    "id": "ujMb2MtyLrVQ"
   },
   "source": [
    "# exploration 11번째 과제\n",
    "@ 황한용(3기/쏘카)"
   ]
  },
  {
   "cell_type": "markdown",
   "metadata": {
    "id": "tdrfR8Y3L0ry"
   },
   "source": [
    "## 라이브러리 선언"
   ]
  },
  {
   "cell_type": "code",
   "execution_count": 1,
   "metadata": {
    "id": "LWLP8EFSLqqp"
   },
   "outputs": [],
   "source": [
    "import os\n",
    "import glob\n",
    "import time\n",
    "\n",
    "import PIL\n",
    "import imageio\n",
    "import numpy as np\n",
    "from numpy.random import randn\n",
    "import tensorflow as tf\n",
    "from tensorflow import keras\n",
    "from tensorflow.keras.optimizers import Adam\n",
    "from tensorflow.keras.layers import (BatchNormalization, Conv2D, Conv2DTranspose\n",
    "                                     , Dense, Dropout, Flatten, LeakyReLU, Reshape)\n",
    "from IPython import display\n",
    "from matplotlib.pylab import rcParams\n",
    "rcParams['figure.figsize'] = 15, 6 \n",
    "import matplotlib.pyplot as plt\n",
    "%matplotlib inline"
   ]
  },
  {
   "cell_type": "markdown",
   "metadata": {
    "id": "4qC6hZWKL7x3"
   },
   "source": [
    "## 상수선언"
   ]
  },
  {
   "cell_type": "code",
   "execution_count": 2,
   "metadata": {
    "id": "XcIjEEgnMD75"
   },
   "outputs": [],
   "source": [
    "BASE_PATH = \"/content/drive/MyDrive/Colab Notebooks/data/gen\"\n",
    "SAMPLE_PATH = BASE_PATH + \"/generated_samples/sample_epoch_{:04d}_iter_{:03d}.png\"\n",
    "TRAIN_PATH = BASE_PATH + \"/training_history/train_history_{:04d}.png\"\n",
    "CHECKPOINT_PREFIX_PATH = BASE_PATH + \"/training_checkpoints\"\n",
    "GIF_PATH = BASE_PATH + \"/dcgan_v1.gif\"\n",
    "BATCH_SIZE = 256 # rgb_len\n",
    "V2_LR = 0.0002\n",
    "TRAIN_SAVE_EVERY = 5\n",
    "NOISE_DIM = 100 # random sample image dim\n",
    "GEN_SAMPLE_NUM = 16\n",
    "CROSS_ENTROPY = keras.losses.BinaryCrossentropy(from_logits=True)\n",
    "V1_OPTIMIZER_KWARG = dict(learning_rate=1e-4)\n",
    "V2_OPTIMIZER_KWARG = dict(learning_rate=V2_LR, beta_1=0.5)"
   ]
  },
  {
   "cell_type": "markdown",
   "metadata": {},
   "source": [
    "## 함수"
   ]
  },
  {
   "cell_type": "code",
   "execution_count": 3,
   "metadata": {},
   "outputs": [],
   "source": [
    "def make_generator_model_v1():\n",
    "\t\"\"\" 기존의 모델 \"\"\"\n",
    "\t# Start\n",
    "\tmodel = keras.Sequential(name=\"v1_gen_model\")\n",
    "\n",
    "    # First: Dense layer\n",
    "\tmodel.add(Dense(8*8*256, use_bias=False, input_shape=(NOISE_DIM,)))\n",
    "\tmodel.add(BatchNormalization())\n",
    "\tmodel.add(LeakyReLU())\n",
    "\n",
    "\t# Second: Reshape layer\n",
    "\tmodel.add(Reshape((8, 8, 256)))\n",
    "\n",
    "\t# Third: Conv2DTranspose layer\n",
    "\tmodel.add(Conv2DTranspose(128, kernel_size=(5, 5), strides=(1, 1), padding='same', use_bias=False))\n",
    "\tmodel.add(BatchNormalization())\n",
    "\tmodel.add(LeakyReLU())\n",
    "\n",
    "\t# Fourth: Conv2DTranspose layer\n",
    "\tmodel.add(Conv2DTranspose(64, kernel_size=(5, 5), strides=(2, 2), padding='same', use_bias=False))\n",
    "\tmodel.add(BatchNormalization())\n",
    "\tmodel.add(LeakyReLU())\n",
    "\n",
    "\t# Fifth: Conv2DTranspose layer\n",
    "\tmodel.add(Conv2DTranspose(3, kernel_size=(5, 5), strides=(2, 2), padding='same', use_bias=False, \\\n",
    "\t                                 activation='tanh'))\n",
    "\n",
    "\treturn model\n",
    "\n",
    "def make_discriminator_model_v1():\n",
    "\t\"\"\" 기존의 판별자 모델 \"\"\"\n",
    "\t# Start\n",
    "\tmodel = tf.keras.Sequential(name=\"v1_disc_model\")\n",
    "\n",
    "\t# First: Conv2D Layer\n",
    "\tmodel.add(Conv2D(64, (3, 3), strides=(2, 2), padding='same', input_shape=[32, 32, 3]))\n",
    "\tmodel.add(LeakyReLU())\n",
    "\tmodel.add(Dropout(0.3))\n",
    "\n",
    "\t# Second: Conv2D Layer\n",
    "\tmodel.add(Conv2D(128, (3, 3), strides=(2, 2), padding='same'))\n",
    "\tmodel.add(LeakyReLU())\n",
    "\tmodel.add(Dropout(0.3))\n",
    "\n",
    "\t# Third: Flatten Layer\n",
    "\tmodel.add(Flatten())\n",
    "\n",
    "\t# Fourth: Dense Layer\n",
    "\tmodel.add(Dense(1))\n",
    "\n",
    "\treturn model\n",
    "\n",
    "def generator_loss(fake_output):\n",
    "    return CROSS_ENTROPY(tf.ones_like(fake_output), fake_output)\n",
    "\n",
    "def discriminator_loss(real_output, fake_output):\n",
    "    real_loss = CROSS_ENTROPY(tf.ones_like(real_output), real_output)\n",
    "    fake_loss = CROSS_ENTROPY(tf.zeros_like(fake_output), fake_output)\n",
    "    total_loss = real_loss + fake_loss\n",
    "    return total_loss\n",
    "\n",
    "def discriminator_accuracy(real_output, fake_output):\n",
    "    real_accuracy = tf.reduce_mean(tf.cast(tf.math.greater_equal(real_output, tf.constant([0.5])), tf.float32))\n",
    "    fake_accuracy = tf.reduce_mean(tf.cast(tf.math.less(fake_output, tf.constant([0.5])), tf.float32))\n",
    "    return real_accuracy, fake_accuracy\n",
    "\n",
    "def generate_and_save_images(model, epoch, it, sample_seeds):\n",
    "    predictions = model(sample_seeds, training=False)\n",
    "\n",
    "    fig = plt.figure(figsize=(4, 4))\n",
    "    for i in range(predictions.shape[0]):\n",
    "        plt.subplot(4, 4, i+1)\n",
    "        plt.imshow((predictions[i]+1) /2)\n",
    "        plt.axis('off')\n",
    "   \n",
    "    plt.savefig(SAMPLE_PATH.format(epoch, it))\n",
    "\n",
    "    plt.show()\n",
    "\n",
    "def draw_train_history(history, epoch):\n",
    "    # summarize history for loss  \n",
    "    plt.subplot(211)  \n",
    "    plt.plot(history['gen_loss'])  \n",
    "    plt.plot(history['disc_loss'])  \n",
    "    plt.title('model loss')  \n",
    "    plt.ylabel('loss')  \n",
    "    plt.xlabel('batch iters')  \n",
    "    plt.legend(['gen_loss', 'disc_loss'], loc='upper left')  \n",
    "\n",
    "    # summarize history for accuracy  \n",
    "    plt.subplot(212)  \n",
    "    plt.plot(history['fake_accuracy'])  \n",
    "    plt.plot(history['real_accuracy'])  \n",
    "    plt.title('discriminator accuracy')  \n",
    "    plt.ylabel('accuracy')  \n",
    "    plt.xlabel('batch iters')  \n",
    "    plt.legend(['fake_accuracy', 'real_accuracy'], loc='upper left')  \n",
    "    \n",
    "    # training_history 디렉토리에 epoch별로 그래프를 이미지 파일로 저장합니다.\n",
    "    plt.savefig(TRAIN_PATH.format(os.getenv('HOME'), epoch))\n",
    "    plt.show()\n",
    "\n",
    "def train_v1(dataset, seed, checkpoint, save_every, epochs=300):\n",
    "\tgenerator = make_generator_model_v1()\n",
    "\tdiscriminator = make_discriminator_model_v1()\n",
    "\n",
    "\t@tf.function\n",
    "\tdef train_step(images):  #(1) 입력데이터\n",
    "\t\tnoise = tf.random.normal([BATCH_SIZE, NOISE_DIM])  #(2) 생성자 입력 노이즈\n",
    "\n",
    "\t\twith tf.GradientTape() as gen_tape, tf.GradientTape() as disc_tape:  #(3) tf.GradientTape() 오픈\n",
    "\t\t\tgenerated_images = generator(noise, training=True)  #(4) generated_images 생성\n",
    "\n",
    "\t\t\t#(5) discriminator 판별\n",
    "\t\t\treal_output = discriminator(images, training=True)\n",
    "\t\t\tfake_output = discriminator(generated_images, training=True)\n",
    "\n",
    "\t\t\t#(6) loss 계산\n",
    "\t\t\tgen_loss = generator_loss(fake_output)\n",
    "\t\t\tdisc_loss = discriminator_loss(real_output, fake_output)\n",
    "\n",
    "\t\t\t#(7) accuracy 계산\n",
    "\t\t\treal_accuracy, fake_accuracy = discriminator_accuracy(real_output, fake_output) \n",
    "\t\t\n",
    "\t\t#(8) gradient 계산\n",
    "\t\tgradients_of_generator = gen_tape.gradient(gen_loss, generator.trainable_variables)\n",
    "\t\tgradients_of_discriminator = disc_tape.gradient(disc_loss, discriminator.trainable_variables)\n",
    "\n",
    "\t\t#(9) 모델 학습\n",
    "\t\tAdam(**V1_OPTIMIZER_KWARG).apply_gradients(zip(gradients_of_generator, generator.trainable_variables))\n",
    "\t\tAdam(**V1_OPTIMIZER_KWARG).apply_gradients(zip(gradients_of_discriminator, discriminator.trainable_variables))\n",
    "\n",
    "\t\treturn gen_loss, disc_loss, real_accuracy, fake_accuracy  #(10) 리턴값\n",
    "\n",
    "\n",
    "\tstart = time.time()\n",
    "\thistory = {'gen_loss':[], 'disc_loss':[], 'real_accuracy':[], 'fake_accuracy':[]}\n",
    "\n",
    "\tfor epoch in range(epochs):\n",
    "\t\tepoch_start = time.time()\n",
    "\t\tfor it, image_batch in enumerate(dataset):\n",
    "\t\t\tgen_loss, disc_loss, real_accuracy, fake_accuracy = train_step(image_batch)\n",
    "\t\t\thistory['gen_loss'].append(gen_loss)\n",
    "\t\t\thistory['disc_loss'].append(disc_loss)\n",
    "\t\t\thistory['real_accuracy'].append(real_accuracy)\n",
    "\t\t\thistory['fake_accuracy'].append(fake_accuracy)\n",
    "\n",
    "\t\t\tif it % 50 == 0:\n",
    "\t\t\t\tdisplay.clear_output(wait=True)\n",
    "\t\t\t\tgenerate_and_save_images(generator, epoch+1, it+1, seed)\n",
    "\t\t\t\tprint('Epoch {} | iter {}'.format(epoch+1, it+1))\n",
    "\t\t\t\tprint('Time for epoch {} : {} sec'.format(epoch+1, int(time.time()-epoch_start)))\n",
    "\n",
    "\t\tif (epoch + 1) % save_every == 0:\n",
    "\t\t\tcheckpoint.save(file_prefix=CHECKPOINT_PREFIX_PATH)\n",
    "\n",
    "\t\tdisplay.clear_output(wait=True)\n",
    "\t\tgenerate_and_save_images(generator, epochs, it, seed)\n",
    "\t\tprint('Time for training : {} sec'.format(int(time.time()-start)))\n",
    "\n",
    "\t\tdraw_train_history(history, epoch)\n",
    "\n",
    "######################################################### 개선된 모델 #########################################################\n",
    "\n",
    "def make_generator_model_v2():\n",
    "\t\"\"\" 개선된 모델 \"\"\"\n",
    "\tmodel = keras.Sequential(name=\"v2_gen_model\")\n",
    "\t# foundation for 4x4 image\n",
    "\tn_nodes = 256 * 4 * 4\n",
    "\tmodel.add(Dense(n_nodes, input_shape=(NOISE_DIM,)))\n",
    "\tmodel.add(LeakyReLU(alpha=0.2))\n",
    "\tmodel.add(Reshape((4, 4, 256)))\n",
    "\t# upsample to 8x8\n",
    "\tmodel.add(Conv2DTranspose(128, (4,4), strides=(2,2), padding='same'))\n",
    "\tmodel.add(LeakyReLU(alpha=0.2))\n",
    "\t# upsample to 16x16\n",
    "\tmodel.add(Conv2DTranspose(128, (4,4), strides=(2,2), padding='same'))\n",
    "\tmodel.add(LeakyReLU(alpha=0.2))\n",
    "\t# upsample to 32x32\n",
    "\tmodel.add(Conv2DTranspose(128, (4,4), strides=(2,2), padding='same'))\n",
    "\tmodel.add(LeakyReLU(alpha=0.2))\n",
    "\t# output layer\n",
    "\tmodel.add(Conv2D(3, (3,3), activation='tanh', padding='same'))\n",
    "\treturn model\n",
    "\n",
    "def make_discriminator_model_v2(in_shape=(32,32,3)):\n",
    "\t\"\"\" 개선된 모델 \"\"\"\n",
    "\tmodel = keras.Sequential(name=\"v2_disc_model\")\n",
    "\t# normal\n",
    "\tmodel.add(Conv2D(64, (3,3), padding='same', input_shape=in_shape))\n",
    "\tmodel.add(LeakyReLU(alpha=0.2))\n",
    "\t# downsample\n",
    "\tmodel.add(Conv2D(128, (3,3), strides=(2,2), padding='same'))\n",
    "\tmodel.add(LeakyReLU(alpha=0.2))\n",
    "\t# downsample\n",
    "\tmodel.add(Conv2D(128, (3,3), strides=(2,2), padding='same'))\n",
    "\tmodel.add(LeakyReLU(alpha=0.2))\n",
    "\t# downsample\n",
    "\tmodel.add(Conv2D(256, (3,3), strides=(2,2), padding='same'))\n",
    "\tmodel.add(LeakyReLU(alpha=0.2))\n",
    "\t# classifier\n",
    "\tmodel.add(Flatten())\n",
    "\tmodel.add(Dropout(0.4))\n",
    "\tmodel.add(Dense(1, activation='sigmoid'))\n",
    "\t# compile model\n",
    "\tmodel.compile(loss='binary_crossentropy', optimizer=Adam(**V2_OPTIMIZER_KWARG), metrics=['accuracy'])\n",
    "\treturn model\n",
    "\n",
    "def gan_model_v2(g_model, d_model):\n",
    "\t\"\"\" 생성 모델과 판별모델을 하나로 합치는 과정\"\"\"\n",
    "\t# make weights in the discriminator not trainable\n",
    "\td_model.trainable = False\n",
    "\t# connect them\n",
    "\tmodel = keras.Sequential()\n",
    "\t# add generator\n",
    "\tmodel.add(g_model)\n",
    "\t# add the discriminator\n",
    "\tmodel.add(d_model)\n",
    "\t# compile model\n",
    "\tmodel.compile(loss='binary_crossentropy', optimizer=Adam(**V2_OPTIMIZER_KWARG))\n",
    "\treturn model"
   ]
  },
  {
   "cell_type": "markdown",
   "metadata": {},
   "source": [
    "함수의 개선방안은 아래의 링크를 참고하여 제작하였다.<br>\n",
    "[참고사이트](https://machinelearningmastery.com/how-to-develop-a-generative-adversarial-network-for-a-cifar-10-small-object-photographs-from-scratch/)"
   ]
  },
  {
   "cell_type": "markdown",
   "metadata": {
    "id": "l5DV1kd8MPes"
   },
   "source": [
    "## 메인"
   ]
  },
  {
   "cell_type": "markdown",
   "metadata": {
    "id": "B7XCWajZ0XIj"
   },
   "source": [
    "### 사진의 분석"
   ]
  },
  {
   "cell_type": "code",
   "execution_count": 4,
   "metadata": {
    "colab": {
     "base_uri": "https://localhost:8080/",
     "height": 238
    },
    "id": "iwkvcfr7MPsm",
    "outputId": "ff157de0-3e6a-4d61-fd3e-47833a563b5b"
   },
   "outputs": [
    {
     "name": "stdout",
     "output_type": "stream",
     "text": [
      "data shape: (50000, 32, 32, 3)\n"
     ]
    },
    {
     "data": {
      "image/png": "[encoded data removed]",
      "text/plain": [
       "<Figure size 1000x500 with 10 Axes>"
      ]
     },
     "metadata": {},
     "output_type": "display_data"
    }
   ],
   "source": [
    "cifar10 = tf.keras.datasets.cifar10\n",
    "\n",
    "(train_x, _), (test_x, _) = cifar10.load_data()\n",
    "\n",
    "print(f\"data shape: {train_x.shape}\")\n",
    "\n",
    "plt.figure(figsize=(10, 5))\n",
    "\n",
    "for i in range(10):\n",
    "    plt.subplot(2, 5, i+1)\n",
    "    plt.imshow(train_x[i])\n",
    "    plt.title(f'index: {i}')\n",
    "    plt.axis('off')\n",
    "plt.show()"
   ]
  },
  {
   "cell_type": "markdown",
   "metadata": {
    "id": "iXm0KjWe845_"
   },
   "source": [
    "데이터는 `keras`에서 기본으로 제공하는 데이터를 사용하였으며<br>\n",
    "data는 32\\*32\\*3 칼러 이미지 50,000장<br>\n",
    "label은 0~9까지의 데이터가 있으며 설명은 아래와 같다.<br>\n",
    "- 0: T-shirt/top\n",
    "- 1: Trouser\n",
    "- 2: Pullover\n",
    "- 3: Dress\n",
    "- 4: Coat\n",
    "- 5: Sandal\n",
    "- 6: Shirt\n",
    "- 7: Sneaker\n",
    "- 8: Bag\n",
    "- 9: Ankle boot\n",
    "\n",
    "아래의 그림은 확인용으로 그림 10장정도를 그려보았다. "
   ]
  },
  {
   "cell_type": "markdown",
   "metadata": {},
   "source": [
    "### 전처리"
   ]
  },
  {
   "cell_type": "code",
   "execution_count": 5,
   "metadata": {
    "colab": {
     "base_uri": "https://localhost:8080/"
    },
    "id": "971TB3kw845_",
    "outputId": "bf314154-267b-40b5-c57e-0902055d9876"
   },
   "outputs": [],
   "source": [
    "train_x = (train_x - 127.5) / 127.5\n",
    "train_dataset = tf.data.Dataset.from_tensor_slices(train_x).shuffle(train_x.shape[0]).batch(BATCH_SIZE)"
   ]
  },
  {
   "cell_type": "markdown",
   "metadata": {
    "id": "oMm1Q3DE846A"
   },
   "source": [
    "미리 학습된 segmentation모델을 로드 후<br>\n",
    "피사체에 피사체에 해당하는 색으로 칠하였다.<br>\n",
    "고양이 사진의 경우 변수가 없으므로 완벽하게 피사체를 인식하였다.<br>\n",
    "여성의 피사체를 일부 누락이 있지만 인식하여 알맞는 색을 칠한 것을 볼 수있다.<br>\n",
    "이미지에 칠한 색은 아래의 목록을 확인하면 알 수 있다.<br>"
   ]
  },
  {
   "cell_type": "markdown",
   "metadata": {},
   "source": [
    "### 학습설계"
   ]
  },
  {
   "cell_type": "code",
   "execution_count": 6,
   "metadata": {
    "colab": {
     "base_uri": "https://localhost:8080/"
    },
    "id": "3ZASR2F_fugN",
    "outputId": "06850fbd-ca4c-4d10-8da4-2f5ff5c1dd17"
   },
   "outputs": [
    {
     "name": "stdout",
     "output_type": "stream",
     "text": [
      "Model: \"v1_gen_model\"\n",
      "_________________________________________________________________\n",
      " Layer (type)                Output Shape              Param #   \n",
      "=================================================================\n",
      " dense (Dense)               (None, 16384)             1638400   \n",
      "                                                                 \n",
      " batch_normalization (BatchN  (None, 16384)            65536     \n",
      " ormalization)                                                   \n",
      "                                                                 \n",
      " leaky_re_lu (LeakyReLU)     (None, 16384)             0         \n",
      "                                                                 \n",
      " reshape (Reshape)           (None, 8, 8, 256)         0         \n",
      "                                                                 \n",
      " conv2d_transpose (Conv2DTra  (None, 8, 8, 128)        819200    \n",
      " nspose)                                                         \n",
      "                                                                 \n",
      " batch_normalization_1 (Batc  (None, 8, 8, 128)        512       \n",
      " hNormalization)                                                 \n",
      "                                                                 \n",
      " leaky_re_lu_1 (LeakyReLU)   (None, 8, 8, 128)         0         \n",
      "                                                                 \n",
      " conv2d_transpose_1 (Conv2DT  (None, 16, 16, 64)       204800    \n",
      " ranspose)                                                       \n",
      "                                                                 \n",
      " batch_normalization_2 (Batc  (None, 16, 16, 64)       256       \n",
      " hNormalization)                                                 \n",
      "                                                                 \n",
      " leaky_re_lu_2 (LeakyReLU)   (None, 16, 16, 64)        0         \n",
      "                                                                 \n",
      " conv2d_transpose_2 (Conv2DT  (None, 32, 32, 3)        4800      \n",
      " ranspose)                                                       \n",
      "                                                                 \n",
      "=================================================================\n",
      "Total params: 2,733,504\n",
      "Trainable params: 2,700,352\n",
      "Non-trainable params: 33,152\n",
      "_________________________________________________________________\n",
      "\n",
      "#################################################################\n",
      "\n",
      "Model: \"v2_gen_model\"\n",
      "_________________________________________________________________\n",
      " Layer (type)                Output Shape              Param #   \n",
      "=================================================================\n",
      " dense_1 (Dense)             (None, 4096)              413696    \n",
      "                                                                 \n",
      " leaky_re_lu_3 (LeakyReLU)   (None, 4096)              0         \n",
      "                                                                 \n",
      " reshape_1 (Reshape)         (None, 4, 4, 256)         0         \n",
      "                                                                 \n",
      " conv2d_transpose_3 (Conv2DT  (None, 8, 8, 128)        524416    \n",
      " ranspose)                                                       \n",
      "                                                                 \n",
      " leaky_re_lu_4 (LeakyReLU)   (None, 8, 8, 128)         0         \n",
      "                                                                 \n",
      " conv2d_transpose_4 (Conv2DT  (None, 16, 16, 128)      262272    \n",
      " ranspose)                                                       \n",
      "                                                                 \n",
      " leaky_re_lu_5 (LeakyReLU)   (None, 16, 16, 128)       0         \n",
      "                                                                 \n",
      " conv2d_transpose_5 (Conv2DT  (None, 32, 32, 128)      262272    \n",
      " ranspose)                                                       \n",
      "                                                                 \n",
      " leaky_re_lu_6 (LeakyReLU)   (None, 32, 32, 128)       0         \n",
      "                                                                 \n",
      " conv2d (Conv2D)             (None, 32, 32, 3)         3459      \n",
      "                                                                 \n",
      "=================================================================\n",
      "Total params: 1,466,115\n",
      "Trainable params: 1,466,115\n",
      "Non-trainable params: 0\n",
      "_________________________________________________________________\n"
     ]
    }
   ],
   "source": [
    "generator_v1 = make_generator_model_v1()\n",
    "generator_v1.summary()\n",
    "\n",
    "print(\"\\n\" + \"#\"*65 + \"\\n\")\n",
    "\n",
    "generator_v2 = make_generator_model_v2()\n",
    "generator_v2.summary()"
   ]
  },
  {
   "cell_type": "markdown",
   "metadata": {
    "id": "wRHCeqlem4v_"
   },
   "source": [
    "exploration 예제가 `28*28*3` 과제가 `32*32*3`형태의 그림으로 input값이 변경되었으므로 <br>\n",
    "초기 input을 `7,7,256` -> `8,8,256`으로 변경시켜 준것 밖에 없다.<br>\n",
    "\n",
    "개선한 모델의 경우에는 `4,4,256`로 input을 조정해 좀더 연산하는 layer를 늘렸다.<br>\n",
    "또한 음수값일때의 기울기를 조정하여 학습률을 높혔다.<br>\n",
    "\n",
    "생성결과 각 레이어의 노드가 줄어든 것에 대해 확인이 가능하다.<br>"
   ]
  },
  {
   "cell_type": "code",
   "execution_count": 7,
   "metadata": {
    "id": "HbFIKeNV_L8U"
   },
   "outputs": [
    {
     "name": "stdout",
     "output_type": "stream",
     "text": [
      "non trained image shape: (1, 32, 32, 3)\n"
     ]
    },
    {
     "data": {
      "image/png": "[encoded data removed]",
      "text/plain": [
       "<Figure size 1500x600 with 4 Axes>"
      ]
     },
     "metadata": {},
     "output_type": "display_data"
    }
   ],
   "source": [
    "noise_v1 = tf.random.normal([1, 100], 0, 1) # 균일분포를 통한 랜덤값\n",
    "noise_v2 = randn(100).reshape(1,-1) # 가우시안 정규분포를 통한 랜덤값\n",
    "generated_image_v1 = generator_v1(noise_v1, training=False)\n",
    "generated_image_v2 = generator_v1(noise_v2, training=False)\n",
    "\n",
    "print(f\"non trained image shape: {generated_image_v1.shape}\")\n",
    "\n",
    "plt.subplot(1, 2, 1)\n",
    "plt.imshow((generated_image_v1[0] + 1) / 2)\n",
    "plt.title(f'before')\n",
    "plt.colorbar()\n",
    "plt.subplot(1, 2, 2)\n",
    "plt.imshow((generated_image_v2[0] + 1) / 2)\n",
    "plt.title(f'after')\n",
    "plt.colorbar()\n",
    "plt.show()"
   ]
  },
  {
   "cell_type": "markdown",
   "metadata": {
    "id": "cQlTE3xms-k0"
   },
   "source": [
    "1~100까지의 랜덤의 수를 적용시킨 array를 생성한다.<br>\n",
    "김종태 그루님의 도움으로 랜덤으로 이미지를 생성할 시<br>\n",
    "(`random 이미지의 백터` + 1) /2 가 이미지의 화소를<br>\n",
    "0~1사이로 분표시켜 이미지가 잘 보이게 된다는 조언을 듣고 적용하였다.<br>\n",
    "생성결과 두 사진의 차이는 크게 보이지 않는다.<br>"
   ]
  },
  {
   "cell_type": "code",
   "execution_count": 8,
   "metadata": {
    "id": "2qbNBHBm0LLy"
   },
   "outputs": [
    {
     "name": "stdout",
     "output_type": "stream",
     "text": [
      "Model: \"v1_disc_model\"\n",
      "_________________________________________________________________\n",
      " Layer (type)                Output Shape              Param #   \n",
      "=================================================================\n",
      " conv2d_1 (Conv2D)           (None, 16, 16, 64)        1792      \n",
      "                                                                 \n",
      " leaky_re_lu_7 (LeakyReLU)   (None, 16, 16, 64)        0         \n",
      "                                                                 \n",
      " dropout (Dropout)           (None, 16, 16, 64)        0         \n",
      "                                                                 \n",
      " conv2d_2 (Conv2D)           (None, 8, 8, 128)         73856     \n",
      "                                                                 \n",
      " leaky_re_lu_8 (LeakyReLU)   (None, 8, 8, 128)         0         \n",
      "                                                                 \n",
      " dropout_1 (Dropout)         (None, 8, 8, 128)         0         \n",
      "                                                                 \n",
      " flatten (Flatten)           (None, 8192)              0         \n",
      "                                                                 \n",
      " dense_2 (Dense)             (None, 1)                 8193      \n",
      "                                                                 \n",
      "=================================================================\n",
      "Total params: 83,841\n",
      "Trainable params: 83,841\n",
      "Non-trainable params: 0\n",
      "_________________________________________________________________\n",
      "\n",
      "#################################################################\n",
      "\n",
      "Model: \"v2_disc_model\"\n",
      "_________________________________________________________________\n",
      " Layer (type)                Output Shape              Param #   \n",
      "=================================================================\n",
      " conv2d_3 (Conv2D)           (None, 32, 32, 64)        1792      \n",
      "                                                                 \n",
      " leaky_re_lu_9 (LeakyReLU)   (None, 32, 32, 64)        0         \n",
      "                                                                 \n",
      " conv2d_4 (Conv2D)           (None, 16, 16, 128)       73856     \n",
      "                                                                 \n",
      " leaky_re_lu_10 (LeakyReLU)  (None, 16, 16, 128)       0         \n",
      "                                                                 \n",
      " conv2d_5 (Conv2D)           (None, 8, 8, 128)         147584    \n",
      "                                                                 \n",
      " leaky_re_lu_11 (LeakyReLU)  (None, 8, 8, 128)         0         \n",
      "                                                                 \n",
      " conv2d_6 (Conv2D)           (None, 4, 4, 256)         295168    \n",
      "                                                                 \n",
      " leaky_re_lu_12 (LeakyReLU)  (None, 4, 4, 256)         0         \n",
      "                                                                 \n",
      " flatten_1 (Flatten)         (None, 4096)              0         \n",
      "                                                                 \n",
      " dropout_2 (Dropout)         (None, 4096)              0         \n",
      "                                                                 \n",
      " dense_3 (Dense)             (None, 1)                 4097      \n",
      "                                                                 \n",
      "=================================================================\n",
      "Total params: 522,497\n",
      "Trainable params: 522,497\n",
      "Non-trainable params: 0\n",
      "_________________________________________________________________\n"
     ]
    }
   ],
   "source": [
    "discriminator_v1 = make_discriminator_model_v1()\n",
    "discriminator_v1.summary()\n",
    "\n",
    "print(\"\\n\" + \"#\"*65 + \"\\n\")\n",
    "\n",
    "discriminator_v2 = make_discriminator_model_v2()\n",
    "discriminator_v2.summary()"
   ]
  },
  {
   "cell_type": "markdown",
   "metadata": {
    "id": "XNQ9W93B0LUx"
   },
   "source": [
    "위의 생성자 모델과 같이 leaky relu의 α값 조정, 레이어 1층 증가 이외 달라진 점이 없다.<br>"
   ]
  },
  {
   "cell_type": "code",
   "execution_count": 9,
   "metadata": {},
   "outputs": [
    {
     "name": "stdout",
     "output_type": "stream",
     "text": [
      "tf.Tensor([[0.00348925]], shape=(1, 1), dtype=float32)\n",
      "\n",
      "##########################################################\n",
      "\n",
      "tf.Tensor([[0.49974605]], shape=(1, 1), dtype=float32)\n"
     ]
    }
   ],
   "source": [
    "decision_v1 = discriminator_v1(generated_image_v1, training=False)\n",
    "print(decision_v1)\n",
    "\n",
    "print(\"\\n\" + \"#\"*58 + \"\\n\")\n",
    "\n",
    "decision_v2 = discriminator_v2(generated_image_v2, training=False)\n",
    "print(decision_v2)"
   ]
  },
  {
   "cell_type": "markdown",
   "metadata": {
    "id": "8sbpd_8bjBGf"
   },
   "source": [
    "생성자도 별다른 이상없이 동작이 가능한 것을 볼 수 있다."
   ]
  },
  {
   "cell_type": "code",
   "execution_count": 10,
   "metadata": {},
   "outputs": [
    {
     "ename": "ValueError",
     "evalue": "in user code:\n\n    File \"C:\\Users\\Owner\\AppData\\Local\\Temp\\ipykernel_33428\\999203045.py\", line 130, in train_step  *\n        Adam(**V1_OPTIMIZER_KWARG).apply_gradients(zip(gradients_of_generator, generator.trainable_variables))\n    File \"c:\\Program Files\\Python39\\lib\\site-packages\\keras\\optimizers\\optimizer_v2\\optimizer_v2.py\", line 646, in apply_gradients  **\n        self._create_all_weights(var_list)\n    File \"c:\\Program Files\\Python39\\lib\\site-packages\\keras\\optimizers\\optimizer_v2\\optimizer_v2.py\", line 858, in _create_all_weights\n        _ = self.iterations\n    File \"c:\\Program Files\\Python39\\lib\\site-packages\\keras\\optimizers\\optimizer_v2\\optimizer_v2.py\", line 866, in __getattribute__\n        return super(OptimizerV2, self).__getattribute__(name)\n    File \"c:\\Program Files\\Python39\\lib\\site-packages\\keras\\optimizers\\optimizer_v2\\optimizer_v2.py\", line 1033, in iterations\n        self._iterations = self.add_weight(\n    File \"c:\\Program Files\\Python39\\lib\\site-packages\\keras\\optimizers\\optimizer_v2\\optimizer_v2.py\", line 1233, in add_weight\n        variable = self._add_variable_with_custom_getter(\n    File \"c:\\Program Files\\Python39\\lib\\site-packages\\keras\\engine\\base_layer_utils.py\", line 126, in make_variable\n        return tf.compat.v1.Variable(\n\n    ValueError: tf.function only supports singleton tf.Variables created on the first call. Make sure the tf.Variable is only created once or created outside tf.function. See https://www.tensorflow.org/guide/function#creating_tfvariables for more information.\n",
     "output_type": "error",
     "traceback": [
      "\u001b[1;31m---------------------------------------------------------------------------\u001b[0m",
      "\u001b[1;31mValueError\u001b[0m                                Traceback (most recent call last)",
      "Cell \u001b[1;32mIn [10], line 6\u001b[0m\n\u001b[0;32m      1\u001b[0m checkpoint \u001b[39m=\u001b[39m tf\u001b[39m.\u001b[39mtrain\u001b[39m.\u001b[39mCheckpoint(generator_optimizer\u001b[39m=\u001b[39mAdam(\u001b[39m*\u001b[39m\u001b[39m*\u001b[39mV1_OPTIMIZER_KWARG),\n\u001b[0;32m      2\u001b[0m                                  discriminator_optimizer\u001b[39m=\u001b[39mAdam(\u001b[39m*\u001b[39m\u001b[39m*\u001b[39mV1_OPTIMIZER_KWARG),\n\u001b[0;32m      3\u001b[0m                                  generator\u001b[39m=\u001b[39mgenerator_v1,\n\u001b[0;32m      4\u001b[0m                                  discriminator\u001b[39m=\u001b[39mAdam(\u001b[39m*\u001b[39m\u001b[39m*\u001b[39mV1_OPTIMIZER_KWARG))\n\u001b[1;32m----> 6\u001b[0m train_v1(\n\u001b[0;32m      7\u001b[0m     train_dataset\n\u001b[0;32m      8\u001b[0m     , tf\u001b[39m.\u001b[39;49mrandom\u001b[39m.\u001b[39;49mnormal([GEN_SAMPLE_NUM, NOISE_DIM])\n\u001b[0;32m      9\u001b[0m     ,checkpoint\n\u001b[0;32m     10\u001b[0m     , TRAIN_SAVE_EVERY\n\u001b[0;32m     11\u001b[0m     , \u001b[39m1\u001b[39;49m)\n",
      "Cell \u001b[1;32mIn [3], line 142\u001b[0m, in \u001b[0;36mtrain_v1\u001b[1;34m(dataset, seed, checkpoint, save_every, epochs)\u001b[0m\n\u001b[0;32m    140\u001b[0m epoch_start \u001b[39m=\u001b[39m time\u001b[39m.\u001b[39mtime()\n\u001b[0;32m    141\u001b[0m \u001b[39mfor\u001b[39;00m it, image_batch \u001b[39min\u001b[39;00m \u001b[39menumerate\u001b[39m(dataset):\n\u001b[1;32m--> 142\u001b[0m \tgen_loss, disc_loss, real_accuracy, fake_accuracy \u001b[39m=\u001b[39m train_step(image_batch)\n\u001b[0;32m    143\u001b[0m \thistory[\u001b[39m'\u001b[39m\u001b[39mgen_loss\u001b[39m\u001b[39m'\u001b[39m]\u001b[39m.\u001b[39mappend(gen_loss)\n\u001b[0;32m    144\u001b[0m \thistory[\u001b[39m'\u001b[39m\u001b[39mdisc_loss\u001b[39m\u001b[39m'\u001b[39m]\u001b[39m.\u001b[39mappend(disc_loss)\n",
      "File \u001b[1;32mc:\\Program Files\\Python39\\lib\\site-packages\\tensorflow\\python\\util\\traceback_utils.py:153\u001b[0m, in \u001b[0;36mfilter_traceback.<locals>.error_handler\u001b[1;34m(*args, **kwargs)\u001b[0m\n\u001b[0;32m    151\u001b[0m \u001b[39mexcept\u001b[39;00m \u001b[39mException\u001b[39;00m \u001b[39mas\u001b[39;00m e:\n\u001b[0;32m    152\u001b[0m   filtered_tb \u001b[39m=\u001b[39m _process_traceback_frames(e\u001b[39m.\u001b[39m__traceback__)\n\u001b[1;32m--> 153\u001b[0m   \u001b[39mraise\u001b[39;00m e\u001b[39m.\u001b[39mwith_traceback(filtered_tb) \u001b[39mfrom\u001b[39;00m \u001b[39mNone\u001b[39m\n\u001b[0;32m    154\u001b[0m \u001b[39mfinally\u001b[39;00m:\n\u001b[0;32m    155\u001b[0m   \u001b[39mdel\u001b[39;00m filtered_tb\n",
      "File \u001b[1;32m~\\AppData\\Local\\Temp\\__autograph_generated_filet44vuzq_.py:22\u001b[0m, in \u001b[0;36mouter_factory.<locals>.inner_factory.<locals>.tf__train_step\u001b[1;34m(images)\u001b[0m\n\u001b[0;32m     20\u001b[0m gradients_of_generator \u001b[39m=\u001b[39m ag__\u001b[39m.\u001b[39mconverted_call(ag__\u001b[39m.\u001b[39mld(gen_tape)\u001b[39m.\u001b[39mgradient, (ag__\u001b[39m.\u001b[39mld(gen_loss), ag__\u001b[39m.\u001b[39mld(generator)\u001b[39m.\u001b[39mtrainable_variables), \u001b[39mNone\u001b[39;00m, fscope)\n\u001b[0;32m     21\u001b[0m gradients_of_discriminator \u001b[39m=\u001b[39m ag__\u001b[39m.\u001b[39mconverted_call(ag__\u001b[39m.\u001b[39mld(disc_tape)\u001b[39m.\u001b[39mgradient, (ag__\u001b[39m.\u001b[39mld(disc_loss), ag__\u001b[39m.\u001b[39mld(discriminator)\u001b[39m.\u001b[39mtrainable_variables), \u001b[39mNone\u001b[39;00m, fscope)\n\u001b[1;32m---> 22\u001b[0m ag__\u001b[39m.\u001b[39mconverted_call(ag__\u001b[39m.\u001b[39mconverted_call(ag__\u001b[39m.\u001b[39mld(Adam), (), \u001b[39mdict\u001b[39m(\u001b[39m*\u001b[39m\u001b[39m*\u001b[39mag__\u001b[39m.\u001b[39mld(V1_OPTIMIZER_KWARG)), fscope)\u001b[39m.\u001b[39mapply_gradients, (ag__\u001b[39m.\u001b[39mconverted_call(ag__\u001b[39m.\u001b[39mld(\u001b[39mzip\u001b[39m), (ag__\u001b[39m.\u001b[39mld(gradients_of_generator), ag__\u001b[39m.\u001b[39mld(generator)\u001b[39m.\u001b[39mtrainable_variables), \u001b[39mNone\u001b[39;00m, fscope),), \u001b[39mNone\u001b[39;00m, fscope)\n\u001b[0;32m     23\u001b[0m ag__\u001b[39m.\u001b[39mconverted_call(ag__\u001b[39m.\u001b[39mconverted_call(ag__\u001b[39m.\u001b[39mld(Adam), (), \u001b[39mdict\u001b[39m(\u001b[39m*\u001b[39m\u001b[39m*\u001b[39mag__\u001b[39m.\u001b[39mld(V1_OPTIMIZER_KWARG)), fscope)\u001b[39m.\u001b[39mapply_gradients, (ag__\u001b[39m.\u001b[39mconverted_call(ag__\u001b[39m.\u001b[39mld(\u001b[39mzip\u001b[39m), (ag__\u001b[39m.\u001b[39mld(gradients_of_discriminator), ag__\u001b[39m.\u001b[39mld(discriminator)\u001b[39m.\u001b[39mtrainable_variables), \u001b[39mNone\u001b[39;00m, fscope),), \u001b[39mNone\u001b[39;00m, fscope)\n\u001b[0;32m     24\u001b[0m \u001b[39mtry\u001b[39;00m:\n",
      "File \u001b[1;32mc:\\Program Files\\Python39\\lib\\site-packages\\keras\\optimizers\\optimizer_v2\\optimizer_v2.py:646\u001b[0m, in \u001b[0;36mOptimizerV2.apply_gradients\u001b[1;34m(self, grads_and_vars, name, experimental_aggregate_gradients)\u001b[0m\n\u001b[0;32m    643\u001b[0m \u001b[39mwith\u001b[39;00m tf\u001b[39m.\u001b[39mname_scope(\u001b[39mself\u001b[39m\u001b[39m.\u001b[39m_name):\n\u001b[0;32m    644\u001b[0m   \u001b[39m# Create iteration if necessary.\u001b[39;00m\n\u001b[0;32m    645\u001b[0m   \u001b[39mwith\u001b[39;00m tf\u001b[39m.\u001b[39minit_scope():\n\u001b[1;32m--> 646\u001b[0m     \u001b[39mself\u001b[39m\u001b[39m.\u001b[39m_create_all_weights(var_list)\n\u001b[0;32m    648\u001b[0m   \u001b[39mif\u001b[39;00m \u001b[39mnot\u001b[39;00m grads_and_vars:\n\u001b[0;32m    649\u001b[0m     \u001b[39m# Distribution strategy does not support reducing an empty list of\u001b[39;00m\n\u001b[0;32m    650\u001b[0m     \u001b[39m# gradients\u001b[39;00m\n\u001b[0;32m    651\u001b[0m     \u001b[39mreturn\u001b[39;00m tf\u001b[39m.\u001b[39mno_op()\n",
      "File \u001b[1;32mc:\\Program Files\\Python39\\lib\\site-packages\\keras\\optimizers\\optimizer_v2\\optimizer_v2.py:858\u001b[0m, in \u001b[0;36mOptimizerV2._create_all_weights\u001b[1;34m(self, var_list)\u001b[0m\n\u001b[0;32m    845\u001b[0m \u001b[39mdef\u001b[39;00m \u001b[39m_create_all_weights\u001b[39m(\u001b[39mself\u001b[39m, var_list):\n\u001b[0;32m    846\u001b[0m   \u001b[39m\"\"\"Creates all weights, including iterations, hyperparameters and slot vars.\u001b[39;00m\n\u001b[0;32m    847\u001b[0m \n\u001b[0;32m    848\u001b[0m \u001b[39m  This will add newly created variables to `optimizer.weights`.\u001b[39;00m\n\u001b[1;32m   (...)\u001b[0m\n\u001b[0;32m    855\u001b[0m \u001b[39m      using this optimizer.\u001b[39;00m\n\u001b[0;32m    856\u001b[0m \u001b[39m  \"\"\"\u001b[39;00m\n\u001b[1;32m--> 858\u001b[0m   _ \u001b[39m=\u001b[39m \u001b[39mself\u001b[39;49m\u001b[39m.\u001b[39;49miterations\n\u001b[0;32m    859\u001b[0m   \u001b[39mself\u001b[39m\u001b[39m.\u001b[39m_create_hypers()\n\u001b[0;32m    860\u001b[0m   \u001b[39mself\u001b[39m\u001b[39m.\u001b[39m_create_slots(var_list)\n",
      "File \u001b[1;32mc:\\Program Files\\Python39\\lib\\site-packages\\keras\\optimizers\\optimizer_v2\\optimizer_v2.py:866\u001b[0m, in \u001b[0;36mOptimizerV2.__getattribute__\u001b[1;34m(self, name)\u001b[0m\n\u001b[0;32m    864\u001b[0m \u001b[39m\"\"\"Overridden to support hyperparameter access.\"\"\"\u001b[39;00m\n\u001b[0;32m    865\u001b[0m \u001b[39mtry\u001b[39;00m:\n\u001b[1;32m--> 866\u001b[0m   \u001b[39mreturn\u001b[39;00m \u001b[39msuper\u001b[39m(OptimizerV2, \u001b[39mself\u001b[39m)\u001b[39m.\u001b[39m\u001b[39m__getattribute__\u001b[39m(name)\n\u001b[0;32m    867\u001b[0m \u001b[39mexcept\u001b[39;00m \u001b[39mAttributeError\u001b[39;00m \u001b[39mas\u001b[39;00m e:\n\u001b[0;32m    868\u001b[0m   \u001b[39m# Needed to avoid infinite recursion with __setattr__.\u001b[39;00m\n\u001b[0;32m    869\u001b[0m   \u001b[39mif\u001b[39;00m name \u001b[39m==\u001b[39m \u001b[39m\"\u001b[39m\u001b[39m_hyper\u001b[39m\u001b[39m\"\u001b[39m:\n",
      "File \u001b[1;32mc:\\Program Files\\Python39\\lib\\site-packages\\keras\\optimizers\\optimizer_v2\\optimizer_v2.py:1033\u001b[0m, in \u001b[0;36mOptimizerV2.iterations\u001b[1;34m(self)\u001b[0m\n\u001b[0;32m   1031\u001b[0m \u001b[39mif\u001b[39;00m \u001b[39mself\u001b[39m\u001b[39m.\u001b[39m_iterations \u001b[39mis\u001b[39;00m \u001b[39mNone\u001b[39;00m:\n\u001b[0;32m   1032\u001b[0m   \u001b[39mwith\u001b[39;00m \u001b[39mself\u001b[39m\u001b[39m.\u001b[39m_distribution_strategy_scope():\n\u001b[1;32m-> 1033\u001b[0m     \u001b[39mself\u001b[39m\u001b[39m.\u001b[39m_iterations \u001b[39m=\u001b[39m \u001b[39mself\u001b[39m\u001b[39m.\u001b[39madd_weight(\n\u001b[0;32m   1034\u001b[0m         \u001b[39m\"\u001b[39m\u001b[39miter\u001b[39m\u001b[39m\"\u001b[39m,\n\u001b[0;32m   1035\u001b[0m         shape\u001b[39m=\u001b[39m[],\n\u001b[0;32m   1036\u001b[0m         dtype\u001b[39m=\u001b[39mtf\u001b[39m.\u001b[39mint64,\n\u001b[0;32m   1037\u001b[0m         trainable\u001b[39m=\u001b[39m\u001b[39mFalse\u001b[39;00m,\n\u001b[0;32m   1038\u001b[0m         aggregation\u001b[39m=\u001b[39mtf\u001b[39m.\u001b[39mVariableAggregation\u001b[39m.\u001b[39mONLY_FIRST_REPLICA)\n\u001b[0;32m   1039\u001b[0m   \u001b[39mself\u001b[39m\u001b[39m.\u001b[39m_weights\u001b[39m.\u001b[39mappend(\u001b[39mself\u001b[39m\u001b[39m.\u001b[39m_iterations)\n\u001b[0;32m   1040\u001b[0m \u001b[39mreturn\u001b[39;00m \u001b[39mself\u001b[39m\u001b[39m.\u001b[39m_iterations\n",
      "File \u001b[1;32mc:\\Program Files\\Python39\\lib\\site-packages\\keras\\optimizers\\optimizer_v2\\optimizer_v2.py:1233\u001b[0m, in \u001b[0;36mOptimizerV2.add_weight\u001b[1;34m(self, name, shape, dtype, initializer, trainable, synchronization, aggregation)\u001b[0m\n\u001b[0;32m   1230\u001b[0m \u001b[39melif\u001b[39;00m trainable \u001b[39mis\u001b[39;00m \u001b[39mNone\u001b[39;00m:\n\u001b[0;32m   1231\u001b[0m   trainable \u001b[39m=\u001b[39m \u001b[39mTrue\u001b[39;00m\n\u001b[1;32m-> 1233\u001b[0m variable \u001b[39m=\u001b[39m \u001b[39mself\u001b[39;49m\u001b[39m.\u001b[39;49m_add_variable_with_custom_getter(\n\u001b[0;32m   1234\u001b[0m     name\u001b[39m=\u001b[39;49mname,\n\u001b[0;32m   1235\u001b[0m     shape\u001b[39m=\u001b[39;49mshape,\n\u001b[0;32m   1236\u001b[0m     getter\u001b[39m=\u001b[39;49mbase_layer_utils\u001b[39m.\u001b[39;49mmake_variable,\n\u001b[0;32m   1237\u001b[0m     overwrite\u001b[39m=\u001b[39;49m\u001b[39mTrue\u001b[39;49;00m,\n\u001b[0;32m   1238\u001b[0m     initializer\u001b[39m=\u001b[39;49minitializer,\n\u001b[0;32m   1239\u001b[0m     dtype\u001b[39m=\u001b[39;49mdtype,\n\u001b[0;32m   1240\u001b[0m     trainable\u001b[39m=\u001b[39;49mtrainable,\n\u001b[0;32m   1241\u001b[0m     use_resource\u001b[39m=\u001b[39;49m\u001b[39mTrue\u001b[39;49;00m,\n\u001b[0;32m   1242\u001b[0m     synchronization\u001b[39m=\u001b[39;49msynchronization,\n\u001b[0;32m   1243\u001b[0m     aggregation\u001b[39m=\u001b[39;49maggregation)\n\u001b[0;32m   1244\u001b[0m backend\u001b[39m.\u001b[39mtrack_variable(variable)\n\u001b[0;32m   1246\u001b[0m \u001b[39mreturn\u001b[39;00m variable\n",
      "File \u001b[1;32mc:\\Program Files\\Python39\\lib\\site-packages\\keras\\engine\\base_layer_utils.py:126\u001b[0m, in \u001b[0;36mmake_variable\u001b[1;34m(name, shape, dtype, initializer, trainable, caching_device, validate_shape, constraint, use_resource, collections, synchronization, aggregation, partitioner, layout)\u001b[0m\n\u001b[0;32m    119\u001b[0m   use_resource \u001b[39m=\u001b[39m \u001b[39mTrue\u001b[39;00m\n\u001b[0;32m    121\u001b[0m \u001b[39mif\u001b[39;00m layout \u001b[39mis\u001b[39;00m \u001b[39mNone\u001b[39;00m:\n\u001b[0;32m    122\u001b[0m   \u001b[39m# In theory, in `use_resource` is True and `collections` is empty\u001b[39;00m\n\u001b[0;32m    123\u001b[0m   \u001b[39m# (that is to say, in TF2), we can use tf.Variable.\u001b[39;00m\n\u001b[0;32m    124\u001b[0m   \u001b[39m# However, this breaks legacy (Estimator) checkpoints because\u001b[39;00m\n\u001b[0;32m    125\u001b[0m   \u001b[39m# it changes variable names. Remove this when V1 is fully deprecated.\u001b[39;00m\n\u001b[1;32m--> 126\u001b[0m   \u001b[39mreturn\u001b[39;00m tf\u001b[39m.\u001b[39;49mcompat\u001b[39m.\u001b[39;49mv1\u001b[39m.\u001b[39;49mVariable(\n\u001b[0;32m    127\u001b[0m       initial_value\u001b[39m=\u001b[39;49minit_val,\n\u001b[0;32m    128\u001b[0m       name\u001b[39m=\u001b[39;49mname,\n\u001b[0;32m    129\u001b[0m       trainable\u001b[39m=\u001b[39;49mtrainable,\n\u001b[0;32m    130\u001b[0m       caching_device\u001b[39m=\u001b[39;49mcaching_device,\n\u001b[0;32m    131\u001b[0m       dtype\u001b[39m=\u001b[39;49mvariable_dtype,\n\u001b[0;32m    132\u001b[0m       validate_shape\u001b[39m=\u001b[39;49mvalidate_shape,\n\u001b[0;32m    133\u001b[0m       constraint\u001b[39m=\u001b[39;49mconstraint,\n\u001b[0;32m    134\u001b[0m       use_resource\u001b[39m=\u001b[39;49muse_resource,\n\u001b[0;32m    135\u001b[0m       collections\u001b[39m=\u001b[39;49mcollections,\n\u001b[0;32m    136\u001b[0m       synchronization\u001b[39m=\u001b[39;49msynchronization,\n\u001b[0;32m    137\u001b[0m       aggregation\u001b[39m=\u001b[39;49maggregation,\n\u001b[0;32m    138\u001b[0m       shape\u001b[39m=\u001b[39;49mvariable_shape \u001b[39mif\u001b[39;49;00m variable_shape \u001b[39melse\u001b[39;49;00m \u001b[39mNone\u001b[39;49;00m)\n\u001b[0;32m    139\u001b[0m \u001b[39melse\u001b[39;00m:\n\u001b[0;32m    140\u001b[0m   \u001b[39mreturn\u001b[39;00m dtensor\u001b[39m.\u001b[39mDVariable(\n\u001b[0;32m    141\u001b[0m       initial_value\u001b[39m=\u001b[39minit_val,\n\u001b[0;32m    142\u001b[0m       name\u001b[39m=\u001b[39mname,\n\u001b[1;32m   (...)\u001b[0m\n\u001b[0;32m    150\u001b[0m       aggregation\u001b[39m=\u001b[39maggregation,\n\u001b[0;32m    151\u001b[0m       shape\u001b[39m=\u001b[39mvariable_shape \u001b[39mif\u001b[39;00m variable_shape \u001b[39melse\u001b[39;00m \u001b[39mNone\u001b[39;00m)\n",
      "\u001b[1;31mValueError\u001b[0m: in user code:\n\n    File \"C:\\Users\\Owner\\AppData\\Local\\Temp\\ipykernel_33428\\999203045.py\", line 130, in train_step  *\n        Adam(**V1_OPTIMIZER_KWARG).apply_gradients(zip(gradients_of_generator, generator.trainable_variables))\n    File \"c:\\Program Files\\Python39\\lib\\site-packages\\keras\\optimizers\\optimizer_v2\\optimizer_v2.py\", line 646, in apply_gradients  **\n        self._create_all_weights(var_list)\n    File \"c:\\Program Files\\Python39\\lib\\site-packages\\keras\\optimizers\\optimizer_v2\\optimizer_v2.py\", line 858, in _create_all_weights\n        _ = self.iterations\n    File \"c:\\Program Files\\Python39\\lib\\site-packages\\keras\\optimizers\\optimizer_v2\\optimizer_v2.py\", line 866, in __getattribute__\n        return super(OptimizerV2, self).__getattribute__(name)\n    File \"c:\\Program Files\\Python39\\lib\\site-packages\\keras\\optimizers\\optimizer_v2\\optimizer_v2.py\", line 1033, in iterations\n        self._iterations = self.add_weight(\n    File \"c:\\Program Files\\Python39\\lib\\site-packages\\keras\\optimizers\\optimizer_v2\\optimizer_v2.py\", line 1233, in add_weight\n        variable = self._add_variable_with_custom_getter(\n    File \"c:\\Program Files\\Python39\\lib\\site-packages\\keras\\engine\\base_layer_utils.py\", line 126, in make_variable\n        return tf.compat.v1.Variable(\n\n    ValueError: tf.function only supports singleton tf.Variables created on the first call. Make sure the tf.Variable is only created once or created outside tf.function. See https://www.tensorflow.org/guide/function#creating_tfvariables for more information.\n"
     ]
    }
   ],
   "source": [
    "checkpoint = tf.train.Checkpoint(generator_optimizer=Adam(**V1_OPTIMIZER_KWARG),\n",
    "                                 discriminator_optimizer=Adam(**V1_OPTIMIZER_KWARG),\n",
    "                                 generator=generator_v1,\n",
    "                                 discriminator=Adam(**V1_OPTIMIZER_KWARG))\n",
    "\n",
    "train_v1(\n",
    "    train_dataset\n",
    "    , tf.random.normal([GEN_SAMPLE_NUM, NOISE_DIM])\n",
    "    ,checkpoint\n",
    "    , TRAIN_SAVE_EVERY\n",
    "    , 1)"
   ]
  },
  {
   "cell_type": "code",
   "execution_count": null,
   "metadata": {},
   "outputs": [],
   "source": [
    "with imageio.get_writer(GIF_PATH, mode='I') as writer:\n",
    "    filenames = glob.glob(BASE_PATH + \"/generated_samples/sample*.png\")\n",
    "    filenames = sorted(filenames)\n",
    "    last = -1\n",
    "    for i, filename in enumerate(filenames):\n",
    "        frame = 2*(i**0.5)\n",
    "        if round(frame) > round(last):\n",
    "            last = frame\n",
    "        else:\n",
    "            continue\n",
    "        image = imageio.imread(filename)\n",
    "        writer.append_data(image)\n",
    "    image = imageio.imread(filename)\n",
    "    writer.append_data(image)"
   ]
  },
  {
   "cell_type": "markdown",
   "metadata": {
    "id": "Zsx8OVYGnM-s"
   },
   "source": [
    "### 회고\n"
   ]
  },
  {
   "cell_type": "markdown",
   "metadata": {
    "id": "2ngdabGo3j4l"
   },
   "source": [
    "- 학습된 데이터의 의존성이 강하다는 것을 알게되었다.\n",
    "- 사실 이번 과제를 하기위해 `colab`과 로컬에서 환경설정을 하려고 했지만 모두 실패하여 이틀을 날렸다.<br>\n",
    "환경설정의 중요함을 알았다."
   ]
  }
 ],
 "metadata": {
  "accelerator": "GPU",
  "colab": {
   "machine_shape": "hm",
   "provenance": [
    {
     "file_id": "https://github.com/hwangsae91/project_so/blob/master/exploration/221014/%5BExp_09%5D20221014.ipynb",
     "timestamp": 1666237809052
    }
   ]
  },
  "gpuClass": "premium",
  "kernelspec": {
   "display_name": "Python 3.9.13 64-bit",
   "language": "python",
   "name": "python3"
  },
  "language_info": {
   "codemirror_mode": {
    "name": "ipython",
    "version": 3
   },
   "file_extension": ".py",
   "mimetype": "text/x-python",
   "name": "python",
   "nbconvert_exporter": "python",
   "pygments_lexer": "ipython3",
   "version": "3.9.13"
  },
  "vscode": {
   "interpreter": {
    "hash": "11938c6bc6919ae2720b4d5011047913343b08a43b18698fd82dedb0d4417594"
   }
  }
 },
 "nbformat": 4,
 "nbformat_minor": 1
}
