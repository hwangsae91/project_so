{
  "cells": [
    {
      "cell_type": "code",
      "source": [
        "# google colab전용\n",
        "from google.colab import drive\n",
        "drive.mount('/content/drive')"
      ],
      "metadata": {
        "colab": {
          "base_uri": "https://localhost:8080/"
        },
        "id": "F9wYCzIrDdTr",
        "outputId": "693545b0-fe8e-48f4-a79b-5f705ae518e2"
      },
      "execution_count": 1,
      "outputs": [
        {
          "output_type": "stream",
          "name": "stdout",
          "text": [
            "Drive already mounted at /content/drive; to attempt to forcibly remount, call drive.mount(\"/content/drive\", force_remount=True).\n"
          ]
        }
      ]
    },
    {
      "cell_type": "markdown",
      "metadata": {
        "id": "skVtpqBhyWI6"
      },
      "source": [
        "# exploration 6번째 과제</br>\n",
        "@ 황한용(3기/쏘카)"
      ]
    },
    {
      "cell_type": "markdown",
      "metadata": {
        "id": "3mR4iHQyyWI9"
      },
      "source": [
        "## 라이브러리 선언"
      ]
    },
    {
      "cell_type": "code",
      "execution_count": 2,
      "metadata": {
        "id": "OkqTpD_EyWI-"
      },
      "outputs": [],
      "source": [
        "import glob\n",
        "import os\n",
        "import re\n",
        "from typing import List, Tuple, Union\n",
        "\n",
        "import tensorflow as tf\n",
        "from pathlib import Path\n",
        "from sklearn.model_selection import train_test_split"
      ]
    },
    {
      "cell_type": "markdown",
      "metadata": {
        "id": "VRqIv-LIyWI-"
      },
      "source": [
        "## 상수선언"
      ]
    },
    {
      "cell_type": "code",
      "execution_count": 3,
      "metadata": {
        "id": "yHsfLTvNyWI_"
      },
      "outputs": [],
      "source": [
        "DATA_PATH = \"/content/drive/MyDrive/Colab Notebooks/data/lyrics/*\" # 데이터 기본경로\n",
        "\n",
        "TOKENIZER_NUM_WORDS = 12000 # tokenizer 사전단어의 갯수. 12000개의 단어를 사전으로 사용\n",
        "MAX_WORD_OF_SENTENCE = 17 # <start>, <end> 를 포함한 한 문장 당 최대 단어의 갯수\n",
        "BATCH_SIZE = 256 # 학습시의 batch사이즈\n",
        "EMBEDDING_SIZE = 512 # 워드 벡터의 차원수\n",
        "HIDDEN_SIZE = 1024 # hidden layer수\n",
        "RUNNING_RATE = 0.005\n",
        "BASE_SENTENCE_DICT = { # 문장의 기본 dictonary\n",
        "    \"start\":\"<start>\"\n",
        "    ,\"end\":\"<end>\"\n",
        "    ,\"unknown\":\"<unk>\"\n",
        "    ,\"sep\":\" \"\n",
        "}\n",
        "TRAIN_TEST_SPLIT_KWARGS = {\n",
        "    \"test_size\":0.2, \"random_state\":2022\n",
        "}\n",
        "fit_kwargs = {\n",
        "    \"epochs\":10 # epoch 횟수\n",
        "    ,\"validation_data\": None # 추후 추가예정\n",
        "    , \"validation_freq\":2 # 검증빈도\n",
        "    , \"shuffle\" : True #epoch당 셔플을 할지의 여부\n",
        "}"
      ]
    },
    {
      "cell_type": "markdown",
      "metadata": {
        "id": "gwjUSaAsyWI_"
      },
      "source": [
        "## 함수/class선언"
      ]
    },
    {
      "cell_type": "code",
      "execution_count": 4,
      "metadata": {
        "id": "c_gOe-MayWI_"
      },
      "outputs": [],
      "source": [
        "class TextGenerator(tf.keras.Model):\n",
        "    \"\"\"\n",
        "    문장 학습모델\n",
        "\n",
        "    Attributes\n",
        "    ----------\n",
        "    None\n",
        "\n",
        "    Methods\n",
        "    -------\n",
        "        __init__(self, vocab_size, embedding_size, hidden_size)\n",
        "            사전의 단어수, 단어 임베이딩 수, hidden layer의 노드 수로\n",
        "            모델을 구성한다.\n",
        "        call(self, x)\n",
        "            모델의 포워드 패스 과정을 구현한 함수\n",
        "    \"\"\"\n",
        "\n",
        "    def __init__(self, vocab_size:int, embedding_size:int, hidden_size:int) -> tf.keras.Model:\n",
        "        \"\"\"\n",
        "        생성자\n",
        "        사전의 단어수, 단어 임베이딩 수, hidden layer의 노드 수로\n",
        "        모델을 구성한다.\n",
        "\n",
        "        Parameters\n",
        "        ----------\n",
        "        self : self\n",
        "          self\n",
        "        vocab_size : int\n",
        "          사전의 단어수\n",
        "        embedding_size: int\n",
        "          단어 임베이딩 수\n",
        "        hidden_size: int\n",
        "          hidden layer의 노드 수\n",
        "\n",
        "        Returns\n",
        "        -------\n",
        "        None\n",
        "        \"\"\"\n",
        "        super().__init__()\n",
        "        self.embedding = tf.keras.layers.Embedding(vocab_size, embedding_size) \n",
        "        self.rnn_1 = tf.keras.layers.LSTM(hidden_size, return_sequences=True, dropout=0.3)  \n",
        "        self.rnn_2 = tf.keras.layers.LSTM(hidden_size, return_sequences=True, dropout=0.3)\n",
        "        # self.rnn_3 = tf.keras.layers.LSTM(hidden_size, return_sequences=True, dropout=0.4)\n",
        "        self.linear = tf.keras.layers.Dense(vocab_size)\n",
        "        \n",
        "    def call(self, x) -> Union[List, List[List]]:\n",
        "        \"\"\"\n",
        "        모델의 포워드 패스 과정을 구현한 함수\n",
        "\n",
        "        Parameters\n",
        "        ----------\n",
        "        self : self\n",
        "            self\n",
        "        x : array like\n",
        "            모델에 연산을 수행할 tensor 데이터\n",
        "\n",
        "        Returns\n",
        "        -------\n",
        "        out : array like or list of array like\n",
        "            단일 혹은 리스트 형태의 tensor 데이터\n",
        "        \"\"\"\n",
        "        out = self.embedding(x)\n",
        "        out = self.rnn_1(out)\n",
        "        out = self.rnn_2(out)\n",
        "        # out = self.rnn_3(out)\n",
        "        out = self.linear(out)\n",
        "        \n",
        "        return out\n",
        "\n",
        "def preprocess_sentence(sentence:str) -> str:\n",
        "    \"\"\"\n",
        "    입력된 문장을 다음과 같은 전처리를 진행한다\n",
        "    1. 소문자로 바꾸고, 양쪽 공백을 지움\n",
        "    2. 특수문자 양쪽에 padding\n",
        "    3. 여러개의 공백은 하나의 `BASE_SENTENCE_DICT[\"sep\"]`으로 변환\n",
        "    4. a-zA-Z?.!,¿가 아닌 모든 문자를 하나의 `BASE_SENTENCE_DICT[\"sep\"]`으로 변환\n",
        "    5. 2 ~ 4과정서 생긴 양쪽 공백을 지움\n",
        "    6. `BASE_SENTENCE_DICT[\"sep\"]` 구분자로\n",
        "       문장 시작에는 `BASE_SENTENCE_DICT[\"start\"]`,\n",
        "       끝에는 `BASE_SENTENCE_DICT[\"end\"]`를 추가\n",
        "  \n",
        "    Parameters\n",
        "    ----------\n",
        "    sentence : str\n",
        "        전처리를 진행할 문장\n",
        "\n",
        "    Returns\n",
        "    -------\n",
        "    sentence : str\n",
        "        전처리가 완료된 문장\n",
        "    \"\"\"\n",
        "    sentence = sentence.lower().strip() # 1\n",
        "    sentence = re.sub(r\"([?.!,¿])\", r\" \\1 \", sentence) # 2\n",
        "    sentence = re.sub(r'[\" \"]+', BASE_SENTENCE_DICT[\"sep\"], sentence) # 3\n",
        "    sentence = re.sub(r\"[^a-zA-Z?.!,¿]+\", BASE_SENTENCE_DICT[\"sep\"], sentence) # 4\n",
        "    sentence = sentence.strip() # 5\n",
        "    sentence = BASE_SENTENCE_DICT[\"sep\"].join([BASE_SENTENCE_DICT[\"start\"], sentence, BASE_SENTENCE_DICT[\"end\"]]) # 6\n",
        "\n",
        "    return sentence\n",
        "\n",
        "def tokenize(corpus:List[List[str]], num_words:int, filters:str=BASE_SENTENCE_DICT[\"sep\"]):\n",
        "    \"\"\"\n",
        "    tensor flow`의 `Tokenizer`와 `pad_sequences`를 사용\n",
        "    다음과 같은 전처리를 진행한다\n",
        "        1. 다음과 같은 tokenize를 하는 tokenizer 생성\n",
        "        - `num_words`갯수만큼의 단어를 사전화\n",
        "            초과하는 단어에 대해서는 `BASE_SENTENCE_DICT[\"unknown\"]`(unknown)취급\n",
        "        - 단어의 구분은 `filters`의 규칙대로 생성\n",
        "        2. 문자 데이터를 입력받아 tokenizer의 규칙대로 사전을 내부적으로 생성\n",
        "        3. 사전을 기반으로 텍스트 안의 단어들을 숫자의 시퀀스 형태로 변환\n",
        "        4. 문장 뒤에 padding을 붙여 입력 데이터의 시퀀스 길이를 일정하게 맞춤\n",
        "  \n",
        "    Parameters\n",
        "    ----------\n",
        "    sentence : str\n",
        "        전처리를 진행할 문장\n",
        "    num_words : int\n",
        "    tokenizer 사전단어의 갯수\n",
        "    filters : str, default = `BASE_SENTENCE_DICT[\"sep\"]`\n",
        "        단어를 구분지을 규칙\n",
        "\n",
        "    Returns\n",
        "    -------\n",
        "    tensor : str\n",
        "        숫자의 시퀀스 형태의 tensor 데이터\n",
        "    tokenizer : str\n",
        "        tokenizer\n",
        "  \"\"\"\n",
        "    tokenizer = tf.keras.preprocessing.text.Tokenizer(\n",
        "        num_words=num_words\n",
        "        , filters=filters\n",
        "        , oov_token=BASE_SENTENCE_DICT[\"unknown\"]\n",
        "    ) # 1\n",
        "    tokenizer.fit_on_texts(corpus) # 2\n",
        "    tensor = tokenizer.texts_to_sequences(corpus) # 3\n",
        "    tensor = tf.keras.preprocessing.sequence.pad_sequences(tensor, padding='post') # 4\n",
        "    \n",
        "    print(type(tensor))\n",
        "    print(type(tokenizer))\n",
        "\n",
        "    return tensor, tokenizer\n",
        "\n",
        "def generate_text(model:TextGenerator, tokenizer, init_sentence:str=BASE_SENTENCE_DICT[\"start\"], max_len:int=20):\n",
        "    \"\"\"\n",
        "    모델에게 시작 문장을 전달하면 모델이 시작 문장을 바탕으로 작문을 진행\n",
        "    다음과 같은 과정으로 문장을 생성한다\n",
        "        1. `init_sentence`의 단어들을 숫자의 시퀀스의 형태로 변환 후 tensor 데이터로 변경\n",
        "        2. 루프를 돌면서 다음의 문장 시행\n",
        "            - 입력받은 문장의 tensor 데이터를 `model`에 입력\n",
        "            - 예측된 값 중 가장 높은 확률인 word index를 탐색\n",
        "            - 전 과정서 예측된 word index를 문장 뒤에 붙입니다\n",
        "            - 모델이 문장의 끝을 예측했거나, `max_len`에 도달했다면 문장 생성을 종료\n",
        "        3. `tokenizer`를 이용해 word index를 단어로 변환 \n",
        "\n",
        "    Parameters\n",
        "    ----------\n",
        "    sentence : str\n",
        "        전처리를 진행할 문장\n",
        "    tokenizer : tokenizer\n",
        "        tokenizer\n",
        "\n",
        "    Returns\n",
        "    -------\n",
        "    str\n",
        "        완성된 문장\n",
        "    \"\"\"\n",
        "\n",
        "    # 1    \n",
        "    test_input = tokenizer.texts_to_sequences([init_sentence])\n",
        "    test_tensor = tf.convert_to_tensor(test_input, dtype=tf.int64)\n",
        "\n",
        "    # 2\n",
        "    end_token = tokenizer.word_index[BASE_SENTENCE_DICT[\"end\"]]\n",
        "    while True:\n",
        "        predict = model(test_tensor)\n",
        "        predict_word = tf.argmax(tf.nn.softmax(predict, axis=-1), axis=-1)[:, -1]\n",
        "        test_tensor = tf.concat([test_tensor, tf.expand_dims(predict_word, axis=0)], axis=-1) \n",
        "        if predict_word.numpy()[0] == end_token: break\n",
        "        if test_tensor.shape[1] >= max_len: break\n",
        "\n",
        "    return BASE_SENTENCE_DICT[\"sep\"].join([tokenizer.index_word[word_index] for word_index in test_tensor[0].numpy()]) # 3\n"
      ]
    },
    {
      "cell_type": "markdown",
      "source": [
        "모델클레스 설계시 기본 입력데이터의 0.3정도를 드랍함으로써 과학습을 방지하였다.</br>\n",
        "실험결과 레이어를 늘려 학습시키는 것은 별반 도움이 되지 않았다. "
      ],
      "metadata": {
        "id": "2amJQq0jBi6K"
      }
    },
    {
      "cell_type": "markdown",
      "metadata": {
        "id": "4KW1DkVvyWJA"
      },
      "source": [
        "## 메인"
      ]
    },
    {
      "cell_type": "code",
      "execution_count": 5,
      "metadata": {
        "colab": {
          "base_uri": "https://localhost:8080/"
        },
        "id": "A2d8KxVHyWJA",
        "outputId": "c6f894d0-ddf8-4e93-f0d3-13cb610087d9"
      },
      "outputs": [
        {
          "output_type": "stream",
          "name": "stdout",
          "text": [
            "데이터 크기: 187088\n",
            "Examples:\n",
            " ['I. LIFE.', '', '']\n"
          ]
        }
      ],
      "source": [
        "raw_corpus = [] \n",
        "for txt_file in glob.glob(DATA_PATH):\n",
        "    with open(txt_file, \"r\") as f:\n",
        "        raw = f.read().splitlines()\n",
        "        raw_corpus.extend(raw)\n",
        "\n",
        "print(\"데이터 크기:\", len(raw_corpus))\n",
        "print(\"Examples:\\n\", raw_corpus[:3])"
      ]
    },
    {
      "cell_type": "markdown",
      "metadata": {
        "id": "z0NV7psayWJB"
      },
      "source": [
        "여러개의 txt 파일을 모두 읽어서 `raw_corpus` 에 문자열단위로 저장"
      ]
    },
    {
      "cell_type": "code",
      "source": [
        "corpus = []\n",
        "for sentence in raw_corpus:\n",
        "    \n",
        "    # 공백을 제외하고 문자열 길이가 0일때\n",
        "    if len(sentence.strip()) == 0: continue\n",
        "    # 등장인물의 이름을 제외할때\n",
        "    if sentence[-1] == \":\": continue\n",
        "    # 언어 전처리\n",
        "    prep_sentence = preprocess_sentence(sentence)\n",
        "    # new! <start>, <end>을 포함한 토큰의 길이가 17를 넘을 때\n",
        "    if len(prep_sentence.split(\" \")) > MAX_WORD_OF_SENTENCE: continue\n",
        "    corpus.append(prep_sentence)\n",
        "\n",
        "print(\"데이터 크기:\", len(corpus))\n",
        "print(\"Examples:\\n\", corpus[:3])"
      ],
      "metadata": {
        "colab": {
          "base_uri": "https://localhost:8080/"
        },
        "id": "xxGoQmKg8h31",
        "outputId": "8188318d-42ed-4893-c9ee-d8a6c40d23b7"
      },
      "execution_count": 6,
      "outputs": [
        {
          "output_type": "stream",
          "name": "stdout",
          "text": [
            "데이터 크기: 163462\n",
            "Examples:\n",
            " ['<start> i . life . <end>', '<start> i . <end>', '<start> success . <end>']\n"
          ]
        }
      ]
    },
    {
      "cell_type": "markdown",
      "source": [
        "raw_corpus list에 저장된 문장들을 순서대로 전처리하여 sentence에 저장\n",
        "다음의 문장을 순서대로 제외한다.\n",
        " - 공백을 제외하고 문자열 길이가 0일때\n",
        " - 각본의 등장인물의 이름을 제외\n",
        " - `preprocess_sentence`함수로 전처리가 끝난 문장의 길이가 `<start>`, `<end>`를 포함하여 17이 넘을 때<br>\n",
        "  ※ 15단어의 기준을 처음과 끝을 제외한 15단어라고 해석<br>\n",
        "     총 길이가 17미만인 문장만 학습\n",
        "\n",
        "그 후 총 학습할 문장의 수와 예시문장 출력"
      ],
      "metadata": {
        "id": "w7d-BTZk8lTO"
      }
    },
    {
      "cell_type": "code",
      "source": [
        "tensor, tokenizer = tokenize(corpus, TOKENIZER_NUM_WORDS)\n",
        "\n",
        "src_input = tensor[:, :-1]\n",
        "tgt_input = tensor[:, 1:]\n",
        "\n",
        "vocab_size = tokenizer.num_words + 1"
      ],
      "metadata": {
        "colab": {
          "base_uri": "https://localhost:8080/"
        },
        "id": "qt-Sy03s8lkQ",
        "outputId": "70a78194-40e1-4ee7-a5d5-84cf7be49989"
      },
      "execution_count": 7,
      "outputs": [
        {
          "output_type": "stream",
          "name": "stdout",
          "text": [
            "<class 'numpy.ndarray'>\n",
            "<class 'keras_preprocessing.text.Tokenizer'>\n"
          ]
        }
      ]
    },
    {
      "cell_type": "markdown",
      "source": [
        "`src_input(data)`: `<start>`를 제외한 문장을 학습데이터로 생성</br>\n",
        "`tgt_input(target)`: 마지막 토큰을 제외한 문장을 타겟데이터로 생성</br>"
      ],
      "metadata": {
        "id": "YzUEWrGg8o0Y"
      }
    },
    {
      "cell_type": "code",
      "source": [
        "enc_train, enc_val, dec_train, dec_val = train_test_split(src_input, tgt_input, **TRAIN_TEST_SPLIT_KWARGS)\n",
        "dataset = tf.data.Dataset.from_tensor_slices((enc_train, dec_train)).shuffle(len(src_input)).batch(BATCH_SIZE, drop_remainder=True)\n",
        "fit_kwargs[\"validation_data\"] = (enc_val, dec_val)"
      ],
      "metadata": {
        "id": "TvES4nCJ8pCk"
      },
      "execution_count": 8,
      "outputs": []
    },
    {
      "cell_type": "markdown",
      "source": [
        "학습과 검증은 각각 2:8비율로 나누었으며,</br>\n",
        "완벽한 shuffle을 위해 전체 학습문장의 수만큼을 버퍼사이즈로 설정하고 섞었다.</br> \n",
        "한번당 학습할 횟수(`BATCH_SIZE`)를 256으로 설정하였다.</br>"
      ],
      "metadata": {
        "id": "rKxcLDwm8qW8"
      }
    },
    {
      "cell_type": "code",
      "source": [
        "model = TextGenerator(tokenizer.num_words + 1, EMBEDDING_SIZE , HIDDEN_SIZE)\n",
        "\n",
        "model.compile(\n",
        "    loss=tf.keras.losses.SparseCategoricalCrossentropy(\n",
        "        from_logits=True, # 모델의 계산식에 nomalize하는 부분이 없으므로 `True`로 설정\n",
        "        reduction=tf.keras.losses.Reduction.NONE  # 출력해서 나오는 값을 모두 원하므로 `reduction`은 설정하지 않음\n",
        "    )\n",
        "    , optimizer=tf.keras.optimizers.Adam(\n",
        "        learning_rate=RUNNING_RATE # running rate\n",
        "    ) # optimizer로 Adam방식. NPL일시 Adam을 사용하는게 일반적이다.\n",
        ")\n",
        "model.fit(\n",
        "    dataset\n",
        "    , **fit_kwargs\n",
        ")\n",
        "model.summary()"
      ],
      "metadata": {
        "colab": {
          "base_uri": "https://localhost:8080/"
        },
        "id": "WT0IXXLE8tFV",
        "outputId": "74f45129-e9cf-4e61-c8c9-057aee53d2c2"
      },
      "execution_count": 9,
      "outputs": [
        {
          "output_type": "stream",
          "name": "stdout",
          "text": [
            "Epoch 1/10\n",
            "510/510 [==============================] - 16s 19ms/step - loss: 2.9949\n",
            "Epoch 2/10\n",
            "510/510 [==============================] - 14s 28ms/step - loss: 2.5171 - val_loss: 2.4539\n",
            "Epoch 3/10\n",
            "510/510 [==============================] - 10s 19ms/step - loss: 2.3276\n",
            "Epoch 4/10\n",
            "510/510 [==============================] - 14s 26ms/step - loss: 2.1833 - val_loss: 2.2823\n",
            "Epoch 5/10\n",
            "510/510 [==============================] - 10s 19ms/step - loss: 2.0669\n",
            "Epoch 6/10\n",
            "510/510 [==============================] - 14s 27ms/step - loss: 1.9703 - val_loss: 2.2124\n",
            "Epoch 7/10\n",
            "510/510 [==============================] - 10s 19ms/step - loss: 1.8894\n",
            "Epoch 8/10\n",
            "510/510 [==============================] - 14s 27ms/step - loss: 1.8209 - val_loss: 2.1844\n",
            "Epoch 9/10\n",
            "510/510 [==============================] - 10s 19ms/step - loss: 1.7624\n",
            "Epoch 10/10\n",
            "510/510 [==============================] - 14s 27ms/step - loss: 1.7109 - val_loss: 2.1724\n",
            "Model: \"text_generator\"\n",
            "_________________________________________________________________\n",
            " Layer (type)                Output Shape              Param #   \n",
            "=================================================================\n",
            " embedding (Embedding)       multiple                  6144512   \n",
            "                                                                 \n",
            " lstm (LSTM)                 multiple                  6295552   \n",
            "                                                                 \n",
            " lstm_1 (LSTM)               multiple                  8392704   \n",
            "                                                                 \n",
            " dense (Dense)               multiple                  12301025  \n",
            "                                                                 \n",
            "=================================================================\n",
            "Total params: 33,133,793\n",
            "Trainable params: 33,133,793\n",
            "Non-trainable params: 0\n",
            "_________________________________________________________________\n"
          ]
        }
      ]
    },
    {
      "cell_type": "markdown",
      "source": [
        "`vocab_size`는 전체 `단어 사이즈 + 공백`으로 설정</br>\n",
        "`optimzier`는 `NPL`에서 가장많이 사용하는 방식이 `Adam` 이므로 Adam으로 설정하였다.</br>\n",
        "학습시 `epoch`당 단어를 셔플함으로써 학습에 오버피팅을 방지하였다.</br>\n",
        "`running rate`는 0.005로 설정하여 오히려 학습률을 올렸다.(기본은 0.001)</br>"
      ],
      "metadata": {
        "id": "JrGO4cnM93bP"
      }
    },
    {
      "cell_type": "code",
      "source": [
        "generate_text(model, tokenizer, init_sentence=\"<start> i love\", max_len=20)"
      ],
      "metadata": {
        "colab": {
          "base_uri": "https://localhost:8080/",
          "height": 35
        },
        "id": "mceT-gnj92P3",
        "outputId": "d08f7b61-299f-424d-beaa-ea7280531ff4"
      },
      "execution_count": 10,
      "outputs": [
        {
          "output_type": "execute_result",
          "data": {
            "text/plain": [
              "'<start> i love you so much <end>'"
            ],
            "application/vnd.google.colaboratory.intrinsic+json": {
              "type": "string"
            }
          },
          "metadata": {},
          "execution_count": 10
        }
      ]
    },
    {
      "cell_type": "markdown",
      "source": [
        "학습한 데이터를 출력한 결과 해석하는데 지장이 없는 문장이 완성되었다.</br>\n",
        "대체로 학습률이 낮을수록 문장이 해석이 안되는 현상이 보였지만 여기에서는 따로 언급을 안하겠다.</br>"
      ],
      "metadata": {
        "id": "tA8pbEhb92dp"
      }
    },
    {
      "cell_type": "markdown",
      "metadata": {
        "id": "aNfYD03qyWJB"
      },
      "source": [
        "## 회고"
      ]
    },
    {
      "cell_type": "markdown",
      "metadata": {
        "id": "5ECyhAc2yWJB"
      },
      "source": [
        "1. `running rate`, `batch size`, `dropout` 등 많은 부분에서</br>\n",
        " 학습에 관해 조정이 가능한 부분이 있었지만</br>\n",
        "`epoch`이 10으로 제한되어있어 많은 어려움이 있었다.\n",
        "2. layer의 `dropout`, 학습의 `shuffle`이 오버피팅을 방지하는데 큰 도움이 되었다.\n",
        "3. `epoch`이 10인 관계로 validation loss가 2.2이상 2.3이하로 측정되는 케이스가 많았다.</br> 이는 학습률을 올리면서 깔끔하게 해결되었다."
      ]
    }
  ],
  "metadata": {
    "kernelspec": {
      "display_name": "Python 3.10.4 64-bit",
      "language": "python",
      "name": "python3"
    },
    "language_info": {
      "codemirror_mode": {
        "name": "ipython",
        "version": 3
      },
      "file_extension": ".py",
      "mimetype": "text/x-python",
      "name": "python",
      "nbconvert_exporter": "python",
      "pygments_lexer": "ipython3",
      "version": "3.10.4"
    },
    "orig_nbformat": 4,
    "vscode": {
      "interpreter": {
        "hash": "26de051ba29f2982a8de78e945f0abaf191376122a1563185a90213a26c5da77"
      }
    },
    "colab": {
      "provenance": [],
      "toc_visible": true,
      "machine_shape": "hm"
    },
    "accelerator": "GPU",
    "gpuClass": "premium"
  },
  "nbformat": 4,
  "nbformat_minor": 0
}