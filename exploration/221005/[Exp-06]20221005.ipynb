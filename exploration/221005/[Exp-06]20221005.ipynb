{
  "cells": [
    {
      "cell_type": "code",
      "source": [
        "# google colab전용\n",
        "from google.colab import drive\n",
        "drive.mount('/content/drive')"
      ],
      "metadata": {
        "colab": {
          "base_uri": "https://localhost:8080/"
        },
        "id": "F9wYCzIrDdTr",
        "outputId": "92479abf-4e08-4e59-b0ff-66a73b400342"
      },
      "execution_count": 1,
      "outputs": [
        {
          "output_type": "stream",
          "name": "stdout",
          "text": [
            "Drive already mounted at /content/drive; to attempt to forcibly remount, call drive.mount(\"/content/drive\", force_remount=True).\n"
          ]
        }
      ]
    },
    {
      "cell_type": "markdown",
      "metadata": {
        "id": "skVtpqBhyWI6"
      },
      "source": [
        "# exploration 6번째 과제</br>\n",
        "@ 황한용(3기/쏘카)"
      ]
    },
    {
      "cell_type": "markdown",
      "metadata": {
        "id": "3mR4iHQyyWI9"
      },
      "source": [
        "## 라이브러리 선언"
      ]
    },
    {
      "cell_type": "code",
      "execution_count": 2,
      "metadata": {
        "id": "OkqTpD_EyWI-"
      },
      "outputs": [],
      "source": [
        "import glob\n",
        "import os\n",
        "import re\n",
        "from typing import List, Tuple, Union\n",
        "\n",
        "import tensorflow as tf\n",
        "from pathlib import Path\n",
        "from sklearn.model_selection import train_test_split"
      ]
    },
    {
      "cell_type": "markdown",
      "metadata": {
        "id": "VRqIv-LIyWI-"
      },
      "source": [
        "## 상수선언"
      ]
    },
    {
      "cell_type": "code",
      "execution_count": 3,
      "metadata": {
        "id": "yHsfLTvNyWI_"
      },
      "outputs": [],
      "source": [
        "DATA_PATH = \"/content/drive/MyDrive/Colab Notebooks/data/lyrics/*\" # 데이터 기본경로\n",
        "\n",
        "TOKENIZER_NUM_WORDS = 12000 # tokenizer 사전단어의 갯수. 12000개의 단어를 사전으로 사용\n",
        "MAX_WORD_OF_SENTENCE = 17 # <start>, <end> 를 포함한 한 문장 당 최대 단어의 갯수\n",
        "BATCH_SIZE = 256 # 학습시의 batch사이즈\n",
        "EMBEDDING_SIZE = 512 # 워드 벡터의 차원수\n",
        "HIDDEN_SIZE = 1024 # hidden layer수\n",
        "BASE_SENTENCE_DICT = { # 문장의 기본 dictonary\n",
        "    \"start\":\"<start>\"\n",
        "    \"end\":\"<end>\"\n",
        "    \"unknown\":\"<unk>\"\n",
        "    \"sep\":\" \"\n",
        "}\n",
        "TRAIN_TEST_SPLIT_KWARGS = {\n",
        "    \"test_size\":0.2, \"random_state\":2022\n",
        "}"
      ]
    },
    {
      "cell_type": "markdown",
      "metadata": {
        "id": "gwjUSaAsyWI_"
      },
      "source": [
        "## 함수/class선언"
      ]
    },
    {
      "cell_type": "code",
      "execution_count": 4,
      "metadata": {
        "id": "c_gOe-MayWI_"
      },
      "outputs": [],
      "source": [
        "class TextGenerator(tf.keras.Model):\n",
        "  \"\"\"\n",
        "  문장 학습모델\n",
        "\n",
        "  Attributes\n",
        "  ----------\n",
        "  None\n",
        "\n",
        "  Methods\n",
        "  -------\n",
        "    __init__(self, vocab_size, embedding_size, hidden_size)\n",
        "      사전의 단어수, 단어 임베이딩 수, hidden layer의 노드 수로\n",
        "      모델을 구성한다.\n",
        "    call(self, x)\n",
        "      모델의 포워드 패스 과정을 구현한 함수\n",
        "  \"\"\"\n",
        "\n",
        "    def __init__(self, vocab_size:int, embedding_size:int, hidden_size:int) -> tf.keras.Model:\n",
        "        \"\"\"\n",
        "        생성자\n",
        "        사전의 단어수, 단어 임베이딩 수, hidden layer의 노드 수로\n",
        "        모델을 구성한다.\n",
        "\n",
        "        Parameters\n",
        "        ----------\n",
        "        self : self\n",
        "          self\n",
        "        vocab_size : int\n",
        "          사전의 단어수\n",
        "        embedding_size: int\n",
        "          단어 임베이딩 수\n",
        "        hidden_size: int\n",
        "          hidden layer의 노드 수\n",
        "\n",
        "        Returns\n",
        "        -------\n",
        "        None\n",
        "        \"\"\"\n",
        "        super().__init__()\n",
        "        self.embedding = tf.keras.layers.Embedding(vocab_size, embedding_size) \n",
        "        self.rnn_1 = tf.keras.layers.LSTM(hidden_size, return_sequences=True)  \n",
        "        self.rnn_2 = tf.keras.layers.LSTM(hidden_size, return_sequences=True)\n",
        "        self.linear = tf.keras.layers.Dense(vocab_size)\n",
        "        \n",
        "    def call(self, x) -> Union[List, List[List]]:\n",
        "      \"\"\"\n",
        "      모델의 포워드 패스 과정을 구현한 함수\n",
        "\n",
        "      Parameters\n",
        "      ----------\n",
        "      self : self\n",
        "          self\n",
        "      x : array like\n",
        "        모델에 연산을 수행할 tensor 데이터\n",
        "\n",
        "      Returns\n",
        "      -------\n",
        "      out : array like or list of array like\n",
        "        단일 혹은 리스트 형태의 tensor 데이터\n",
        "      \"\"\"\n",
        "        out = self.embedding(x)\n",
        "        out = self.rnn_1(out)\n",
        "        out = self.rnn_2(out)\n",
        "        out = self.linear(out)\n",
        "        \n",
        "        return out\n",
        "\n",
        "def preprocess_sentence(sentence:str) -> str:\n",
        "  \"\"\"\n",
        "  입력된 문장을 다음과 같은 전처리를 진행한다\n",
        "    1. 소문자로 바꾸고, 양쪽 공백을 지움\n",
        "    2. 특수문자 양쪽에 padding\n",
        "    3. 여러개의 공백은 하나의 `BASE_SENTENCE_DICT[\"sep\"]`으로 변환\n",
        "    4. a-zA-Z?.!,¿가 아닌 모든 문자를 하나의 `BASE_SENTENCE_DICT[\"sep\"]`으로 변환\n",
        "    5. 2 ~ 4과정서 생긴 양쪽 공백을 지움\n",
        "    6. `BASE_SENTENCE_DICT[\"sep\"]` 구분자로\n",
        "       문장 시작에는 `BASE_SENTENCE_DICT[\"start\"]`,\n",
        "       끝에는 `BASE_SENTENCE_DICT[\"end\"]`를 추가\n",
        "  \n",
        "  Parameters\n",
        "  ----------\n",
        "  sentence : str\n",
        "    전처리를 진행할 문장\n",
        "\n",
        "  Returns\n",
        "  -------\n",
        "  sentence : str\n",
        "    전처리가 완료된 문장\n",
        "  \"\"\"\n",
        "    sentence = sentence.lower().strip() # 1\n",
        "    sentence = re.sub(r\"([?.!,¿])\", r\" \\1 \", sentence) # 2\n",
        "    sentence = re.sub(r'[\" \"]+', BASE_SENTENCE_DICT[\"sep\"], sentence) # 3\n",
        "    sentence = re.sub(r\"[^a-zA-Z?.!,¿]+\", BASE_SENTENCE_DICT[\"sep\"], sentence) # 4\n",
        "    sentence = sentence.strip() # 5\n",
        "    sentence = BASE_SENTENCE_DICT[\"sep\"].join(BASE_SENTENCE_DICT[\"start\"], sentence, BASE_SENTENCE_DICT[\"end\"]) # 6\n",
        "    \n",
        "    return sentence\n",
        "\n",
        "def tokenize(corpus:List[List[str]], num_words:int, filters=BASE_SENTENCE_DICT[\"sep\"]:str):\n",
        "  \"\"\"\n",
        "  `tensor flow`의 `Tokenizer`와 `pad_sequences`를 사용\n",
        "  다음과 같은 전처리를 진행한다\n",
        "    1. 다음과 같은 tokenize를 하는 tokenizer 생성\n",
        "      - `num_words`갯수만큼의 단어를 사전화\n",
        "        초과하는 단어에 대해서는 `BASE_SENTENCE_DICT[\"unknown\"]`(unknown)취급\n",
        "      - 단어의 구분은 `filters`의 규칙대로 생성\n",
        "    2. 문자 데이터를 입력받아 tokenizer의 규칙대로 사전을 내부적으로 생성\n",
        "    3. 사전을 기반으로 텍스트 안의 단어들을 숫자의 시퀀스 형태로 변환\n",
        "    4. 문장 뒤에 padding을 붙여 입력 데이터의 시퀀스 길이를 일정하게 맞춤\n",
        "  \n",
        "  Parameters\n",
        "  ----------\n",
        "  sentence : str\n",
        "    전처리를 진행할 문장\n",
        "  num_words : int\n",
        "    tokenizer 사전단어의 갯수\n",
        "  filters : str, default = `BASE_SENTENCE_DICT[\"sep\"]`\n",
        "    단어를 구분지을 규칙\n",
        "\n",
        "  Returns\n",
        "  -------\n",
        "  tensor : str\n",
        "    숫자의 시퀀스 형태의 tensor 데이터\n",
        "  tokenizer : str\n",
        "    tokenizer\n",
        "  \"\"\"\n",
        "    tokenizer = tf.keras.preprocessing.text.Tokenizer(\n",
        "        num_words=num_words\n",
        "        , filters=filters\n",
        "        , oov_token=BASE_SENTENCE_DICT[\"unknown\"]\n",
        "    ) # 1\n",
        "    tokenizer.fit_on_texts(corpus) # 2\n",
        "    tensor = tokenizer.texts_to_sequences(corpus) # 3\n",
        "    tensor = tf.keras.preprocessing.sequence.pad_sequences(tensor, padding='post') # 4\n",
        "    \n",
        "    print(type(tensor))\n",
        "    print(type(tokenizer))\n",
        "\n",
        "    return tensor, tokenizer\n",
        "\n",
        "def generate_text(model:TextGenerator, tokenizer, init_sentence=BASE_SENTENCE_DICT[\"start\"]:str, max_len=20:int):\n",
        "  \"\"\"\n",
        "  모델에게 시작 문장을 전달하면 모델이 시작 문장을 바탕으로 작문을 진행\n",
        "  다음과 같은 과정으로 문장을 생성한다\n",
        "    1. `init_sentence`의 단어들을 숫자의 시퀀스의 형태로 변환 후 tensor 데이터로 변경\n",
        "    2. 루프를 돌면서 다음의 문장 시행\n",
        "      - 입력받은 문장의 tensor 데이터를 `model`에 입력\n",
        "      - 예측된 값 중 가장 높은 확률인 word index를 탐색\n",
        "      - 전 과정서 예측된 word index를 문장 뒤에 붙입니다\n",
        "      - 모델이 문장의 끝을 예측했거나, `max_len`에 도달했다면 문장 생성을 종료\n",
        "    3. `tokenizer`를 이용해 word index를 단어로 변환 \n",
        "  \n",
        "  Parameters\n",
        "  ----------\n",
        "  sentence : str\n",
        "    전처리를 진행할 문장\n",
        "  tokenizer : tokenizer\n",
        "    tokenizer\n",
        "\n",
        "  Returns\n",
        "  -------\n",
        "  str\n",
        "    완성된 문장\n",
        "  \"\"\"\n",
        "\n",
        "    # 1    \n",
        "    test_input = tokenizer.texts_to_sequences([init_sentence])\n",
        "    test_tensor = tf.convert_to_tensor(test_input, dtype=tf.int64)\n",
        "\n",
        "    # 2\n",
        "    end_token = tokenizer.word_index[BASE_SENTENCE_DICT[\"end\"]]\n",
        "    while True:\n",
        "        predict = model(test_tensor)\n",
        "        predict_word = tf.argmax(tf.nn.softmax(predict, axis=-1), axis=-1)[:, -1]\n",
        "        test_tensor = tf.concat([test_tensor, tf.expand_dims(predict_word, axis=0)], axis=-1) \n",
        "        if predict_word.numpy()[0] == end_token: break\n",
        "        if test_tensor.shape[1] >= max_len: break\n",
        "\n",
        "    return BASE_SENTENCE_DICT[\"sep\"].join([tokenizer.index_word[word_index] for word_index in test_tensor[0].numpy()]) # 3\n"
      ]
    },
    {
      "cell_type": "markdown",
      "metadata": {
        "id": "4KW1DkVvyWJA"
      },
      "source": [
        "## 메인"
      ]
    },
    {
      "cell_type": "code",
      "execution_count": 5,
      "metadata": {
        "colab": {
          "base_uri": "https://localhost:8080/"
        },
        "id": "A2d8KxVHyWJA",
        "outputId": "6d0b5001-cc54-4211-8b25-e0ed02974c45"
      },
      "outputs": [
        {
          "output_type": "stream",
          "name": "stdout",
          "text": [
            "데이터 크기: 187088\n",
            "Examples:\n",
            " [\"Busted flat in Baton Rouge, waitin' for a train\", \"And I's feelin' near as faded as my jeans\", 'Bobby thumbed a diesel down, just before it rained']\n"
          ]
        }
      ],
      "source": [
        "raw_corpus = [] \n",
        "for txt_file in glob.glob(DATA_PATH):\n",
        "    with open(txt_file, \"r\") as f:\n",
        "        raw = f.read().splitlines()\n",
        "        raw_corpus.extend(raw)\n",
        "\n",
        "print(\"데이터 크기:\", len(raw_corpus))\n",
        "print(\"Examples:\\n\", raw_corpus[:3])"
      ]
    },
    {
      "cell_type": "markdown",
      "metadata": {
        "id": "z0NV7psayWJB"
      },
      "source": [
        "여러개의 txt 파일을 모두 읽어서 `raw_corpus` 에 문자열단위로 저장"
      ]
    },
    {
      "cell_type": "code",
      "source": [
        "corpus = []\n",
        "for sentence in raw_corpus:\n",
        "    \n",
        "    # 공백을 제외하고 문자열 길이가 0일때\n",
        "    if len(sentence.strip()) == 0: continue\n",
        "    # 등장인물의 이름을 제외할때\n",
        "    if sentence[-1] == \":\": continue\n",
        "    # 언어 전처리\n",
        "    prep_sentence = preprocess_sentence(sentence)\n",
        "    # new! <start>, <end>을 포함한 토큰의 길이가 17를 넘을 때\n",
        "    if len(prep_sentence.split(\" \")) > MAX_WORD_OF_SENTENCE: continue\n",
        "    corpus.append(prep_sentence)\n",
        "\n",
        "print(\"데이터 크기:\", len(corpus))\n",
        "print(\"Examples:\\n\", corpus[:3])"
      ],
      "metadata": {
        "colab": {
          "base_uri": "https://localhost:8080/"
        },
        "id": "xxGoQmKg8h31",
        "outputId": "d138c08b-80e3-4e77-fe8b-3bf902f3e61a"
      },
      "execution_count": 6,
      "outputs": [
        {
          "output_type": "stream",
          "name": "stdout",
          "text": [
            "데이터 크기: 163462\n",
            "Examples:\n",
            " ['<start> busted flat in baton rouge , waitin for a train <end>', '<start> and i s feelin near as faded as my jeans <end>', '<start> bobby thumbed a diesel down , just before it rained <end>']\n"
          ]
        }
      ]
    },
    {
      "cell_type": "markdown",
      "source": [
        "raw_corpus list에 저장된 문장들을 순서대로 전처리하여 sentence에 저장\n",
        "다음의 문장을 순서대로 제외한다.\n",
        " - 공백을 제외하고 문자열 길이가 0일때\n",
        " - 각본의 등장인물의 이름을 제외\n",
        " - `preprocess_sentence`함수로 전처리가 끝난 문장의 길이가 `<start>`, `<end>`를 포함하여 17이 넘을 때<br>\n",
        "  ※ 15단어의 기준을 처음과 끝을 제외한 15단어라고 해석<br>\n",
        "     총 길이가 17미만인 문장만 학습\n",
        "\n",
        "그 후 총 학습할 문장의 수와 예시문장 출력"
      ],
      "metadata": {
        "id": "w7d-BTZk8lTO"
      }
    },
    {
      "cell_type": "code",
      "source": [
        "tensor, tokenizer = tokenize(corpus, TOKENIZER_NUM_WORDS)\n",
        "\n",
        "src_input = tensor[:, :-1]\n",
        "tgt_input = tensor[:, 1:]\n",
        "\n",
        "vocab_size = tokenizer.num_words + 1"
      ],
      "metadata": {
        "colab": {
          "base_uri": "https://localhost:8080/"
        },
        "id": "qt-Sy03s8lkQ",
        "outputId": "c31add97-78b6-4a17-feb8-dcbdf468de28"
      },
      "execution_count": 7,
      "outputs": [
        {
          "output_type": "stream",
          "name": "stdout",
          "text": [
            "[[   2 4211 1727 ...    0    0    0]\n",
            " [   2    8    4 ...    0    0    0]\n",
            " [   2  866 7106 ...    0    0    0]\n",
            " ...\n",
            " [   2  310    1 ...    0    0    0]\n",
            " [   2  716    4 ... 1130  141    3]\n",
            " [   2  716    4 ... 1130  141    3]] <keras_preprocessing.text.Tokenizer object at 0x7f90fa25ccd0>\n"
          ]
        }
      ]
    },
    {
      "cell_type": "markdown",
      "source": [
        "`src_input(data)`: `<start>`를 제외한 문장을 학습데이터로 생성</br>\n",
        "`tgt_input(target)`: 마지막 토큰을 제외한 문장을 타겟데이터로 생성</br>"
      ],
      "metadata": {
        "id": "YzUEWrGg8o0Y"
      }
    },
    {
      "cell_type": "code",
      "source": [
        "enc_train, enc_val, dec_train, dec_val = train_test_split(src_input, tgt_input, **TRAIN_TEST_SPLIT_KWARGS)\n",
        "\n",
        "dataset = tf.data.Dataset.from_tensor_slices((enc_train, dec_train)).shuffle(len(src_input)).batch(BATCH_SIZE)\n"
      ],
      "metadata": {
        "id": "TvES4nCJ8pCk"
      },
      "execution_count": 8,
      "outputs": []
    },
    {
      "cell_type": "markdown",
      "source": [
        "학습과 검증은 각각 2:8비율로 나누었으며,</br>\n",
        "완벽한 shuffle을 위해 전체 학습문장의 수만큼을 버퍼사이즈로 설정하고 섞었다.</br> \n",
        "한번당 학습할 횟수(`BATCH_SIZE`)를 256으로 설정하였다.</br>\n",
        "이번 학습에서는 마지막 학습할 문장의 갯수가 256미만이여도 학습하는 것으로 하였다.</br>"
      ],
      "metadata": {
        "id": "rKxcLDwm8qW8"
      }
    },
    {
      "cell_type": "code",
      "source": [
        "model = TextGenerator(tokenizer.num_words + 1, embedding_size , hidden_size) # tokenizer.num_words에 +1인 이유는 문장에 없는 pad가 사용되었기 때문이다.\n",
        "\n",
        "# optimizer와 loss등은 차차 배웁니다\n",
        "# 혹시 미리 알고 싶다면 아래 문서를 참고하세요\n",
        "# https://www.tensorflow.org/api_docs/python/tf/keras/optimizers\n",
        "# https://www.tensorflow.org/api_docs/python/tf/keras/losses\n",
        "# 양이 상당히 많은 편이니 지금 보는 것은 추천하지 않습니다\n",
        "\n",
        "# Adam 알고리즘을 구현하는 optimzier이며 어떤 optimzier를 써야할지 모른다면 Adam을 쓰는 것도 방법이다.\n",
        "# 우리가 학습을 할 때 최대한 틀리지 않는 방향으로 학습을 해야한다.\n",
        "# 여기서 얼마나 틀리는지(loss)를 알게하는 함수가 손실함수 이다.\n",
        "# 이 손실함수의 최소값을 찾는 것을 학습의 목표로 하며 여기서 최소값을 찾아가는 과정을 optimization 이라하고\n",
        "# 이를 수행하는 알고리즘을 optimizer(최적화)라고 한다.\n",
        "\n",
        "optimizer = tf.keras.optimizers.Adam() # Adam은 현재 가장 많이 사용하는 옵티마이저이다. 자세한 내용은 차차 배운다.\n",
        "loss = tf.keras.losses.SparseCategoricalCrossentropy( # 훈련 데이터의 라벨이 정수의 형태로 제공될 때 사용하는 손실함수이다.\n",
        "    from_logits=True, # 기본값은 False이다. 모델에 의해 생성된 출력 값이 정규화되지 않았음을 손실 함수에 알려준다. 즉 softmax함수가 적용되지 않았다는걸 의미한다. \n",
        "    reduction='none'  # 기본값은 SUM이다. 각자 나오는 값의 반환 원할 때 None을 사용한다.\n",
        ")\n",
        "# 모델을 학습시키키 위한 학습과정을 설정하는 단계이다.\n",
        "model.compile(loss=loss, optimizer=optimizer) # 손실함수와 훈련과정을 설정했다.\n",
        "# 만들어둔 데이터셋으로 모델을 학습한다. 30번 학습을 반복하겠다는 의미다.\n",
        "model.fit(\n",
        "    dataset\n",
        "    , epochs=10\n",
        "    , validation_data=(enc_val, dec_val)\n",
        "    , validation_freq=2)\n",
        "# 모델의 구조를 확인합니다.\n",
        "model.summary()"
      ],
      "metadata": {
        "colab": {
          "base_uri": "https://localhost:8080/"
        },
        "id": "WT0IXXLE8tFV",
        "outputId": "f852fe91-ecc8-4417-a602-28d58f343a6b"
      },
      "execution_count": 9,
      "outputs": [
        {
          "output_type": "stream",
          "name": "stdout",
          "text": [
            "Epoch 1/10\n",
            "510/510 [==============================] - 59s 107ms/step - loss: 3.1822\n",
            "Epoch 2/10\n",
            "510/510 [==============================] - 64s 125ms/step - loss: 2.7134 - val_loss: 2.6353\n",
            "Epoch 3/10\n",
            "510/510 [==============================] - 55s 107ms/step - loss: 2.5483\n",
            "Epoch 4/10\n",
            "510/510 [==============================] - 63s 124ms/step - loss: 2.4200 - val_loss: 2.4440\n",
            "Epoch 5/10\n",
            "510/510 [==============================] - 55s 107ms/step - loss: 2.3085\n",
            "Epoch 6/10\n",
            "510/510 [==============================] - 63s 124ms/step - loss: 2.2051 - val_loss: 2.3287\n",
            "Epoch 7/10\n",
            "510/510 [==============================] - 55s 107ms/step - loss: 2.1075\n",
            "Epoch 8/10\n",
            "510/510 [==============================] - 63s 124ms/step - loss: 2.0139 - val_loss: 2.2460\n",
            "Epoch 9/10\n",
            "510/510 [==============================] - 55s 107ms/step - loss: 1.9233\n",
            "Epoch 10/10\n",
            "510/510 [==============================] - 63s 124ms/step - loss: 1.8365 - val_loss: 2.1849\n",
            "Model: \"text_generator\"\n",
            "_________________________________________________________________\n",
            " Layer (type)                Output Shape              Param #   \n",
            "=================================================================\n",
            " embedding (Embedding)       multiple                  6144512   \n",
            "                                                                 \n",
            " lstm (LSTM)                 multiple                  6295552   \n",
            "                                                                 \n",
            " lstm_1 (LSTM)               multiple                  8392704   \n",
            "                                                                 \n",
            " dense (Dense)               multiple                  12301025  \n",
            "                                                                 \n",
            "=================================================================\n",
            "Total params: 33,133,793\n",
            "Trainable params: 33,133,793\n",
            "Non-trainable params: 0\n",
            "_________________________________________________________________\n"
          ]
        }
      ]
    },
    {
      "cell_type": "markdown",
      "source": [
        "`vocab_size`는 전체 `단어 사이즈 + 공백`으로 설정</br>"
      ],
      "metadata": {
        "id": "JrGO4cnM93bP"
      }
    },
    {
      "cell_type": "code",
      "source": [
        "generate_text(model, tokenizer, init_sentence=\"<start> i love\", max_len=20)"
      ],
      "metadata": {
        "colab": {
          "base_uri": "https://localhost:8080/",
          "height": 35
        },
        "id": "mceT-gnj92P3",
        "outputId": "4b039449-5ea2-49bc-ce5e-2aef371165e0"
      },
      "execution_count": 10,
      "outputs": [
        {
          "output_type": "execute_result",
          "data": {
            "text/plain": [
              "'<start> i love the way you lie <end> '"
            ],
            "application/vnd.google.colaboratory.intrinsic+json": {
              "type": "string"
            }
          },
          "metadata": {},
          "execution_count": 10
        }
      ]
    },
    {
      "cell_type": "markdown",
      "source": [],
      "metadata": {
        "id": "tA8pbEhb92dp"
      }
    },
    {
      "cell_type": "markdown",
      "metadata": {
        "id": "aNfYD03qyWJB"
      },
      "source": [
        "## 회고"
      ]
    },
    {
      "cell_type": "markdown",
      "metadata": {
        "id": "5ECyhAc2yWJB"
      },
      "source": []
    }
  ],
  "metadata": {
    "kernelspec": {
      "display_name": "Python 3.10.4 64-bit",
      "language": "python",
      "name": "python3"
    },
    "language_info": {
      "codemirror_mode": {
        "name": "ipython",
        "version": 3
      },
      "file_extension": ".py",
      "mimetype": "text/x-python",
      "name": "python",
      "nbconvert_exporter": "python",
      "pygments_lexer": "ipython3",
      "version": "3.10.4"
    },
    "orig_nbformat": 4,
    "vscode": {
      "interpreter": {
        "hash": "26de051ba29f2982a8de78e945f0abaf191376122a1563185a90213a26c5da77"
      }
    },
    "colab": {
      "provenance": [],
      "toc_visible": true,
      "machine_shape": "hm"
    },
    "accelerator": "GPU",
    "gpuClass": "premium"
  },
  "nbformat": 4,
  "nbformat_minor": 0
}