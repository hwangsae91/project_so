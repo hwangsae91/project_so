{
  "cells": [
    {
      "cell_type": "markdown",
      "metadata": {
        "colab_type": "text",
        "id": "view-in-github"
      },
      "source": [
        "<a href=\"https://colab.research.google.com/github/hwangsae91/project_so/blob/master/exploration/221011/%5BExp_08%5D20221011.ipynb\" target=\"_parent\"><img src=\"https://colab.research.google.com/assets/colab-badge.svg\" alt=\"Open In Colab\"/></a>"
      ]
    },
    {
      "cell_type": "code",
      "execution_count": 15,
      "metadata": {
        "colab": {
          "base_uri": "https://localhost:8080/"
        },
        "id": "302ZdfCKLlhI",
        "outputId": "659ccf21-8c37-4d89-d666-d30f5c1f8100"
      },
      "outputs": [
        {
          "name": "stdout",
          "output_type": "stream",
          "text": [
            "Drive already mounted at /content/drive; to attempt to forcibly remount, call drive.mount(\"/content/drive\", force_remount=True).\n"
          ]
        }
      ],
      "source": [
        "# google colab전용\n",
        "from google.colab import drive\n",
        "drive.mount('/content/drive')"
      ]
    },
    {
      "cell_type": "markdown",
      "metadata": {
        "id": "RbKTjedWnAKZ"
      },
      "source": [
        "※ 명령어를 통해 출력이 나오지 않게 하였다."
      ]
    },
    {
      "cell_type": "markdown",
      "metadata": {
        "id": "ujMb2MtyLrVQ"
      },
      "source": [
        "# exploration 9번째 과제\n",
        "@ 황한용(3기/쏘카)"
      ]
    },
    {
      "cell_type": "markdown",
      "metadata": {
        "id": "tdrfR8Y3L0ry"
      },
      "source": [
        "## 라이브러리 선언"
      ]
    },
    {
      "cell_type": "code",
      "execution_count": 17,
      "metadata": {
        "id": "LWLP8EFSLqqp"
      },
      "outputs": [],
      "source": [
        "import numpy as np\n",
        "import pandas as pd\n",
        "import tensorflow as tf\n",
        "\n",
        "from collections import Counter\n",
        "from gensim.models.keyedvectors import Word2VecKeyedVectors\n",
        "from konlpy.tag import Mecab\n",
        "import matplotlib.pyplot as plt\n",
        "from sklearn.model_selection import train_test_split\n",
        "from tensorflow.keras.callbacks import EarlyStopping\n",
        "from typing import Dict, Tuple"
      ]
    },
    {
      "cell_type": "markdown",
      "metadata": {
        "id": "4qC6hZWKL7x3"
      },
      "source": [
        "## 상수선언"
      ]
    },
    {
      "cell_type": "code",
      "execution_count": 18,
      "metadata": {
        "id": "XcIjEEgnMD75"
      },
      "outputs": [],
      "source": [
        "BASE_PATH = \"/content/drive/MyDrive/Colab Notebooks/data/sentiment_classification\" # 데이터 기본경로\n",
        "DATA_PATH  = BASE_PATH + \"/data\" # 데이터 기본경로\n",
        "MODEL_PATH = BASE_PATH + \"/model/word2vec_ko.model\" # 학습된 한국어 단어모델\n",
        "STEP_WORDS = ['의','가','이','은','들','는','좀','잘','걍','과','도','를','으로','자','에','와','한','하다'] # 불용어\n",
        "BASE_DICTONARY = ['<PAD>', '<BOS>', '<UNK>','<UNUSED>'] # 단어의 기본구성\n",
        "FEATURE_DATA = [\"document\"] # feature\n",
        "MAX_NUM_WORDS = 10000 # 최대 사전 단어갯수\n",
        "WORD_VECTOR_DIM = 100 # 단어 백터 차원수\n",
        "pad_seq_kwargs = {\n",
        "    \"value\":None # 추후 추가예정\n",
        "    , \"padding\":\"post\"\n",
        "    , \"maxlen\":None # 추후 추가예정\n",
        "}\n",
        "TRAIN_TEST_SPLIT_KWARGS = {\n",
        "    \"test_size\":0.4, \"random_state\":2022\n",
        "}\n",
        "fit_kwargs = {\n",
        "    \"epochs\":15 # epoch 횟수\n",
        "    , \"batch_size\":512\n",
        "    ,\"validation_data\": None # 추후 추가예정\n",
        "    , \"shuffle\" : True # epoch당 셔플을 할지의 여부\n",
        "    , \"verbose\":1\n",
        "}\n",
        "tokenizer = Mecab() # tokenize 인스턴스\n",
        "early_stopping = EarlyStopping(monitor=\"val_accuracy\", patience=3)"
      ]
    },
    {
      "cell_type": "markdown",
      "metadata": {
        "id": "MQO-EqdI8459"
      },
      "source": [
        "## 함수"
      ]
    },
    {
      "cell_type": "code",
      "execution_count": 19,
      "metadata": {
        "id": "9WiQ4qfK8459"
      },
      "outputs": [],
      "source": [
        "def load_data(\n",
        "    train_data:pd.DataFrame\n",
        "    , test_data:pd.DataFrame\n",
        "    , step_words:list=STEP_WORDS\n",
        "    , num_words:int=MAX_NUM_WORDS\n",
        ") -> Tuple[\n",
        "            np.ndarray\n",
        "            , np.ndarray\n",
        "            , np.ndarray\n",
        "            , np.ndarray\n",
        "            , Dict[int,str]\n",
        "           , Dict[str,int]\n",
        "        ]:\n",
        "    \"\"\"\n",
        "    다음과 같은 전처리 후\n",
        "    `train data(feature, target)`, `test data(feature, target)`, `단어사전(str기반, index기반)`\n",
        "    을 리턴한다.\n",
        "\n",
        "    - 데이터의 중복 제거\n",
        "    - `NaN` 결측치 제거\n",
        "    - 한국어 토크나이저로 토큰화\n",
        "    - 불용어(`stop_words`) 제거\n",
        "    - 사전`word_to_index` 구성\n",
        "    - 텍스트 스트링을 사전 인덱스 스트링으로 변환\n",
        "\n",
        "    Parameters\n",
        "    ----------\n",
        "    train_data : DataFrame\n",
        "        학습 데이터\n",
        "    train_data : DataFrame\n",
        "        테스트 데이터\n",
        "    step_words : list, default = `MAX_NUM_WORDS`\n",
        "        불용어\n",
        "    num_words : int, default = `MAX_NUM_WORDS`\n",
        "        단어사전의 최대 단어 갯수\n",
        "\n",
        "    Returns\n",
        "    -------\n",
        "    X_train : ndarray\n",
        "        train feature data\n",
        "    y_train : ndarray\n",
        "        train target data\n",
        "    X_test : ndarray\n",
        "        test feature data\n",
        "    y_test : ndarray\n",
        "        test target data\n",
        "    word_to_index : dict\n",
        "        단어사전\n",
        "    index_to_word : dict\n",
        "        인덱스 기반 단어사전\n",
        "    \"\"\"\n",
        "    # 1.\n",
        "    train_data.drop_duplicates(subset=FEATURE_DATA, inplace=True)\n",
        "    test_data.drop_duplicates(subset=FEATURE_DATA, inplace=True)\n",
        "\n",
        "    # 2.\n",
        "    train_data.dropna(how='any', inplace=True)\n",
        "    test_data.dropna(how='any', inplace=True)\n",
        "\n",
        "    # 3.\n",
        "    X_train = [\n",
        "        [word for word in tokenizer.morphs(sentence) if not word in step_words]\n",
        "        for sentence in train_data['document']\n",
        "    ]\n",
        "\n",
        "    X_test = [\n",
        "        [word for word in tokenizer.morphs(sentence) if not word in step_words]\n",
        "        for sentence in test_data['document']\n",
        "    ]\n",
        "    \n",
        "    # 4.\n",
        "    words = np.concatenate(X_train).tolist()\n",
        "    counter = Counter(words)\n",
        "    counter = counter.most_common(num_words - len(BASE_DICTONARY))\n",
        "    vocab = BASE_DICTONARY + [key for key, _ in counter]\n",
        "\n",
        "    # 5.\n",
        "    word_to_index = {word:index for index, word in enumerate(vocab)}\n",
        "    index_to_word = {index:word for word, index in word_to_index.items()}\n",
        "        \n",
        "    def wordlist_to_indexlist(wordlist):\n",
        "        return [word_to_index[word] if word in word_to_index else word_to_index['<UNK>'] for word in wordlist]\n",
        "        \n",
        "    X_train = list(map(wordlist_to_indexlist, X_train))\n",
        "    X_test = list(map(wordlist_to_indexlist, X_test))\n",
        "\n",
        "    return X_train, np.array(list(train_data['label'])), X_test, np.array(list(test_data['label'])), word_to_index, index_to_word\n",
        "\n",
        "####################################### 제공 함수(사용안함) #######################################\n",
        "\n",
        "# 문장 1개를 활용할 딕셔너리와 함께 주면, 단어 인덱스 리스트 벡터로 변환해 주는 함수입니다. \n",
        "# 단, 모든 문장은 <BOS>로 시작하는 것으로 합니다. \n",
        "def get_encoded_sentence(sentence, word_to_index):\n",
        "    return [word_to_index['<BOS>']]+[word_to_index[word] if word in word_to_index else word_to_index['<UNK>'] for word in sentence.split()]\n",
        "\n",
        "# 여러 개의 문장 리스트를 한꺼번에 단어 인덱스 리스트 벡터로 encode해 주는 함수입니다. \n",
        "def get_encoded_sentences(sentences, word_to_index):\n",
        "    return [get_encoded_sentence(sentence, word_to_index) for sentence in sentences]\n",
        "\n",
        "# 숫자 벡터로 encode된 문장을 원래대로 decode하는 함수입니다. \n",
        "def get_decoded_sentence(encoded_sentence, index_to_word):\n",
        "    return ' '.join(index_to_word[index] if index in index_to_word else '<UNK>' for index in encoded_sentence[1:])  #[1:]를 통해 <BOS>를 제외\n",
        "\n",
        "# 여러 개의 숫자 벡터로 encode된 문장을 한꺼번에 원래대로 decode하는 함수입니다. \n",
        "def get_decoded_sentences(encoded_sentences, index_to_word):\n",
        "    return [get_decoded_sentence(encoded_sentence, index_to_word) for encoded_sentence in encoded_sentences]"
      ]
    },
    {
      "cell_type": "markdown",
      "metadata": {
        "id": "l5DV1kd8MPes"
      },
      "source": [
        "## 메인"
      ]
    },
    {
      "cell_type": "markdown",
      "metadata": {
        "id": "B7XCWajZ0XIj"
      },
      "source": [
        "### IMDB 데이터셋"
      ]
    },
    {
      "cell_type": "code",
      "execution_count": 20,
      "metadata": {
        "colab": {
          "base_uri": "https://localhost:8080/",
          "height": 206
        },
        "id": "iwkvcfr7MPsm",
        "outputId": "a358ed24-fd77-4246-853a-75fc54fe9c81"
      },
      "outputs": [
        {
          "data": {
            "text/html": [
              "\n",
              "  <div id=\"df-e62fad3f-9819-4e84-9e2e-691ae46a4e61\">\n",
              "    <div class=\"colab-df-container\">\n",
              "      <div>\n",
              "<style scoped>\n",
              "    .dataframe tbody tr th:only-of-type {\n",
              "        vertical-align: middle;\n",
              "    }\n",
              "\n",
              "    .dataframe tbody tr th {\n",
              "        vertical-align: top;\n",
              "    }\n",
              "\n",
              "    .dataframe thead th {\n",
              "        text-align: right;\n",
              "    }\n",
              "</style>\n",
              "<table border=\"1\" class=\"dataframe\">\n",
              "  <thead>\n",
              "    <tr style=\"text-align: right;\">\n",
              "      <th></th>\n",
              "      <th>id</th>\n",
              "      <th>document</th>\n",
              "      <th>label</th>\n",
              "    </tr>\n",
              "  </thead>\n",
              "  <tbody>\n",
              "    <tr>\n",
              "      <th>0</th>\n",
              "      <td>9976970</td>\n",
              "      <td>아 더빙.. 진짜 짜증나네요 목소리</td>\n",
              "      <td>0</td>\n",
              "    </tr>\n",
              "    <tr>\n",
              "      <th>1</th>\n",
              "      <td>3819312</td>\n",
              "      <td>흠...포스터보고 초딩영화줄....오버연기조차 가볍지 않구나</td>\n",
              "      <td>1</td>\n",
              "    </tr>\n",
              "    <tr>\n",
              "      <th>2</th>\n",
              "      <td>10265843</td>\n",
              "      <td>너무재밓었다그래서보는것을추천한다</td>\n",
              "      <td>0</td>\n",
              "    </tr>\n",
              "    <tr>\n",
              "      <th>3</th>\n",
              "      <td>9045019</td>\n",
              "      <td>교도소 이야기구먼 ..솔직히 재미는 없다..평점 조정</td>\n",
              "      <td>0</td>\n",
              "    </tr>\n",
              "    <tr>\n",
              "      <th>4</th>\n",
              "      <td>6483659</td>\n",
              "      <td>사이몬페그의 익살스런 연기가 돋보였던 영화!스파이더맨에서 늙어보이기만 했던 커스틴 ...</td>\n",
              "      <td>1</td>\n",
              "    </tr>\n",
              "  </tbody>\n",
              "</table>\n",
              "</div>\n",
              "      <button class=\"colab-df-convert\" onclick=\"convertToInteractive('df-e62fad3f-9819-4e84-9e2e-691ae46a4e61')\"\n",
              "              title=\"Convert this dataframe to an interactive table.\"\n",
              "              style=\"display:none;\">\n",
              "        \n",
              "  <svg xmlns=\"http://www.w3.org/2000/svg\" height=\"24px\"viewBox=\"0 0 24 24\"\n",
              "       width=\"24px\">\n",
              "    <path d=\"M0 0h24v24H0V0z\" fill=\"none\"/>\n",
              "    <path d=\"M18.56 5.44l.94 2.06.94-2.06 2.06-.94-2.06-.94-.94-2.06-.94 2.06-2.06.94zm-11 1L8.5 8.5l.94-2.06 2.06-.94-2.06-.94L8.5 2.5l-.94 2.06-2.06.94zm10 10l.94 2.06.94-2.06 2.06-.94-2.06-.94-.94-2.06-.94 2.06-2.06.94z\"/><path d=\"M17.41 7.96l-1.37-1.37c-.4-.4-.92-.59-1.43-.59-.52 0-1.04.2-1.43.59L10.3 9.45l-7.72 7.72c-.78.78-.78 2.05 0 2.83L4 21.41c.39.39.9.59 1.41.59.51 0 1.02-.2 1.41-.59l7.78-7.78 2.81-2.81c.8-.78.8-2.07 0-2.86zM5.41 20L4 18.59l7.72-7.72 1.47 1.35L5.41 20z\"/>\n",
              "  </svg>\n",
              "      </button>\n",
              "      \n",
              "  <style>\n",
              "    .colab-df-container {\n",
              "      display:flex;\n",
              "      flex-wrap:wrap;\n",
              "      gap: 12px;\n",
              "    }\n",
              "\n",
              "    .colab-df-convert {\n",
              "      background-color: #E8F0FE;\n",
              "      border: none;\n",
              "      border-radius: 50%;\n",
              "      cursor: pointer;\n",
              "      display: none;\n",
              "      fill: #1967D2;\n",
              "      height: 32px;\n",
              "      padding: 0 0 0 0;\n",
              "      width: 32px;\n",
              "    }\n",
              "\n",
              "    .colab-df-convert:hover {\n",
              "      background-color: #E2EBFA;\n",
              "      box-shadow: 0px 1px 2px rgba(60, 64, 67, 0.3), 0px 1px 3px 1px rgba(60, 64, 67, 0.15);\n",
              "      fill: #174EA6;\n",
              "    }\n",
              "\n",
              "    [theme=dark] .colab-df-convert {\n",
              "      background-color: #3B4455;\n",
              "      fill: #D2E3FC;\n",
              "    }\n",
              "\n",
              "    [theme=dark] .colab-df-convert:hover {\n",
              "      background-color: #434B5C;\n",
              "      box-shadow: 0px 1px 3px 1px rgba(0, 0, 0, 0.15);\n",
              "      filter: drop-shadow(0px 1px 2px rgba(0, 0, 0, 0.3));\n",
              "      fill: #FFFFFF;\n",
              "    }\n",
              "  </style>\n",
              "\n",
              "      <script>\n",
              "        const buttonEl =\n",
              "          document.querySelector('#df-e62fad3f-9819-4e84-9e2e-691ae46a4e61 button.colab-df-convert');\n",
              "        buttonEl.style.display =\n",
              "          google.colab.kernel.accessAllowed ? 'block' : 'none';\n",
              "\n",
              "        async function convertToInteractive(key) {\n",
              "          const element = document.querySelector('#df-e62fad3f-9819-4e84-9e2e-691ae46a4e61');\n",
              "          const dataTable =\n",
              "            await google.colab.kernel.invokeFunction('convertToInteractive',\n",
              "                                                     [key], {});\n",
              "          if (!dataTable) return;\n",
              "\n",
              "          const docLinkHtml = 'Like what you see? Visit the ' +\n",
              "            '<a target=\"_blank\" href=https://colab.research.google.com/notebooks/data_table.ipynb>data table notebook</a>'\n",
              "            + ' to learn more about interactive tables.';\n",
              "          element.innerHTML = '';\n",
              "          dataTable['output_type'] = 'display_data';\n",
              "          await google.colab.output.renderOutput(dataTable, element);\n",
              "          const docLink = document.createElement('div');\n",
              "          docLink.innerHTML = docLinkHtml;\n",
              "          element.appendChild(docLink);\n",
              "        }\n",
              "      </script>\n",
              "    </div>\n",
              "  </div>\n",
              "  "
            ],
            "text/plain": [
              "         id                                           document  label\n",
              "0   9976970                                아 더빙.. 진짜 짜증나네요 목소리      0\n",
              "1   3819312                  흠...포스터보고 초딩영화줄....오버연기조차 가볍지 않구나      1\n",
              "2  10265843                                  너무재밓었다그래서보는것을추천한다      0\n",
              "3   9045019                      교도소 이야기구먼 ..솔직히 재미는 없다..평점 조정      0\n",
              "4   6483659  사이몬페그의 익살스런 연기가 돋보였던 영화!스파이더맨에서 늙어보이기만 했던 커스틴 ...      1"
            ]
          },
          "execution_count": 20,
          "metadata": {},
          "output_type": "execute_result"
        }
      ],
      "source": [
        "train_data = pd.read_table(DATA_PATH + \"/ratings_train.txt\")\n",
        "test_data = pd.read_table(DATA_PATH + \"/ratings_test.txt\")\n",
        "train_data.head()"
      ]
    },
    {
      "cell_type": "markdown",
      "metadata": {
        "id": "iXm0KjWe845_"
      },
      "source": [
        "데이터에 대한 설명은 아래와 같다.</br>\n",
        "- id: The review id, provieded by Naver\n",
        "- document: The actual review\n",
        "- label: The sentiment class of the review. (0: negative, 1: positive)"
      ]
    },
    {
      "cell_type": "code",
      "execution_count": 21,
      "metadata": {
        "colab": {
          "base_uri": "https://localhost:8080/"
        },
        "id": "971TB3kw845_",
        "outputId": "bf314154-267b-40b5-c57e-0902055d9876"
      },
      "outputs": [
        {
          "name": "stdout",
          "output_type": "stream",
          "text": [
            "X_train len:146182\n",
            "X_test len:49157\n"
          ]
        }
      ],
      "source": [
        "X_train, y_train, X_test, y_test, word_to_index, index_to_word = load_data(train_data, test_data)\n",
        "\n",
        "print(f\"X_train len:{len(X_train)}\")\n",
        "print(f\"X_test len:{len(X_test)}\")"
      ]
    },
    {
      "cell_type": "markdown",
      "metadata": {
        "id": "oMm1Q3DE846A"
      },
      "source": [
        "학습데이터와 테스트데이터를 로드"
      ]
    },
    {
      "cell_type": "code",
      "execution_count": 22,
      "metadata": {
        "colab": {
          "base_uri": "https://localhost:8080/"
        },
        "id": "3ZASR2F_fugN",
        "outputId": "06850fbd-ca4c-4d10-8da4-2f5ff5c1dd17"
      },
      "outputs": [
        {
          "name": "stdout",
          "output_type": "stream",
          "text": [
            "문장길이 평균 :  15.969376315021577\n",
            "문장길이 최대 :  116\n",
            "문장길이 표준편차 :  12.843535456326455\n",
            "pad_sequences maxlen :  41\n",
            "전체 문장의 0.9342988343341575%가 maxlen 설정값 이내에 포함됩니다. \n"
          ]
        }
      ],
      "source": [
        "num_tokens = np.array(list(map(len,list(X_train) + list(X_test))))\n",
        "# 문장길이의 평균값, 최대값, 표준편차를 계산 \n",
        "print('문장길이 평균 : ', np.mean(num_tokens))\n",
        "print('문장길이 최대 : ', np.max(num_tokens))\n",
        "print('문장길이 표준편차 : ', np.std(num_tokens))\n",
        "\n",
        "max_tokens = np.mean(num_tokens) + 2 * np.std(num_tokens)\n",
        "maxlen = int(max_tokens)\n",
        "print('pad_sequences maxlen : ', maxlen)\n",
        "print('전체 문장의 {}%가 maxlen 설정값 이내에 포함됩니다. '.format(np.sum(num_tokens < max_tokens) / len(num_tokens)))\n",
        "\n",
        "pad_seq_kwargs.update({\n",
        "    \"value\":word_to_index[\"<PAD>\"]\n",
        "    , \"maxlen\":maxlen\n",
        "})# padding 설정"
      ]
    },
    {
      "cell_type": "markdown",
      "metadata": {
        "id": "wRHCeqlem4v_"
      },
      "source": [
        " 최대 길이를 `maxlen`으로 설정하였고 값은 (평균 + 2*표준편차)로 하여<br>\n",
        "대부분의 문장이 학습이 가능하도록 설정하였다.  "
      ]
    },
    {
      "cell_type": "code",
      "execution_count": 23,
      "metadata": {
        "id": "HbFIKeNV_L8U"
      },
      "outputs": [],
      "source": [
        "X_train = tf.keras.preprocessing.sequence.pad_sequences(X_train, **pad_seq_kwargs)\n",
        "X_test = tf.keras.preprocessing.sequence.pad_sequences(X_test, **pad_seq_kwargs)\n",
        "X_train, X_val, y_train, y_val = train_test_split(X_train, y_train, **TRAIN_TEST_SPLIT_KWARGS)\n",
        "fit_kwargs[\"validation_data\"] = (X_val, y_val)"
      ]
    },
    {
      "cell_type": "markdown",
      "metadata": {
        "id": "cQlTE3xms-k0"
      },
      "source": [
        "과적합 방지를 위해 학습과 점증을 2:8비율로 나누었다. "
      ]
    },
    {
      "cell_type": "markdown",
      "metadata": {
        "id": "Iu9puDTo_MRT"
      },
      "source": [
        "### 한국어 Word2Vec 임베딩"
      ]
    },
    {
      "cell_type": "code",
      "execution_count": 24,
      "metadata": {
        "id": "2qbNBHBm0LLy"
      },
      "outputs": [],
      "source": [
        "word_vectors = Word2VecKeyedVectors.load(MODEL_PATH).wv\n",
        "\n",
        "# 임의의 가중치 적용\n",
        "embedding_matrix = np.random.rand(MAX_NUM_WORDS, WORD_VECTOR_DIM)\n",
        "\n",
        "# 이미 학습된 단어가 있는 경우 학습된 백터를 넣는다.\n",
        "for i in range(4,MAX_NUM_WORDS):\n",
        "    if index_to_word[i] in word_vectors:\n",
        "        embedding_matrix[i] = word_vectors[index_to_word[i]]\n"
      ]
    },
    {
      "cell_type": "markdown",
      "metadata": {
        "id": "XNQ9W93B0LUx"
      },
      "source": [
        "기본에 학습된 모델을 로드 뒤, 같은 단어장에 가중치를 랜덤으로 적용 후,<br>\n",
        "단어장 안에 학습된 단어가 존제하면 백터의 값을 대입한다."
      ]
    },
    {
      "cell_type": "code",
      "execution_count": 25,
      "metadata": {
        "id": "3Y-xHhXejA5P"
      },
      "outputs": [],
      "source": [
        "model_list = []\n",
        "w2v_model_list = []\n",
        "\n",
        "# max pooling만 존제하는 model 설계\n",
        "maxpool_model = tf.keras.Sequential(name = \"maxpool_model\")\n",
        "maxpool_model.add(tf.keras.layers.Embedding(MAX_NUM_WORDS, WORD_VECTOR_DIM, input_shape=(None,)))\n",
        "maxpool_model.add(tf.keras.layers.GlobalMaxPooling1D())\n",
        "maxpool_model.add(tf.keras.layers.Dense(8, activation='relu'))\n",
        "maxpool_model.add(tf.keras.layers.Dense(1, activation='sigmoid'))\n",
        "\n",
        "model_list.append(maxpool_model)\n",
        "\n",
        "w2v_maxpool_model = tf.keras.Sequential(name = \"w2v_maxpool_model\")\n",
        "w2v_maxpool_model.add(tf.keras.layers.Embedding(\n",
        "                                    MAX_NUM_WORDS \n",
        "                                    , WORD_VECTOR_DIM \n",
        "                                    , embeddings_initializer=tf.keras.initializers.Constant(embedding_matrix)\n",
        "                                    , input_length=maxlen \n",
        "                                    , trainable=True\n",
        "                                 )\n",
        ")\n",
        "w2v_maxpool_model.add(tf.keras.layers.GlobalMaxPooling1D())\n",
        "w2v_maxpool_model.add(tf.keras.layers.Dense(8, activation='relu'))\n",
        "w2v_maxpool_model.add(tf.keras.layers.Dense(1, activation='sigmoid'))\n",
        "\n",
        "w2v_model_list.append(w2v_maxpool_model)"
      ]
    },
    {
      "cell_type": "markdown",
      "metadata": {
        "id": "8sbpd_8bjBGf"
      },
      "source": [
        "max pooling만 존제하는 model 설계하였다.<br>\n",
        "처음부터 학습하는 모델 `maxpool_model`<br>\n",
        "기존에 학습된 데이터를 활용하는 `w2v_maxpool_model`<br>\n",
        "로 나누어 설계하였다."
      ]
    },
    {
      "cell_type": "code",
      "execution_count": 26,
      "metadata": {
        "id": "KuuY-SGVmbWl"
      },
      "outputs": [],
      "source": [
        "# CNN 1d model 설계\n",
        "CNN_model = tf.keras.Sequential(name = \"CNN_model\")\n",
        "CNN_model.add(tf.keras.layers.Embedding(MAX_NUM_WORDS, WORD_VECTOR_DIM, input_shape=(None,)))\n",
        "CNN_model.add(tf.keras.layers.Dropout(rate=0.4))\n",
        "CNN_model.add(tf.keras.layers.Conv1D(16, 7, activation='relu'))\n",
        "CNN_model.add(tf.keras.layers.MaxPooling1D(5))\n",
        "CNN_model.add(tf.keras.layers.Dropout(rate=0.4))\n",
        "CNN_model.add(tf.keras.layers.Conv1D(16, 7, activation='relu'))\n",
        "CNN_model.add(tf.keras.layers.GlobalMaxPooling1D())\n",
        "CNN_model.add(tf.keras.layers.Dense(8, activation='relu'))\n",
        "CNN_model.add(tf.keras.layers.Dense(1, activation='sigmoid'))\n",
        "\n",
        "model_list.append(CNN_model)\n",
        "\n",
        "w2v_CNN_model = tf.keras.Sequential(name = \"w2v_CNN_model\")\n",
        "w2v_CNN_model.add(tf.keras.layers.Embedding(MAX_NUM_WORDS, \n",
        "                                 WORD_VECTOR_DIM, \n",
        "                                 embeddings_initializer=tf.keras.initializers.Constant(embedding_matrix),  # 카피한 임베딩을 여기서 활용\n",
        "                                 input_length=maxlen, \n",
        "                                 trainable=True))   # trainable을 True로 주면 Fine-tuning\n",
        "w2v_CNN_model.add(tf.keras.layers.Dropout(rate=0.4))\n",
        "w2v_CNN_model.add(tf.keras.layers.Conv1D(16, 7, activation='relu'))\n",
        "w2v_CNN_model.add(tf.keras.layers.MaxPooling1D(5))\n",
        "w2v_CNN_model.add(tf.keras.layers.Dropout(rate=0.4))\n",
        "w2v_CNN_model.add(tf.keras.layers.Conv1D(16, 7, activation='relu'))\n",
        "w2v_CNN_model.add(tf.keras.layers.GlobalMaxPooling1D())\n",
        "w2v_CNN_model.add(tf.keras.layers.Dense(8, activation='relu'))\n",
        "w2v_CNN_model.add(tf.keras.layers.Dense(1, activation='sigmoid')) \n",
        "\n",
        "w2v_model_list.append(w2v_CNN_model)"
      ]
    },
    {
      "cell_type": "markdown",
      "metadata": {
        "id": "HliFm2DDmbiM"
      },
      "source": [
        "CNN을 1차원으로 변형하여 학습하는 model 설계하였다.<br>\n",
        "처음부터 학습하는 모델 `CNN_model`<br>\n",
        "기존에 학습된 데이터를 활용하는 `w2v_CNN_model`<br>\n",
        "로 나누어 설계하였다."
      ]
    },
    {
      "cell_type": "code",
      "execution_count": 27,
      "metadata": {
        "id": "U4R0Zm-mlCzH"
      },
      "outputs": [],
      "source": [
        "# RNN model 설계\n",
        "RNN_model = tf.keras.Sequential(name = \"RNN_model\")\n",
        "RNN_model.add(tf.keras.layers.Embedding(MAX_NUM_WORDS, WORD_VECTOR_DIM, input_shape=(None,)))\n",
        "RNN_model.add(tf.keras.layers.LSTM(64, dropout=0.4))\n",
        "RNN_model.add(tf.keras.layers.Dense(8, activation='relu'))\n",
        "RNN_model.add(tf.keras.layers.Dense(1, activation='sigmoid'))\n",
        "\n",
        "model_list.append(RNN_model)\n",
        "\n",
        "w2v_RNN_model = tf.keras.Sequential(name = \"w2v_RNN_model\")\n",
        "w2v_RNN_model.add(tf.keras.layers.Embedding(\n",
        "                                 MAX_NUM_WORDS\n",
        "                                 , WORD_VECTOR_DIM \n",
        "                                 , embeddings_initializer=tf.keras.initializers.Constant(embedding_matrix)\n",
        "                                 , input_length=maxlen \n",
        "                                 , trainable=True))\n",
        "w2v_RNN_model.add(tf.keras.layers.LSTM(64, dropout=0.4))\n",
        "w2v_RNN_model.add(tf.keras.layers.Dense(8, activation='relu'))\n",
        "w2v_RNN_model.add(tf.keras.layers.Dense(1, activation='sigmoid'))\n",
        "\n",
        "w2v_model_list.append(w2v_RNN_model)"
      ]
    },
    {
      "cell_type": "markdown",
      "metadata": {
        "id": "MWLtgaTelC60"
      },
      "source": [
        "RNN model 설계하였다.<br>\n",
        "처음부터 학습하는 모델 `RNN_model`<br>\n",
        "기존에 학습된 데이터를 활용하는 `w2v_RNN_model`<br>\n",
        "로 나누어 설계하였다."
      ]
    },
    {
      "cell_type": "code",
      "execution_count": 28,
      "metadata": {
        "colab": {
          "base_uri": "https://localhost:8080/",
          "height": 1000
        },
        "id": "BQmNPZNVoPmW",
        "outputId": "fd56b66d-0156-4fd1-b5f0-b5fbd08470bf"
      },
      "outputs": [
        {
          "name": "stdout",
          "output_type": "stream",
          "text": [
            "maxpool_model start\n",
            "Epoch 1/15\n",
            "172/172 [==============================] - 2s 6ms/step - loss: 0.6788 - accuracy: 0.7189 - val_loss: 0.6505 - val_accuracy: 0.7898\n",
            "Epoch 2/15\n",
            "172/172 [==============================] - 1s 5ms/step - loss: 0.6001 - accuracy: 0.8061 - val_loss: 0.5453 - val_accuracy: 0.8066\n",
            "Epoch 3/15\n",
            "172/172 [==============================] - 1s 5ms/step - loss: 0.4908 - accuracy: 0.8235 - val_loss: 0.4534 - val_accuracy: 0.8181\n",
            "Epoch 4/15\n",
            "172/172 [==============================] - 1s 5ms/step - loss: 0.4161 - accuracy: 0.8365 - val_loss: 0.4069 - val_accuracy: 0.8266\n",
            "Epoch 5/15\n",
            "172/172 [==============================] - 1s 5ms/step - loss: 0.3760 - accuracy: 0.8457 - val_loss: 0.3846 - val_accuracy: 0.8327\n",
            "Epoch 6/15\n",
            "172/172 [==============================] - 1s 5ms/step - loss: 0.3519 - accuracy: 0.8537 - val_loss: 0.3725 - val_accuracy: 0.8362\n",
            "Epoch 7/15\n",
            "172/172 [==============================] - 1s 5ms/step - loss: 0.3347 - accuracy: 0.8603 - val_loss: 0.3649 - val_accuracy: 0.8394\n",
            "Epoch 8/15\n",
            "172/172 [==============================] - 1s 5ms/step - loss: 0.3207 - accuracy: 0.8673 - val_loss: 0.3595 - val_accuracy: 0.8419\n",
            "Epoch 9/15\n",
            "172/172 [==============================] - 1s 5ms/step - loss: 0.3086 - accuracy: 0.8726 - val_loss: 0.3557 - val_accuracy: 0.8432\n",
            "Epoch 10/15\n",
            "172/172 [==============================] - 1s 5ms/step - loss: 0.2977 - accuracy: 0.8784 - val_loss: 0.3529 - val_accuracy: 0.8453\n",
            "Epoch 11/15\n",
            "172/172 [==============================] - 1s 5ms/step - loss: 0.2876 - accuracy: 0.8835 - val_loss: 0.3511 - val_accuracy: 0.8462\n",
            "Epoch 12/15\n",
            "172/172 [==============================] - 1s 6ms/step - loss: 0.2782 - accuracy: 0.8878 - val_loss: 0.3499 - val_accuracy: 0.8470\n",
            "Epoch 13/15\n",
            "172/172 [==============================] - 1s 7ms/step - loss: 0.2692 - accuracy: 0.8921 - val_loss: 0.3492 - val_accuracy: 0.8473\n",
            "Epoch 14/15\n",
            "172/172 [==============================] - 1s 7ms/step - loss: 0.2606 - accuracy: 0.8963 - val_loss: 0.3491 - val_accuracy: 0.8480\n",
            "Epoch 15/15\n",
            "172/172 [==============================] - 1s 7ms/step - loss: 0.2523 - accuracy: 0.9006 - val_loss: 0.3494 - val_accuracy: 0.8484\n",
            "Epoch 1/15\n",
            "172/172 [==============================] - 2s 8ms/step - loss: 0.8727 - accuracy: 0.5954 - val_loss: 0.7869 - val_accuracy: 0.6161\n",
            "Epoch 2/15\n",
            "172/172 [==============================] - 1s 7ms/step - loss: 0.6070 - accuracy: 0.6872 - val_loss: 0.5379 - val_accuracy: 0.7295\n",
            "Epoch 3/15\n",
            "172/172 [==============================] - 1s 8ms/step - loss: 0.5289 - accuracy: 0.7375 - val_loss: 0.5001 - val_accuracy: 0.7536\n",
            "Epoch 4/15\n",
            "172/172 [==============================] - 1s 6ms/step - loss: 0.4807 - accuracy: 0.7675 - val_loss: 0.5029 - val_accuracy: 0.7613\n",
            "Epoch 5/15\n",
            "172/172 [==============================] - 1s 5ms/step - loss: 0.4442 - accuracy: 0.7917 - val_loss: 0.4712 - val_accuracy: 0.7710\n",
            "Epoch 6/15\n",
            "172/172 [==============================] - 1s 5ms/step - loss: 0.4128 - accuracy: 0.8109 - val_loss: 0.4580 - val_accuracy: 0.7815\n",
            "Epoch 7/15\n",
            "172/172 [==============================] - 1s 6ms/step - loss: 0.3925 - accuracy: 0.8234 - val_loss: 0.4309 - val_accuracy: 0.8031\n",
            "Epoch 8/15\n",
            "172/172 [==============================] - 1s 5ms/step - loss: 0.3756 - accuracy: 0.8324 - val_loss: 0.4441 - val_accuracy: 0.7924\n",
            "Epoch 9/15\n",
            "172/172 [==============================] - 1s 5ms/step - loss: 0.3632 - accuracy: 0.8402 - val_loss: 0.4261 - val_accuracy: 0.8098\n",
            "Epoch 10/15\n",
            "172/172 [==============================] - 1s 5ms/step - loss: 0.3486 - accuracy: 0.8470 - val_loss: 0.4338 - val_accuracy: 0.8007\n",
            "Epoch 11/15\n",
            "172/172 [==============================] - 1s 5ms/step - loss: 0.3326 - accuracy: 0.8564 - val_loss: 0.4877 - val_accuracy: 0.7907\n",
            "Epoch 12/15\n",
            "172/172 [==============================] - 1s 5ms/step - loss: 0.3234 - accuracy: 0.8613 - val_loss: 0.4074 - val_accuracy: 0.8198\n",
            "Epoch 13/15\n",
            "172/172 [==============================] - 1s 5ms/step - loss: 0.3100 - accuracy: 0.8675 - val_loss: 0.4159 - val_accuracy: 0.8178\n",
            "Epoch 14/15\n",
            "172/172 [==============================] - 1s 5ms/step - loss: 0.3063 - accuracy: 0.8702 - val_loss: 0.4121 - val_accuracy: 0.8226\n",
            "Epoch 15/15\n",
            "172/172 [==============================] - 1s 6ms/step - loss: 0.2914 - accuracy: 0.8776 - val_loss: 0.4156 - val_accuracy: 0.8226\n"
          ]
        },
        {
          "data": {
            "image/png": "[encoded data removed]",
            "text/plain": [
              "<Figure size 432x288 with 1 Axes>"
            ]
          },
          "metadata": {
            "needs_background": "light"
          },
          "output_type": "display_data"
        },
        {
          "data": {
            "image/png": "[encoded data removed]",
            "text/plain": [
              "<Figure size 432x288 with 1 Axes>"
            ]
          },
          "metadata": {
            "needs_background": "light"
          },
          "output_type": "display_data"
        },
        {
          "name": "stdout",
          "output_type": "stream",
          "text": [
            "1537/1537 - 2s - loss: 0.3553 - accuracy: 0.8470 - 2s/epoch - 2ms/step\n",
            "1537/1537 - 2s - loss: 0.4216 - accuracy: 0.8200 - 2s/epoch - 2ms/step\n",
            "maxpool_model end\n",
            "\n",
            "CNN_model start\n",
            "Epoch 1/15\n",
            "172/172 [==============================] - 3s 9ms/step - loss: 0.6918 - accuracy: 0.5287 - val_loss: 0.6840 - val_accuracy: 0.6766\n",
            "Epoch 2/15\n",
            "172/172 [==============================] - 1s 8ms/step - loss: 0.5862 - accuracy: 0.7169 - val_loss: 0.4533 - val_accuracy: 0.8019\n",
            "Epoch 3/15\n",
            "172/172 [==============================] - 1s 7ms/step - loss: 0.4315 - accuracy: 0.8065 - val_loss: 0.3946 - val_accuracy: 0.8256\n",
            "Epoch 4/15\n",
            "172/172 [==============================] - 1s 7ms/step - loss: 0.3941 - accuracy: 0.8272 - val_loss: 0.3773 - val_accuracy: 0.8357\n",
            "Epoch 5/15\n",
            "172/172 [==============================] - 1s 8ms/step - loss: 0.3742 - accuracy: 0.8397 - val_loss: 0.3682 - val_accuracy: 0.8400\n",
            "Epoch 6/15\n",
            "172/172 [==============================] - 1s 8ms/step - loss: 0.3586 - accuracy: 0.8476 - val_loss: 0.3633 - val_accuracy: 0.8422\n",
            "Epoch 7/15\n",
            "172/172 [==============================] - 1s 8ms/step - loss: 0.3492 - accuracy: 0.8544 - val_loss: 0.3600 - val_accuracy: 0.8437\n",
            "Epoch 8/15\n",
            "172/172 [==============================] - 1s 8ms/step - loss: 0.3394 - accuracy: 0.8593 - val_loss: 0.3569 - val_accuracy: 0.8442\n",
            "Epoch 9/15\n",
            "172/172 [==============================] - 1s 8ms/step - loss: 0.3310 - accuracy: 0.8622 - val_loss: 0.3549 - val_accuracy: 0.8453\n",
            "Epoch 10/15\n",
            "172/172 [==============================] - 1s 8ms/step - loss: 0.3243 - accuracy: 0.8666 - val_loss: 0.3533 - val_accuracy: 0.8463\n",
            "Epoch 11/15\n",
            "172/172 [==============================] - 1s 8ms/step - loss: 0.3151 - accuracy: 0.8705 - val_loss: 0.3526 - val_accuracy: 0.8471\n",
            "Epoch 12/15\n",
            "172/172 [==============================] - 1s 8ms/step - loss: 0.3087 - accuracy: 0.8738 - val_loss: 0.3537 - val_accuracy: 0.8469\n",
            "Epoch 13/15\n",
            "172/172 [==============================] - 1s 8ms/step - loss: 0.3038 - accuracy: 0.8765 - val_loss: 0.3530 - val_accuracy: 0.8480\n",
            "Epoch 14/15\n",
            "172/172 [==============================] - 1s 8ms/step - loss: 0.2968 - accuracy: 0.8801 - val_loss: 0.3550 - val_accuracy: 0.8473\n",
            "Epoch 15/15\n",
            "172/172 [==============================] - 1s 8ms/step - loss: 0.2920 - accuracy: 0.8831 - val_loss: 0.3540 - val_accuracy: 0.8475\n",
            "Epoch 1/15\n",
            "172/172 [==============================] - 3s 9ms/step - loss: 0.6728 - accuracy: 0.5815 - val_loss: 0.5453 - val_accuracy: 0.7507\n",
            "Epoch 2/15\n",
            "172/172 [==============================] - 1s 8ms/step - loss: 0.5111 - accuracy: 0.7524 - val_loss: 0.4195 - val_accuracy: 0.8148\n",
            "Epoch 3/15\n",
            "172/172 [==============================] - 1s 8ms/step - loss: 0.4390 - accuracy: 0.7988 - val_loss: 0.3959 - val_accuracy: 0.8316\n",
            "Epoch 4/15\n",
            "172/172 [==============================] - 1s 8ms/step - loss: 0.4063 - accuracy: 0.8161 - val_loss: 0.3739 - val_accuracy: 0.8369\n",
            "Epoch 5/15\n",
            "172/172 [==============================] - 1s 8ms/step - loss: 0.3873 - accuracy: 0.8280 - val_loss: 0.3750 - val_accuracy: 0.8434\n",
            "Epoch 6/15\n",
            "172/172 [==============================] - 1s 8ms/step - loss: 0.3756 - accuracy: 0.8346 - val_loss: 0.3739 - val_accuracy: 0.8451\n",
            "Epoch 7/15\n",
            "172/172 [==============================] - 1s 8ms/step - loss: 0.3632 - accuracy: 0.8411 - val_loss: 0.3730 - val_accuracy: 0.8411\n",
            "Epoch 8/15\n",
            "172/172 [==============================] - 1s 8ms/step - loss: 0.3545 - accuracy: 0.8455 - val_loss: 0.3520 - val_accuracy: 0.8484\n",
            "Epoch 9/15\n",
            "172/172 [==============================] - 1s 8ms/step - loss: 0.3493 - accuracy: 0.8479 - val_loss: 0.3647 - val_accuracy: 0.8487\n",
            "Epoch 10/15\n",
            "172/172 [==============================] - 1s 8ms/step - loss: 0.3410 - accuracy: 0.8508 - val_loss: 0.3609 - val_accuracy: 0.8487\n",
            "Epoch 11/15\n",
            "172/172 [==============================] - 1s 8ms/step - loss: 0.3350 - accuracy: 0.8547 - val_loss: 0.3491 - val_accuracy: 0.8494\n",
            "Epoch 12/15\n",
            "172/172 [==============================] - 1s 8ms/step - loss: 0.3314 - accuracy: 0.8578 - val_loss: 0.3445 - val_accuracy: 0.8515\n",
            "Epoch 13/15\n",
            "172/172 [==============================] - 1s 8ms/step - loss: 0.3273 - accuracy: 0.8602 - val_loss: 0.3541 - val_accuracy: 0.8500\n",
            "Epoch 14/15\n",
            "172/172 [==============================] - 1s 8ms/step - loss: 0.3214 - accuracy: 0.8632 - val_loss: 0.3434 - val_accuracy: 0.8533\n",
            "Epoch 15/15\n",
            "172/172 [==============================] - 1s 8ms/step - loss: 0.3174 - accuracy: 0.8643 - val_loss: 0.3516 - val_accuracy: 0.8543\n"
          ]
        },
        {
          "data": {
            "image/png": "[encoded data removed]",
            "text/plain": [
              "<Figure size 432x288 with 1 Axes>"
            ]
          },
          "metadata": {
            "needs_background": "light"
          },
          "output_type": "display_data"
        },
        {
          "data": {
            "image/png": "[encoded data removed]",
            "text/plain": [
              "<Figure size 432x288 with 1 Axes>"
            ]
          },
          "metadata": {
            "needs_background": "light"
          },
          "output_type": "display_data"
        },
        {
          "name": "stdout",
          "output_type": "stream",
          "text": [
            "1537/1537 - 3s - loss: 0.3570 - accuracy: 0.8451 - 3s/epoch - 2ms/step\n",
            "1537/1537 - 3s - loss: 0.3547 - accuracy: 0.8501 - 3s/epoch - 2ms/step\n",
            "CNN_model end\n",
            "\n",
            "RNN_model start\n",
            "Epoch 1/15\n",
            "172/172 [==============================] - 4s 12ms/step - loss: 0.6609 - accuracy: 0.5578 - val_loss: 0.4499 - val_accuracy: 0.7945\n",
            "Epoch 2/15\n",
            "172/172 [==============================] - 2s 9ms/step - loss: 0.4164 - accuracy: 0.8110 - val_loss: 0.3828 - val_accuracy: 0.8305\n",
            "Epoch 3/15\n",
            "172/172 [==============================] - 2s 9ms/step - loss: 0.3753 - accuracy: 0.8348 - val_loss: 0.3743 - val_accuracy: 0.8384\n",
            "Epoch 4/15\n",
            "172/172 [==============================] - 2s 9ms/step - loss: 0.3570 - accuracy: 0.8440 - val_loss: 0.3652 - val_accuracy: 0.8390\n",
            "Epoch 5/15\n",
            "172/172 [==============================] - 2s 9ms/step - loss: 0.3455 - accuracy: 0.8507 - val_loss: 0.3663 - val_accuracy: 0.8416\n",
            "Epoch 6/15\n",
            "172/172 [==============================] - 2s 9ms/step - loss: 0.3370 - accuracy: 0.8544 - val_loss: 0.3815 - val_accuracy: 0.8307\n",
            "Epoch 7/15\n",
            "172/172 [==============================] - 2s 9ms/step - loss: 0.3289 - accuracy: 0.8595 - val_loss: 0.3614 - val_accuracy: 0.8417\n",
            "Epoch 8/15\n",
            "172/172 [==============================] - 2s 9ms/step - loss: 0.3225 - accuracy: 0.8634 - val_loss: 0.3678 - val_accuracy: 0.8392\n",
            "Epoch 9/15\n",
            "172/172 [==============================] - 2s 9ms/step - loss: 0.3187 - accuracy: 0.8646 - val_loss: 0.3560 - val_accuracy: 0.8417\n",
            "Epoch 10/15\n",
            "172/172 [==============================] - 2s 9ms/step - loss: 0.3144 - accuracy: 0.8666 - val_loss: 0.3552 - val_accuracy: 0.8451\n",
            "Epoch 11/15\n",
            "172/172 [==============================] - 2s 9ms/step - loss: 0.3085 - accuracy: 0.8697 - val_loss: 0.3572 - val_accuracy: 0.8444\n",
            "Epoch 12/15\n",
            "172/172 [==============================] - 2s 9ms/step - loss: 0.3034 - accuracy: 0.8716 - val_loss: 0.3628 - val_accuracy: 0.8446\n",
            "Epoch 13/15\n",
            "172/172 [==============================] - 2s 9ms/step - loss: 0.2995 - accuracy: 0.8734 - val_loss: 0.3536 - val_accuracy: 0.8451\n",
            "Epoch 14/15\n",
            "172/172 [==============================] - 2s 9ms/step - loss: 0.2941 - accuracy: 0.8750 - val_loss: 0.3571 - val_accuracy: 0.8443\n",
            "Epoch 15/15\n",
            "172/172 [==============================] - 2s 9ms/step - loss: 0.2905 - accuracy: 0.8762 - val_loss: 0.3585 - val_accuracy: 0.8448\n",
            "Epoch 1/15\n",
            "172/172 [==============================] - 5s 15ms/step - loss: 0.6735 - accuracy: 0.5465 - val_loss: 0.5156 - val_accuracy: 0.7481\n",
            "Epoch 2/15\n",
            "172/172 [==============================] - 2s 9ms/step - loss: 0.4462 - accuracy: 0.7952 - val_loss: 0.3801 - val_accuracy: 0.8309\n",
            "Epoch 3/15\n",
            "172/172 [==============================] - 2s 9ms/step - loss: 0.3832 - accuracy: 0.8276 - val_loss: 0.3596 - val_accuracy: 0.8399\n",
            "Epoch 4/15\n",
            "172/172 [==============================] - 2s 9ms/step - loss: 0.3554 - accuracy: 0.8440 - val_loss: 0.3491 - val_accuracy: 0.8462\n",
            "Epoch 5/15\n",
            "172/172 [==============================] - 2s 9ms/step - loss: 0.3400 - accuracy: 0.8510 - val_loss: 0.3472 - val_accuracy: 0.8477\n",
            "Epoch 6/15\n",
            "172/172 [==============================] - 2s 9ms/step - loss: 0.3300 - accuracy: 0.8555 - val_loss: 0.3473 - val_accuracy: 0.8503\n",
            "Epoch 7/15\n",
            "172/172 [==============================] - 2s 9ms/step - loss: 0.3181 - accuracy: 0.8622 - val_loss: 0.3553 - val_accuracy: 0.8511\n",
            "Epoch 8/15\n",
            "172/172 [==============================] - 2s 9ms/step - loss: 0.3108 - accuracy: 0.8662 - val_loss: 0.3513 - val_accuracy: 0.8540\n",
            "Epoch 9/15\n",
            "172/172 [==============================] - 2s 9ms/step - loss: 0.3053 - accuracy: 0.8681 - val_loss: 0.3445 - val_accuracy: 0.8537\n",
            "Epoch 10/15\n",
            "172/172 [==============================] - 2s 9ms/step - loss: 0.2993 - accuracy: 0.8710 - val_loss: 0.3423 - val_accuracy: 0.8540\n",
            "Epoch 11/15\n",
            "172/172 [==============================] - 2s 9ms/step - loss: 0.2949 - accuracy: 0.8729 - val_loss: 0.3523 - val_accuracy: 0.8552\n",
            "Epoch 12/15\n",
            "172/172 [==============================] - 2s 9ms/step - loss: 0.2896 - accuracy: 0.8753 - val_loss: 0.3456 - val_accuracy: 0.8545\n",
            "Epoch 13/15\n",
            "172/172 [==============================] - 2s 10ms/step - loss: 0.2851 - accuracy: 0.8775 - val_loss: 0.3520 - val_accuracy: 0.8546\n",
            "Epoch 14/15\n",
            "172/172 [==============================] - 2s 9ms/step - loss: 0.2811 - accuracy: 0.8803 - val_loss: 0.3482 - val_accuracy: 0.8541\n"
          ]
        },
        {
          "data": {
            "image/png": "[encoded data removed]",
            "text/plain": [
              "<Figure size 432x288 with 1 Axes>"
            ]
          },
          "metadata": {
            "needs_background": "light"
          },
          "output_type": "display_data"
        },
        {
          "data": {
            "image/png": "[encoded data removed]",
            "text/plain": [
              "<Figure size 432x288 with 1 Axes>"
            ]
          },
          "metadata": {
            "needs_background": "light"
          },
          "output_type": "display_data"
        },
        {
          "name": "stdout",
          "output_type": "stream",
          "text": [
            "1537/1537 - 4s - loss: 0.3648 - accuracy: 0.8407 - 4s/epoch - 2ms/step\n",
            "1537/1537 - 4s - loss: 0.3524 - accuracy: 0.8533 - 4s/epoch - 3ms/step\n",
            "RNN_model end\n",
            "\n"
          ]
        }
      ],
      "source": [
        "for model, w2v_model in zip(model_list,w2v_model_list):\n",
        "    print(f\"{model.name} start\")\n",
        "\n",
        "    # 모델 훈련\n",
        "    model.compile(optimizer=tf.keras.optimizers.Nadam(\n",
        "                        learning_rate=0.0002 # running rate\n",
        "                )\n",
        "                ,loss='binary_crossentropy'\n",
        "                ,metrics=['accuracy'])\n",
        "\n",
        "    history_dict = model.fit(\n",
        "                        X_train\n",
        "                        , y_train\n",
        "                        , callbacks=early_stopping\n",
        "                        , **fit_kwargs\n",
        "                    ).history\n",
        "    acc = history_dict['accuracy']\n",
        "    val_acc = history_dict['val_accuracy']\n",
        "    loss = history_dict['loss']\n",
        "    val_loss = history_dict['val_loss']\n",
        "\n",
        "\n",
        "    # 개선된 모델의 훈련\n",
        "    w2v_model.compile(optimizer=tf.keras.optimizers.Nadam(\n",
        "                        learning_rate=0.005 # running rate\n",
        "                )\n",
        "                ,loss='binary_crossentropy'\n",
        "                ,metrics=['accuracy'])\n",
        "\n",
        "    w2v_history_dict = w2v_model.fit(\n",
        "                        X_train\n",
        "                        , y_train\n",
        "                        , callbacks=early_stopping\n",
        "                        , **fit_kwargs\n",
        "                    ).history\n",
        "\n",
        "    w2v_acc = w2v_history_dict['accuracy']\n",
        "    w2v_val_acc = w2v_history_dict['val_accuracy']\n",
        "    w2v_loss = w2v_history_dict['loss']\n",
        "    w2v_val_loss = w2v_history_dict['val_loss']\n",
        "\n",
        "    epoch = range(1, len(acc) + 1)\n",
        "    w2v_epoch = range(1, len(w2v_val_acc) + 1)\n",
        "\n",
        "    plt.plot(epoch, loss, 'bo', label='Training loss')\n",
        "    plt.plot(epoch, val_loss, 'b', label='Validation loss')\n",
        "    plt.plot(w2v_epoch, w2v_loss, 'go', label='W2V Training loss')\n",
        "    plt.plot(w2v_epoch, w2v_val_loss, 'g', label='W2V Validation loss')\n",
        "    plt.title('Training and validation loss')\n",
        "    plt.xlabel('Epochs')\n",
        "    plt.ylabel('Loss')\n",
        "    plt.legend()\n",
        "    plt.show()\n",
        "\n",
        "    plt.clf()\n",
        "    plt.plot(epoch, acc, 'bo', label='Training acc')\n",
        "    plt.plot(epoch, val_acc, 'b', label='Validation acc')\n",
        "    plt.plot(w2v_epoch, w2v_acc, 'go', label='W2V Training acc')\n",
        "    plt.plot(w2v_epoch, w2v_val_acc, 'g', label='W2V Validation acc')\n",
        "    plt.title('Training and validation accuracy')\n",
        "    plt.xlabel('Epochs')\n",
        "    plt.ylabel('Accuracy')\n",
        "    plt.legend()\n",
        "\n",
        "    plt.show()\n",
        "\n",
        "    # 테스트셋을 통한 모델 평가\n",
        "    results = model.evaluate(X_test, y_test, verbose=2)\n",
        "    w2v_results = w2v_model.evaluate(X_test, y_test, verbose=2)\n",
        "\n",
        "    print(f\"{model.name} end\\n\")"
      ]
    },
    {
      "cell_type": "markdown",
      "metadata": {
        "id": "4318q_hboPvg"
      },
      "source": [
        "둘의 학습결과 반드시 미리 학습된 데이터를 이용하여 학습, 예측하는 것이 좋은결과를 얻을 수 있지 않다는 결론에 달했다.<br>\n",
        "먼저 학습률부터 다른점을 살펴보면<br>\n",
        "- 처음부터 학습하는 모델이 경우는 learnning rate를 낮은 값으로 설정\n",
        "- 미리 학습된 백터는 learnning rate를 높은 값으로 설정\n",
        "\n",
        "하였을 시 결과가 가장 좋게 나왔다.<br>\n",
        "\n",
        "early stop의 작동경우에는\n",
        "- 비학습 모델에서는 early stop현상이 전혀 일어나지 않음\n",
        "- 지도학습에서는 early stop이 가끔 일어남\n",
        "\n",
        "의 현상이 보인다.<br>\n",
        "\n",
        "이에따른 결과는\n",
        "- max pool레이어만 존하는 모델은 비학습 모델이 전체적으로 높은 정확도가 나타나지만<br>전반적으로 학습률이 가장 저조함\n",
        "- 그 이외의 모델에서는 학습된 모델이 1~2%정도 높게 나타나며<br>학습된 모델의 경우 항상 정확도가 85%를 넘음  \n",
        "\n",
        "의 현상이 나타난다.\n",
        "\n"
      ]
    },
    {
      "cell_type": "markdown",
      "metadata": {
        "id": "Zsx8OVYGnM-s"
      },
      "source": [
        "### 회고\n"
      ]
    },
    {
      "cell_type": "markdown",
      "metadata": {
        "id": "2ngdabGo3j4l"
      },
      "source": [
        "- 학습된 데이터가 전체적으로 높은 정확도를 보여 미리 학습된 데이터의 중요성을 알게되었다.\n",
        "- 항상 학습된 데이터가 높은 정확도를 나타내는 것이 아니라 하이퍼파라미터의 튜닝에 따라 결과가 달라질 수 있다는 것을 알게 되었다.\n",
        "\n",
        "※ 이번 레포트는 양희성님의 모델구조의 조언으로 작성되었음을 알려드립니다.<br>\n",
        "   희성님에게 감사하다는 글을 남기며 이만 글을 마치겠습니다."
      ]
    }
  ],
  "metadata": {
    "accelerator": "GPU",
    "colab": {
      "include_colab_link": true,
      "machine_shape": "hm",
      "provenance": [],
      "toc_visible": true
    },
    "gpuClass": "premium",
    "kernelspec": {
      "display_name": "Python 3.10.4 64-bit",
      "language": "python",
      "name": "python3"
    },
    "language_info": {
      "codemirror_mode": {
        "name": "ipython",
        "version": 3
      },
      "file_extension": ".py",
      "mimetype": "text/x-python",
      "name": "python",
      "nbconvert_exporter": "python",
      "pygments_lexer": "ipython3",
      "version": "3.10.4"
    },
    "vscode": {
      "interpreter": {
        "hash": "26de051ba29f2982a8de78e945f0abaf191376122a1563185a90213a26c5da77"
      }
    }
  },
  "nbformat": 4,
  "nbformat_minor": 0
}
