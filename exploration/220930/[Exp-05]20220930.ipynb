{
 "cells": [
  {
   "cell_type": "markdown",
   "metadata": {},
   "source": [
    "# exploration 5번째 과제</br>\n",
    "@ 황한용(3기/쏘카)"
   ]
  },
  {
   "cell_type": "markdown",
   "metadata": {},
   "source": [
    "## 라이브러리 선언"
   ]
  },
  {
   "cell_type": "code",
   "execution_count": 10,
   "metadata": {},
   "outputs": [],
   "source": [
    "import glob\n",
    "import os\n",
    "import numpy as np\n",
    "\n",
    "from pathlib import Path\n",
    "from PIL import Image\n",
    "from matplotlib import pyplot as plt\n",
    "import tensorflow as tf\n",
    "from tensorflow import keras\n",
    "from sklearn.model_selection import train_test_split"
   ]
  },
  {
   "cell_type": "markdown",
   "metadata": {},
   "source": [
    "## 상수선언"
   ]
  },
  {
   "cell_type": "code",
   "execution_count": 11,
   "metadata": {},
   "outputs": [],
   "source": [
    "DATA_PATH = \"/\".join([str(Path(\"./\").parent.resolve().parent.resolve().parent.resolve().absolute()).replace(\"\\\\\",\"/\"),\"data\",\"rock_scissor_paper\"]) # 데이터 기본경로\n",
    "TRAIN_DATA_PATH = \"/\".join([DATA_PATH, \"train\"]) # 학습용 데이터\n",
    "TEST_DATA_PATH = \"/\".join([DATA_PATH, \"test\"]) # 예측용 데이터\n",
    "SUB_DATA_FOLDER = [\"scissor\", \"rock\", \"paper\"] # 가위바위보 폴더명\n",
    "# `train_test_split`설정\n",
    "train_test_split_kwargs = {\n",
    "    \"test_size\":0.2\n",
    "    , \"random_state\":42\n",
    "}\n",
    "\n",
    "# `model.fit`설정\n",
    "fit_kwargs = {\n",
    "    \"epochs\":32\n",
    "    , \"batch_size\":128\n",
    "    , \"verbose\":1\n",
    "    , \"validation_freq\":8\n",
    "}"
   ]
  },
  {
   "cell_type": "markdown",
   "metadata": {},
   "source": [
    "## 함수선언"
   ]
  },
  {
   "cell_type": "code",
   "execution_count": 12,
   "metadata": {},
   "outputs": [],
   "source": [
    "def resize_images(img_path: str) -> None:\n",
    "    \"\"\"\n",
    "    폴더안의 이미지 파일을 전부 28*28사이즈로 변환 \n",
    "\n",
    "    Parameters\n",
    "    ----------\n",
    "    img_path : str\n",
    "        이미지 경로\n",
    "\n",
    "    Returns\n",
    "    ----------\n",
    "    None\n",
    "    \"\"\"\n",
    "    images=glob.glob(img_path + \"/*.jpg\")  \n",
    "\n",
    "    target_size=(28,28)\n",
    "    for img in images:\n",
    "        old_img=Image.open(img)\n",
    "        new_img=old_img.resize(target_size,Image.LANCZOS)\n",
    "        new_img.save(img, \"JPEG\")\n",
    "    \n",
    "    print(len(images), \" 개의 이미지가 변환되었습니다.\")\n",
    "\n",
    "def load_data(img_path:str, number_of_data:int=1800):\n",
    "    \"\"\"\n",
    "    가위, 바위, 보의 이미지를 불러오고\\n\n",
    "    각 이미지에 맞는 라벨을 생성하여\\n\n",
    "    이미지 변수와 라벨변수를 각각 리턴한다.\\n\n",
    "    각 이미지에 메칭되는 숫자는 아래와 같다.\\n\n",
    "     - 가위 : 0\n",
    "     - 바위 : 1\n",
    "     - 보 : 2\n",
    "\n",
    "    Parameters\n",
    "    ----------\n",
    "    img_path : str\n",
    "        불러올 이미지의 경로\\n\n",
    "        가위, 바위, 보의 상위 경로로 설정한다.\n",
    "\n",
    "    Returns\n",
    "    ----------\n",
    "    residual : Series\n",
    "        \n",
    "    \"\"\"\n",
    "    img_size=28 # 이미지 크기\n",
    "    color=3 # RGB\n",
    "\n",
    "    #이미지 데이터와 라벨(가위 : 0, 바위 : 1, 보 : 2) 데이터를 담을 행렬(matrix) 영역을 생성합니다.\n",
    "    imgs=np.zeros(number_of_data*img_size*img_size*color,dtype=np.int32).reshape(number_of_data,img_size,img_size,color)\n",
    "    labels=np.zeros(number_of_data,dtype=np.int32)\n",
    "\n",
    "    idx=0\n",
    "    for i, sub in enumerate(SUB_DATA_FOLDER):\n",
    "        for file in glob.iglob(img_path+f'/{sub}/*.jpg'): # 가위, 바위, 보\n",
    "            img = np.array(Image.open(file),dtype=np.int32)\n",
    "            imgs[idx,:,:,:]=img\n",
    "            labels[idx]=i \n",
    "            idx=idx+1\n",
    "        \n",
    "    print(f\"{img_path}안의 데이터의 이미지 개수는\", idx,\"입니다.\")\n",
    "    return imgs, labels"
   ]
  },
  {
   "cell_type": "markdown",
   "metadata": {},
   "source": [
    "## 메인"
   ]
  },
  {
   "cell_type": "code",
   "execution_count": 13,
   "metadata": {},
   "outputs": [
    {
     "name": "stderr",
     "output_type": "stream",
     "text": [
      "C:\\Users\\Owner\\AppData\\Local\\Temp\\ipykernel_9872\\2095284131.py:19: DeprecationWarning: LANCZOS is deprecated and will be removed in Pillow 10 (2023-07-01). Use Resampling.LANCZOS instead.\n",
      "  new_img=old_img.resize(target_size,Image.LANCZOS)\n"
     ]
    },
    {
     "name": "stdout",
     "output_type": "stream",
     "text": [
      "600  개의 이미지가 변환되었습니다.\n",
      "100  개의 이미지가 변환되었습니다.\n",
      "600  개의 이미지가 변환되었습니다.\n",
      "100  개의 이미지가 변환되었습니다.\n",
      "600  개의 이미지가 변환되었습니다.\n",
      "100  개의 이미지가 변환되었습니다.\n",
      "C:/workspace/project_so/data/rock_scissor_paper/train안의 데이터의 이미지 개수는 1800 입니다.\n",
      "C:/workspace/project_so/data/rock_scissor_paper/test안의 데이터의 이미지 개수는 300 입니다.\n"
     ]
    }
   ],
   "source": [
    "for sub_f in SUB_DATA_FOLDER:\n",
    "    resize_images(os.path.join(TRAIN_DATA_PATH, sub_f))\n",
    "    resize_images(os.path.join(TEST_DATA_PATH, sub_f))\n",
    "\n",
    "# 데이터 로드\n",
    "(x_train, y_train), (x_test, y_test)=load_data(TRAIN_DATA_PATH), load_data(TEST_DATA_PATH)"
   ]
  },
  {
   "cell_type": "markdown",
   "metadata": {},
   "source": [
    "`train`과 `test`데이터를 각각 불러왔으며 각각 1800장, 300장으로 6:1 비율로 나누었다.</br>\n",
    "딥러닝의 특성상 많은 데이터를 학습시킬수록 성능이 좋아지므로</br>\n",
    "본인의 300장을 제외한 나머지 분은 조원들의 협조를 구해 구하였다.</br>"
   ]
  },
  {
   "cell_type": "code",
   "execution_count": 14,
   "metadata": {},
   "outputs": [
    {
     "name": "stdout",
     "output_type": "stream",
     "text": [
      "x_train_reshaped : (1440, 28, 28, 3)\n",
      "x_val_reshaped : (360, 28, 28, 3)\n"
     ]
    }
   ],
   "source": [
    "# 입력은 0~1 사이의 값으로 정규화\n",
    "x_train_norm = x_train/255.0   \n",
    "x_test_norm = x_test/255.0\n",
    "\n",
    "x_train_norm, x_val_norm, y_train, y_val = train_test_split(x_train_norm, y_train, **train_test_split_kwargs)\n",
    "\n",
    "# train reshape\n",
    "x_train_reshaped=x_train_norm.reshape(-1, 28, 28, 3)\n",
    "print(f\"x_train_reshaped : {x_train_reshaped.shape}\")\n",
    "x_val_reshaped=x_val_norm.reshape(-1, 28, 28, 3)\n",
    "print(f\"x_val_reshaped : {x_val_reshaped.shape}\")"
   ]
  },
  {
   "cell_type": "markdown",
   "metadata": {},
   "source": [
    "`train`과 `test`데이터를 R,G,B각각 화소의 최대값으로 나누어 정규화</br>\n",
    "`train`데이터는 검증용과 학습용으로 각각 2:8비율로 나누어서 과적합을 피하였다."
   ]
  },
  {
   "cell_type": "code",
   "execution_count": 15,
   "metadata": {},
   "outputs": [
    {
     "name": "stdout",
     "output_type": "stream",
     "text": [
      "Model에 추가된 Layer 개수:  7\n",
      "Model: \"sequential_1\"\n",
      "_________________________________________________________________\n",
      " Layer (type)                Output Shape              Param #   \n",
      "=================================================================\n",
      " conv2d_2 (Conv2D)           (None, 26, 26, 16)        448       \n",
      "                                                                 \n",
      " max_pooling2d_2 (MaxPooling  (None, 13, 13, 16)       0         \n",
      " 2D)                                                             \n",
      "                                                                 \n",
      " conv2d_3 (Conv2D)           (None, 11, 11, 32)        4640      \n",
      "                                                                 \n",
      " max_pooling2d_3 (MaxPooling  (None, 5, 5, 32)         0         \n",
      " 2D)                                                             \n",
      "                                                                 \n",
      " flatten_1 (Flatten)         (None, 800)               0         \n",
      "                                                                 \n",
      " dense_2 (Dense)             (None, 32)                25632     \n",
      "                                                                 \n",
      " dense_3 (Dense)             (None, 3)                 99        \n",
      "                                                                 \n",
      "=================================================================\n",
      "Total params: 30,819\n",
      "Trainable params: 30,819\n",
      "Non-trainable params: 0\n",
      "_________________________________________________________________\n"
     ]
    }
   ],
   "source": [
    "# 모델생성\n",
    "model=keras.models.Sequential()\n",
    "model.add(keras.layers.Conv2D(16, (3,3), activation='relu', input_shape=(28,28,3)))\n",
    "model.add(keras.layers.MaxPool2D(2,2))\n",
    "model.add(keras.layers.Conv2D(32, (3,3), activation='relu'))\n",
    "model.add(keras.layers.MaxPooling2D((2,2)))\n",
    "model.add(keras.layers.Flatten())\n",
    "model.add(keras.layers.Dense(32, activation='relu'))\n",
    "model.add(keras.layers.Dense(3, activation='softmax'))\n",
    "\n",
    "print('Model에 추가된 Layer 개수: ', len(model.layers))\n",
    "\n",
    "model.summary()"
   ]
  },
  {
   "cell_type": "markdown",
   "metadata": {},
   "source": [
    "모델은 가위바위보의 이미지에 맞게 `input_shape`을 28*28 3체널로 변경"
   ]
  },
  {
   "cell_type": "code",
   "execution_count": 16,
   "metadata": {},
   "outputs": [
    {
     "name": "stdout",
     "output_type": "stream",
     "text": [
      "Epoch 1/32\n",
      "12/12 [==============================] - 0s 14ms/step - loss: 1.1017 - accuracy: 0.3424\n",
      "Epoch 2/32\n",
      "12/12 [==============================] - 0s 13ms/step - loss: 1.0913 - accuracy: 0.4174\n",
      "Epoch 3/32\n",
      "12/12 [==============================] - 0s 13ms/step - loss: 1.0869 - accuracy: 0.4139\n",
      "Epoch 4/32\n",
      "12/12 [==============================] - 0s 13ms/step - loss: 1.0816 - accuracy: 0.4264\n",
      "Epoch 5/32\n",
      "12/12 [==============================] - 0s 13ms/step - loss: 1.0747 - accuracy: 0.4111\n",
      "Epoch 6/32\n",
      "12/12 [==============================] - 0s 13ms/step - loss: 1.0664 - accuracy: 0.4229\n",
      "Epoch 7/32\n",
      "12/12 [==============================] - 0s 14ms/step - loss: 1.0487 - accuracy: 0.4590\n",
      "Epoch 8/32\n",
      "12/12 [==============================] - 0s 31ms/step - loss: 1.0339 - accuracy: 0.4917 - val_loss: 1.0397 - val_accuracy: 0.4889\n",
      "Epoch 9/32\n",
      "12/12 [==============================] - 0s 18ms/step - loss: 1.0196 - accuracy: 0.5014\n",
      "Epoch 10/32\n",
      "12/12 [==============================] - 0s 16ms/step - loss: 0.9971 - accuracy: 0.5493\n",
      "Epoch 11/32\n",
      "12/12 [==============================] - 0s 17ms/step - loss: 0.9706 - accuracy: 0.5542\n",
      "Epoch 12/32\n",
      "12/12 [==============================] - 0s 16ms/step - loss: 0.9497 - accuracy: 0.5757\n",
      "Epoch 13/32\n",
      "12/12 [==============================] - 0s 17ms/step - loss: 0.9195 - accuracy: 0.5896\n",
      "Epoch 14/32\n",
      "12/12 [==============================] - 0s 18ms/step - loss: 0.8944 - accuracy: 0.6111\n",
      "Epoch 15/32\n",
      "12/12 [==============================] - 0s 17ms/step - loss: 0.8683 - accuracy: 0.6125\n",
      "Epoch 16/32\n",
      "12/12 [==============================] - 0s 20ms/step - loss: 0.8548 - accuracy: 0.6257 - val_loss: 0.8972 - val_accuracy: 0.5583\n",
      "Epoch 17/32\n",
      "12/12 [==============================] - 0s 20ms/step - loss: 0.8374 - accuracy: 0.6278\n",
      "Epoch 18/32\n",
      "12/12 [==============================] - 0s 16ms/step - loss: 0.8220 - accuracy: 0.6396\n",
      "Epoch 19/32\n",
      "12/12 [==============================] - 0s 15ms/step - loss: 0.8259 - accuracy: 0.6257\n",
      "Epoch 20/32\n",
      "12/12 [==============================] - 0s 15ms/step - loss: 0.7828 - accuracy: 0.6681\n",
      "Epoch 21/32\n",
      "12/12 [==============================] - 0s 15ms/step - loss: 0.7964 - accuracy: 0.6472\n",
      "Epoch 22/32\n",
      "12/12 [==============================] - 0s 15ms/step - loss: 0.7682 - accuracy: 0.6736\n",
      "Epoch 23/32\n",
      "12/12 [==============================] - 0s 15ms/step - loss: 0.7624 - accuracy: 0.6660\n",
      "Epoch 24/32\n",
      "12/12 [==============================] - 0s 17ms/step - loss: 0.7391 - accuracy: 0.6847 - val_loss: 0.8571 - val_accuracy: 0.5889\n",
      "Epoch 25/32\n",
      "12/12 [==============================] - 0s 15ms/step - loss: 0.7452 - accuracy: 0.6687\n",
      "Epoch 26/32\n",
      "12/12 [==============================] - 0s 15ms/step - loss: 0.7222 - accuracy: 0.7000\n",
      "Epoch 27/32\n",
      "12/12 [==============================] - 0s 15ms/step - loss: 0.7081 - accuracy: 0.6993\n",
      "Epoch 28/32\n",
      "12/12 [==============================] - 0s 15ms/step - loss: 0.6919 - accuracy: 0.7167\n",
      "Epoch 29/32\n",
      "12/12 [==============================] - 0s 15ms/step - loss: 0.6853 - accuracy: 0.7243\n",
      "Epoch 30/32\n",
      "12/12 [==============================] - 0s 15ms/step - loss: 0.6988 - accuracy: 0.7042\n",
      "Epoch 31/32\n",
      "12/12 [==============================] - 0s 15ms/step - loss: 0.6960 - accuracy: 0.7014\n",
      "Epoch 32/32\n",
      "12/12 [==============================] - 0s 17ms/step - loss: 0.6708 - accuracy: 0.7292 - val_loss: 0.7634 - val_accuracy: 0.6611\n"
     ]
    }
   ],
   "source": [
    "\n",
    "model.compile(optimizer='adam',\n",
    "             loss='sparse_categorical_crossentropy',\n",
    "             metrics=['accuracy'])\n",
    "\n",
    "hist = model.fit(\n",
    "    x_train_reshaped\n",
    "    , y_train\n",
    "    , validation_data=(x_val_reshaped, y_val)\n",
    "    , **fit_kwargs\n",
    ").history"
   ]
  },
  {
   "cell_type": "markdown",
   "metadata": {},
   "source": [
    "`train` 데이터에 과적합 된 모델을 피하기 위해 `validation_data`를 설정하였다.</br>\n",
    "데이터 검증은 8의 배수로 하였다."
   ]
  },
  {
   "cell_type": "code",
   "execution_count": 17,
   "metadata": {},
   "outputs": [
    {
     "name": "stdout",
     "output_type": "stream",
     "text": [
      "x_test_reshaped : (1800, 28, 28, 3)\n",
      "57/57 [==============================] - 0s 2ms/step - loss: 0.8202 - accuracy: 0.9489\n",
      "test_loss: 0.8202298283576965\n",
      "test_accuracy: 0.948888897895813\n"
     ]
    }
   ],
   "source": [
    "# test\n",
    "x_test_reshaped=x_test_norm.reshape(-1, 28, 28, 3)\n",
    "print(f\"x_test_reshaped : {x_test_reshaped.shape}\")\n",
    "\n",
    "test_loss, test_accuracy = model.evaluate(x_test_reshaped, y_test, verbose=1)\n",
    "print(f\"test_loss: {test_loss}\")\n",
    "print(f\"test_accuracy: {test_accuracy}\")"
   ]
  },
  {
   "cell_type": "markdown",
   "metadata": {},
   "source": [
    "테스트 결과 `test_accuracy` 평균 약 95퍼 이상은 나오고 있으며</br>\n",
    "`test_loss`는 0.6 ~ 0.9의 값이 랜덤으로 생성된다."
   ]
  },
  {
   "cell_type": "code",
   "execution_count": 18,
   "metadata": {},
   "outputs": [
    {
     "data": {
      "image/png": "[encoded data removed]",
      "text/plain": [
       "<Figure size 640x480 with 1 Axes>"
      ]
     },
     "metadata": {},
     "output_type": "display_data"
    },
    {
     "data": {
      "image/png": "[encoded data removed]",
      "text/plain": [
       "<Figure size 640x480 with 1 Axes>"
      ]
     },
     "metadata": {},
     "output_type": "display_data"
    }
   ],
   "source": [
    "plt.plot(range(0, len(hist['accuracy'])+1), [0]+ hist['accuracy'])\n",
    "plt.plot(range(0, len(hist['accuracy'])+1, fit_kwargs[\"validation_freq\"]), [0]+ hist['val_accuracy'])\n",
    "plt.title('Accuracy')\n",
    "plt.legend(['train','test'], loc='upper left')\n",
    "plt.show()\n",
    "plt.plot(range(0, len(hist['loss'])+1), [0]+ hist['loss'])\n",
    "plt.plot(range(0, len(hist['loss'])+1, fit_kwargs[\"validation_freq\"]), [0]+ hist['val_loss'])\n",
    "plt.title('Loss')\n",
    "plt.legend(['train','test'], loc='upper left')\n",
    "plt.show()"
   ]
  },
  {
   "cell_type": "markdown",
   "metadata": {},
   "source": [
    "위에서부터 순서대로 \n",
    "- `학습의 accurency`와 `검증의 accurency`의 증가추세를 그린 그래프\n",
    "- `학습의 loss`와 `검증의 loss`의 감소추세를 그린 그래프\n",
    "\n",
    "이다.</br>\n",
    "`validate` 데이터는 4개밖에 없기때문에 4개의 점을 표시하고 각각 실선으로 이었다.</br>\n",
    "</br>\n",
    "학습의 정도에 따라\n",
    "- `accurency` 그래프 두 선의 값이 대체로 상향\n",
    "- `loss` 그래프 두 선의 값이 대체로 하향\n",
    "\n",
    "이므로 학습의 문제는 없어보인다."
   ]
  },
  {
   "cell_type": "markdown",
   "metadata": {},
   "source": [
    "## 회고"
   ]
  },
  {
   "cell_type": "markdown",
   "metadata": {},
   "source": [
    "- `test_loss`가 0.6 ~ 0.9정도 산출됨에도 불구하고 `test_accuracy` 평균은 약 95% 이상이다.</br>\n",
    "  `test_loss`가 0.9가 산출된 케이스도 있었는데도 불구하고 `test_accuracy`가 여전히 90% 이상인 점이 특이하다.</br>\n",
    "  아무리 독립적인 값이긴 하지만 결과가 의심스럽다.\n",
    "- `train`과 `validate`가 각각 0.6 초과, 0.8 초과임에도 불구하고 실제 `test`데이터에서는 높은 적중률을 보였다.</br>\n",
    "  이 점 또한 특이하다."
   ]
  }
 ],
 "metadata": {
  "kernelspec": {
   "display_name": "Python 3.10.4 64-bit",
   "language": "python",
   "name": "python3"
  },
  "language_info": {
   "codemirror_mode": {
    "name": "ipython",
    "version": 3
   },
   "file_extension": ".py",
   "mimetype": "text/x-python",
   "name": "python",
   "nbconvert_exporter": "python",
   "pygments_lexer": "ipython3",
   "version": "3.10.4"
  },
  "orig_nbformat": 4,
  "vscode": {
   "interpreter": {
    "hash": "26de051ba29f2982a8de78e945f0abaf191376122a1563185a90213a26c5da77"
   }
  }
 },
 "nbformat": 4,
 "nbformat_minor": 2
}
