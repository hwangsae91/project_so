{
  "cells": [
    {
      "cell_type": "code",
      "execution_count": 1,
      "metadata": {
        "colab": {
          "base_uri": "https://localhost:8080/"
        },
        "id": "302ZdfCKLlhI",
        "outputId": "54f353fc-7b4b-4d41-9e2e-7b9638ef97bc"
      },
      "outputs": [
        {
          "output_type": "stream",
          "name": "stdout",
          "text": [
            "Drive already mounted at /content/drive; to attempt to forcibly remount, call drive.mount(\"/content/drive\", force_remount=True).\n"
          ]
        }
      ],
      "source": [
        "# google colab전용\n",
        "from google.colab import drive\n",
        "drive.mount('/content/drive')"
      ]
    },
    {
      "cell_type": "code",
      "source": [
        "# # Mecab 설치를 위한 환경구성\n",
        "# import os\n",
        "\n",
        "# # install konlpy, jdk, JPype\n",
        "# !pip install konlpy > /dev/null 2>&1\n",
        "# !apt-get install openjdk-8-jdk-headless -qq > /dev/null 2>&1\n",
        "# !pip3 install JPype1-py3 > /dev/null 2>&1\n",
        "\n",
        "# # install mecab-ko\n",
        "# os.chdir('/tmp/')\n",
        "# !curl -LO https://bitbucket.org/eunjeon/mecab-ko/downloads/mecab-0.996-ko-0.9.2.tar.gz > /dev/null 2>&1\n",
        "# !tar zxfv mecab-0.996-ko-0.9.2.tar.gz > /dev/null 2>&1\n",
        "# os.chdir('/tmp/mecab-0.996-ko-0.9.2')\n",
        "# !./configure > /dev/null 2>&1\n",
        "# !make > /dev/null 2>&1\n",
        "# !make check > /dev/null 2>&1\n",
        "# !make install > /dev/null 2>&1\n",
        "\n",
        "# # install mecab-ko-dic\n",
        "# !apt-get install automake > /dev/null 2>&1\n",
        "# os.chdir('/tmp')\n",
        "# !curl -LO https://bitbucket.org/eunjeon/mecab-ko-dic/downloads/mecab-ko-dic-2.1.1-20180720.tar.gz > /dev/null 2>&1\n",
        "# !tar -zxvf mecab-ko-dic-2.1.1-20180720.tar.gz > /dev/null 2>&1\n",
        "# os.chdir('/tmp/mecab-ko-dic-2.1.1-20180720')\n",
        "# !./autogen.sh > /dev/null 2>&1\n",
        "# !./configure > /dev/null 2>&1\n",
        "# !make > /dev/null 2>&1\n",
        "# !make install > /dev/null 2>&1\n",
        "\n",
        "# # install mecab-python\n",
        "# os.chdir('/content')\n",
        "# !git clone https://bitbucket.org/eunjeon/mecab-python-0.996.git > /dev/null 2>&1\n",
        "# os.chdir('/content/mecab-python-0.996')\n",
        "# !python3 setup.py build > /dev/null 2>&1\n",
        "# !python3 setup.py install > /dev/null 2>&1"
      ],
      "metadata": {
        "id": "aUd9iIbhAgk5"
      },
      "execution_count": 2,
      "outputs": []
    },
    {
      "cell_type": "markdown",
      "source": [
        "※ 환경설정의 출력은 명령어를 통해 출력되지 않게 하였다."
      ],
      "metadata": {
        "id": "RbKTjedWnAKZ"
      }
    },
    {
      "cell_type": "markdown",
      "metadata": {
        "id": "ujMb2MtyLrVQ"
      },
      "source": [
        "# exploration 8번째 과제</br>\n",
        "@ 황한용(3기/쏘카)"
      ]
    },
    {
      "cell_type": "markdown",
      "metadata": {
        "id": "tdrfR8Y3L0ry"
      },
      "source": [
        "## 라이브러리 선언"
      ]
    },
    {
      "cell_type": "code",
      "execution_count": 3,
      "metadata": {
        "id": "LWLP8EFSLqqp"
      },
      "outputs": [],
      "source": [
        "import numpy as np\n",
        "import pandas as pd\n",
        "import tensorflow as tf\n",
        "\n",
        "from collections import Counter\n",
        "from gensim.models.keyedvectors import Word2VecKeyedVectors\n",
        "from konlpy.tag import Mecab\n",
        "import matplotlib.pyplot as plt\n",
        "from sklearn.model_selection import train_test_split\n",
        "from typing import Dict, Tuple"
      ]
    },
    {
      "cell_type": "markdown",
      "metadata": {
        "id": "4qC6hZWKL7x3"
      },
      "source": [
        "## 상수선언"
      ]
    },
    {
      "cell_type": "code",
      "execution_count": 4,
      "metadata": {
        "id": "XcIjEEgnMD75"
      },
      "outputs": [],
      "source": [
        "BASE_PATH = \"/content/drive/MyDrive/Colab Notebooks/data/sentiment_classification\" # 데이터 기본경로\n",
        "DATA_PATH  = BASE_PATH + \"/data\" # 데이터 기본경로\n",
        "MODEL_PATH = BASE_PATH + \"/model/word2vec_ko.model\" # 학습된 한국어 단어모델\n",
        "STEP_WORDS = ['의','가','이','은','들','는','좀','잘','걍','과','도','를','으로','자','에','와','한','하다'] # 불용어\n",
        "BASE_DICTONARY = ['<PAD>', '<BOS>', '<UNK>','<UNUSED>'] # 단어의 기본구성\n",
        "FEATURE_DATA = [\"document\"] # feature\n",
        "MAX_NUM_WORDS = 10000 # 최대 사전 단어갯수\n",
        "WORD_VECTOR_DIM = 100 # 단어 백터 차원수\n",
        "pad_seq_kwargs = {\n",
        "    \"value\":None # 추후 추가예정\n",
        "    , \"padding\":\"post\"\n",
        "    , \"maxlen\":None # 추후 추가예정\n",
        "}\n",
        "TRAIN_TEST_SPLIT_KWARGS = {\n",
        "    \"test_size\":0.4, \"random_state\":2022\n",
        "}\n",
        "fit_kwargs = {\n",
        "    \"epochs\":15 # epoch 횟수\n",
        "    , \"batch_size\":512\n",
        "    ,\"validation_data\": None # 추후 추가예정\n",
        "    , \"shuffle\" : True # epoch당 셔플을 할지의 여부\n",
        "    , \"verbose\":1\n",
        "}\n",
        "tokenizer = Mecab() # tokenize 인스턴스"
      ]
    },
    {
      "cell_type": "markdown",
      "metadata": {
        "id": "MQO-EqdI8459"
      },
      "source": [
        "## 함수"
      ]
    },
    {
      "cell_type": "code",
      "execution_count": 5,
      "metadata": {
        "id": "9WiQ4qfK8459"
      },
      "outputs": [],
      "source": [
        "def load_data(\n",
        "    train_data:pd.DataFrame\n",
        "    , test_data:pd.DataFrame\n",
        "    , step_words:list=STEP_WORDS\n",
        "    , num_words:int=MAX_NUM_WORDS\n",
        ") -> Tuple[\n",
        "            np.ndarray\n",
        "            , np.ndarray\n",
        "            , np.ndarray\n",
        "            , np.ndarray\n",
        "            , Dict[int,str]\n",
        "           , Dict[str,int]\n",
        "        ]:\n",
        "    \"\"\"\n",
        "    다음과 같은 전처리 후\n",
        "    `train data(feature, target)`, `test data(feature, target)`, `단어사전(str기반, index기반)`\n",
        "    을 리턴한다.\n",
        "\n",
        "    - 데이터의 중복 제거\n",
        "    - `NaN` 결측치 제거\n",
        "    - 한국어 토크나이저로 토큰화\n",
        "    - 불용어(`stop_words`) 제거\n",
        "    - 사전`word_to_index` 구성\n",
        "    - 텍스트 스트링을 사전 인덱스 스트링으로 변환\n",
        "\n",
        "    Parameters\n",
        "    ----------\n",
        "    train_data : DataFrame\n",
        "        학습 데이터\n",
        "    train_data : DataFrame\n",
        "        테스트 데이터\n",
        "    step_words : list, default = `MAX_NUM_WORDS`\n",
        "        불용어\n",
        "    num_words : int, default = `MAX_NUM_WORDS`\n",
        "        단어사전의 최대 단어 갯수\n",
        "\n",
        "    Returns\n",
        "    -------\n",
        "    X_train : ndarray\n",
        "        train feature data\n",
        "    y_train : ndarray\n",
        "        train target data\n",
        "    X_test : ndarray\n",
        "        test feature data\n",
        "    y_test : ndarray\n",
        "        test target data\n",
        "    word_to_index : dict\n",
        "        단어사전\n",
        "    index_to_word : dict\n",
        "        인덱스 기반 단어사전\n",
        "    \"\"\"\n",
        "    # 1.\n",
        "    train_data.drop_duplicates(subset=FEATURE_DATA, inplace=True)\n",
        "    test_data.drop_duplicates(subset=FEATURE_DATA, inplace=True)\n",
        "\n",
        "    # 2.\n",
        "    train_data.dropna(how='any', inplace=True)\n",
        "    test_data.dropna(how='any', inplace=True)\n",
        "\n",
        "    # 3.\n",
        "    X_train = [\n",
        "        [word for word in tokenizer.morphs(sentence) if not word in step_words]\n",
        "        for sentence in train_data['document']\n",
        "    ]\n",
        "\n",
        "    X_test = [\n",
        "        [word for word in tokenizer.morphs(sentence) if not word in step_words]\n",
        "        for sentence in test_data['document']\n",
        "    ]\n",
        "    \n",
        "    # 4.\n",
        "    words = np.concatenate(X_train).tolist()\n",
        "    counter = Counter(words)\n",
        "    counter = counter.most_common(num_words - len(BASE_DICTONARY))\n",
        "    vocab = BASE_DICTONARY + [key for key, _ in counter]\n",
        "\n",
        "    # 5.\n",
        "    word_to_index = {word:index for index, word in enumerate(vocab)}\n",
        "    index_to_word = {index:word for word, index in word_to_index.items()}\n",
        "        \n",
        "    def wordlist_to_indexlist(wordlist):\n",
        "        return [word_to_index[word] if word in word_to_index else word_to_index['<UNK>'] for word in wordlist]\n",
        "        \n",
        "    X_train = list(map(wordlist_to_indexlist, X_train))\n",
        "    X_test = list(map(wordlist_to_indexlist, X_test))\n",
        "\n",
        "    return X_train, np.array(list(train_data['label'])), X_test, np.array(list(test_data['label'])), word_to_index, index_to_word\n",
        "\n",
        "####################################### 제공 함수(사용안함) #######################################\n",
        "\n",
        "# 문장 1개를 활용할 딕셔너리와 함께 주면, 단어 인덱스 리스트 벡터로 변환해 주는 함수입니다. \n",
        "# 단, 모든 문장은 <BOS>로 시작하는 것으로 합니다. \n",
        "def get_encoded_sentence(sentence, word_to_index):\n",
        "    return [word_to_index['<BOS>']]+[word_to_index[word] if word in word_to_index else word_to_index['<UNK>'] for word in sentence.split()]\n",
        "\n",
        "# 여러 개의 문장 리스트를 한꺼번에 단어 인덱스 리스트 벡터로 encode해 주는 함수입니다. \n",
        "def get_encoded_sentences(sentences, word_to_index):\n",
        "    return [get_encoded_sentence(sentence, word_to_index) for sentence in sentences]\n",
        "\n",
        "# 숫자 벡터로 encode된 문장을 원래대로 decode하는 함수입니다. \n",
        "def get_decoded_sentence(encoded_sentence, index_to_word):\n",
        "    return ' '.join(index_to_word[index] if index in index_to_word else '<UNK>' for index in encoded_sentence[1:])  #[1:]를 통해 <BOS>를 제외\n",
        "\n",
        "# 여러 개의 숫자 벡터로 encode된 문장을 한꺼번에 원래대로 decode하는 함수입니다. \n",
        "def get_decoded_sentences(encoded_sentences, index_to_word):\n",
        "    return [get_decoded_sentence(encoded_sentence, index_to_word) for encoded_sentence in encoded_sentences]"
      ]
    },
    {
      "cell_type": "markdown",
      "metadata": {
        "id": "l5DV1kd8MPes"
      },
      "source": [
        "## 메인"
      ]
    },
    {
      "cell_type": "markdown",
      "source": [
        "### IMDB 데이터셋"
      ],
      "metadata": {
        "id": "B7XCWajZ0XIj"
      }
    },
    {
      "cell_type": "code",
      "execution_count": 6,
      "metadata": {
        "id": "iwkvcfr7MPsm",
        "colab": {
          "base_uri": "https://localhost:8080/",
          "height": 206
        },
        "outputId": "0679ea69-e6fe-497c-c525-025460a1252f"
      },
      "outputs": [
        {
          "output_type": "execute_result",
          "data": {
            "text/plain": [
              "         id                                           document  label\n",
              "0   9976970                                아 더빙.. 진짜 짜증나네요 목소리      0\n",
              "1   3819312                  흠...포스터보고 초딩영화줄....오버연기조차 가볍지 않구나      1\n",
              "2  10265843                                  너무재밓었다그래서보는것을추천한다      0\n",
              "3   9045019                      교도소 이야기구먼 ..솔직히 재미는 없다..평점 조정      0\n",
              "4   6483659  사이몬페그의 익살스런 연기가 돋보였던 영화!스파이더맨에서 늙어보이기만 했던 커스틴 ...      1"
            ],
            "text/html": [
              "\n",
              "  <div id=\"df-2fcd6ccb-fac0-469a-b0c7-1037899b5d44\">\n",
              "    <div class=\"colab-df-container\">\n",
              "      <div>\n",
              "<style scoped>\n",
              "    .dataframe tbody tr th:only-of-type {\n",
              "        vertical-align: middle;\n",
              "    }\n",
              "\n",
              "    .dataframe tbody tr th {\n",
              "        vertical-align: top;\n",
              "    }\n",
              "\n",
              "    .dataframe thead th {\n",
              "        text-align: right;\n",
              "    }\n",
              "</style>\n",
              "<table border=\"1\" class=\"dataframe\">\n",
              "  <thead>\n",
              "    <tr style=\"text-align: right;\">\n",
              "      <th></th>\n",
              "      <th>id</th>\n",
              "      <th>document</th>\n",
              "      <th>label</th>\n",
              "    </tr>\n",
              "  </thead>\n",
              "  <tbody>\n",
              "    <tr>\n",
              "      <th>0</th>\n",
              "      <td>9976970</td>\n",
              "      <td>아 더빙.. 진짜 짜증나네요 목소리</td>\n",
              "      <td>0</td>\n",
              "    </tr>\n",
              "    <tr>\n",
              "      <th>1</th>\n",
              "      <td>3819312</td>\n",
              "      <td>흠...포스터보고 초딩영화줄....오버연기조차 가볍지 않구나</td>\n",
              "      <td>1</td>\n",
              "    </tr>\n",
              "    <tr>\n",
              "      <th>2</th>\n",
              "      <td>10265843</td>\n",
              "      <td>너무재밓었다그래서보는것을추천한다</td>\n",
              "      <td>0</td>\n",
              "    </tr>\n",
              "    <tr>\n",
              "      <th>3</th>\n",
              "      <td>9045019</td>\n",
              "      <td>교도소 이야기구먼 ..솔직히 재미는 없다..평점 조정</td>\n",
              "      <td>0</td>\n",
              "    </tr>\n",
              "    <tr>\n",
              "      <th>4</th>\n",
              "      <td>6483659</td>\n",
              "      <td>사이몬페그의 익살스런 연기가 돋보였던 영화!스파이더맨에서 늙어보이기만 했던 커스틴 ...</td>\n",
              "      <td>1</td>\n",
              "    </tr>\n",
              "  </tbody>\n",
              "</table>\n",
              "</div>\n",
              "      <button class=\"colab-df-convert\" onclick=\"convertToInteractive('df-2fcd6ccb-fac0-469a-b0c7-1037899b5d44')\"\n",
              "              title=\"Convert this dataframe to an interactive table.\"\n",
              "              style=\"display:none;\">\n",
              "        \n",
              "  <svg xmlns=\"http://www.w3.org/2000/svg\" height=\"24px\"viewBox=\"0 0 24 24\"\n",
              "       width=\"24px\">\n",
              "    <path d=\"M0 0h24v24H0V0z\" fill=\"none\"/>\n",
              "    <path d=\"M18.56 5.44l.94 2.06.94-2.06 2.06-.94-2.06-.94-.94-2.06-.94 2.06-2.06.94zm-11 1L8.5 8.5l.94-2.06 2.06-.94-2.06-.94L8.5 2.5l-.94 2.06-2.06.94zm10 10l.94 2.06.94-2.06 2.06-.94-2.06-.94-.94-2.06-.94 2.06-2.06.94z\"/><path d=\"M17.41 7.96l-1.37-1.37c-.4-.4-.92-.59-1.43-.59-.52 0-1.04.2-1.43.59L10.3 9.45l-7.72 7.72c-.78.78-.78 2.05 0 2.83L4 21.41c.39.39.9.59 1.41.59.51 0 1.02-.2 1.41-.59l7.78-7.78 2.81-2.81c.8-.78.8-2.07 0-2.86zM5.41 20L4 18.59l7.72-7.72 1.47 1.35L5.41 20z\"/>\n",
              "  </svg>\n",
              "      </button>\n",
              "      \n",
              "  <style>\n",
              "    .colab-df-container {\n",
              "      display:flex;\n",
              "      flex-wrap:wrap;\n",
              "      gap: 12px;\n",
              "    }\n",
              "\n",
              "    .colab-df-convert {\n",
              "      background-color: #E8F0FE;\n",
              "      border: none;\n",
              "      border-radius: 50%;\n",
              "      cursor: pointer;\n",
              "      display: none;\n",
              "      fill: #1967D2;\n",
              "      height: 32px;\n",
              "      padding: 0 0 0 0;\n",
              "      width: 32px;\n",
              "    }\n",
              "\n",
              "    .colab-df-convert:hover {\n",
              "      background-color: #E2EBFA;\n",
              "      box-shadow: 0px 1px 2px rgba(60, 64, 67, 0.3), 0px 1px 3px 1px rgba(60, 64, 67, 0.15);\n",
              "      fill: #174EA6;\n",
              "    }\n",
              "\n",
              "    [theme=dark] .colab-df-convert {\n",
              "      background-color: #3B4455;\n",
              "      fill: #D2E3FC;\n",
              "    }\n",
              "\n",
              "    [theme=dark] .colab-df-convert:hover {\n",
              "      background-color: #434B5C;\n",
              "      box-shadow: 0px 1px 3px 1px rgba(0, 0, 0, 0.15);\n",
              "      filter: drop-shadow(0px 1px 2px rgba(0, 0, 0, 0.3));\n",
              "      fill: #FFFFFF;\n",
              "    }\n",
              "  </style>\n",
              "\n",
              "      <script>\n",
              "        const buttonEl =\n",
              "          document.querySelector('#df-2fcd6ccb-fac0-469a-b0c7-1037899b5d44 button.colab-df-convert');\n",
              "        buttonEl.style.display =\n",
              "          google.colab.kernel.accessAllowed ? 'block' : 'none';\n",
              "\n",
              "        async function convertToInteractive(key) {\n",
              "          const element = document.querySelector('#df-2fcd6ccb-fac0-469a-b0c7-1037899b5d44');\n",
              "          const dataTable =\n",
              "            await google.colab.kernel.invokeFunction('convertToInteractive',\n",
              "                                                     [key], {});\n",
              "          if (!dataTable) return;\n",
              "\n",
              "          const docLinkHtml = 'Like what you see? Visit the ' +\n",
              "            '<a target=\"_blank\" href=https://colab.research.google.com/notebooks/data_table.ipynb>data table notebook</a>'\n",
              "            + ' to learn more about interactive tables.';\n",
              "          element.innerHTML = '';\n",
              "          dataTable['output_type'] = 'display_data';\n",
              "          await google.colab.output.renderOutput(dataTable, element);\n",
              "          const docLink = document.createElement('div');\n",
              "          docLink.innerHTML = docLinkHtml;\n",
              "          element.appendChild(docLink);\n",
              "        }\n",
              "      </script>\n",
              "    </div>\n",
              "  </div>\n",
              "  "
            ]
          },
          "metadata": {},
          "execution_count": 6
        }
      ],
      "source": [
        "train_data = pd.read_table(DATA_PATH + \"/ratings_train.txt\")\n",
        "test_data = pd.read_table(DATA_PATH + \"/ratings_test.txt\")\n",
        "train_data.head()"
      ]
    },
    {
      "cell_type": "markdown",
      "metadata": {
        "id": "iXm0KjWe845_"
      },
      "source": [
        "데이터에 대한 설명은 아래와 같다.</br>\n",
        "- id: The review id, provieded by Naver\n",
        "- document: The actual review\n",
        "- label: The sentiment class of the review. (0: negative, 1: positive)"
      ]
    },
    {
      "cell_type": "code",
      "execution_count": 7,
      "metadata": {
        "colab": {
          "base_uri": "https://localhost:8080/"
        },
        "id": "971TB3kw845_",
        "outputId": "03baee60-f831-43ed-b41c-3244bdfbd54e"
      },
      "outputs": [
        {
          "output_type": "stream",
          "name": "stdout",
          "text": [
            "X_train len:146182\n",
            "X_test len:49157\n"
          ]
        }
      ],
      "source": [
        "X_train, y_train, X_test, y_test, word_to_index, index_to_word = load_data(train_data, test_data)\n",
        "\n",
        "print(f\"X_train len:{len(X_train)}\")\n",
        "print(f\"X_test len:{len(X_test)}\")"
      ]
    },
    {
      "cell_type": "markdown",
      "metadata": {
        "id": "oMm1Q3DE846A"
      },
      "source": [
        "학습데이터와 테스트데이터를 로드"
      ]
    },
    {
      "cell_type": "code",
      "source": [
        "num_tokens = np.array(list(map(len,list(X_train) + list(X_test))))\n",
        "# 문장길이의 평균값, 최대값, 표준편차를 계산 \n",
        "print('문장길이 평균 : ', np.mean(num_tokens))\n",
        "print('문장길이 최대 : ', np.max(num_tokens))\n",
        "print('문장길이 표준편차 : ', np.std(num_tokens))\n",
        "\n",
        "max_tokens = np.mean(num_tokens) + 2 * np.std(num_tokens)\n",
        "maxlen = int(max_tokens)\n",
        "print('pad_sequences maxlen : ', maxlen)\n",
        "print('전체 문장의 {}%가 maxlen 설정값 이내에 포함됩니다. '.format(np.sum(num_tokens < max_tokens) / len(num_tokens)))\n",
        "\n",
        "pad_seq_kwargs.update({\n",
        "    \"value\":word_to_index[\"<PAD>\"]\n",
        "    , \"maxlen\":maxlen\n",
        "})# padding 설정"
      ],
      "metadata": {
        "id": "3ZASR2F_fugN",
        "outputId": "6101b8d1-c46d-4cc4-9119-36b5c77439e8",
        "colab": {
          "base_uri": "https://localhost:8080/"
        }
      },
      "execution_count": 8,
      "outputs": [
        {
          "output_type": "stream",
          "name": "stdout",
          "text": [
            "문장길이 평균 :  15.969376315021577\n",
            "문장길이 최대 :  116\n",
            "문장길이 표준편차 :  12.843535456326455\n",
            "pad_sequences maxlen :  41\n",
            "전체 문장의 0.9342988343341575%가 maxlen 설정값 이내에 포함됩니다. \n"
          ]
        }
      ]
    },
    {
      "cell_type": "markdown",
      "source": [
        " 최대 길이를 `maxlen`으로 설정하였고 값은 (평균 + 2*표준편차)로 하여<br>\n",
        "대부분의 문장이 학습이 가능하도록 설정하였다.  "
      ],
      "metadata": {
        "id": "wRHCeqlem4v_"
      }
    },
    {
      "cell_type": "code",
      "source": [
        "X_train = tf.keras.preprocessing.sequence.pad_sequences(X_train, **pad_seq_kwargs)\n",
        "X_test = tf.keras.preprocessing.sequence.pad_sequences(X_test, **pad_seq_kwargs)\n",
        "X_train, X_val, y_train, y_val = train_test_split(X_train, y_train, **TRAIN_TEST_SPLIT_KWARGS)\n",
        "fit_kwargs[\"validation_data\"] = (X_val, y_val)"
      ],
      "metadata": {
        "id": "HbFIKeNV_L8U"
      },
      "execution_count": 9,
      "outputs": []
    },
    {
      "cell_type": "markdown",
      "source": [
        "과적합 방지를 위해 학습과 점증을 2:8비율로 나누었다. "
      ],
      "metadata": {
        "id": "cQlTE3xms-k0"
      }
    },
    {
      "cell_type": "markdown",
      "source": [
        "### 한국어 Word2Vec 임베딩"
      ],
      "metadata": {
        "id": "Iu9puDTo_MRT"
      }
    },
    {
      "cell_type": "code",
      "source": [
        "word_vectors = Word2VecKeyedVectors.load(MODEL_PATH).wv\n",
        "\n",
        "# 임의의 가중치 적용\n",
        "embedding_matrix = np.random.rand(MAX_NUM_WORDS, WORD_VECTOR_DIM)\n",
        "\n",
        "# 이미 학습된 단어가 있는 경우 학습된 백터를 넣는다.\n",
        "for i in range(4,MAX_NUM_WORDS):\n",
        "    if index_to_word[i] in word_vectors:\n",
        "        embedding_matrix[i] = word_vectors[index_to_word[i]]\n"
      ],
      "metadata": {
        "id": "2qbNBHBm0LLy"
      },
      "execution_count": 10,
      "outputs": []
    },
    {
      "cell_type": "markdown",
      "source": [
        "기본에 학습된 모델을 로드 뒤, 같은 단어장에 가중치를 랜덤으로 적용 후,<br>\n",
        "단어장 안에 학습된 단어가 존제하면 백터의 값을 대입한다."
      ],
      "metadata": {
        "id": "XNQ9W93B0LUx"
      }
    },
    {
      "cell_type": "code",
      "source": [
        "model_list = []\n",
        "w2v_model_list = []\n",
        "\n",
        "# max pooling만 존제하는 model 설계\n",
        "model_maxpool = tf.keras.Sequential(name = \"maxpool_model\")\n",
        "model_maxpool.add(tf.keras.layers.Embedding(MAX_NUM_WORDS, WORD_VECTOR_DIM, input_shape=(None,)))\n",
        "model_maxpool.add(tf.keras.layers.GlobalMaxPooling1D())\n",
        "model_maxpool.add(tf.keras.layers.Dense(8, activation='relu'))\n",
        "model_maxpool.add(tf.keras.layers.Dense(1, activation='sigmoid'))\n",
        "\n",
        "model_list.append(model_maxpool)\n",
        "\n",
        "w2v_model_maxpool = tf.keras.Sequential(name = \"w2v_maxpool_model\")\n",
        "w2v_model_maxpool.add(tf.keras.layers.Embedding(\n",
        "                                    MAX_NUM_WORDS \n",
        "                                    , WORD_VECTOR_DIM \n",
        "                                    , embeddings_initializer=tf.keras.initializers.Constant(embedding_matrix)\n",
        "                                    , input_length=maxlen \n",
        "                                    , trainable=True\n",
        "                                 )\n",
        ")\n",
        "w2v_model_maxpool.add(tf.keras.layers.GlobalMaxPooling1D())\n",
        "w2v_model_maxpool.add(tf.keras.layers.Dense(8, activation='relu'))\n",
        "w2v_model_maxpool.add(tf.keras.layers.Dense(1, activation='sigmoid'))\n",
        "\n",
        "w2v_model_list.append(w2v_model_maxpool)"
      ],
      "metadata": {
        "id": "3Y-xHhXejA5P"
      },
      "execution_count": 11,
      "outputs": []
    },
    {
      "cell_type": "markdown",
      "source": [],
      "metadata": {
        "id": "8sbpd_8bjBGf"
      }
    },
    {
      "cell_type": "code",
      "source": [
        "# CNN 1d model 설계\n",
        "CNN_model = tf.keras.Sequential(name = \"CNN_model\")\n",
        "CNN_model.add(tf.keras.layers.Embedding(MAX_NUM_WORDS, WORD_VECTOR_DIM, input_shape=(None,)))\n",
        "CNN_model.add(tf.keras.layers.Dropout(rate=0.4))\n",
        "CNN_model.add(tf.keras.layers.Conv1D(16, 7, activation='relu'))\n",
        "CNN_model.add(tf.keras.layers.MaxPooling1D(5))\n",
        "CNN_model.add(tf.keras.layers.Dropout(rate=0.4))\n",
        "CNN_model.add(tf.keras.layers.Conv1D(16, 7, activation='relu'))\n",
        "CNN_model.add(tf.keras.layers.GlobalMaxPooling1D())\n",
        "CNN_model.add(tf.keras.layers.Dense(8, activation='relu'))\n",
        "CNN_model.add(tf.keras.layers.Dense(1, activation='sigmoid'))\n",
        "\n",
        "model_list.append(CNN_model)\n",
        "\n",
        "w2v_CNN_model = tf.keras.Sequential(name = \"w2v_CNN_model\")\n",
        "w2v_CNN_model.add(tf.keras.layers.Embedding(MAX_NUM_WORDS, \n",
        "                                 WORD_VECTOR_DIM, \n",
        "                                 embeddings_initializer=tf.keras.initializers.Constant(embedding_matrix),  # 카피한 임베딩을 여기서 활용\n",
        "                                 input_length=maxlen, \n",
        "                                 trainable=True))   # trainable을 True로 주면 Fine-tuning\n",
        "w2v_CNN_model.add(tf.keras.layers.Dropout(rate=0.4))\n",
        "w2v_CNN_model.add(tf.keras.layers.Conv1D(16, 7, activation='relu'))\n",
        "w2v_CNN_model.add(tf.keras.layers.MaxPooling1D(5))\n",
        "w2v_CNN_model.add(tf.keras.layers.Dropout(rate=0.4))\n",
        "w2v_CNN_model.add(tf.keras.layers.Conv1D(16, 7, activation='relu'))\n",
        "w2v_CNN_model.add(tf.keras.layers.GlobalMaxPooling1D())\n",
        "w2v_CNN_model.add(tf.keras.layers.Dense(8, activation='relu'))\n",
        "w2v_CNN_model.add(tf.keras.layers.Dense(1, activation='sigmoid')) \n",
        "\n",
        "w2v_model_list.append(w2v_CNN_model)"
      ],
      "metadata": {
        "id": "KuuY-SGVmbWl"
      },
      "execution_count": 12,
      "outputs": []
    },
    {
      "cell_type": "markdown",
      "source": [],
      "metadata": {
        "id": "HliFm2DDmbiM"
      }
    },
    {
      "cell_type": "code",
      "source": [
        "# RNN model 설계\n",
        "RNN_model = tf.keras.Sequential(name = \"RNN_model\")\n",
        "RNN_model.add(tf.keras.layers.Embedding(MAX_NUM_WORDS, WORD_VECTOR_DIM, input_shape=(None,)))\n",
        "RNN_model.add(tf.keras.layers.LSTM(8, dropout=0.4))\n",
        "RNN_model.add(tf.keras.layers.Dense(8, activation='relu'))\n",
        "RNN_model.add(tf.keras.layers.Dense(1, activation='sigmoid'))\n",
        "\n",
        "model_list.append(RNN_model)\n",
        "\n",
        "w2v_RNN_model = tf.keras.Sequential(name = \"w2v_RNN_model\")\n",
        "w2v_RNN_model.add(tf.keras.layers.Embedding(\n",
        "                                 MAX_NUM_WORDS\n",
        "                                 , WORD_VECTOR_DIM \n",
        "                                 , embeddings_initializer=tf.keras.initializers.Constant(embedding_matrix)\n",
        "                                 , input_length=maxlen \n",
        "                                 , trainable=True))\n",
        "w2v_RNN_model.add(tf.keras.layers.LSTM(8, dropout=0.4))\n",
        "w2v_RNN_model.add(tf.keras.layers.Dense(8, activation='relu'))\n",
        "w2v_RNN_model.add(tf.keras.layers.Dense(1, activation='sigmoid'))\n",
        "\n",
        "w2v_model_list.append(w2v_RNN_model)"
      ],
      "metadata": {
        "id": "U4R0Zm-mlCzH"
      },
      "execution_count": 13,
      "outputs": []
    },
    {
      "cell_type": "markdown",
      "source": [],
      "metadata": {
        "id": "MWLtgaTelC60"
      }
    },
    {
      "cell_type": "code",
      "source": [
        "for model, w2v_model in zip(model_list,w2v_model_list):\n",
        "    print(f\"{model.name} start\")\n",
        "\n",
        "    # 모델 훈련\n",
        "    model.compile(optimizer=tf.keras.optimizers.Adam(\n",
        "                        learning_rate=0.0002 # running rate\n",
        "                )\n",
        "                ,loss='binary_crossentropy'\n",
        "                ,metrics=['accuracy'])\n",
        "\n",
        "    history_dict = model.fit(\n",
        "                        X_train\n",
        "                        , y_train\n",
        "                        , **fit_kwargs\n",
        "                    ).history\n",
        "    acc = history_dict['accuracy']\n",
        "    val_acc = history_dict['val_accuracy']\n",
        "    loss = history_dict['loss']\n",
        "    val_loss = history_dict['val_loss']\n",
        "\n",
        "\n",
        "    # 개선된 모델의 훈련\n",
        "    w2v_model.compile(optimizer=tf.keras.optimizers.Adam(\n",
        "                        learning_rate=0.005 # running rate\n",
        "                )\n",
        "                ,loss='binary_crossentropy'\n",
        "                ,metrics=['accuracy'])\n",
        "\n",
        "    w2v_history_dict = w2v_model.fit(\n",
        "                        X_train\n",
        "                        , y_train\n",
        "                        , **fit_kwargs\n",
        "                    ).history\n",
        "\n",
        "    w2v_acc = w2v_history_dict['accuracy']\n",
        "    w2v_val_acc = w2v_history_dict['val_accuracy']\n",
        "    w2v_loss = w2v_history_dict['loss']\n",
        "    w2v_val_loss = w2v_history_dict['val_loss']\n",
        "\n",
        "    epochs = range(1, len(acc) + 1)\n",
        "\n",
        "    plt.plot(epochs, loss, 'bo', label='Training loss')\n",
        "    plt.plot(epochs, val_loss, 'b', label='Validation loss')\n",
        "    plt.plot(epochs, w2v_loss, 'go', label='W2V Training loss')\n",
        "    plt.plot(epochs, w2v_val_loss, 'g', label='W2V Validation loss')\n",
        "    plt.title('Training and validation loss')\n",
        "    plt.xlabel('Epochs')\n",
        "    plt.ylabel('Loss')\n",
        "    plt.legend()\n",
        "    plt.show()\n",
        "\n",
        "    plt.clf()\n",
        "    plt.plot(epochs, acc, 'bo', label='Training acc')\n",
        "    plt.plot(epochs, val_acc, 'b', label='Validation acc')\n",
        "    plt.plot(epochs, w2v_acc, 'go', label='W2V Training acc')\n",
        "    plt.plot(epochs, w2v_val_acc, 'g', label='W2V Validation acc')\n",
        "    plt.title('Training and validation accuracy')\n",
        "    plt.xlabel('Epochs')\n",
        "    plt.ylabel('Accuracy')\n",
        "    plt.legend()\n",
        "\n",
        "    plt.show()\n",
        "\n",
        "    # 테스트셋을 통한 모델 평가\n",
        "    results = model.evaluate(X_test, y_test, verbose=2)\n",
        "    w2v_results = w2v_model.evaluate(X_test, y_test, verbose=2)\n",
        "\n",
        "    print(f\"{model.name} end\\n\")"
      ],
      "metadata": {
        "id": "BQmNPZNVoPmW",
        "outputId": "71fbf279-2f5b-4d46-9fdc-0e155f3c2cd4",
        "colab": {
          "base_uri": "https://localhost:8080/",
          "height": 1000
        }
      },
      "execution_count": 14,
      "outputs": [
        {
          "output_type": "stream",
          "name": "stdout",
          "text": [
            "maxpool_model start\n",
            "Epoch 1/15\n",
            "172/172 [==============================] - 2s 6ms/step - loss: 0.6743 - accuracy: 0.6980 - val_loss: 0.6417 - val_accuracy: 0.7861\n",
            "Epoch 2/15\n",
            "172/172 [==============================] - 1s 5ms/step - loss: 0.5819 - accuracy: 0.8122 - val_loss: 0.5214 - val_accuracy: 0.8146\n",
            "Epoch 3/15\n",
            "172/172 [==============================] - 1s 5ms/step - loss: 0.4646 - accuracy: 0.8317 - val_loss: 0.4314 - val_accuracy: 0.8259\n",
            "Epoch 4/15\n",
            "172/172 [==============================] - 1s 5ms/step - loss: 0.3916 - accuracy: 0.8461 - val_loss: 0.3890 - val_accuracy: 0.8344\n",
            "Epoch 5/15\n",
            "172/172 [==============================] - 1s 5ms/step - loss: 0.3519 - accuracy: 0.8570 - val_loss: 0.3693 - val_accuracy: 0.8388\n",
            "Epoch 6/15\n",
            "172/172 [==============================] - 1s 5ms/step - loss: 0.3268 - accuracy: 0.8667 - val_loss: 0.3588 - val_accuracy: 0.8426\n",
            "Epoch 7/15\n",
            "172/172 [==============================] - 1s 5ms/step - loss: 0.3081 - accuracy: 0.8744 - val_loss: 0.3527 - val_accuracy: 0.8454\n",
            "Epoch 8/15\n",
            "172/172 [==============================] - 1s 5ms/step - loss: 0.2926 - accuracy: 0.8820 - val_loss: 0.3492 - val_accuracy: 0.8475\n",
            "Epoch 9/15\n",
            "172/172 [==============================] - 1s 5ms/step - loss: 0.2791 - accuracy: 0.8871 - val_loss: 0.3474 - val_accuracy: 0.8488\n",
            "Epoch 10/15\n",
            "172/172 [==============================] - 1s 5ms/step - loss: 0.2667 - accuracy: 0.8931 - val_loss: 0.3469 - val_accuracy: 0.8490\n",
            "Epoch 11/15\n",
            "172/172 [==============================] - 1s 5ms/step - loss: 0.2553 - accuracy: 0.8989 - val_loss: 0.3470 - val_accuracy: 0.8494\n",
            "Epoch 12/15\n",
            "172/172 [==============================] - 1s 5ms/step - loss: 0.2445 - accuracy: 0.9042 - val_loss: 0.3483 - val_accuracy: 0.8495\n",
            "Epoch 13/15\n",
            "172/172 [==============================] - 1s 5ms/step - loss: 0.2343 - accuracy: 0.9096 - val_loss: 0.3502 - val_accuracy: 0.8499\n",
            "Epoch 14/15\n",
            "172/172 [==============================] - 1s 5ms/step - loss: 0.2245 - accuracy: 0.9142 - val_loss: 0.3528 - val_accuracy: 0.8497\n",
            "Epoch 15/15\n",
            "172/172 [==============================] - 1s 5ms/step - loss: 0.2151 - accuracy: 0.9193 - val_loss: 0.3559 - val_accuracy: 0.8490\n",
            "Epoch 1/15\n",
            "172/172 [==============================] - 1s 5ms/step - loss: 0.7500 - accuracy: 0.5959 - val_loss: 0.6264 - val_accuracy: 0.6541\n",
            "Epoch 2/15\n",
            "172/172 [==============================] - 1s 5ms/step - loss: 0.5742 - accuracy: 0.6993 - val_loss: 0.5386 - val_accuracy: 0.7285\n",
            "Epoch 3/15\n",
            "172/172 [==============================] - 1s 5ms/step - loss: 0.4924 - accuracy: 0.7617 - val_loss: 0.4826 - val_accuracy: 0.7686\n",
            "Epoch 4/15\n",
            "172/172 [==============================] - 1s 5ms/step - loss: 0.4382 - accuracy: 0.7974 - val_loss: 0.4507 - val_accuracy: 0.7891\n",
            "Epoch 5/15\n",
            "172/172 [==============================] - 1s 5ms/step - loss: 0.4022 - accuracy: 0.8198 - val_loss: 0.4398 - val_accuracy: 0.7988\n",
            "Epoch 6/15\n",
            "172/172 [==============================] - 1s 5ms/step - loss: 0.3746 - accuracy: 0.8360 - val_loss: 0.4573 - val_accuracy: 0.7886\n",
            "Epoch 7/15\n",
            "172/172 [==============================] - 1s 5ms/step - loss: 0.3551 - accuracy: 0.8464 - val_loss: 0.4269 - val_accuracy: 0.8093\n",
            "Epoch 8/15\n",
            "172/172 [==============================] - 1s 5ms/step - loss: 0.3352 - accuracy: 0.8562 - val_loss: 0.4219 - val_accuracy: 0.8108\n",
            "Epoch 9/15\n",
            "172/172 [==============================] - 1s 5ms/step - loss: 0.3167 - accuracy: 0.8671 - val_loss: 0.4436 - val_accuracy: 0.8024\n",
            "Epoch 10/15\n",
            "172/172 [==============================] - 1s 5ms/step - loss: 0.3000 - accuracy: 0.8754 - val_loss: 0.4184 - val_accuracy: 0.8174\n",
            "Epoch 11/15\n",
            "172/172 [==============================] - 1s 5ms/step - loss: 0.2820 - accuracy: 0.8846 - val_loss: 0.4260 - val_accuracy: 0.8173\n",
            "Epoch 12/15\n",
            "172/172 [==============================] - 1s 5ms/step - loss: 0.2663 - accuracy: 0.8924 - val_loss: 0.4295 - val_accuracy: 0.8183\n",
            "Epoch 13/15\n",
            "172/172 [==============================] - 1s 5ms/step - loss: 0.2536 - accuracy: 0.8988 - val_loss: 0.4651 - val_accuracy: 0.8108\n",
            "Epoch 14/15\n",
            "172/172 [==============================] - 1s 5ms/step - loss: 0.2393 - accuracy: 0.9056 - val_loss: 0.4466 - val_accuracy: 0.8179\n",
            "Epoch 15/15\n",
            "172/172 [==============================] - 1s 5ms/step - loss: 0.2241 - accuracy: 0.9125 - val_loss: 0.4803 - val_accuracy: 0.8110\n"
          ]
        },
        {
          "output_type": "display_data",
          "data": {
            "text/plain": [
              "<Figure size 432x288 with 1 Axes>"
            ],
            "image/png": "[encoded data removed]"
          },
          "metadata": {
            "needs_background": "light"
          }
        },
        {
          "output_type": "display_data",
          "data": {
            "text/plain": [
              "<Figure size 432x288 with 1 Axes>"
            ],
            "image/png": "[encoded data removed]"
          },
          "metadata": {
            "needs_background": "light"
          }
        },
        {
          "output_type": "stream",
          "name": "stdout",
          "text": [
            "1537/1537 - 3s - loss: 0.3635 - accuracy: 0.8463 - 3s/epoch - 2ms/step\n",
            "1537/1537 - 2s - loss: 0.4891 - accuracy: 0.8092 - 2s/epoch - 2ms/step\n",
            "maxpool_model end\n",
            "\n",
            "CNN_model start\n",
            "Epoch 1/15\n",
            "172/172 [==============================] - 4s 9ms/step - loss: 0.6908 - accuracy: 0.5334 - val_loss: 0.6799 - val_accuracy: 0.7065\n",
            "Epoch 2/15\n",
            "172/172 [==============================] - 1s 7ms/step - loss: 0.5977 - accuracy: 0.7116 - val_loss: 0.4714 - val_accuracy: 0.8054\n",
            "Epoch 3/15\n",
            "172/172 [==============================] - 1s 7ms/step - loss: 0.4348 - accuracy: 0.8068 - val_loss: 0.3874 - val_accuracy: 0.8331\n",
            "Epoch 4/15\n",
            "172/172 [==============================] - 1s 7ms/step - loss: 0.3830 - accuracy: 0.8354 - val_loss: 0.3693 - val_accuracy: 0.8406\n",
            "Epoch 5/15\n",
            "172/172 [==============================] - 1s 7ms/step - loss: 0.3604 - accuracy: 0.8483 - val_loss: 0.3620 - val_accuracy: 0.8445\n",
            "Epoch 6/15\n",
            "172/172 [==============================] - 1s 7ms/step - loss: 0.3461 - accuracy: 0.8560 - val_loss: 0.3584 - val_accuracy: 0.8454\n",
            "Epoch 7/15\n",
            "172/172 [==============================] - 1s 7ms/step - loss: 0.3343 - accuracy: 0.8615 - val_loss: 0.3565 - val_accuracy: 0.8464\n",
            "Epoch 8/15\n",
            "172/172 [==============================] - 1s 7ms/step - loss: 0.3247 - accuracy: 0.8664 - val_loss: 0.3560 - val_accuracy: 0.8467\n",
            "Epoch 9/15\n",
            "172/172 [==============================] - 1s 7ms/step - loss: 0.3172 - accuracy: 0.8691 - val_loss: 0.3568 - val_accuracy: 0.8469\n",
            "Epoch 10/15\n",
            "172/172 [==============================] - 1s 7ms/step - loss: 0.3090 - accuracy: 0.8737 - val_loss: 0.3555 - val_accuracy: 0.8475\n",
            "Epoch 11/15\n",
            "172/172 [==============================] - 1s 7ms/step - loss: 0.3031 - accuracy: 0.8760 - val_loss: 0.3570 - val_accuracy: 0.8464\n",
            "Epoch 12/15\n",
            "172/172 [==============================] - 1s 7ms/step - loss: 0.2953 - accuracy: 0.8809 - val_loss: 0.3583 - val_accuracy: 0.8462\n",
            "Epoch 13/15\n",
            "172/172 [==============================] - 1s 7ms/step - loss: 0.2878 - accuracy: 0.8839 - val_loss: 0.3597 - val_accuracy: 0.8465\n",
            "Epoch 14/15\n",
            "172/172 [==============================] - 1s 7ms/step - loss: 0.2818 - accuracy: 0.8871 - val_loss: 0.3630 - val_accuracy: 0.8457\n",
            "Epoch 15/15\n",
            "172/172 [==============================] - 1s 7ms/step - loss: 0.2758 - accuracy: 0.8893 - val_loss: 0.3639 - val_accuracy: 0.8452\n",
            "Epoch 1/15\n",
            "172/172 [==============================] - 2s 8ms/step - loss: 0.7014 - accuracy: 0.5042 - val_loss: 0.6927 - val_accuracy: 0.5289\n",
            "Epoch 2/15\n",
            "172/172 [==============================] - 1s 7ms/step - loss: 0.6285 - accuracy: 0.6251 - val_loss: 0.4758 - val_accuracy: 0.7877\n",
            "Epoch 3/15\n",
            "172/172 [==============================] - 1s 7ms/step - loss: 0.4689 - accuracy: 0.7819 - val_loss: 0.3992 - val_accuracy: 0.8266\n",
            "Epoch 4/15\n",
            "172/172 [==============================] - 1s 7ms/step - loss: 0.4100 - accuracy: 0.8156 - val_loss: 0.3736 - val_accuracy: 0.8398\n",
            "Epoch 5/15\n",
            "172/172 [==============================] - 1s 7ms/step - loss: 0.3834 - accuracy: 0.8311 - val_loss: 0.3589 - val_accuracy: 0.8452\n",
            "Epoch 6/15\n",
            "172/172 [==============================] - 1s 7ms/step - loss: 0.3673 - accuracy: 0.8386 - val_loss: 0.3584 - val_accuracy: 0.8469\n",
            "Epoch 7/15\n",
            "172/172 [==============================] - 1s 7ms/step - loss: 0.3526 - accuracy: 0.8470 - val_loss: 0.3503 - val_accuracy: 0.8499\n",
            "Epoch 8/15\n",
            "172/172 [==============================] - 1s 7ms/step - loss: 0.3437 - accuracy: 0.8517 - val_loss: 0.3496 - val_accuracy: 0.8497\n",
            "Epoch 9/15\n",
            "172/172 [==============================] - 1s 7ms/step - loss: 0.3372 - accuracy: 0.8558 - val_loss: 0.3512 - val_accuracy: 0.8514\n",
            "Epoch 10/15\n",
            "172/172 [==============================] - 1s 7ms/step - loss: 0.3292 - accuracy: 0.8585 - val_loss: 0.3460 - val_accuracy: 0.8514\n",
            "Epoch 11/15\n",
            "172/172 [==============================] - 1s 7ms/step - loss: 0.3228 - accuracy: 0.8624 - val_loss: 0.3480 - val_accuracy: 0.8517\n",
            "Epoch 12/15\n",
            "172/172 [==============================] - 1s 7ms/step - loss: 0.3182 - accuracy: 0.8638 - val_loss: 0.3430 - val_accuracy: 0.8522\n",
            "Epoch 13/15\n",
            "172/172 [==============================] - 1s 7ms/step - loss: 0.3124 - accuracy: 0.8670 - val_loss: 0.3433 - val_accuracy: 0.8518\n",
            "Epoch 14/15\n",
            "172/172 [==============================] - 1s 7ms/step - loss: 0.3076 - accuracy: 0.8688 - val_loss: 0.3448 - val_accuracy: 0.8510\n",
            "Epoch 15/15\n",
            "172/172 [==============================] - 1s 7ms/step - loss: 0.3031 - accuracy: 0.8712 - val_loss: 0.3521 - val_accuracy: 0.8508\n"
          ]
        },
        {
          "output_type": "display_data",
          "data": {
            "text/plain": [
              "<Figure size 432x288 with 1 Axes>"
            ],
            "image/png": "[encoded data removed]"
          },
          "metadata": {
            "needs_background": "light"
          }
        },
        {
          "output_type": "display_data",
          "data": {
            "text/plain": [
              "<Figure size 432x288 with 1 Axes>"
            ],
            "image/png": "[encoded data removed]"
          },
          "metadata": {
            "needs_background": "light"
          }
        },
        {
          "output_type": "stream",
          "name": "stdout",
          "text": [
            "1537/1537 - 3s - loss: 0.3688 - accuracy: 0.8432 - 3s/epoch - 2ms/step\n",
            "1537/1537 - 3s - loss: 0.3560 - accuracy: 0.8477 - 3s/epoch - 2ms/step\n",
            "CNN_model end\n",
            "\n",
            "RNN_model start\n",
            "Epoch 1/15\n",
            "172/172 [==============================] - 4s 11ms/step - loss: 0.6928 - accuracy: 0.5083 - val_loss: 0.6922 - val_accuracy: 0.5120\n",
            "Epoch 2/15\n",
            "172/172 [==============================] - 1s 8ms/step - loss: 0.6862 - accuracy: 0.5386 - val_loss: 0.6217 - val_accuracy: 0.7133\n",
            "Epoch 3/15\n",
            "172/172 [==============================] - 1s 8ms/step - loss: 0.4744 - accuracy: 0.8085 - val_loss: 0.4019 - val_accuracy: 0.8372\n",
            "Epoch 4/15\n",
            "172/172 [==============================] - 1s 8ms/step - loss: 0.3802 - accuracy: 0.8462 - val_loss: 0.3772 - val_accuracy: 0.8432\n",
            "Epoch 5/15\n",
            "172/172 [==============================] - 1s 8ms/step - loss: 0.3532 - accuracy: 0.8559 - val_loss: 0.3672 - val_accuracy: 0.8424\n",
            "Epoch 6/15\n",
            "172/172 [==============================] - 1s 8ms/step - loss: 0.3365 - accuracy: 0.8630 - val_loss: 0.3704 - val_accuracy: 0.8438\n",
            "Epoch 7/15\n",
            "172/172 [==============================] - 1s 8ms/step - loss: 0.3261 - accuracy: 0.8667 - val_loss: 0.3607 - val_accuracy: 0.8443\n",
            "Epoch 8/15\n",
            "172/172 [==============================] - 1s 8ms/step - loss: 0.3161 - accuracy: 0.8716 - val_loss: 0.3600 - val_accuracy: 0.8461\n",
            "Epoch 9/15\n",
            "172/172 [==============================] - 1s 8ms/step - loss: 0.3086 - accuracy: 0.8740 - val_loss: 0.3630 - val_accuracy: 0.8465\n",
            "Epoch 10/15\n",
            "172/172 [==============================] - 1s 8ms/step - loss: 0.3031 - accuracy: 0.8763 - val_loss: 0.3596 - val_accuracy: 0.8459\n",
            "Epoch 11/15\n",
            "172/172 [==============================] - 1s 8ms/step - loss: 0.2974 - accuracy: 0.8779 - val_loss: 0.3606 - val_accuracy: 0.8457\n",
            "Epoch 12/15\n",
            "172/172 [==============================] - 1s 8ms/step - loss: 0.2917 - accuracy: 0.8806 - val_loss: 0.3654 - val_accuracy: 0.8444\n",
            "Epoch 13/15\n",
            "172/172 [==============================] - 1s 8ms/step - loss: 0.2881 - accuracy: 0.8811 - val_loss: 0.3729 - val_accuracy: 0.8456\n",
            "Epoch 14/15\n",
            "172/172 [==============================] - 1s 8ms/step - loss: 0.2842 - accuracy: 0.8834 - val_loss: 0.3725 - val_accuracy: 0.8457\n",
            "Epoch 15/15\n",
            "172/172 [==============================] - 1s 8ms/step - loss: 0.2800 - accuracy: 0.8849 - val_loss: 0.3712 - val_accuracy: 0.8449\n",
            "Epoch 1/15\n",
            "172/172 [==============================] - 3s 10ms/step - loss: 0.6902 - accuracy: 0.5189 - val_loss: 0.6235 - val_accuracy: 0.6760\n",
            "Epoch 2/15\n",
            "172/172 [==============================] - 1s 8ms/step - loss: 0.5315 - accuracy: 0.7414 - val_loss: 0.4493 - val_accuracy: 0.7999\n",
            "Epoch 3/15\n",
            "172/172 [==============================] - 1s 8ms/step - loss: 0.4475 - accuracy: 0.7988 - val_loss: 0.4159 - val_accuracy: 0.8158\n",
            "Epoch 4/15\n",
            "172/172 [==============================] - 1s 8ms/step - loss: 0.4134 - accuracy: 0.8165 - val_loss: 0.3996 - val_accuracy: 0.8251\n",
            "Epoch 5/15\n",
            "172/172 [==============================] - 1s 8ms/step - loss: 0.3892 - accuracy: 0.8291 - val_loss: 0.3844 - val_accuracy: 0.8318\n",
            "Epoch 6/15\n",
            "172/172 [==============================] - 1s 8ms/step - loss: 0.3709 - accuracy: 0.8389 - val_loss: 0.3826 - val_accuracy: 0.8344\n",
            "Epoch 7/15\n",
            "172/172 [==============================] - 1s 8ms/step - loss: 0.3584 - accuracy: 0.8449 - val_loss: 0.3727 - val_accuracy: 0.8379\n",
            "Epoch 8/15\n",
            "172/172 [==============================] - 1s 8ms/step - loss: 0.3463 - accuracy: 0.8491 - val_loss: 0.3732 - val_accuracy: 0.8385\n",
            "Epoch 9/15\n",
            "172/172 [==============================] - 1s 8ms/step - loss: 0.3351 - accuracy: 0.8561 - val_loss: 0.3649 - val_accuracy: 0.8419\n",
            "Epoch 10/15\n",
            "172/172 [==============================] - 1s 8ms/step - loss: 0.3283 - accuracy: 0.8605 - val_loss: 0.3740 - val_accuracy: 0.8376\n",
            "Epoch 11/15\n",
            "172/172 [==============================] - 1s 8ms/step - loss: 0.3223 - accuracy: 0.8627 - val_loss: 0.3606 - val_accuracy: 0.8441\n",
            "Epoch 12/15\n",
            "172/172 [==============================] - 1s 8ms/step - loss: 0.3160 - accuracy: 0.8649 - val_loss: 0.3611 - val_accuracy: 0.8444\n",
            "Epoch 13/15\n",
            "172/172 [==============================] - 1s 9ms/step - loss: 0.3108 - accuracy: 0.8684 - val_loss: 0.3578 - val_accuracy: 0.8437\n",
            "Epoch 14/15\n",
            "172/172 [==============================] - 1s 8ms/step - loss: 0.3056 - accuracy: 0.8706 - val_loss: 0.3648 - val_accuracy: 0.8471\n",
            "Epoch 15/15\n",
            "172/172 [==============================] - 1s 8ms/step - loss: 0.3009 - accuracy: 0.8723 - val_loss: 0.3624 - val_accuracy: 0.8436\n"
          ]
        },
        {
          "output_type": "display_data",
          "data": {
            "text/plain": [
              "<Figure size 432x288 with 1 Axes>"
            ],
            "image/png": "[encoded data removed]"
          },
          "metadata": {
            "needs_background": "light"
          }
        },
        {
          "output_type": "display_data",
          "data": {
            "text/plain": [
              "<Figure size 432x288 with 1 Axes>"
            ],
            "image/png": "[encoded data removed]"
          },
          "metadata": {
            "needs_background": "light"
          }
        },
        {
          "output_type": "stream",
          "name": "stdout",
          "text": [
            "1537/1537 - 4s - loss: 0.3771 - accuracy: 0.8419 - 4s/epoch - 2ms/step\n",
            "1537/1537 - 4s - loss: 0.3656 - accuracy: 0.8424 - 4s/epoch - 2ms/step\n",
            "RNN_model end\n",
            "\n"
          ]
        }
      ]
    },
    {
      "cell_type": "markdown",
      "source": [
        "둘의 학습률은 달라야한다.\n",
        "미리 학습된 백터는 학습률이 놓아야 한다는 사실을 알았다.\n"
      ],
      "metadata": {
        "id": "4318q_hboPvg"
      }
    }
  ],
  "metadata": {
    "colab": {
      "machine_shape": "hm",
      "provenance": [],
      "toc_visible": true
    },
    "kernelspec": {
      "display_name": "Python 3.10.4 64-bit",
      "language": "python",
      "name": "python3"
    },
    "language_info": {
      "codemirror_mode": {
        "name": "ipython",
        "version": 3
      },
      "file_extension": ".py",
      "mimetype": "text/x-python",
      "name": "python",
      "nbconvert_exporter": "python",
      "pygments_lexer": "ipython3",
      "version": "3.10.4"
    },
    "vscode": {
      "interpreter": {
        "hash": "26de051ba29f2982a8de78e945f0abaf191376122a1563185a90213a26c5da77"
      }
    },
    "accelerator": "GPU",
    "gpuClass": "premium"
  },
  "nbformat": 4,
  "nbformat_minor": 0
}