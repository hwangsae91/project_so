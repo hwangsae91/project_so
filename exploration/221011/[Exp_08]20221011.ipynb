{
  "cells": [
    {
      "cell_type": "markdown",
      "metadata": {
        "id": "view-in-github",
        "colab_type": "text"
      },
      "source": [
        "<a href=\"https://colab.research.google.com/github/hwangsae91/project_so/blob/master/exploration/221011/%5BExp_08%5D20221011.ipynb\" target=\"_parent\"><img src=\"https://colab.research.google.com/assets/colab-badge.svg\" alt=\"Open In Colab\"/></a>"
      ]
    },
    {
      "cell_type": "code",
      "execution_count": 1,
      "metadata": {
        "colab": {
          "base_uri": "https://localhost:8080/"
        },
        "id": "302ZdfCKLlhI",
        "outputId": "ea53b826-1fd6-477f-d8ce-948974909584"
      },
      "outputs": [
        {
          "output_type": "stream",
          "name": "stdout",
          "text": [
            "Drive already mounted at /content/drive; to attempt to forcibly remount, call drive.mount(\"/content/drive\", force_remount=True).\n"
          ]
        }
      ],
      "source": [
        "# google colab전용\n",
        "from google.colab import drive\n",
        "drive.mount('/content/drive')"
      ]
    },
    {
      "cell_type": "code",
      "source": [
        "# Mecab 설치를 위한 환경구성\n",
        "import os\n",
        "\n",
        "# install konlpy, jdk, JPype\n",
        "!pip install konlpy > /dev/null 2>&1\n",
        "!apt-get install openjdk-8-jdk-headless -qq > /dev/null 2>&1\n",
        "!pip3 install JPype1-py3 > /dev/null 2>&1\n",
        "\n",
        "# install mecab-ko\n",
        "os.chdir('/tmp/')\n",
        "!curl -LO https://bitbucket.org/eunjeon/mecab-ko/downloads/mecab-0.996-ko-0.9.2.tar.gz > /dev/null 2>&1\n",
        "!tar zxfv mecab-0.996-ko-0.9.2.tar.gz > /dev/null 2>&1\n",
        "os.chdir('/tmp/mecab-0.996-ko-0.9.2')\n",
        "!./configure > /dev/null 2>&1\n",
        "!make > /dev/null 2>&1\n",
        "!make check > /dev/null 2>&1\n",
        "!make install > /dev/null 2>&1\n",
        "\n",
        "# install mecab-ko-dic\n",
        "!apt-get install automake > /dev/null 2>&1\n",
        "os.chdir('/tmp')\n",
        "!curl -LO https://bitbucket.org/eunjeon/mecab-ko-dic/downloads/mecab-ko-dic-2.1.1-20180720.tar.gz > /dev/null 2>&1\n",
        "!tar -zxvf mecab-ko-dic-2.1.1-20180720.tar.gz > /dev/null 2>&1\n",
        "os.chdir('/tmp/mecab-ko-dic-2.1.1-20180720')\n",
        "!./autogen.sh > /dev/null 2>&1\n",
        "!./configure > /dev/null 2>&1\n",
        "!make > /dev/null 2>&1\n",
        "!make install > /dev/null 2>&1\n",
        "\n",
        "# install mecab-python\n",
        "os.chdir('/content')\n",
        "!git clone https://bitbucket.org/eunjeon/mecab-python-0.996.git > /dev/null 2>&1\n",
        "os.chdir('/content/mecab-python-0.996')\n",
        "!python3 setup.py build > /dev/null 2>&1\n",
        "!python3 setup.py install > /dev/null 2>&1"
      ],
      "metadata": {
        "id": "aUd9iIbhAgk5"
      },
      "execution_count": 2,
      "outputs": []
    },
    {
      "cell_type": "markdown",
      "source": [
        "※ 명령어를 통해 출력이 나오지 않게 하였다."
      ],
      "metadata": {
        "id": "RbKTjedWnAKZ"
      }
    },
    {
      "cell_type": "markdown",
      "metadata": {
        "id": "ujMb2MtyLrVQ"
      },
      "source": [
        "# exploration 8번째 과제</br>\n",
        "@ 황한용(3기/쏘카)"
      ]
    },
    {
      "cell_type": "markdown",
      "metadata": {
        "id": "tdrfR8Y3L0ry"
      },
      "source": [
        "## 라이브러리 선언"
      ]
    },
    {
      "cell_type": "code",
      "execution_count": 3,
      "metadata": {
        "id": "LWLP8EFSLqqp"
      },
      "outputs": [],
      "source": [
        "import numpy as np\n",
        "import pandas as pd\n",
        "import tensorflow as tf\n",
        "\n",
        "from collections import Counter\n",
        "from gensim.models.keyedvectors import Word2VecKeyedVectors\n",
        "from konlpy.tag import Mecab\n",
        "import matplotlib.pyplot as plt\n",
        "from sklearn.model_selection import train_test_split\n",
        "from tensorflow.keras.callbacks import EarlyStopping\n",
        "from typing import Dict, Tuple"
      ]
    },
    {
      "cell_type": "markdown",
      "metadata": {
        "id": "4qC6hZWKL7x3"
      },
      "source": [
        "## 상수선언"
      ]
    },
    {
      "cell_type": "code",
      "execution_count": 4,
      "metadata": {
        "id": "XcIjEEgnMD75"
      },
      "outputs": [],
      "source": [
        "BASE_PATH = \"/content/drive/MyDrive/Colab Notebooks/data/sentiment_classification\" # 데이터 기본경로\n",
        "DATA_PATH  = BASE_PATH + \"/data\" # 데이터 기본경로\n",
        "MODEL_PATH = BASE_PATH + \"/model/word2vec_ko.model\" # 학습된 한국어 단어모델\n",
        "STEP_WORDS = ['의','가','이','은','들','는','좀','잘','걍','과','도','를','으로','자','에','와','한','하다'] # 불용어\n",
        "BASE_DICTONARY = ['<PAD>', '<BOS>', '<UNK>','<UNUSED>'] # 단어의 기본구성\n",
        "FEATURE_DATA = [\"document\"] # feature\n",
        "MAX_NUM_WORDS = 10000 # 최대 사전 단어갯수\n",
        "WORD_VECTOR_DIM = 100 # 단어 백터 차원수\n",
        "pad_seq_kwargs = {\n",
        "    \"value\":None # 추후 추가예정\n",
        "    , \"padding\":\"post\"\n",
        "    , \"maxlen\":None # 추후 추가예정\n",
        "}\n",
        "TRAIN_TEST_SPLIT_KWARGS = {\n",
        "    \"test_size\":0.4, \"random_state\":2022\n",
        "}\n",
        "fit_kwargs = {\n",
        "    \"epochs\":15 # epoch 횟수\n",
        "    , \"batch_size\":512\n",
        "    ,\"validation_data\": None # 추후 추가예정\n",
        "    , \"shuffle\" : True # epoch당 셔플을 할지의 여부\n",
        "    , \"verbose\":1\n",
        "}\n",
        "tokenizer = Mecab() # tokenize 인스턴스\n",
        "early_stopping = EarlyStopping(monitor=\"val_accuracy\", patience=3)"
      ]
    },
    {
      "cell_type": "markdown",
      "metadata": {
        "id": "MQO-EqdI8459"
      },
      "source": [
        "## 함수"
      ]
    },
    {
      "cell_type": "code",
      "execution_count": 5,
      "metadata": {
        "id": "9WiQ4qfK8459"
      },
      "outputs": [],
      "source": [
        "def load_data(\n",
        "    train_data:pd.DataFrame\n",
        "    , test_data:pd.DataFrame\n",
        "    , step_words:list=STEP_WORDS\n",
        "    , num_words:int=MAX_NUM_WORDS\n",
        ") -> Tuple[\n",
        "            np.ndarray\n",
        "            , np.ndarray\n",
        "            , np.ndarray\n",
        "            , np.ndarray\n",
        "            , Dict[int,str]\n",
        "           , Dict[str,int]\n",
        "        ]:\n",
        "    \"\"\"\n",
        "    다음과 같은 전처리 후\n",
        "    `train data(feature, target)`, `test data(feature, target)`, `단어사전(str기반, index기반)`\n",
        "    을 리턴한다.\n",
        "\n",
        "    - 데이터의 중복 제거\n",
        "    - `NaN` 결측치 제거\n",
        "    - 한국어 토크나이저로 토큰화\n",
        "    - 불용어(`stop_words`) 제거\n",
        "    - 사전`word_to_index` 구성\n",
        "    - 텍스트 스트링을 사전 인덱스 스트링으로 변환\n",
        "\n",
        "    Parameters\n",
        "    ----------\n",
        "    train_data : DataFrame\n",
        "        학습 데이터\n",
        "    train_data : DataFrame\n",
        "        테스트 데이터\n",
        "    step_words : list, default = `MAX_NUM_WORDS`\n",
        "        불용어\n",
        "    num_words : int, default = `MAX_NUM_WORDS`\n",
        "        단어사전의 최대 단어 갯수\n",
        "\n",
        "    Returns\n",
        "    -------\n",
        "    X_train : ndarray\n",
        "        train feature data\n",
        "    y_train : ndarray\n",
        "        train target data\n",
        "    X_test : ndarray\n",
        "        test feature data\n",
        "    y_test : ndarray\n",
        "        test target data\n",
        "    word_to_index : dict\n",
        "        단어사전\n",
        "    index_to_word : dict\n",
        "        인덱스 기반 단어사전\n",
        "    \"\"\"\n",
        "    # 1.\n",
        "    train_data.drop_duplicates(subset=FEATURE_DATA, inplace=True)\n",
        "    test_data.drop_duplicates(subset=FEATURE_DATA, inplace=True)\n",
        "\n",
        "    # 2.\n",
        "    train_data.dropna(how='any', inplace=True)\n",
        "    test_data.dropna(how='any', inplace=True)\n",
        "\n",
        "    # 3.\n",
        "    X_train = [\n",
        "        [word for word in tokenizer.morphs(sentence) if not word in step_words]\n",
        "        for sentence in train_data['document']\n",
        "    ]\n",
        "\n",
        "    X_test = [\n",
        "        [word for word in tokenizer.morphs(sentence) if not word in step_words]\n",
        "        for sentence in test_data['document']\n",
        "    ]\n",
        "    \n",
        "    # 4.\n",
        "    words = np.concatenate(X_train).tolist()\n",
        "    counter = Counter(words)\n",
        "    counter = counter.most_common(num_words - len(BASE_DICTONARY))\n",
        "    vocab = BASE_DICTONARY + [key for key, _ in counter]\n",
        "\n",
        "    # 5.\n",
        "    word_to_index = {word:index for index, word in enumerate(vocab)}\n",
        "    index_to_word = {index:word for word, index in word_to_index.items()}\n",
        "        \n",
        "    def wordlist_to_indexlist(wordlist):\n",
        "        return [word_to_index[word] if word in word_to_index else word_to_index['<UNK>'] for word in wordlist]\n",
        "        \n",
        "    X_train = list(map(wordlist_to_indexlist, X_train))\n",
        "    X_test = list(map(wordlist_to_indexlist, X_test))\n",
        "\n",
        "    return X_train, np.array(list(train_data['label'])), X_test, np.array(list(test_data['label'])), word_to_index, index_to_word\n",
        "\n",
        "####################################### 제공 함수(사용안함) #######################################\n",
        "\n",
        "# 문장 1개를 활용할 딕셔너리와 함께 주면, 단어 인덱스 리스트 벡터로 변환해 주는 함수입니다. \n",
        "# 단, 모든 문장은 <BOS>로 시작하는 것으로 합니다. \n",
        "def get_encoded_sentence(sentence, word_to_index):\n",
        "    return [word_to_index['<BOS>']]+[word_to_index[word] if word in word_to_index else word_to_index['<UNK>'] for word in sentence.split()]\n",
        "\n",
        "# 여러 개의 문장 리스트를 한꺼번에 단어 인덱스 리스트 벡터로 encode해 주는 함수입니다. \n",
        "def get_encoded_sentences(sentences, word_to_index):\n",
        "    return [get_encoded_sentence(sentence, word_to_index) for sentence in sentences]\n",
        "\n",
        "# 숫자 벡터로 encode된 문장을 원래대로 decode하는 함수입니다. \n",
        "def get_decoded_sentence(encoded_sentence, index_to_word):\n",
        "    return ' '.join(index_to_word[index] if index in index_to_word else '<UNK>' for index in encoded_sentence[1:])  #[1:]를 통해 <BOS>를 제외\n",
        "\n",
        "# 여러 개의 숫자 벡터로 encode된 문장을 한꺼번에 원래대로 decode하는 함수입니다. \n",
        "def get_decoded_sentences(encoded_sentences, index_to_word):\n",
        "    return [get_decoded_sentence(encoded_sentence, index_to_word) for encoded_sentence in encoded_sentences]"
      ]
    },
    {
      "cell_type": "markdown",
      "metadata": {
        "id": "l5DV1kd8MPes"
      },
      "source": [
        "## 메인"
      ]
    },
    {
      "cell_type": "markdown",
      "source": [
        "### IMDB 데이터셋"
      ],
      "metadata": {
        "id": "B7XCWajZ0XIj"
      }
    },
    {
      "cell_type": "code",
      "execution_count": 6,
      "metadata": {
        "id": "iwkvcfr7MPsm",
        "colab": {
          "base_uri": "https://localhost:8080/",
          "height": 206
        },
        "outputId": "9fd36038-1bc3-4b61-8574-5c468e50b45f"
      },
      "outputs": [
        {
          "output_type": "execute_result",
          "data": {
            "text/plain": [
              "         id                                           document  label\n",
              "0   9976970                                아 더빙.. 진짜 짜증나네요 목소리      0\n",
              "1   3819312                  흠...포스터보고 초딩영화줄....오버연기조차 가볍지 않구나      1\n",
              "2  10265843                                  너무재밓었다그래서보는것을추천한다      0\n",
              "3   9045019                      교도소 이야기구먼 ..솔직히 재미는 없다..평점 조정      0\n",
              "4   6483659  사이몬페그의 익살스런 연기가 돋보였던 영화!스파이더맨에서 늙어보이기만 했던 커스틴 ...      1"
            ],
            "text/html": [
              "\n",
              "  <div id=\"df-4b9f4732-f391-44bc-886d-63414256de94\">\n",
              "    <div class=\"colab-df-container\">\n",
              "      <div>\n",
              "<style scoped>\n",
              "    .dataframe tbody tr th:only-of-type {\n",
              "        vertical-align: middle;\n",
              "    }\n",
              "\n",
              "    .dataframe tbody tr th {\n",
              "        vertical-align: top;\n",
              "    }\n",
              "\n",
              "    .dataframe thead th {\n",
              "        text-align: right;\n",
              "    }\n",
              "</style>\n",
              "<table border=\"1\" class=\"dataframe\">\n",
              "  <thead>\n",
              "    <tr style=\"text-align: right;\">\n",
              "      <th></th>\n",
              "      <th>id</th>\n",
              "      <th>document</th>\n",
              "      <th>label</th>\n",
              "    </tr>\n",
              "  </thead>\n",
              "  <tbody>\n",
              "    <tr>\n",
              "      <th>0</th>\n",
              "      <td>9976970</td>\n",
              "      <td>아 더빙.. 진짜 짜증나네요 목소리</td>\n",
              "      <td>0</td>\n",
              "    </tr>\n",
              "    <tr>\n",
              "      <th>1</th>\n",
              "      <td>3819312</td>\n",
              "      <td>흠...포스터보고 초딩영화줄....오버연기조차 가볍지 않구나</td>\n",
              "      <td>1</td>\n",
              "    </tr>\n",
              "    <tr>\n",
              "      <th>2</th>\n",
              "      <td>10265843</td>\n",
              "      <td>너무재밓었다그래서보는것을추천한다</td>\n",
              "      <td>0</td>\n",
              "    </tr>\n",
              "    <tr>\n",
              "      <th>3</th>\n",
              "      <td>9045019</td>\n",
              "      <td>교도소 이야기구먼 ..솔직히 재미는 없다..평점 조정</td>\n",
              "      <td>0</td>\n",
              "    </tr>\n",
              "    <tr>\n",
              "      <th>4</th>\n",
              "      <td>6483659</td>\n",
              "      <td>사이몬페그의 익살스런 연기가 돋보였던 영화!스파이더맨에서 늙어보이기만 했던 커스틴 ...</td>\n",
              "      <td>1</td>\n",
              "    </tr>\n",
              "  </tbody>\n",
              "</table>\n",
              "</div>\n",
              "      <button class=\"colab-df-convert\" onclick=\"convertToInteractive('df-4b9f4732-f391-44bc-886d-63414256de94')\"\n",
              "              title=\"Convert this dataframe to an interactive table.\"\n",
              "              style=\"display:none;\">\n",
              "        \n",
              "  <svg xmlns=\"http://www.w3.org/2000/svg\" height=\"24px\"viewBox=\"0 0 24 24\"\n",
              "       width=\"24px\">\n",
              "    <path d=\"M0 0h24v24H0V0z\" fill=\"none\"/>\n",
              "    <path d=\"M18.56 5.44l.94 2.06.94-2.06 2.06-.94-2.06-.94-.94-2.06-.94 2.06-2.06.94zm-11 1L8.5 8.5l.94-2.06 2.06-.94-2.06-.94L8.5 2.5l-.94 2.06-2.06.94zm10 10l.94 2.06.94-2.06 2.06-.94-2.06-.94-.94-2.06-.94 2.06-2.06.94z\"/><path d=\"M17.41 7.96l-1.37-1.37c-.4-.4-.92-.59-1.43-.59-.52 0-1.04.2-1.43.59L10.3 9.45l-7.72 7.72c-.78.78-.78 2.05 0 2.83L4 21.41c.39.39.9.59 1.41.59.51 0 1.02-.2 1.41-.59l7.78-7.78 2.81-2.81c.8-.78.8-2.07 0-2.86zM5.41 20L4 18.59l7.72-7.72 1.47 1.35L5.41 20z\"/>\n",
              "  </svg>\n",
              "      </button>\n",
              "      \n",
              "  <style>\n",
              "    .colab-df-container {\n",
              "      display:flex;\n",
              "      flex-wrap:wrap;\n",
              "      gap: 12px;\n",
              "    }\n",
              "\n",
              "    .colab-df-convert {\n",
              "      background-color: #E8F0FE;\n",
              "      border: none;\n",
              "      border-radius: 50%;\n",
              "      cursor: pointer;\n",
              "      display: none;\n",
              "      fill: #1967D2;\n",
              "      height: 32px;\n",
              "      padding: 0 0 0 0;\n",
              "      width: 32px;\n",
              "    }\n",
              "\n",
              "    .colab-df-convert:hover {\n",
              "      background-color: #E2EBFA;\n",
              "      box-shadow: 0px 1px 2px rgba(60, 64, 67, 0.3), 0px 1px 3px 1px rgba(60, 64, 67, 0.15);\n",
              "      fill: #174EA6;\n",
              "    }\n",
              "\n",
              "    [theme=dark] .colab-df-convert {\n",
              "      background-color: #3B4455;\n",
              "      fill: #D2E3FC;\n",
              "    }\n",
              "\n",
              "    [theme=dark] .colab-df-convert:hover {\n",
              "      background-color: #434B5C;\n",
              "      box-shadow: 0px 1px 3px 1px rgba(0, 0, 0, 0.15);\n",
              "      filter: drop-shadow(0px 1px 2px rgba(0, 0, 0, 0.3));\n",
              "      fill: #FFFFFF;\n",
              "    }\n",
              "  </style>\n",
              "\n",
              "      <script>\n",
              "        const buttonEl =\n",
              "          document.querySelector('#df-4b9f4732-f391-44bc-886d-63414256de94 button.colab-df-convert');\n",
              "        buttonEl.style.display =\n",
              "          google.colab.kernel.accessAllowed ? 'block' : 'none';\n",
              "\n",
              "        async function convertToInteractive(key) {\n",
              "          const element = document.querySelector('#df-4b9f4732-f391-44bc-886d-63414256de94');\n",
              "          const dataTable =\n",
              "            await google.colab.kernel.invokeFunction('convertToInteractive',\n",
              "                                                     [key], {});\n",
              "          if (!dataTable) return;\n",
              "\n",
              "          const docLinkHtml = 'Like what you see? Visit the ' +\n",
              "            '<a target=\"_blank\" href=https://colab.research.google.com/notebooks/data_table.ipynb>data table notebook</a>'\n",
              "            + ' to learn more about interactive tables.';\n",
              "          element.innerHTML = '';\n",
              "          dataTable['output_type'] = 'display_data';\n",
              "          await google.colab.output.renderOutput(dataTable, element);\n",
              "          const docLink = document.createElement('div');\n",
              "          docLink.innerHTML = docLinkHtml;\n",
              "          element.appendChild(docLink);\n",
              "        }\n",
              "      </script>\n",
              "    </div>\n",
              "  </div>\n",
              "  "
            ]
          },
          "metadata": {},
          "execution_count": 6
        }
      ],
      "source": [
        "train_data = pd.read_table(DATA_PATH + \"/ratings_train.txt\")\n",
        "test_data = pd.read_table(DATA_PATH + \"/ratings_test.txt\")\n",
        "train_data.head()"
      ]
    },
    {
      "cell_type": "markdown",
      "metadata": {
        "id": "iXm0KjWe845_"
      },
      "source": [
        "데이터에 대한 설명은 아래와 같다.</br>\n",
        "- id: The review id, provieded by Naver\n",
        "- document: The actual review\n",
        "- label: The sentiment class of the review. (0: negative, 1: positive)"
      ]
    },
    {
      "cell_type": "code",
      "execution_count": 7,
      "metadata": {
        "colab": {
          "base_uri": "https://localhost:8080/"
        },
        "id": "971TB3kw845_",
        "outputId": "66158ddb-495a-41f2-cf93-b15960c8b742"
      },
      "outputs": [
        {
          "output_type": "stream",
          "name": "stdout",
          "text": [
            "X_train len:146182\n",
            "X_test len:49157\n"
          ]
        }
      ],
      "source": [
        "X_train, y_train, X_test, y_test, word_to_index, index_to_word = load_data(train_data, test_data)\n",
        "\n",
        "print(f\"X_train len:{len(X_train)}\")\n",
        "print(f\"X_test len:{len(X_test)}\")"
      ]
    },
    {
      "cell_type": "markdown",
      "metadata": {
        "id": "oMm1Q3DE846A"
      },
      "source": [
        "학습데이터와 테스트데이터를 로드"
      ]
    },
    {
      "cell_type": "code",
      "source": [
        "num_tokens = np.array(list(map(len,list(X_train) + list(X_test))))\n",
        "# 문장길이의 평균값, 최대값, 표준편차를 계산 \n",
        "print('문장길이 평균 : ', np.mean(num_tokens))\n",
        "print('문장길이 최대 : ', np.max(num_tokens))\n",
        "print('문장길이 표준편차 : ', np.std(num_tokens))\n",
        "\n",
        "max_tokens = np.mean(num_tokens) + 2 * np.std(num_tokens)\n",
        "maxlen = int(max_tokens)\n",
        "print('pad_sequences maxlen : ', maxlen)\n",
        "print('전체 문장의 {}%가 maxlen 설정값 이내에 포함됩니다. '.format(np.sum(num_tokens < max_tokens) / len(num_tokens)))\n",
        "\n",
        "pad_seq_kwargs.update({\n",
        "    \"value\":word_to_index[\"<PAD>\"]\n",
        "    , \"maxlen\":maxlen\n",
        "})# padding 설정"
      ],
      "metadata": {
        "id": "3ZASR2F_fugN",
        "outputId": "afe23b17-ada1-4c41-b697-48cdfd6f9c9b",
        "colab": {
          "base_uri": "https://localhost:8080/"
        }
      },
      "execution_count": 8,
      "outputs": [
        {
          "output_type": "stream",
          "name": "stdout",
          "text": [
            "문장길이 평균 :  15.969376315021577\n",
            "문장길이 최대 :  116\n",
            "문장길이 표준편차 :  12.843535456326455\n",
            "pad_sequences maxlen :  41\n",
            "전체 문장의 0.9342988343341575%가 maxlen 설정값 이내에 포함됩니다. \n"
          ]
        }
      ]
    },
    {
      "cell_type": "markdown",
      "source": [
        " 최대 길이를 `maxlen`으로 설정하였고 값은 (평균 + 2*표준편차)로 하여<br>\n",
        "대부분의 문장이 학습이 가능하도록 설정하였다.  "
      ],
      "metadata": {
        "id": "wRHCeqlem4v_"
      }
    },
    {
      "cell_type": "code",
      "source": [
        "X_train = tf.keras.preprocessing.sequence.pad_sequences(X_train, **pad_seq_kwargs)\n",
        "X_test = tf.keras.preprocessing.sequence.pad_sequences(X_test, **pad_seq_kwargs)\n",
        "X_train, X_val, y_train, y_val = train_test_split(X_train, y_train, **TRAIN_TEST_SPLIT_KWARGS)\n",
        "fit_kwargs[\"validation_data\"] = (X_val, y_val)"
      ],
      "metadata": {
        "id": "HbFIKeNV_L8U"
      },
      "execution_count": 9,
      "outputs": []
    },
    {
      "cell_type": "markdown",
      "source": [
        "과적합 방지를 위해 학습과 점증을 2:8비율로 나누었다. "
      ],
      "metadata": {
        "id": "cQlTE3xms-k0"
      }
    },
    {
      "cell_type": "markdown",
      "source": [
        "### 한국어 Word2Vec 임베딩"
      ],
      "metadata": {
        "id": "Iu9puDTo_MRT"
      }
    },
    {
      "cell_type": "code",
      "source": [
        "word_vectors = Word2VecKeyedVectors.load(MODEL_PATH).wv\n",
        "\n",
        "# 임의의 가중치 적용\n",
        "embedding_matrix = np.random.rand(MAX_NUM_WORDS, WORD_VECTOR_DIM)\n",
        "\n",
        "# 이미 학습된 단어가 있는 경우 학습된 백터를 넣는다.\n",
        "for i in range(4,MAX_NUM_WORDS):\n",
        "    if index_to_word[i] in word_vectors:\n",
        "        embedding_matrix[i] = word_vectors[index_to_word[i]]\n"
      ],
      "metadata": {
        "id": "2qbNBHBm0LLy"
      },
      "execution_count": 10,
      "outputs": []
    },
    {
      "cell_type": "markdown",
      "source": [
        "기본에 학습된 모델을 로드 뒤, 같은 단어장에 가중치를 랜덤으로 적용 후,<br>\n",
        "단어장 안에 학습된 단어가 존제하면 백터의 값을 대입한다."
      ],
      "metadata": {
        "id": "XNQ9W93B0LUx"
      }
    },
    {
      "cell_type": "code",
      "source": [
        "model_list = []\n",
        "w2v_model_list = []\n",
        "\n",
        "# max pooling만 존제하는 model 설계\n",
        "maxpool_model = tf.keras.Sequential(name = \"maxpool_model\")\n",
        "maxpool_model.add(tf.keras.layers.Embedding(MAX_NUM_WORDS, WORD_VECTOR_DIM, input_shape=(None,)))\n",
        "maxpool_model.add(tf.keras.layers.GlobalMaxPooling1D())\n",
        "maxpool_model.add(tf.keras.layers.Dense(8, activation='relu'))\n",
        "maxpool_model.add(tf.keras.layers.Dense(1, activation='sigmoid'))\n",
        "\n",
        "model_list.append(maxpool_model)\n",
        "\n",
        "w2v_maxpool_model = tf.keras.Sequential(name = \"w2v_maxpool_model\")\n",
        "w2v_maxpool_model.add(tf.keras.layers.Embedding(\n",
        "                                    MAX_NUM_WORDS \n",
        "                                    , WORD_VECTOR_DIM \n",
        "                                    , embeddings_initializer=tf.keras.initializers.Constant(embedding_matrix)\n",
        "                                    , input_length=maxlen \n",
        "                                    , trainable=True\n",
        "                                 )\n",
        ")\n",
        "w2v_maxpool_model.add(tf.keras.layers.GlobalMaxPooling1D())\n",
        "w2v_maxpool_model.add(tf.keras.layers.Dense(8, activation='relu'))\n",
        "w2v_maxpool_model.add(tf.keras.layers.Dense(1, activation='sigmoid'))\n",
        "\n",
        "w2v_model_list.append(w2v_maxpool_model)"
      ],
      "metadata": {
        "id": "3Y-xHhXejA5P"
      },
      "execution_count": 11,
      "outputs": []
    },
    {
      "cell_type": "markdown",
      "source": [
        "max pooling만 존제하는 model 설계하였다.<br>\n",
        "처음부터 학습하는 모델 `maxpool_model`<br>\n",
        "기존에 학습된 데이터를 활용하는 `w2v_maxpool_model`<br>\n",
        "로 나누어 설계하였다."
      ],
      "metadata": {
        "id": "8sbpd_8bjBGf"
      }
    },
    {
      "cell_type": "code",
      "source": [
        "# CNN 1d model 설계\n",
        "CNN_model = tf.keras.Sequential(name = \"CNN_model\")\n",
        "CNN_model.add(tf.keras.layers.Embedding(MAX_NUM_WORDS, WORD_VECTOR_DIM, input_shape=(None,)))\n",
        "CNN_model.add(tf.keras.layers.Dropout(rate=0.4))\n",
        "CNN_model.add(tf.keras.layers.Conv1D(16, 7, activation='relu'))\n",
        "CNN_model.add(tf.keras.layers.MaxPooling1D(5))\n",
        "CNN_model.add(tf.keras.layers.Dropout(rate=0.4))\n",
        "CNN_model.add(tf.keras.layers.Conv1D(16, 7, activation='relu'))\n",
        "CNN_model.add(tf.keras.layers.GlobalMaxPooling1D())\n",
        "CNN_model.add(tf.keras.layers.Dense(8, activation='relu'))\n",
        "CNN_model.add(tf.keras.layers.Dense(1, activation='sigmoid'))\n",
        "\n",
        "model_list.append(CNN_model)\n",
        "\n",
        "w2v_CNN_model = tf.keras.Sequential(name = \"w2v_CNN_model\")\n",
        "w2v_CNN_model.add(tf.keras.layers.Embedding(MAX_NUM_WORDS, \n",
        "                                 WORD_VECTOR_DIM, \n",
        "                                 embeddings_initializer=tf.keras.initializers.Constant(embedding_matrix),  # 카피한 임베딩을 여기서 활용\n",
        "                                 input_length=maxlen, \n",
        "                                 trainable=True))   # trainable을 True로 주면 Fine-tuning\n",
        "w2v_CNN_model.add(tf.keras.layers.Dropout(rate=0.4))\n",
        "w2v_CNN_model.add(tf.keras.layers.Conv1D(16, 7, activation='relu'))\n",
        "w2v_CNN_model.add(tf.keras.layers.MaxPooling1D(5))\n",
        "w2v_CNN_model.add(tf.keras.layers.Dropout(rate=0.4))\n",
        "w2v_CNN_model.add(tf.keras.layers.Conv1D(16, 7, activation='relu'))\n",
        "w2v_CNN_model.add(tf.keras.layers.GlobalMaxPooling1D())\n",
        "w2v_CNN_model.add(tf.keras.layers.Dense(8, activation='relu'))\n",
        "w2v_CNN_model.add(tf.keras.layers.Dense(1, activation='sigmoid')) \n",
        "\n",
        "w2v_model_list.append(w2v_CNN_model)"
      ],
      "metadata": {
        "id": "KuuY-SGVmbWl"
      },
      "execution_count": 12,
      "outputs": []
    },
    {
      "cell_type": "markdown",
      "source": [
        "CNN을 1차원으로 변형하여 학습하는 model 설계하였다.<br>\n",
        "처음부터 학습하는 모델 `CNN_model`<br>\n",
        "기존에 학습된 데이터를 활용하는 `w2v_CNN_model`<br>\n",
        "로 나누어 설계하였다."
      ],
      "metadata": {
        "id": "HliFm2DDmbiM"
      }
    },
    {
      "cell_type": "code",
      "source": [
        "# RNN model 설계\n",
        "RNN_model = tf.keras.Sequential(name = \"RNN_model\")\n",
        "RNN_model.add(tf.keras.layers.Embedding(MAX_NUM_WORDS, WORD_VECTOR_DIM, input_shape=(None,)))\n",
        "RNN_model.add(tf.keras.layers.LSTM(64, dropout=0.4))\n",
        "RNN_model.add(tf.keras.layers.Dense(8, activation='relu'))\n",
        "RNN_model.add(tf.keras.layers.Dense(1, activation='sigmoid'))\n",
        "\n",
        "model_list.append(RNN_model)\n",
        "\n",
        "w2v_RNN_model = tf.keras.Sequential(name = \"w2v_RNN_model\")\n",
        "w2v_RNN_model.add(tf.keras.layers.Embedding(\n",
        "                                 MAX_NUM_WORDS\n",
        "                                 , WORD_VECTOR_DIM \n",
        "                                 , embeddings_initializer=tf.keras.initializers.Constant(embedding_matrix)\n",
        "                                 , input_length=maxlen \n",
        "                                 , trainable=True))\n",
        "w2v_RNN_model.add(tf.keras.layers.LSTM(64, dropout=0.4))\n",
        "w2v_RNN_model.add(tf.keras.layers.Dense(8, activation='relu'))\n",
        "w2v_RNN_model.add(tf.keras.layers.Dense(1, activation='sigmoid'))\n",
        "\n",
        "w2v_model_list.append(w2v_RNN_model)"
      ],
      "metadata": {
        "id": "U4R0Zm-mlCzH"
      },
      "execution_count": 13,
      "outputs": []
    },
    {
      "cell_type": "markdown",
      "source": [
        "RNN model 설계하였다.<br>\n",
        "처음부터 학습하는 모델 `RNN_model`<br>\n",
        "기존에 학습된 데이터를 활용하는 `w2v_RNN_model`<br>\n",
        "로 나누어 설계하였다."
      ],
      "metadata": {
        "id": "MWLtgaTelC60"
      }
    },
    {
      "cell_type": "code",
      "source": [
        "for model, w2v_model in zip(model_list,w2v_model_list):\n",
        "    print(f\"{model.name} start\")\n",
        "\n",
        "    # 모델 훈련\n",
        "    model.compile(optimizer=tf.keras.optimizers.Nadam(\n",
        "                        learning_rate=0.0002 # running rate\n",
        "                )\n",
        "                ,loss='binary_crossentropy'\n",
        "                ,metrics=['accuracy'])\n",
        "\n",
        "    history_dict = model.fit(\n",
        "                        X_train\n",
        "                        , y_train\n",
        "                        , callbacks=early_stopping\n",
        "                        , **fit_kwargs\n",
        "                    ).history\n",
        "    acc = history_dict['accuracy']\n",
        "    val_acc = history_dict['val_accuracy']\n",
        "    loss = history_dict['loss']\n",
        "    val_loss = history_dict['val_loss']\n",
        "\n",
        "\n",
        "    # 개선된 모델의 훈련\n",
        "    w2v_model.compile(optimizer=tf.keras.optimizers.Nadam(\n",
        "                        learning_rate=0.005 # running rate\n",
        "                )\n",
        "                ,loss='binary_crossentropy'\n",
        "                ,metrics=['accuracy'])\n",
        "\n",
        "    w2v_history_dict = w2v_model.fit(\n",
        "                        X_train\n",
        "                        , y_train\n",
        "                        , callbacks=early_stopping\n",
        "                        , **fit_kwargs\n",
        "                    ).history\n",
        "\n",
        "    w2v_acc = w2v_history_dict['accuracy']\n",
        "    w2v_val_acc = w2v_history_dict['val_accuracy']\n",
        "    w2v_loss = w2v_history_dict['loss']\n",
        "    w2v_val_loss = w2v_history_dict['val_loss']\n",
        "\n",
        "    epoch = range(1, len(acc) + 1)\n",
        "    w2v_epoch = range(1, len(w2v_val_acc) + 1)\n",
        "\n",
        "    plt.plot(epoch, loss, 'bo', label='Training loss')\n",
        "    plt.plot(epoch, val_loss, 'b', label='Validation loss')\n",
        "    plt.plot(w2v_epoch, w2v_loss, 'go', label='W2V Training loss')\n",
        "    plt.plot(w2v_epoch, w2v_val_loss, 'g', label='W2V Validation loss')\n",
        "    plt.title('Training and validation loss')\n",
        "    plt.xlabel('Epochs')\n",
        "    plt.ylabel('Loss')\n",
        "    plt.legend()\n",
        "    plt.show()\n",
        "\n",
        "    plt.clf()\n",
        "    plt.plot(epoch, acc, 'bo', label='Training acc')\n",
        "    plt.plot(epoch, val_acc, 'b', label='Validation acc')\n",
        "    plt.plot(w2v_epoch, w2v_acc, 'go', label='W2V Training acc')\n",
        "    plt.plot(w2v_epoch, w2v_val_acc, 'g', label='W2V Validation acc')\n",
        "    plt.title('Training and validation accuracy')\n",
        "    plt.xlabel('Epochs')\n",
        "    plt.ylabel('Accuracy')\n",
        "    plt.legend()\n",
        "\n",
        "    plt.show()\n",
        "\n",
        "    # 테스트셋을 통한 모델 평가\n",
        "    results = model.evaluate(X_test, y_test, verbose=2)\n",
        "    w2v_results = w2v_model.evaluate(X_test, y_test, verbose=2)\n",
        "\n",
        "    print(f\"{model.name} end\\n\")"
      ],
      "metadata": {
        "id": "BQmNPZNVoPmW",
        "outputId": "34868d14-6023-4364-8fbe-392e39e78f77",
        "colab": {
          "base_uri": "https://localhost:8080/",
          "height": 1000
        }
      },
      "execution_count": 14,
      "outputs": [
        {
          "output_type": "stream",
          "name": "stdout",
          "text": [
            "maxpool_model start\n",
            "Epoch 1/15\n",
            "172/172 [==============================] - 2s 6ms/step - loss: 0.6727 - accuracy: 0.7268 - val_loss: 0.6398 - val_accuracy: 0.7936\n",
            "Epoch 2/15\n",
            "172/172 [==============================] - 1s 5ms/step - loss: 0.5856 - accuracy: 0.8086 - val_loss: 0.5310 - val_accuracy: 0.8088\n",
            "Epoch 3/15\n",
            "172/172 [==============================] - 1s 5ms/step - loss: 0.4799 - accuracy: 0.8247 - val_loss: 0.4479 - val_accuracy: 0.8198\n",
            "Epoch 4/15\n",
            "172/172 [==============================] - 1s 5ms/step - loss: 0.4109 - accuracy: 0.8387 - val_loss: 0.4037 - val_accuracy: 0.8276\n",
            "Epoch 5/15\n",
            "172/172 [==============================] - 1s 5ms/step - loss: 0.3720 - accuracy: 0.8485 - val_loss: 0.3825 - val_accuracy: 0.8325\n",
            "Epoch 6/15\n",
            "172/172 [==============================] - 1s 5ms/step - loss: 0.3480 - accuracy: 0.8562 - val_loss: 0.3706 - val_accuracy: 0.8362\n",
            "Epoch 7/15\n",
            "172/172 [==============================] - 1s 5ms/step - loss: 0.3304 - accuracy: 0.8636 - val_loss: 0.3631 - val_accuracy: 0.8396\n",
            "Epoch 8/15\n",
            "172/172 [==============================] - 1s 5ms/step - loss: 0.3161 - accuracy: 0.8701 - val_loss: 0.3581 - val_accuracy: 0.8420\n",
            "Epoch 9/15\n",
            "172/172 [==============================] - 1s 5ms/step - loss: 0.3036 - accuracy: 0.8756 - val_loss: 0.3545 - val_accuracy: 0.8441\n",
            "Epoch 10/15\n",
            "172/172 [==============================] - 1s 5ms/step - loss: 0.2924 - accuracy: 0.8809 - val_loss: 0.3519 - val_accuracy: 0.8459\n",
            "Epoch 11/15\n",
            "172/172 [==============================] - 1s 5ms/step - loss: 0.2819 - accuracy: 0.8859 - val_loss: 0.3501 - val_accuracy: 0.8470\n",
            "Epoch 12/15\n",
            "172/172 [==============================] - 1s 5ms/step - loss: 0.2721 - accuracy: 0.8913 - val_loss: 0.3492 - val_accuracy: 0.8476\n",
            "Epoch 13/15\n",
            "172/172 [==============================] - 1s 5ms/step - loss: 0.2628 - accuracy: 0.8960 - val_loss: 0.3488 - val_accuracy: 0.8483\n",
            "Epoch 14/15\n",
            "172/172 [==============================] - 1s 5ms/step - loss: 0.2539 - accuracy: 0.9006 - val_loss: 0.3489 - val_accuracy: 0.8490\n",
            "Epoch 15/15\n",
            "172/172 [==============================] - 1s 5ms/step - loss: 0.2452 - accuracy: 0.9044 - val_loss: 0.3494 - val_accuracy: 0.8496\n",
            "Epoch 1/15\n",
            "172/172 [==============================] - 2s 6ms/step - loss: 0.7187 - accuracy: 0.5164 - val_loss: 0.6811 - val_accuracy: 0.5541\n",
            "Epoch 2/15\n",
            "172/172 [==============================] - 1s 5ms/step - loss: 0.6355 - accuracy: 0.6386 - val_loss: 0.6685 - val_accuracy: 0.6408\n",
            "Epoch 3/15\n",
            "172/172 [==============================] - 1s 5ms/step - loss: 0.5423 - accuracy: 0.7327 - val_loss: 0.5130 - val_accuracy: 0.7504\n",
            "Epoch 4/15\n",
            "172/172 [==============================] - 1s 5ms/step - loss: 0.4812 - accuracy: 0.7729 - val_loss: 0.4839 - val_accuracy: 0.7717\n",
            "Epoch 5/15\n",
            "172/172 [==============================] - 1s 5ms/step - loss: 0.4385 - accuracy: 0.7991 - val_loss: 0.4438 - val_accuracy: 0.7922\n",
            "Epoch 6/15\n",
            "172/172 [==============================] - 1s 5ms/step - loss: 0.4100 - accuracy: 0.8164 - val_loss: 0.4304 - val_accuracy: 0.8008\n",
            "Epoch 7/15\n",
            "172/172 [==============================] - 1s 5ms/step - loss: 0.3878 - accuracy: 0.8284 - val_loss: 0.4317 - val_accuracy: 0.8043\n",
            "Epoch 8/15\n",
            "172/172 [==============================] - 1s 5ms/step - loss: 0.3697 - accuracy: 0.8387 - val_loss: 0.4927 - val_accuracy: 0.7667\n",
            "Epoch 9/15\n",
            "172/172 [==============================] - 1s 5ms/step - loss: 0.3527 - accuracy: 0.8481 - val_loss: 0.4163 - val_accuracy: 0.8114\n",
            "Epoch 10/15\n",
            "172/172 [==============================] - 1s 5ms/step - loss: 0.3362 - accuracy: 0.8566 - val_loss: 0.4129 - val_accuracy: 0.8158\n",
            "Epoch 11/15\n",
            "172/172 [==============================] - 1s 5ms/step - loss: 0.3251 - accuracy: 0.8622 - val_loss: 0.4114 - val_accuracy: 0.8159\n",
            "Epoch 12/15\n",
            "172/172 [==============================] - 1s 5ms/step - loss: 0.3120 - accuracy: 0.8703 - val_loss: 0.4063 - val_accuracy: 0.8195\n",
            "Epoch 13/15\n",
            "172/172 [==============================] - 1s 6ms/step - loss: 0.3010 - accuracy: 0.8748 - val_loss: 0.4285 - val_accuracy: 0.8105\n",
            "Epoch 14/15\n",
            "172/172 [==============================] - 1s 6ms/step - loss: 0.2889 - accuracy: 0.8813 - val_loss: 0.4149 - val_accuracy: 0.8202\n",
            "Epoch 15/15\n",
            "172/172 [==============================] - 1s 5ms/step - loss: 0.2746 - accuracy: 0.8886 - val_loss: 0.4181 - val_accuracy: 0.8209\n"
          ]
        },
        {
          "output_type": "display_data",
          "data": {
            "text/plain": [
              "<Figure size 432x288 with 1 Axes>"
            ],
            "image/png": "[encoded data removed]"
          },
          "metadata": {
            "needs_background": "light"
          }
        },
        {
          "output_type": "display_data",
          "data": {
            "text/plain": [
              "<Figure size 432x288 with 1 Axes>"
            ],
            "image/png": "[encoded data removed]"
          },
          "metadata": {
            "needs_background": "light"
          }
        },
        {
          "output_type": "stream",
          "name": "stdout",
          "text": [
            "1537/1537 - 2s - loss: 0.3546 - accuracy: 0.8465 - 2s/epoch - 2ms/step\n",
            "1537/1537 - 2s - loss: 0.4215 - accuracy: 0.8192 - 2s/epoch - 2ms/step\n",
            "maxpool_model end\n",
            "\n",
            "CNN_model start\n",
            "Epoch 1/15\n",
            "172/172 [==============================] - 4s 9ms/step - loss: 0.6884 - accuracy: 0.5334 - val_loss: 0.6587 - val_accuracy: 0.6612\n",
            "Epoch 2/15\n",
            "172/172 [==============================] - 1s 7ms/step - loss: 0.5719 - accuracy: 0.7291 - val_loss: 0.4664 - val_accuracy: 0.8028\n",
            "Epoch 3/15\n",
            "172/172 [==============================] - 1s 8ms/step - loss: 0.4439 - accuracy: 0.8036 - val_loss: 0.3975 - val_accuracy: 0.8267\n",
            "Epoch 4/15\n",
            "172/172 [==============================] - 1s 8ms/step - loss: 0.3980 - accuracy: 0.8272 - val_loss: 0.3775 - val_accuracy: 0.8360\n",
            "Epoch 5/15\n",
            "172/172 [==============================] - 1s 8ms/step - loss: 0.3753 - accuracy: 0.8403 - val_loss: 0.3679 - val_accuracy: 0.8396\n",
            "Epoch 6/15\n",
            "172/172 [==============================] - 1s 8ms/step - loss: 0.3603 - accuracy: 0.8484 - val_loss: 0.3629 - val_accuracy: 0.8424\n",
            "Epoch 7/15\n",
            "172/172 [==============================] - 1s 8ms/step - loss: 0.3500 - accuracy: 0.8532 - val_loss: 0.3594 - val_accuracy: 0.8433\n",
            "Epoch 8/15\n",
            "172/172 [==============================] - 1s 8ms/step - loss: 0.3429 - accuracy: 0.8575 - val_loss: 0.3573 - val_accuracy: 0.8446\n",
            "Epoch 9/15\n",
            "172/172 [==============================] - 1s 7ms/step - loss: 0.3328 - accuracy: 0.8625 - val_loss: 0.3544 - val_accuracy: 0.8463\n",
            "Epoch 10/15\n",
            "172/172 [==============================] - 1s 8ms/step - loss: 0.3259 - accuracy: 0.8651 - val_loss: 0.3534 - val_accuracy: 0.8469\n",
            "Epoch 11/15\n",
            "172/172 [==============================] - 1s 8ms/step - loss: 0.3184 - accuracy: 0.8690 - val_loss: 0.3533 - val_accuracy: 0.8473\n",
            "Epoch 12/15\n",
            "172/172 [==============================] - 1s 8ms/step - loss: 0.3128 - accuracy: 0.8731 - val_loss: 0.3535 - val_accuracy: 0.8470\n",
            "Epoch 13/15\n",
            "172/172 [==============================] - 1s 8ms/step - loss: 0.3081 - accuracy: 0.8736 - val_loss: 0.3513 - val_accuracy: 0.8476\n",
            "Epoch 14/15\n",
            "172/172 [==============================] - 1s 7ms/step - loss: 0.3005 - accuracy: 0.8780 - val_loss: 0.3511 - val_accuracy: 0.8480\n",
            "Epoch 15/15\n",
            "172/172 [==============================] - 1s 8ms/step - loss: 0.2956 - accuracy: 0.8799 - val_loss: 0.3524 - val_accuracy: 0.8477\n",
            "Epoch 1/15\n",
            "172/172 [==============================] - 3s 9ms/step - loss: 0.6652 - accuracy: 0.5914 - val_loss: 0.5207 - val_accuracy: 0.7545\n",
            "Epoch 2/15\n",
            "172/172 [==============================] - 1s 8ms/step - loss: 0.4988 - accuracy: 0.7613 - val_loss: 0.4256 - val_accuracy: 0.8199\n",
            "Epoch 3/15\n",
            "172/172 [==============================] - 1s 8ms/step - loss: 0.4307 - accuracy: 0.8025 - val_loss: 0.3892 - val_accuracy: 0.8310\n",
            "Epoch 4/15\n",
            "172/172 [==============================] - 1s 8ms/step - loss: 0.4015 - accuracy: 0.8194 - val_loss: 0.3702 - val_accuracy: 0.8397\n",
            "Epoch 5/15\n",
            "172/172 [==============================] - 1s 8ms/step - loss: 0.3832 - accuracy: 0.8301 - val_loss: 0.3619 - val_accuracy: 0.8432\n",
            "Epoch 6/15\n",
            "172/172 [==============================] - 1s 8ms/step - loss: 0.3701 - accuracy: 0.8375 - val_loss: 0.3580 - val_accuracy: 0.8456\n",
            "Epoch 7/15\n",
            "172/172 [==============================] - 1s 8ms/step - loss: 0.3605 - accuracy: 0.8421 - val_loss: 0.3650 - val_accuracy: 0.8446\n",
            "Epoch 8/15\n",
            "172/172 [==============================] - 1s 8ms/step - loss: 0.3537 - accuracy: 0.8459 - val_loss: 0.3470 - val_accuracy: 0.8463\n",
            "Epoch 9/15\n",
            "172/172 [==============================] - 1s 8ms/step - loss: 0.3457 - accuracy: 0.8500 - val_loss: 0.3574 - val_accuracy: 0.8479\n",
            "Epoch 10/15\n",
            "172/172 [==============================] - 1s 8ms/step - loss: 0.3384 - accuracy: 0.8539 - val_loss: 0.3417 - val_accuracy: 0.8498\n",
            "Epoch 11/15\n",
            "172/172 [==============================] - 1s 8ms/step - loss: 0.3344 - accuracy: 0.8573 - val_loss: 0.3461 - val_accuracy: 0.8510\n",
            "Epoch 12/15\n",
            "172/172 [==============================] - 1s 8ms/step - loss: 0.3294 - accuracy: 0.8586 - val_loss: 0.3466 - val_accuracy: 0.8501\n",
            "Epoch 13/15\n",
            "172/172 [==============================] - 1s 8ms/step - loss: 0.3254 - accuracy: 0.8611 - val_loss: 0.3425 - val_accuracy: 0.8515\n",
            "Epoch 14/15\n",
            "172/172 [==============================] - 1s 8ms/step - loss: 0.3203 - accuracy: 0.8643 - val_loss: 0.3385 - val_accuracy: 0.8528\n",
            "Epoch 15/15\n",
            "172/172 [==============================] - 1s 8ms/step - loss: 0.3170 - accuracy: 0.8645 - val_loss: 0.3392 - val_accuracy: 0.8523\n"
          ]
        },
        {
          "output_type": "display_data",
          "data": {
            "text/plain": [
              "<Figure size 432x288 with 1 Axes>"
            ],
            "image/png": "[encoded data removed]"
          },
          "metadata": {
            "needs_background": "light"
          }
        },
        {
          "output_type": "display_data",
          "data": {
            "text/plain": [
              "<Figure size 432x288 with 1 Axes>"
            ],
            "image/png": "[encoded data removed]"
          },
          "metadata": {
            "needs_background": "light"
          }
        },
        {
          "output_type": "stream",
          "name": "stdout",
          "text": [
            "1537/1537 - 3s - loss: 0.3567 - accuracy: 0.8450 - 3s/epoch - 2ms/step\n",
            "1537/1537 - 3s - loss: 0.3420 - accuracy: 0.8515 - 3s/epoch - 2ms/step\n",
            "CNN_model end\n",
            "\n",
            "RNN_model start\n",
            "Epoch 1/15\n",
            "172/172 [==============================] - 4s 12ms/step - loss: 0.6398 - accuracy: 0.5869 - val_loss: 0.4457 - val_accuracy: 0.7959\n",
            "Epoch 2/15\n",
            "172/172 [==============================] - 2s 9ms/step - loss: 0.4119 - accuracy: 0.8148 - val_loss: 0.3929 - val_accuracy: 0.8280\n",
            "Epoch 3/15\n",
            "172/172 [==============================] - 2s 9ms/step - loss: 0.3749 - accuracy: 0.8356 - val_loss: 0.3724 - val_accuracy: 0.8354\n",
            "Epoch 4/15\n",
            "172/172 [==============================] - 2s 9ms/step - loss: 0.3555 - accuracy: 0.8439 - val_loss: 0.3642 - val_accuracy: 0.8394\n",
            "Epoch 5/15\n",
            "172/172 [==============================] - 2s 9ms/step - loss: 0.3451 - accuracy: 0.8503 - val_loss: 0.3655 - val_accuracy: 0.8396\n",
            "Epoch 6/15\n",
            "172/172 [==============================] - 2s 9ms/step - loss: 0.3370 - accuracy: 0.8552 - val_loss: 0.3637 - val_accuracy: 0.8400\n",
            "Epoch 7/15\n",
            "172/172 [==============================] - 2s 9ms/step - loss: 0.3307 - accuracy: 0.8585 - val_loss: 0.3609 - val_accuracy: 0.8410\n",
            "Epoch 8/15\n",
            "172/172 [==============================] - 2s 9ms/step - loss: 0.3240 - accuracy: 0.8619 - val_loss: 0.3587 - val_accuracy: 0.8436\n",
            "Epoch 9/15\n",
            "172/172 [==============================] - 2s 9ms/step - loss: 0.3197 - accuracy: 0.8632 - val_loss: 0.3608 - val_accuracy: 0.8434\n",
            "Epoch 10/15\n",
            "172/172 [==============================] - 2s 9ms/step - loss: 0.3165 - accuracy: 0.8650 - val_loss: 0.3554 - val_accuracy: 0.8435\n",
            "Epoch 11/15\n",
            "172/172 [==============================] - 2s 10ms/step - loss: 0.3116 - accuracy: 0.8684 - val_loss: 0.3559 - val_accuracy: 0.8437\n",
            "Epoch 12/15\n",
            "172/172 [==============================] - 2s 9ms/step - loss: 0.3077 - accuracy: 0.8706 - val_loss: 0.3635 - val_accuracy: 0.8382\n",
            "Epoch 13/15\n",
            "172/172 [==============================] - 2s 9ms/step - loss: 0.3048 - accuracy: 0.8715 - val_loss: 0.3628 - val_accuracy: 0.8446\n",
            "Epoch 14/15\n",
            "172/172 [==============================] - 2s 9ms/step - loss: 0.3014 - accuracy: 0.8724 - val_loss: 0.3656 - val_accuracy: 0.8415\n",
            "Epoch 15/15\n",
            "172/172 [==============================] - 2s 10ms/step - loss: 0.2984 - accuracy: 0.8735 - val_loss: 0.3653 - val_accuracy: 0.8446\n",
            "Epoch 1/15\n",
            "172/172 [==============================] - 4s 12ms/step - loss: 0.6572 - accuracy: 0.5786 - val_loss: 0.4695 - val_accuracy: 0.7849\n",
            "Epoch 2/15\n",
            "172/172 [==============================] - 2s 9ms/step - loss: 0.4454 - accuracy: 0.7945 - val_loss: 0.3828 - val_accuracy: 0.8312\n",
            "Epoch 3/15\n",
            "172/172 [==============================] - 2s 9ms/step - loss: 0.3884 - accuracy: 0.8248 - val_loss: 0.3679 - val_accuracy: 0.8378\n",
            "Epoch 4/15\n",
            "172/172 [==============================] - 2s 9ms/step - loss: 0.3618 - accuracy: 0.8390 - val_loss: 0.3524 - val_accuracy: 0.8461\n",
            "Epoch 5/15\n",
            "172/172 [==============================] - 2s 9ms/step - loss: 0.3425 - accuracy: 0.8485 - val_loss: 0.3464 - val_accuracy: 0.8489\n",
            "Epoch 6/15\n",
            "172/172 [==============================] - 2s 9ms/step - loss: 0.3315 - accuracy: 0.8550 - val_loss: 0.3449 - val_accuracy: 0.8496\n",
            "Epoch 7/15\n",
            "172/172 [==============================] - 2s 9ms/step - loss: 0.3238 - accuracy: 0.8589 - val_loss: 0.3428 - val_accuracy: 0.8525\n",
            "Epoch 8/15\n",
            "172/172 [==============================] - 2s 10ms/step - loss: 0.3141 - accuracy: 0.8632 - val_loss: 0.3429 - val_accuracy: 0.8526\n",
            "Epoch 9/15\n",
            "172/172 [==============================] - 2s 10ms/step - loss: 0.3062 - accuracy: 0.8670 - val_loss: 0.3434 - val_accuracy: 0.8541\n",
            "Epoch 10/15\n",
            "172/172 [==============================] - 2s 9ms/step - loss: 0.3018 - accuracy: 0.8701 - val_loss: 0.3447 - val_accuracy: 0.8539\n",
            "Epoch 11/15\n",
            "172/172 [==============================] - 2s 9ms/step - loss: 0.2963 - accuracy: 0.8719 - val_loss: 0.3406 - val_accuracy: 0.8558\n",
            "Epoch 12/15\n",
            "172/172 [==============================] - 2s 9ms/step - loss: 0.2904 - accuracy: 0.8759 - val_loss: 0.3426 - val_accuracy: 0.8552\n",
            "Epoch 13/15\n",
            "172/172 [==============================] - 2s 9ms/step - loss: 0.2862 - accuracy: 0.8768 - val_loss: 0.3535 - val_accuracy: 0.8566\n",
            "Epoch 14/15\n",
            "172/172 [==============================] - 2s 9ms/step - loss: 0.2840 - accuracy: 0.8787 - val_loss: 0.3448 - val_accuracy: 0.8557\n",
            "Epoch 15/15\n",
            "172/172 [==============================] - 2s 9ms/step - loss: 0.2791 - accuracy: 0.8805 - val_loss: 0.3464 - val_accuracy: 0.8563\n"
          ]
        },
        {
          "output_type": "display_data",
          "data": {
            "text/plain": [
              "<Figure size 432x288 with 1 Axes>"
            ],
            "image/png": "[encoded data removed]"
          },
          "metadata": {
            "needs_background": "light"
          }
        },
        {
          "output_type": "display_data",
          "data": {
            "text/plain": [
              "<Figure size 432x288 with 1 Axes>"
            ],
            "image/png": "[encoded data removed]"
          },
          "metadata": {
            "needs_background": "light"
          }
        },
        {
          "output_type": "stream",
          "name": "stdout",
          "text": [
            "1537/1537 - 4s - loss: 0.3714 - accuracy: 0.8414 - 4s/epoch - 3ms/step\n",
            "1537/1537 - 4s - loss: 0.3529 - accuracy: 0.8530 - 4s/epoch - 3ms/step\n",
            "RNN_model end\n",
            "\n"
          ]
        }
      ]
    },
    {
      "cell_type": "markdown",
      "source": [
        "둘의 학습결과 반드시 미리 학습된 데이터를 이용하여 학습, 예측하는 것이 좋은결과를 얻을 수 있지 않다는 결론에 달했다.<br>\n",
        "먼저 학습률부터 다른점을 살펴보면<br>\n",
        "- 처음부터 학습하는 모델이 경우는 learnning rate를 낮은 값으로 설정\n",
        "- 미리 학습된 백터는 learnning rate를 높은 값으로 설정\n",
        "\n",
        "하였을 시 결과가 가장 좋게 나왔다.<br>\n",
        "\n",
        "early stop의 작동경우에는\n",
        "- 비학습 모델에서는 early stop현상이 전혀 일어나지 않음\n",
        "- 지도학습에서는 early stop이 가끔 일어남\n",
        "\n",
        "의 현상이 보인다.<br>\n",
        "\n",
        "이에따른 결과는\n",
        "- max pool레이어만 존하는 모델은 비학습 모델이 전체적으로 높은 정확도가 나타나지만<br>전반적으로 학습률이 가장 저조함\n",
        "- 그 이외의 모델에서는 학습된 모델이 1~2%정도 높게 나타나며<br>학습된 모델의 경우 항상 정확도가 85%를 넘음  \n",
        "\n",
        "의 현상이 나타난다.\n",
        "\n"
      ],
      "metadata": {
        "id": "4318q_hboPvg"
      }
    },
    {
      "cell_type": "markdown",
      "source": [
        "### 회고\n"
      ],
      "metadata": {
        "id": "Zsx8OVYGnM-s"
      }
    },
    {
      "cell_type": "markdown",
      "source": [
        "- 학습된 데이터가 전체적으로 높은 정확도를 보여 미리 학습된 데이터의 중요성을 알게되었다.\n",
        "- 항상 학습된 데이터가 높은 정확도를 나타내는 것이 아니라 하이퍼파라미터의 튜닝에 따라 결과가 달라질 수 있다는 것을 알게 되었다.\n",
        "\n",
        "※ 이번 레포트는 양희성님의 모델구조의 조언으로 작성되었음을 알려드립니다.<br>\n",
        "   희성님에게 감사하다는 글을 남기며 이만 글을 마치겠습니다."
      ],
      "metadata": {
        "id": "2ngdabGo3j4l"
      }
    }
  ],
  "metadata": {
    "colab": {
      "machine_shape": "hm",
      "provenance": [],
      "toc_visible": true,
      "include_colab_link": true
    },
    "kernelspec": {
      "display_name": "Python 3.10.4 64-bit",
      "language": "python",
      "name": "python3"
    },
    "language_info": {
      "codemirror_mode": {
        "name": "ipython",
        "version": 3
      },
      "file_extension": ".py",
      "mimetype": "text/x-python",
      "name": "python",
      "nbconvert_exporter": "python",
      "pygments_lexer": "ipython3",
      "version": "3.10.4"
    },
    "vscode": {
      "interpreter": {
        "hash": "26de051ba29f2982a8de78e945f0abaf191376122a1563185a90213a26c5da77"
      }
    },
    "accelerator": "GPU",
    "gpuClass": "premium"
  },
  "nbformat": 4,
  "nbformat_minor": 0
}